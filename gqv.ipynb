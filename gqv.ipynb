{
 "cells": [
  {
   "cell_type": "code",
   "execution_count": 5,
   "metadata": {},
   "outputs": [],
   "source": [
    "import yfinance as yf\n",
    "import pandas as pd\n",
    "import numpy as np\n",
    "import datetime as dt\n",
    "import requests\n",
    "import plotly.express as px\n",
    "from time import sleep"
   ]
  },
  {
   "cell_type": "code",
   "execution_count": 6,
   "metadata": {},
   "outputs": [],
   "source": [
    "api_key = \"ioCjwA1EbBvFdjMSq9JkwLYee9E8IXeh\"        #romanbanenko1\n",
    "\n",
    "api_key = \"bW80BB19SE9iIq1Bt4bsISq6OjTIN9Yw\"        #mishashegoleh\n",
    "\n",
    "#https://site.financialmodelingprep.com/developer/docs/dashboard"
   ]
  },
  {
   "cell_type": "markdown",
   "metadata": {},
   "source": [
    "# Grouping"
   ]
  },
  {
   "cell_type": "code",
   "execution_count": 42,
   "metadata": {},
   "outputs": [],
   "source": [
    "sectors_forecast = {\n",
    "    \"bigtech\": \"^SP500-45\",\n",
    "    \"staples\": \"^SP500-30\",\n",
    "    \"Utilities\": \"^SP500-55\",\n",
    "    \"finance\": \"^GSPC\",\n",
    "    \"health\": \"^SP500-35\",\n",
    "    \"discretionary\": \"^SP500-25\",\n",
    "    \"real estate\": \"^SP500-60\",\n",
    "}\n",
    "\n",
    "\n",
    "sectors_names = {\n",
    "    \"^SP500-45\": \"bigtech\",\n",
    "    \"^SP500-30\": \"staples\",\n",
    "    \"^SP500-55\": \"Utilities\",\n",
    "    \"^GSPC\": \"finance\",\n",
    "    \"^SP500-35\": \"health\",\n",
    "    \"^SP500-25\": \"discretionary\",\n",
    "    \"^SP500-60\": \"real estate\"\n",
    "}\n",
    "\n",
    "\n",
    "sectors_annual_average_return = {           #BASED ON HISTORY DATA\n",
    "    \"^SP500-45\": 0.275590,\n",
    "    \"^SP500-30\": 0.086390,\n",
    "    \"^SP500-55\": 0.060968,\n",
    "    \"^GSPC\": 0.165529,\n",
    "    \"^SP500-35\": 0.114558,\n",
    "    \"^SP500-25\": 0.215885,\n",
    "    \"^SP500-60\": 0.074752,\n",
    "}\n",
    "\n",
    "inflation_rate = 0.04\n",
    "\n",
    "t = 5\n",
    "\n",
    "\n",
    "sectors_trailingPE = {           #ENTER MANUALLY\n",
    "    \"^SP500-45\": 28.5,\n",
    "    \"^SP500-30\": 21.8,\n",
    "    \"^SP500-55\": 18.9,\n",
    "    \"^GSPC\": 17.7,\n",
    "    \"^SP500-35\": 18.0,\n",
    "    \"^SP500-25\": 27.8,\n",
    "    \"^SP500-60\": 39.7,\n",
    "}"
   ]
  },
  {
   "cell_type": "code",
   "execution_count": 27,
   "metadata": {},
   "outputs": [],
   "source": [
    "group_by_metrics = {\n",
    "    \"Market Price 5Y Change\": \"G\",\n",
    "    \"EPS 5Y Change\": \"G\",\n",
    "    \"YoY Growth\": \"G\",\n",
    "    \"Multiplicative method\": \"G\",\n",
    "    \"CAGR method\": \"G\",\n",
    "    \n",
    "    \"P/S\": \"V\",\n",
    "    \"P/E\": \"V\",\n",
    "    \"EV/EBITDA\": \"V\",\n",
    "    \"PEG\": \"V\",\n",
    "    \"ROI\": \"V\",\n",
    "    \"ROA\": \"V\",\n",
    "    \"ROE\": \"V\",\n",
    "    \n",
    "    # \"Discounted Model\": \"V\",  # <-- использовано для прогноза по денежным потокам\n",
    "    \n",
    "    \"DPR\": \"Q\",\n",
    "    \"Cash Flow 5Y Change\": \"Q\",\n",
    "    \"EBITDA 5Y Change\": \"Q\",\n",
    "    \"Sales 5Y Change\": \"Q\",\n",
    "    \"Net Income 5Y Change\": \"Q\",\n",
    "    \"Net Debt/EBITDA\": \"Q\",\n",
    "    \"Free Cash Flow\": \"Q\",  # <-- дополнительная метрика\n",
    "    \"Dividend Yield\": \"Q\"  # <-- дополнительная метрика\n",
    "}\n",
    "\n",
    "group_by_aspects = {\n",
    "    \"Market Price 5Y Change\": \"Historical Growth\",\n",
    "    \"EPS 5Y Change\": \"Historical Growth\",\n",
    "    \"YoY Growth\": \"Historical Growth\",\n",
    "    \n",
    "    \"Multiplicative method\": \"Future Growth Predictions\",\n",
    "    \"CAGR method\": \"Future Growth Predictions\",\n",
    "    \n",
    "    \"P/S\": \"Market-Based Ratios\",\n",
    "    \"P/E\": \"Market-Based Ratios\",\n",
    "    \"EV/EBITDA\": \"Market-Based Ratios\",\n",
    "    \"PEG\": \"Market-Based Ratios\",\n",
    "    \n",
    "    # \"ROI\": \"Return-Based Ratios\",\n",
    "    \"ROA\": \"Return-Based Ratios\",\n",
    "    \"ROE\": \"Return-Based Ratios\",\n",
    "    \n",
    "    # \"Discounted Model\": \"V\",  # <-- использовано для прогноза по денежным потокам\n",
    "    \n",
    "    \"DPR\": \"Dividend Metrics\",\n",
    "    \"Dividend Yield\": \"Dividend Metrics\",  # <-- добавлено для дивидендов\n",
    "\n",
    "    \"Cash Flow 5Y Change\": \"Profitability & Stability\",\n",
    "    # \"Net Income 5Y Change\": \"Profitability & Stability\",\n",
    "    \"EBITDA 5Y Change\": \"Profitability & Stability\",\n",
    "    \n",
    "    \"Sales 5Y Change\": \"Size & Growth Stability\",\n",
    "    \n",
    "    \"Net Debt/EBITDA\": \"Leverage\",\n",
    "    \"FCF Yield\": \"Profitability & Stability\"  # <-- добавлено для фри-кэш-флоу\n",
    "}\n",
    "\n",
    "\n",
    "aspects_metrics = {\n",
    "    \"Historical Growth\": [\"Market Price 5Y Change\", \"EPS 5Y Change\", \"YoY Growth\"],\n",
    "    \"Future Growth Predictions\": [\"Multiplicative method\", \"CAGR method\"],\n",
    "    \"Market-Based Ratios\": [\"P/S\", \"P/E\", \"EV/EBITDA\", \"PEG\"],\n",
    "    # \"Return-Based Ratios\": [\"ROI\", \"ROA\", \"ROE\"],\n",
    "    \"Return-Based Ratios\": [\"ROA\", \"ROE\"],\n",
    "    # \"Valuation\": [\"Discounted Model\"],\n",
    "    \"Dividend Metrics\": [\"DPR\", \"Dividend Yield\"],\n",
    "    # \"Profitability & Stability\": [\"Cash Flow 5Y Change\", \"Net Income 5Y Change\", \"EBITDA 5Y Change\", \"FCF Yield\"],\n",
    "    \"Profitability & Stability\": [\"Cash Flow 5Y Change\", \"EBITDA 5Y Change\", \"FCF Yield\"],\n",
    "    \"Size & Growth Stability\": [\"Sales 5Y Change\"],\n",
    "    \"Leverage\": [\"Net Debt/EBITDA\"]\n",
    "}\n",
    "\n",
    "\n",
    "gqv_for_aspects = {\n",
    "    \"G\": [\"Historical Growth\", \"Future Growth Predictions\"],\n",
    "    # \"V\": [\"Market-Based Ratios\", \"Valuation\"],\n",
    "    \"V\": [\"Market-Based Ratios\"],\n",
    "    \"Q\": [\"Dividend Metrics\", \"Profitability & Stability\", \"Size & Growth Stability\", \"Leverage\"]\n",
    "}"
   ]
  },
  {
   "cell_type": "markdown",
   "metadata": {},
   "source": [
    "# PARTIALLY"
   ]
  },
  {
   "cell_type": "markdown",
   "metadata": {},
   "source": [
    "## Forecasting price (Multiplicative method, CAGR method)"
   ]
  },
  {
   "cell_type": "code",
   "execution_count": 9,
   "metadata": {},
   "outputs": [],
   "source": [
    "def multiplicative_method(stock_growth, industry_growth, beta, dividend_yield=0, t=1, inflation_rate=0):\n",
    "\n",
    "    # Вычисляем факторы роста\n",
    "    aim_growth_upper = ((1 + stock_growth) * ((1 + 0.01 * beta) * (1 + industry_growth)))\n",
    "    aim_growth_lower = ((1 + stock_growth) * ((1 - 0.01 * beta) * (1 + industry_growth)))\n",
    "\n",
    "    # Учитываем дивиденды, если применимо\n",
    "    if dividend_yield > 0:\n",
    "        inflation_adjustment = (1 - inflation_rate) ** t\n",
    "        dividend_factor = dividend_yield * t * inflation_adjustment\n",
    "        aim_growth_upper *= 1 + dividend_factor\n",
    "        aim_growth_lower *= 1 + dividend_factor\n",
    "\n",
    "\n",
    "    # Средняя цена\n",
    "    avg_growth = (aim_growth_upper + aim_growth_lower) / 2\n",
    "\n",
    "    return avg_growth, aim_growth_lower, aim_growth_upper\n",
    "\n",
    "\n",
    "\n",
    "def cagr_revenue_model(revenue_current, cagr_last_5y, ev_current, beta, t=5):\n",
    "    # Прогнозируем доход через t лет\n",
    "    revenue_forecast = revenue_current * (1 + cagr_last_5y) ** t\n",
    "\n",
    "\n",
    "    # Прогнозируем EV через t лет\n",
    "    ev_forecast = revenue_forecast * (ev_current / revenue_current)\n",
    "\n",
    "    # Прогнозируем CAGR через t лет\n",
    "    cagr_forecast = (ev_forecast / ev_current) ** (1 / t) - 1\n",
    "\n",
    "    # Вычисляем факторы роста через t лет\n",
    "    aim_growth_upper = ((1 + cagr_forecast) ** t - 1) * (1 + 0.01 * beta)\n",
    "    aim_growth_lower = ((1 + cagr_forecast) ** t - 1) * (1 - 0.01 * beta)\n",
    "\n",
    "    # Средняя цена за t лет\n",
    "    avg_growth = (aim_growth_upper + aim_growth_lower) / 2\n",
    "    return avg_growth, aim_growth_lower, aim_growth_upper"
   ]
  },
  {
   "cell_type": "markdown",
   "metadata": {},
   "source": [
    "## GET DATA"
   ]
  },
  {
   "cell_type": "code",
   "execution_count": null,
   "metadata": {},
   "outputs": [
    {
     "name": "stdout",
     "output_type": "stream",
     "text": [
      "0.06498354114713217\n",
      "11.904387914368074\n"
     ]
    }
   ],
   "source": [
    "stock = yf.Ticker('SEIC')\n",
    "info = stock.info\n",
    "print(info.get(\"totalDebt\")/501250000)\n",
    "print(929196998656/78055000000)\n",
    "# stock.history(period=\"5y\")[\"Close\"].pct_change().sum()\n"
   ]
  },
  {
   "cell_type": "code",
   "execution_count": 10,
   "metadata": {},
   "outputs": [],
   "source": [
    "multiplicative_forecasting = {}     #ticker: [average, upper, lower]\n",
    "cagr_forecasting = {}     #ticker: [average, upper, lower]\n",
    "\n",
    "def get_data(sector_ticker, tickers):\n",
    "\n",
    "    data = []\n",
    "\n",
    "    for ticker in tickers:\n",
    "\n",
    "        print(ticker)\n",
    "\n",
    "        stock = yf.Ticker(ticker)\n",
    "        info = stock.info\n",
    "        \n",
    "        # Получаем финансовые данные за последние 5 лет из FMP\n",
    "        url_financials = f\"https://financialmodelingprep.com/api/v3/income-statement/{ticker}?limit=5&apikey={api_key}\"\n",
    "        url_cash_flow = f\"https://financialmodelingprep.com/api/v3/cash-flow-statement/{ticker}?limit=5&apikey={api_key}\"\n",
    "        url_profile = f\"https://financialmodelingprep.com/api/v3/profile/{ticker}?apikey={api_key}\"\n",
    "        \n",
    "        financials = requests.get(url_financials).json()\n",
    "        print(financials)\n",
    "        cash_flows = requests.get(url_cash_flow).json()\n",
    "        profile = requests.get(url_profile).json()\n",
    "\n",
    "        # Проверка на наличие данных\n",
    "        ebitda_5y_change = None\n",
    "        cash_flow_5y_change = None\n",
    "        sales_5y_change = None\n",
    "        net_income_5y_change = None\n",
    "        market_cap_5y_change = None\n",
    "\n",
    "        beta = info.get(\"beta\")\n",
    "        dividend_yield = info.get(\"dividendYield\", 0)\n",
    "        ev_current = float(info.get(\"enterpriseValue\", 1))\n",
    "        revenue_current = float(info.get(\"totalRevenue\", 1))\n",
    "        pe_company = info.get(\"trailingPE\", 0)\n",
    "\n",
    "        #Price Forecasting\n",
    "        revenue_5y_ago = financials[4][\"revenue\"]\n",
    "        # Проверка на наличие выручки за 5 лет назад\n",
    "        if revenue_5y_ago > 0:\n",
    "            cagr_last_5y = ((revenue_current / revenue_5y_ago) ** (1 / t)) - 1\n",
    "        else:\n",
    "            cagr_last_5y = 0\n",
    "\n",
    "\n",
    "        sector_pe = sectors_trailingPE[sector_ticker]  # Можно интегрировать API для получения среднего значения P/E сектора\n",
    "        # Проверка на существование данных\n",
    "        if sector_pe is not None and sector_pe > 0:\n",
    "            # Расчет разницы P/E\n",
    "            pe_diff_percentage = ((pe_company - sector_pe) / sector_pe)\n",
    "        else:\n",
    "            pe_diff_percentage = None  # Если данных нет, оставляем None\n",
    "\n",
    "        \n",
    "\n",
    "        multiplicative_forecasting[ticker] = list(multiplicative_method(pe_diff_percentage, sectors_annual_average_return[sector_ticker], beta, dividend_yield, t, inflation_rate))\n",
    "        cagr_forecasting[ticker] = list(cagr_revenue_model(revenue_current, cagr_last_5y, ev_current, beta, t))\n",
    "        \n",
    "\n",
    "\n",
    "        if len(financials) >= 2:\n",
    "\n",
    "            ebitda_current = float(financials[0].get(\"ebitda\", 0))\n",
    "            ebitda_5y_ago = float(financials[-1].get(\"ebitda\", 1))\n",
    "\n",
    "            if (ebitda_5y_ago == 0):\n",
    "                print('hgggggggg')\n",
    "                ebitda_current = float(financials[0].get(\"ebitda\", 0))\n",
    "                ebitda_5y_ago = float(financials[-3].get(\"ebitda\", 1))\n",
    "\n",
    "\n",
    "            # EBITDA 5Y Change\n",
    "            \n",
    "            print(ebitda_5y_ago)\n",
    "            ebitda_5y_change = ((ebitda_current - ebitda_5y_ago) / ebitda_5y_ago)\n",
    "\n",
    "            # Sales 5Y Change\n",
    "            sales_current = float(financials[0].get(\"revenue\", 0))\n",
    "            sales_5y_ago = float(financials[-1].get(\"revenue\", 1))\n",
    "            sales_5y_change = ((sales_current - sales_5y_ago) / sales_5y_ago)\n",
    "\n",
    "            # Net Income 5Y Change\n",
    "            net_income_current = float(financials[0].get(\"netIncome\", 0))\n",
    "            net_income_5y_ago = float(financials[-1].get(\"netIncome\", 1))\n",
    "            net_income_5y_change = ((net_income_current - net_income_5y_ago) / net_income_5y_ago)\n",
    "\n",
    "        if len(cash_flows) >= 2:\n",
    "            # Cash Flow 5Y Change\n",
    "            cash_flow_current = float(cash_flows[0].get(\"operatingCashFlow\", 0))\n",
    "            cash_flow_5y_ago = float(cash_flows[-1].get(\"operatingCashFlow\", 1))\n",
    "            cash_flow_5y_change = ((cash_flow_current - cash_flow_5y_ago) / cash_flow_5y_ago) \n",
    "\n",
    "            #Free CashFlow\n",
    "            free_cash_flow = cash_flows[0].get(\"freeCashFlow\", 0)\n",
    "\n",
    "        if profile:\n",
    "            # Market Cap 5Y Change\n",
    "\n",
    "            market_cap_current = profile[0].get(\"mktCap\")\n",
    "            market_cap_5y_ago = profile[0].get(\"mktCap5Y\")\n",
    "            if market_cap_current and market_cap_5y_ago:\n",
    "                market_cap_5y_change = ((market_cap_current - market_cap_5y_ago) / market_cap_5y_ago) \n",
    "\n",
    "\n",
    "        FCF_yield = (free_cash_flow / market_cap_current)\n",
    "\n",
    "\n",
    "        ev_to_ebitda = info.get(\"enterpriseToEbitda\")\n",
    "        pe =  info.get(\"trailingPE\")\n",
    "        peg = info.get(\"trailingPegRatio\")\n",
    "        if (ev_to_ebitda == None or pe == None or peg == None):\n",
    "            url =rf\"https://financialmodelingprep.com/api/v3/key-metrics/{ticker}?limit=1&apikey={api_key}\"\n",
    "            ratios = requests.get(url).json()\n",
    "            \n",
    "            ev_to_ebitda = ratios[0].get(\"enterpriseValueOverEBITDA\", 0)\n",
    "            pe = ratios[0].get(\"peRatio\", 0)\n",
    "            peg = ratios[0].get(\"peRatio\", 0) / financials[0].get(\"eps\", 1)\n",
    "\n",
    "    \n",
    "\n",
    "        # Сбор данных для таблицы\n",
    "        row = {\n",
    "            \n",
    "            \"Ticker\": ticker,\n",
    "            #G\n",
    "            \"Market Price 5Y Change\": stock.history(period=\"5y\")[\"Close\"].pct_change().sum(),\n",
    "\n",
    "            \"EPS 5Y Change\": (info.get(\"forwardEps\")/info.get(\"trailingEps\", 0)),\n",
    "            \"YoY Growth\": info.get(\"revenueGrowth\"),\n",
    "\n",
    "            \"Multiplicative method\": multiplicative_forecasting[ticker][0],\n",
    "            \"CAGR method\": cagr_forecasting[ticker][0],\n",
    "\n",
    "            #V\n",
    "            \n",
    "            \"P/S\": info.get(\"priceToSalesTrailing12Months\"),\n",
    "            \"P/E\": pe,\n",
    "            \"EV/EBITDA\": ev_to_ebitda,\n",
    "            \"PEG\": peg,\n",
    "            # \"ROI\": info.get(\"returnOnInvestment\"),\n",
    "            \"ROA\": info.get(\"returnOnAssets\"),\n",
    "            \"ROE\": info.get(\"returnOnEquity\"),\n",
    "            \n",
    "            #Q\n",
    "            \"DPR\": info.get(\"payoutRatio\", 0),\n",
    "            \"Dividend Yield\": dividend_yield,\n",
    "            \"Cash Flow 5Y Change\": cash_flow_5y_change,\n",
    "            \"EBITDA 5Y Change\": ebitda_5y_change,\n",
    "            \"Sales 5Y Change\": sales_5y_change,\n",
    "            # \"Net Income 5Y Change\": net_income_5y_change,\n",
    "            \"Net Debt/EBITDA\": info.get(\"totalDebt\") / float(financials[0].get(\"ebitda\", 1)),\n",
    "            \"FCF Yield\": FCF_yield\n",
    "            \n",
    "        }\n",
    "        data.append(row)\n",
    "\n",
    "        sleep(3)\n",
    "\n",
    "    return pd.DataFrame(data)\n",
    "\n"
   ]
  },
  {
   "cell_type": "markdown",
   "metadata": {},
   "source": [
    "## ANALYSIS"
   ]
  },
  {
   "cell_type": "code",
   "execution_count": 28,
   "metadata": {},
   "outputs": [],
   "source": [
    "def analysis(df):\n",
    "\n",
    "    # 1. Нахождение максимальных значений для каждой метрики\n",
    "    max_values = df.drop(columns=[\"Ticker\"]).max()\n",
    "\n",
    "    # 2. Нормализуем метрики по максимальному значению\n",
    "    for col in df.columns[1:]:  # Все столбцы кроме \"Ticker\"\n",
    "        if (col == \"Net Debt/EBITDA\"):\n",
    "            df[col] = 1 - df[col] / max_values[col]\n",
    "        else :\n",
    "            df[col] = df[col] / max_values[col]\n",
    "\n",
    "    # 3. Создание подгрупп для вычисления средних\n",
    "    def calculate_group_averages(group_columns):\n",
    "        return df[group_columns].mean(axis=1)\n",
    "\n",
    "    # Перебираем ключи из gqv_for_aspects и вычисляем средние\n",
    "    for group, aspects in gqv_for_aspects.items():\n",
    "        group_columns = []\n",
    "        \n",
    "        # Собираем колонки для каждой подгруппы\n",
    "        for aspect in aspects:\n",
    "            group_columns.extend(aspects_metrics[aspect])  # Сразу добавляем метрики из списка\n",
    "\n",
    "        # Вычисляем среднее для каждой группы\n",
    "        df[f'{group}_avg'] = calculate_group_averages(group_columns)\n",
    "\n",
    "    # 4. Вычисление среднего по меткам G, Q, V\n",
    "    df['GQV_avg'] = df[['G_avg', 'V_avg', 'Q_avg']].mean(axis=1)\n",
    "\n",
    "\n",
    "    return df\n",
    "\n",
    "\n",
    "def unified_analysis(sectors_df):\n",
    "    # 1. Объединение всех секторов в один DataFrame\n",
    "    combined_df = pd.DataFrame()\n",
    "    for sector, sector_data in sectors_df.items():\n",
    "        if not sector_data.empty:\n",
    "            sector_data[\"Sector\"] = sector  # Добавляем столбец сектора\n",
    "            combined_df = pd.concat([combined_df, sector_data], ignore_index=True)\n",
    "\n",
    "    # 2. Нахождение глобальных максимальных значений\n",
    "    max_values = combined_df.drop(columns=[\"Ticker\", \"Sector\"]).max()\n",
    "\n",
    "    # 3. Нормализация метрик\n",
    "    for col in combined_df.columns:\n",
    "        if col not in [\"Ticker\", \"Sector\"]:\n",
    "            if col == \"Net Debt/EBITDA\":\n",
    "                combined_df[col] = 1 - combined_df[col] / max_values[col]\n",
    "            else:\n",
    "                combined_df[col] = combined_df[col] / max_values[col]\n",
    "\n",
    "    # 4. Создание подгрупп для вычисления средних\n",
    "    def calculate_group_averages(group_columns):\n",
    "        return combined_df[group_columns].mean(axis=1)\n",
    "\n",
    "    for group, aspects in gqv_for_aspects.items():\n",
    "        group_columns = []\n",
    "        for aspect in aspects:\n",
    "            group_columns.extend(aspects_metrics[aspect])  # Добавляем метрики из списка\n",
    "\n",
    "        combined_df[f'{group}_avg'] = calculate_group_averages(group_columns)\n",
    "\n",
    "    # 5. Вычисление среднего по G, Q, V\n",
    "    combined_df['GQV_avg'] = combined_df[['G_avg', 'V_avg', 'Q_avg']].mean(axis=1)\n",
    "\n",
    "    return combined_df\n"
   ]
  },
  {
   "cell_type": "markdown",
   "metadata": {},
   "source": [
    "## VISUALIZATION"
   ]
  },
  {
   "cell_type": "code",
   "execution_count": 12,
   "metadata": {},
   "outputs": [],
   "source": [
    "def plot_3d(df):\n",
    "    # 5. Строим 3D график с Plotly\n",
    "    fig = px.scatter_3d(df, x='G_avg', y='V_avg', z='Q_avg',\n",
    "                        color='Ticker', hover_data=['Ticker'],\n",
    "                        title='3D Analysis of Metrics')\n",
    "\n",
    "    fig.update_layout(scene=dict(\n",
    "                        xaxis_title='Growth (G)',\n",
    "                        yaxis_title='Valuation (V)',\n",
    "                        zaxis_title='Quality (Q)'\n",
    "                        ))\n",
    "\n",
    "    fig.show()"
   ]
  },
  {
   "cell_type": "code",
   "execution_count": 32,
   "metadata": {},
   "outputs": [],
   "source": [
    "\n",
    "\n",
    "def plot_3d(df):\n",
    "    # Добавляем точки MINIMUM и MAXIMUM\n",
    "    # minimum_point = pd.DataFrame({'G_avg': [0], 'V_avg': [0], 'Q_avg': [0], 'Ticker': ['MINIMUM']})\n",
    "    # maximum_point = pd.DataFrame({'G_avg': [1], 'V_avg': [1], 'Q_avg': [1], 'Ticker': ['MAXIMUM']})\n",
    "    # df = pd.concat([df, minimum_point, maximum_point], ignore_index=True)\n",
    "\n",
    "    # Строим 3D график с Plotly\n",
    "    fig = px.scatter_3d(df, x='G_avg', y='V_avg', z='Q_avg',\n",
    "                        color='Ticker', hover_data=['Ticker'],\n",
    "                        title='3D Analysis of Metrics')\n",
    "\n",
    "    fig.update_layout(scene=dict(\n",
    "                        xaxis_title='Growth (G)',\n",
    "                        yaxis_title='Valuation (V)',\n",
    "                        zaxis_title='Quality (Q)',\n",
    "                        xaxis=dict(range=[0, 1]),  # Ограничиваем оси от 0 до 1\n",
    "                        yaxis=dict(range=[0, 1]),\n",
    "                        zaxis=dict(range=[0, 1])\n",
    "                        ))\n",
    "\n",
    "    fig.show()\n",
    "\n",
    "\n",
    "def plot_3d_analysis(df):\n",
    "    fig = px.scatter_3d(\n",
    "        df, \n",
    "        x='G_avg', \n",
    "        y='V_avg', \n",
    "        z='Q_avg',\n",
    "        color='Sector',  # Цвет точек зависит от сектора\n",
    "        hover_data=['Ticker', 'GQV_avg'],  # Информация, отображаемая при наведении\n",
    "        title='3D Analysis of GQV Metrics Across Sectors'\n",
    "    )\n",
    "\n",
    "    fig.update_layout(\n",
    "        scene=dict(\n",
    "            xaxis_title='Growth (G)',\n",
    "            yaxis_title='Valuation (V)',\n",
    "            zaxis_title='Quality (Q)',\n",
    "            # xaxis=dict(range=[0, 1]),  # Ограничиваем оси от 0 до 1\n",
    "            # yaxis=dict(range=[0, 1]),\n",
    "            # zaxis=dict(range=[0, 1])\n",
    "        ),\n",
    "        legend_title_text='Sector'\n",
    "    )\n",
    "\n",
    "    fig.show()\n",
    "\n",
    "\n",
    "\n",
    "\n"
   ]
  },
  {
   "cell_type": "markdown",
   "metadata": {},
   "source": [
    " # "
   ]
  },
  {
   "cell_type": "markdown",
   "metadata": {},
   "source": [
    "### ------------------------------------------------- "
   ]
  },
  {
   "cell_type": "markdown",
   "metadata": {},
   "source": [
    "# "
   ]
  },
  {
   "cell_type": "code",
   "execution_count": null,
   "metadata": {},
   "outputs": [
    {
     "name": "stdout",
     "output_type": "stream",
     "text": [
      "G\n",
      "['Market Price 5Y Change', 'EPS 5Y Change', 'YoY Growth', 'Multiplicative method', 'CAGR method']\n",
      "V\n",
      "['P/S', 'P/E', 'EV/EBITDA', 'PEG']\n",
      "Q\n",
      "['DPR', 'Dividend Yield', 'Cash Flow 5Y Change', 'Net Income 5Y Change', 'EBITDA 5Y Change', 'FCF Yield', 'Sales 5Y Change', 'Net Debt/EBITDA']\n",
      "ANALUYSIS COMPLETED\n"
     ]
    }
   ],
   "source": []
  },
  {
   "cell_type": "code",
   "execution_count": 23,
   "metadata": {},
   "outputs": [],
   "source": [
    "sectors_df = {\n",
    "    \"^SP500-35\": pd.DataFrame(), \n",
    "    \"^SP500-45\": pd.DataFrame(), \n",
    "    \"^SP500-30\": pd.DataFrame(),\n",
    "    \"^SP500-25\": pd.DataFrame(),\n",
    "    \"^SP500-55\": pd.DataFrame(),\n",
    "    \"^SP500-60\": pd.DataFrame(),\n",
    "    \"^GSPC\": pd.DataFrame()\n",
    "    }\n",
    "\n",
    "initial_data_sectors_df = {\n",
    "    \"^SP500-35\": pd.DataFrame(), \n",
    "    \"^SP500-45\": pd.DataFrame(), \n",
    "    \"^SP500-30\": pd.DataFrame(),\n",
    "    \"^SP500-25\": pd.DataFrame(),\n",
    "    \"^SP500-55\": pd.DataFrame(),\n",
    "    \"^SP500-60\": pd.DataFrame(),\n",
    "    \"^GSPC\": pd.DataFrame()\n",
    "    }\n",
    "\n"
   ]
  },
  {
   "cell_type": "code",
   "execution_count": 15,
   "metadata": {},
   "outputs": [],
   "source": [
    "\n",
    "sectors_tickers = {\n",
    "    \"^SP500-35\": ['JNJ', 'NVO', 'PFE', 'SUPN', 'LLY'], \n",
    "    \"^SP500-45\": ['AAPL', 'MSFT', 'CFLT', 'ORCL', 'CRM', 'DDOG'], \n",
    "    \"^SP500-30\": ['PEP', 'PG', 'KO'],\n",
    "    \"^SP500-25\": ['WMT', 'LOW', 'TGT', 'TSLA'],\n",
    "    \"^SP500-55\": ['IBDRY', 'NEE', 'SO'],\n",
    "    \"^GSPC\": ['MA', 'JPM', 'SEIC', 'PYPL', 'HD', 'WFC', 'BRK-B', 'UPST'],\n",
    "    \"^SP500-60\": ['EQIX', 'AMT', 'SPG', 'AMT', 'ZG']\n",
    "    }\n",
    "sectors = [\n",
    "    \"^GSPC\", \n",
    "    \"^SP500-45\",\n",
    "    \"^SP500-30\",\n",
    "    \"^SP500-55\",\n",
    "    \"^SP500-35\",\n",
    "    \"^SP500-25\",\n",
    "    \"^SP500-60\"\n",
    "    ]\n",
    "\n",
    "# [\n",
    "#     {'date': '2023-12-31', \n",
    "#      'symbol': 'UPST', \n",
    "#      'reportedCurrency': 'USD', \n",
    "#      'cik': '0001647639', \n",
    "#      'fillingDate': '2024-02-15', \n",
    "#      'acceptedDate': '2024-02-15 16:16:15',\n",
    "#        'calendarYear': '2023', \n",
    "#        'period': 'FY', \n",
    "#        'revenue': 513562000, 'costOfRevenue': 24903000, 'grossProfit': 488659000, 'grossProfitRatio': 0.9515092628, 'researchAndDevelopmentExpenses': 280138000, 'generalAndAdministrativeExpenses': 212388000, 'sellingAndMarketingExpenses': 127143000, 'sellingGeneralAndAdministrativeExpenses': 339531000, 'otherExpenses': 150418000, 'operatingExpenses': 770087000, 'costAndExpenses': 770087000, 'interestIncome': 168996000, 'interestExpense': 34894000, 'depreciationAndAmortization': 24903000, 'ebitda': -215121999, 'ebitdaratio': -0.4188822362, 'operatingIncome': -256524999, 'operatingIncomeRatio': -0.4995015188, 'totalOtherIncomeExpensesNet': 16499999, 'incomeBeforeTax': -240025000, 'incomeBeforeTaxRatio': -0.4673729754, 'incomeTaxExpense': 107000, 'netIncome': -240132000, 'netIncomeRatio': -0.4675813242, 'eps': -2.87, 'epsdiluted': -2.87, 'weightedAverageShsOut': 83765896, 'weightedAverageShsOutDil': 83765896, 'link': 'https://www.sec.gov/Archives/edgar/data/1647639/000164763924000009/0001647639-24-000009-index.htm', 'finalLink': 'https://www.sec.gov/Archives/edgar/data/1647639/000164763924000009/upst-20231231.htm'}, {'date': '2022-12-31', 'symbol': 'UPST', 'reportedCurrency': 'USD', 'cik': '0001647639', 'fillingDate': '2023-02-16', 'acceptedDate': '2023-02-16 15:49:35', 'calendarYear': '2022', 'period': 'FY', 'revenue': 853287000, 'costOfRevenue': 187994000, 'grossProfit': 665293000, 'grossProfitRatio': 0.7796825687, 'researchAndDevelopmentExpenses': 237247000, 'generalAndAdministrativeExpenses': 185290000, 'sellingAndMarketingExpenses': 345776000, 'sellingGeneralAndAdministrativeExpenses': 531066000, 'otherExpenses': 9473000, 'operatingExpenses': 772997000, 'costAndExpenses': 960991000, 'interestIncome': 105580000, 'interestExpense': 10843000, 'depreciationAndAmortization': 13513000, 'ebitda': -89507000, 'ebitdaratio': -0.1048967112, 'operatingIncome': -103020000, 'operatingIncomeRatio': -0.1207331179, 'totalOtherIncomeExpensesNet': 4789000, 'incomeBeforeTax': -109074000, 'incomeBeforeTaxRatio': -0.1278280344, 'incomeTaxExpense': 409000, 'netIncome': -108665000, 'netIncomeRatio': -0.1273487115, 'eps': -1.31, 'epsdiluted': -1.31, 'weightedAverageShsOut': 82771268, 'weightedAverageShsOutDil': 82771268, 'link': 'https://www.sec.gov/Archives/edgar/data/1647639/000164763923000021/0001647639-23-000021-index.htm', 'finalLink': 'https://www.sec.gov/Archives/edgar/data/1647639/000164763923000021/upst-20221231.htm'}, {'date': '2021-12-31', 'symbol': 'UPST', 'reportedCurrency': 'USD', 'cik': '0001647639', 'fillingDate': '2022-02-18', 'acceptedDate': '2022-02-17 19:36:15', 'calendarYear': '2021', 'period': 'FY', 'revenue': 851863000, 'costOfRevenue': 117579000, 'grossProfit': 734284000, 'grossProfitRatio': 0.8619742846, 'researchAndDevelopmentExpenses': 133999000, 'generalAndAdministrativeExpenses': 121440000, 'sellingAndMarketingExpenses': 333453000, 'sellingGeneralAndAdministrativeExpenses': 454893000, 'otherExpenses': -5174000, 'operatingExpenses': 597305000, 'costAndExpenses': 714884000, 'interestIncome': 47314000, 'interestExpense': 3274000, 'depreciationAndAmortization': 7541000, 'ebitda': 140881000, 'ebitdaratio': 0.179527694, 'operatingIncome': 145392000, 'operatingIncomeRatio': 0.1706753316, 'totalOtherIncomeExpensesNet': -7150000, 'incomeBeforeTax': 133731000, 'incomeBeforeTaxRatio': 0.1569865107, 'incomeTaxExpense': 1712000, 'netIncome': 135443000, 'netIncomeRatio': 0.1589962236, 'eps': 1.73, 'epsdiluted': 1.43, 'weightedAverageShsOut': 78106359, 'weightedAverageShsOutDil': 94772641, 'link': 'https://www.sec.gov/Archives/edgar/data/1647639/000164763922000009/0001647639-22-000009-index.htm', 'finalLink': 'https://www.sec.gov/Archives/edgar/data/1647639/000164763922000009/upst-20211231.htm'}, {'date': '2020-12-31', 'symbol': 'UPST', 'reportedCurrency': 'USD', 'cik': '0001647639', 'fillingDate': '2021-03-18', 'acceptedDate': '2021-03-18 16:42:45', 'calendarYear': '2020', 'period': 'FY', 'revenue': 241442000, 'costOfRevenue': 37581000, 'grossProfit': 203861000, 'grossProfitRatio': 0.8443477108, 'researchAndDevelopmentExpenses': 38802000, 'generalAndAdministrativeExpenses': 45609000, 'sellingAndMarketingExpenses': 99659000, 'sellingGeneralAndAdministrativeExpenses': 145268000, 'otherExpenses': 5549000, 'operatingExpenses': 190134000, 'costAndExpenses': 227715000, 'interestIncome': 4816000, 'interestExpense': 8026000, 'depreciationAndAmortization': 2278000, 'ebitda': 11765000, 'ebitdaratio': 0.0914049751, 'operatingIncome': 19791000, 'operatingIncomeRatio': 0.0819699969, 'totalOtherIncomeExpensesNet': -5815000, 'incomeBeforeTax': 5950000, 'incomeBeforeTaxRatio': 0.0246435997, 'incomeTaxExpense': 371000, 'netIncome': 5983000, 'netIncomeRatio': 0.0247802785, 'eps': 0.0816, 'epsdiluted': 0.0816, 'weightedAverageShsOut': 73314026, 'weightedAverageShsOutDil': 73314026, 'link': 'https://www.sec.gov/Archives/edgar/data/1647639/000164763921000004/0001647639-21-000004-index.htm', 'finalLink': 'https://www.sec.gov/Archives/edgar/data/1647639/000164763921000004/upstrtholdingsinc202010-k.htm'}, \n",
    "       \n",
    "       \n",
    "#     {'date': '2019-12-31', \n",
    "#      'symbol': 'UPST', \n",
    "#      'reportedCurrency': 'USD', \n",
    "#      'cik': '0001647639', \n",
    "#      'fillingDate': '2019-12-31', \n",
    "#      'acceptedDate': '2019-12-31 00:00:00', \n",
    "#      'calendarYear': '2019', 'period': 'FY', \n",
    "#      'revenue': 190674000, 'costOfRevenue': 24947000, 'grossProfit': 165727000, 'grossProfitRatio': 0.8691641231, \n",
    "#      'researchAndDevelopmentExpenses': 18777000, 'generalAndAdministrativeExpenses': 31865000, \n",
    "#      'sellingAndMarketingExpenses': 93175000, 'sellingGeneralAndAdministrativeExpenses': 125040000, \n",
    "#      'otherExpenses': 1036000, 'operatingExpenses': 145224000, 'costAndExpenses': 170171000, s\n",
    "#      'interestIncome': 63313000, 'interestExpense': 26485000, 'depreciationAndAmortization': 774000, \n",
    "#      'ebitda': 0, 'ebitdaratio': 0.1189674523, 'operatingIncome': 21910000, 'operatingIncomeRatio': 0.1149081679, 'totalOtherIncomeExpensesNet': -4946000, 'incomeBeforeTax': -4946000, 'incomeBeforeTaxRatio': -0.0259395618, 'incomeTaxExpense': 74000, 'netIncome': -466000, 'netIncomeRatio': -0.0024439619, 'eps': -0.0064, 'epsdiluted': -0.0064, 'weightedAverageShsOut': 73314026, 'weightedAverageShsOutDil': 73314026, 'link': None, 'finalLink': None}]\n",
    "\n",
    "\n",
    "# [\n",
    "#     {'date': '2023-12-31', 'symbol': 'WFC', 'reportedCurrency': 'USD', 'cik': '0000072971', 'fillingDate': '2024-02-20', 'acceptedDate': '2024-02-20 17:06:58', 'calendarYear': '2023', 'period': 'FY', 'revenue': 77198000000, 'costOfRevenue': -5399000000, 'grossProfit': 82597000000, 'grossProfitRatio': 1.069937045, 'researchAndDevelopmentExpenses': 0, 'generalAndAdministrativeExpenses': 35829000000, 'sellingAndMarketingExpenses': 812000000, 'sellingGeneralAndAdministrativeExpenses': 48530000000, 'otherExpenses': 0, 'operatingExpenses': 48530000000, 'costAndExpenses': 48530000000, 'interestIncome': 85118000000, 'interestExpense': 32743000000, 'depreciationAndAmortization': 6271000000, 'ebitda': 27907000000, 'ebitdaratio': 0.3614990026, 'operatingIncome': 28668000000, 'operatingIncomeRatio': 0.3713567709, 'totalOtherIncomeExpensesNet': -7032000000, 'incomeBeforeTax': 21636000000, 'incomeBeforeTaxRatio': 0.2802663281, 'incomeTaxExpense': 2607000000, 'netIncome': 19142000000, 'netIncomeRatio': 0.2479597917, 'eps': 4.88, 'epsdiluted': 4.83, 'weightedAverageShsOut': 3688300000, 'weightedAverageShsOutDil': 3720400000, 'link': 'https://www.sec.gov/Archives/edgar/data/72971/000007297124000064/0000072971-24-000064-index.htm', 'finalLink': 'https://www.sec.gov/Archives/edgar/data/72971/000007297124000064/wfc-20231231.htm'}, {'date': '2022-12-31', 'symbol': 'WFC', 'reportedCurrency': 'USD', 'cik': '0000072971', 'fillingDate': '2023-02-21', 'acceptedDate': '2023-02-21 17:13:29', 'calendarYear': '2022', 'period': 'FY', 'revenue': 73785000000, 'costOfRevenue': 0, 'grossProfit': 73785000000, 'grossProfitRatio': 1, 'researchAndDevelopmentExpenses': 0, 'generalAndAdministrativeExpenses': 5188000000, 'sellingAndMarketingExpenses': 505000000, 'sellingGeneralAndAdministrativeExpenses': 46289000000, 'otherExpenses': 10989000000, 'operatingExpenses': 57278000000, 'costAndExpenses': 57278000000, 'interestIncome': 54024000000, 'interestExpense': 9074000000, 'depreciationAndAmortization': 7309000000, 'ebitda': 22278000000, 'ebitdaratio': 0.4057735312, 'operatingIncome': 14970000000, 'operatingIncomeRatio': 0.2028867656, 'totalOtherIncomeExpensesNet': -6832000000, 'incomeBeforeTax': 14969000000, 'incomeBeforeTaxRatio': 0.2028732127, 'incomeTaxExpense': 2087000000, 'netIncome': 13677000000, 'netIncomeRatio': 0.1853628786, 'eps': 3.17, 'epsdiluted': 3.14, 'weightedAverageShsOut': 3805200000, 'weightedAverageShsOutDil': 3837000000, 'link': 'https://www.sec.gov/Archives/edgar/data/72971/000007297123000071/0000072971-23-000071-index.htm', 'finalLink': 'https://www.sec.gov/Archives/edgar/data/72971/000007297123000071/wfc-20221231.htm'}, {'date': '2021-12-31', 'symbol': 'WFC', 'reportedCurrency': 'USD', 'cik': '0000072971', 'fillingDate': '2022-02-22', 'acceptedDate': '2022-02-22 17:01:56', 'calendarYear': '2021', 'period': 'FY', 'revenue': 78492000000, 'costOfRevenue': 0, 'grossProfit': 78492000000, 'grossProfitRatio': 1, 'researchAndDevelopmentExpenses': 0, 'generalAndAdministrativeExpenses': 5723000000, 'sellingAndMarketingExpenses': 600000000, 'sellingGeneralAndAdministrativeExpenses': 48059000000, 'otherExpenses': 5731000000, 'operatingExpenses': 53790000000, 'costAndExpenses': 53790000000, 'interestIncome': 39694000000, 'interestExpense': 3915000000, 'depreciationAndAmortization': 8494000000, 'ebitda': 37310000000, 'ebitdaratio': 0.7351322428, 'operatingIncome': 28851000000, 'operatingIncomeRatio': 0.3675661214, 'totalOtherIncomeExpensesNet': -6446000000, 'incomeBeforeTax': 28816000000, 'incomeBeforeTaxRatio': 0.3671202161, 'incomeTaxExpense': 5578000000, 'netIncome': 22109000000, 'netIncomeRatio': 0.2816720175, 'eps': 4.99, 'epsdiluted': 4.95, 'weightedAverageShsOut': 4061900000, 'weightedAverageShsOutDil': 4096200000, 'link': 'https://www.sec.gov/Archives/edgar/data/72971/000007297122000096/0000072971-22-000096-index.htm', 'finalLink': 'https://www.sec.gov/Archives/edgar/data/72971/000007297122000096/wfc-20211231.htm'}, {'date': '2020-12-31', 'symbol': 'WFC', 'reportedCurrency': 'USD', 'cik': '0000072971', 'fillingDate': '2021-02-23', 'acceptedDate': '2021-02-23 16:58:04', 'calendarYear': '2020', 'period': 'FY', 'revenue': 72340000000, 'costOfRevenue': 0, 'grossProfit': 72340000000, 'grossProfitRatio': 1, 'researchAndDevelopmentExpenses': 0, 'generalAndAdministrativeExpenses': 6706000000, 'sellingAndMarketingExpenses': 600000000, 'sellingGeneralAndAdministrativeExpenses': 48479000000, 'otherExpenses': 9188000000, 'operatingExpenses': 57667000000, 'costAndExpenses': 57667000000, 'interestIncome': 47798000000, 'interestExpense': 7963000000, 'depreciationAndAmortization': 8974000000, 'ebitda': 0, 'ebitdaratio': 0.1117224219, 'operatingIncome': 4041000000, 'operatingIncomeRatio': 0.0558612109, 'totalOtherIncomeExpensesNet': -9188000000, 'incomeBeforeTax': 2505000000, 'incomeBeforeTaxRatio': 0.0346281449, 'incomeTaxExpense': 1157000000, 'netIncome': 1786000000, 'netIncomeRatio': 0.0246889688, 'eps': 0.43, 'epsdiluted': 0.43, 'weightedAverageShsOut': 4118000000, 'weightedAverageShsOutDil': 4134200000, 'link': 'https://www.sec.gov/Archives/edgar/data/72971/000007297121000197/0000072971-21-000197-index.htm', 'finalLink': 'https://www.sec.gov/Archives/edgar/data/72971/000007297121000197/wfc-20201231.htm'}, {'date': '2019-12-31', 'symbol': 'WFC', 'reportedCurrency': 'USD', 'cik': '0000072971', 'fillingDate': '2020-02-27', 'acceptedDate': '2020-02-26 21:51:08', 'calendarYear': '2019', 'period': 'FY', 'revenue': 85063000000, 'costOfRevenue': 0, 'grossProfit': 85063000000, 'grossProfitRatio': 1, 'researchAndDevelopmentExpenses': 0, 'generalAndAdministrativeExpenses': 6745000000, 'sellingAndMarketingExpenses': 1076000000, 'sellingGeneralAndAdministrativeExpenses': 49170000000, 'otherExpenses': 9090000000, 'operatingExpenses': 58260000000, 'costAndExpenses': 58260000000, 'interestIncome': 66083000000, 'interestExpense': 18852000000, 'depreciationAndAmortization': 7923000000, 'ebitda': 0, 'ebitdaratio': 0.6105357206, 'operatingIncome': 25967000000, 'operatingIncomeRatio': 0.3052678603, 'totalOtherIncomeExpensesNet': -9090000000, 'incomeBeforeTax': 25967000000, 'incomeBeforeTaxRatio': 0.3052678603, 'incomeTaxExpense': 5761000000, 'netIncome': 19715000000, 'netIncomeRatio': 0.2317693944, 'eps': 4.08, 'epsdiluted': 4.05, 'weightedAverageShsOut': 4393100000, 'weightedAverageShsOutDil': 4425400000, 'link': 'https://www.sec.gov/Archives/edgar/data/72971/000007297120000217/0000072971-20-000217-index.htm', 'finalLink': 'https://www.sec.gov/Archives/edgar/data/72971/000007297120000217/wfc-12312019x10k.htm'}]\n"
   ]
  },
  {
   "cell_type": "markdown",
   "metadata": {},
   "source": [
    "### FINANCE"
   ]
  },
  {
   "cell_type": "code",
   "execution_count": 24,
   "metadata": {},
   "outputs": [
    {
     "name": "stdout",
     "output_type": "stream",
     "text": [
      "MA\n",
      "[{'date': '2023-12-31', 'symbol': 'MA', 'reportedCurrency': 'USD', 'cik': '0001141391', 'fillingDate': '2024-02-13', 'acceptedDate': '2024-02-13 12:47:32', 'calendarYear': '2023', 'period': 'FY', 'revenue': 25098000000, 'costOfRevenue': 0, 'grossProfit': 25098000000, 'grossProfitRatio': 1, 'researchAndDevelopmentExpenses': 0, 'generalAndAdministrativeExpenses': 8927000000, 'sellingAndMarketingExpenses': 825000000, 'sellingGeneralAndAdministrativeExpenses': 9752000000, 'otherExpenses': 1338000000, 'operatingExpenses': 11090000000, 'costAndExpenses': 11090000000, 'interestIncome': 0, 'interestExpense': 575000000, 'depreciationAndAmortization': 799000000, 'ebitda': 15148000000, 'ebitdaratio': 0.6035540681, 'operatingIncome': 14008000000, 'operatingIncomeRatio': 0.5581321221, 'totalOtherIncomeExpensesNet': -369000000, 'incomeBeforeTax': 13639000000, 'incomeBeforeTaxRatio': 0.5434297554, 'incomeTaxExpense': 2444000000, 'netIncome': 11195000000, 'netIncomeRatio': 0.4460514782, 'eps': 11.86, 'epsdiluted': 11.83, 'weightedAverageShsOut': 944000000, 'weightedAverageShsOutDil': 946000000, 'link': 'https://www.sec.gov/Archives/edgar/data/1141391/000114139124000022/0001141391-24-000022-index.htm', 'finalLink': 'https://www.sec.gov/Archives/edgar/data/1141391/000114139124000022/ma-20231231.htm'}, {'date': '2022-12-31', 'symbol': 'MA', 'reportedCurrency': 'USD', 'cik': '0001141391', 'fillingDate': '2023-02-14', 'acceptedDate': '2023-02-14 16:48:22', 'calendarYear': '2022', 'period': 'FY', 'revenue': 22237000000, 'costOfRevenue': 5263000000, 'grossProfit': 16974000000, 'grossProfitRatio': 0.7633223906, 'researchAndDevelopmentExpenses': 0, 'generalAndAdministrativeExpenses': 8078000000, 'sellingAndMarketingExpenses': 789000000, 'sellingGeneralAndAdministrativeExpenses': 8867000000, 'otherExpenses': 750000000, 'operatingExpenses': 9617000000, 'costAndExpenses': 9617000000, 'interestIncome': 61000000, 'interestExpense': 471000000, 'depreciationAndAmortization': 887000000, 'ebitda': 13374000000, 'ebitdaratio': 0.6022844808, 'operatingIncome': 12264000000, 'operatingIncomeRatio': 0.5515132437, 'totalOtherIncomeExpensesNet': -532000000, 'incomeBeforeTax': 11732000000, 'incomeBeforeTaxRatio': 0.5275891532, 'incomeTaxExpense': 1802000000, 'netIncome': 9930000000, 'netIncomeRatio': 0.4465530422, 'eps': 10.26, 'epsdiluted': 10.23, 'weightedAverageShsOut': 968000000, 'weightedAverageShsOutDil': 971000000, 'link': 'https://www.sec.gov/Archives/edgar/data/1141391/000114139123000020/0001141391-23-000020-index.htm', 'finalLink': 'https://www.sec.gov/Archives/edgar/data/1141391/000114139123000020/ma-20221231.htm'}, {'date': '2021-12-31', 'symbol': 'MA', 'reportedCurrency': 'USD', 'cik': '0001141391', 'fillingDate': '2022-02-11', 'acceptedDate': '2022-02-11 09:52:16', 'calendarYear': '2021', 'period': 'FY', 'revenue': 18884000000, 'costOfRevenue': 4489000000, 'grossProfit': 14395000000, 'grossProfitRatio': 0.7622855327, 'researchAndDevelopmentExpenses': 0, 'generalAndAdministrativeExpenses': 7087000000, 'sellingAndMarketingExpenses': 895000000, 'sellingGeneralAndAdministrativeExpenses': 7982000000, 'otherExpenses': 726000000, 'operatingExpenses': 8708000000, 'costAndExpenses': 8708000000, 'interestIncome': 11000000, 'interestExpense': 431000000, 'depreciationAndAmortization': 848000000, 'ebitda': 10994000000, 'ebitdaratio': 0.5773141284, 'operatingIncome': 10082000000, 'operatingIncomeRatio': 0.5338911248, 'totalOtherIncomeExpensesNet': 225000000, 'incomeBeforeTax': 10307000000, 'incomeBeforeTaxRatio': 0.5458059733, 'incomeTaxExpense': 1620000000, 'netIncome': 8687000000, 'netIncomeRatio': 0.4600190638, 'eps': 8.79, 'epsdiluted': 8.76, 'weightedAverageShsOut': 988000000, 'weightedAverageShsOutDil': 992000000, 'link': 'https://www.sec.gov/Archives/edgar/data/1141391/000114139122000023/0001141391-22-000023-index.htm', 'finalLink': 'https://www.sec.gov/Archives/edgar/data/1141391/000114139122000023/ma-20211231.htm'}, {'date': '2020-12-31', 'symbol': 'MA', 'reportedCurrency': 'USD', 'cik': '0001141391', 'fillingDate': '2021-02-12', 'acceptedDate': '2021-02-12 10:44:10', 'calendarYear': '2020', 'period': 'FY', 'revenue': 15301000000, 'costOfRevenue': 3787000000, 'grossProfit': 11514000000, 'grossProfitRatio': 0.7524998366, 'researchAndDevelopmentExpenses': 0, 'generalAndAdministrativeExpenses': 5910000000, 'sellingAndMarketingExpenses': 657000000, 'sellingGeneralAndAdministrativeExpenses': 6567000000, 'otherExpenses': 580000000, 'operatingExpenses': 7147000000, 'costAndExpenses': 7147000000, 'interestIncome': 24000000, 'interestExpense': 380000000, 'depreciationAndAmortization': 703000000, 'ebitda': 8742000000, 'ebitdaratio': 0.5711391412, 'operatingIncome': 8081000000, 'operatingIncomeRatio': 0.528135416, 'totalOtherIncomeExpensesNet': -321000000, 'incomeBeforeTax': 7760000000, 'incomeBeforeTaxRatio': 0.507156395, 'incomeTaxExpense': 1349000000, 'netIncome': 6411000000, 'netIncomeRatio': 0.4189922227, 'eps': 6.4, 'epsdiluted': 6.37, 'weightedAverageShsOut': 1002000000, 'weightedAverageShsOutDil': 1006000000, 'link': 'https://www.sec.gov/Archives/edgar/data/1141391/000114139121000018/0001141391-21-000018-index.htm', 'finalLink': 'https://www.sec.gov/Archives/edgar/data/1141391/000114139121000018/ma-20201231.htm'}, {'date': '2019-12-31', 'symbol': 'MA', 'reportedCurrency': 'USD', 'cik': '0001141391', 'fillingDate': '2020-02-14', 'acceptedDate': '2020-02-14 09:29:40', 'calendarYear': '2019', 'period': 'FY', 'revenue': 16883000000, 'costOfRevenue': 3537000000, 'grossProfit': 13346000000, 'grossProfitRatio': 0.7904993188, 'researchAndDevelopmentExpenses': 0, 'generalAndAdministrativeExpenses': 5763000000, 'sellingAndMarketingExpenses': 934000000, 'sellingGeneralAndAdministrativeExpenses': 6697000000, 'otherExpenses': 522000000, 'operatingExpenses': 7219000000, 'costAndExpenses': 7219000000, 'interestIncome': 97000000, 'interestExpense': 224000000, 'depreciationAndAmortization': 621000000, 'ebitda': 10189000000, 'ebitdaratio': 0.6049280341, 'operatingIncome': 9664000000, 'operatingIncomeRatio': 0.5724101167, 'totalOtherIncomeExpensesNet': 67000000, 'incomeBeforeTax': 9731000000, 'incomeBeforeTaxRatio': 0.5763786057, 'incomeTaxExpense': 1613000000, 'netIncome': 8118000000, 'netIncomeRatio': 0.4808387135, 'eps': 7.98, 'epsdiluted': 7.94, 'weightedAverageShsOut': 1017000000, 'weightedAverageShsOutDil': 1022000000, 'link': 'https://www.sec.gov/Archives/edgar/data/1141391/000114139120000032/0001141391-20-000032-index.htm', 'finalLink': 'https://www.sec.gov/Archives/edgar/data/1141391/000114139120000032/ma12312019-10xk.htm'}]\n",
      "10189000000.0\n",
      "JPM\n",
      "[{'date': '2023-12-31', 'symbol': 'JPM', 'reportedCurrency': 'USD', 'cik': '0000019617', 'fillingDate': '2024-02-16', 'acceptedDate': '2024-02-16 16:20:22', 'calendarYear': '2023', 'period': 'FY', 'revenue': 145670000000, 'costOfRevenue': -9282000000, 'grossProfit': 154952000000, 'grossProfitRatio': 1.0637193657, 'researchAndDevelopmentExpenses': 0, 'generalAndAdministrativeExpenses': 46465000000, 'sellingAndMarketingExpenses': 4591000000, 'sellingGeneralAndAdministrativeExpenses': 75127000000, 'otherExpenses': 0, 'operatingExpenses': 75127000000, 'costAndExpenses': 75127000000, 'interestIncome': 170588000000, 'interestExpense': 81321000000, 'depreciationAndAmortization': 7512000000, 'ebitda': 78055000000, 'ebitdaratio': 0.5358344203, 'operatingIncome': 70543000000, 'operatingIncomeRatio': 0.4842658063, 'totalOtherIncomeExpensesNet': -8931000000, 'incomeBeforeTax': 61612000000, 'incomeBeforeTaxRatio': 0.4229559964, 'incomeTaxExpense': 12060000000, 'netIncome': 49552000000, 'netIncomeRatio': 0.3401661289, 'eps': 16.25, 'epsdiluted': 16.23, 'weightedAverageShsOut': 2938600000, 'weightedAverageShsOutDil': 2943100000, 'link': 'https://www.sec.gov/Archives/edgar/data/19617/000001961724000225/0000019617-24-000225-index.htm', 'finalLink': 'https://www.sec.gov/Archives/edgar/data/19617/000001961724000225/jpm-20231231.htm'}, {'date': '2022-12-31', 'symbol': 'JPM', 'reportedCurrency': 'USD', 'cik': '0000019617', 'fillingDate': '2023-02-21', 'acceptedDate': '2023-02-21 16:13:55', 'calendarYear': '2022', 'period': 'FY', 'revenue': 128641000000, 'costOfRevenue': 0, 'grossProfit': 128641000000, 'grossProfitRatio': 1, 'researchAndDevelopmentExpenses': 0, 'generalAndAdministrativeExpenses': 41636000000, 'sellingAndMarketingExpenses': 3911000000, 'sellingGeneralAndAdministrativeExpenses': 45547000000, 'otherExpenses': 30593000000, 'operatingExpenses': 76140000000, 'costAndExpenses': 76140000000, 'interestIncome': 92807000000, 'interestExpense': 26097000000, 'depreciationAndAmortization': 7051000000, 'ebitda': 59574000000, 'ebitdaratio': -0.0159358214, 'operatingIncome': 52523000000, 'operatingIncomeRatio': 0.4294673666, 'totalOtherIncomeExpensesNet': -6357000000, 'incomeBeforeTax': 46166000000, 'incomeBeforeTaxRatio': 0.3774877758, 'incomeTaxExpense': 8490000000, 'netIncome': 37676000000, 'netIncomeRatio': 0.3080671802, 'eps': 12.1, 'epsdiluted': 12.09, 'weightedAverageShsOut': 2965800000, 'weightedAverageShsOutDil': 2970000000, 'link': 'https://www.sec.gov/Archives/edgar/data/19617/000001961723000231/0000019617-23-000231-index.htm', 'finalLink': 'https://www.sec.gov/Archives/edgar/data/19617/000001961723000231/jpm-20221231.htm'}, {'date': '2021-12-31', 'symbol': 'JPM', 'reportedCurrency': 'USD', 'cik': '0000019617', 'fillingDate': '2022-02-22', 'acceptedDate': '2022-02-22 16:56:31', 'calendarYear': '2021', 'period': 'FY', 'revenue': 121685000000, 'costOfRevenue': 0, 'grossProfit': 121685000000, 'grossProfitRatio': 1, 'researchAndDevelopmentExpenses': 0, 'generalAndAdministrativeExpenses': 38567000000, 'sellingAndMarketingExpenses': 3036000000, 'sellingGeneralAndAdministrativeExpenses': 41603000000, 'otherExpenses': 29733000000, 'operatingExpenses': 71336000000, 'costAndExpenses': 71336000000, 'interestIncome': 57864000000, 'interestExpense': 5553000000, 'depreciationAndAmortization': 7932000000, 'ebitda': 72956000000, 'ebitdaratio': -0.01854789, 'operatingIncome': 65024000000, 'operatingIncomeRatio': 0.4967531971, 'totalOtherIncomeExpensesNet': -5462000000, 'incomeBeforeTax': 59562000000, 'incomeBeforeTaxRatio': 0.4550260508, 'incomeTaxExpense': 11228000000, 'netIncome': 48334000000, 'netIncomeRatio': 0.3692493392, 'eps': 15.39, 'epsdiluted': 15.36, 'weightedAverageShsOut': 3021500000, 'weightedAverageShsOutDil': 3026600000, 'link': 'https://www.sec.gov/Archives/edgar/data/19617/000001961722000272/0000019617-22-000272-index.htm', 'finalLink': 'https://www.sec.gov/Archives/edgar/data/19617/000001961722000272/jpm-20211231.htm'}, {'date': '2020-12-31', 'symbol': 'JPM', 'reportedCurrency': 'USD', 'cik': '0000019617', 'fillingDate': '2021-02-23', 'acceptedDate': '2021-02-23 16:17:29', 'calendarYear': '2020', 'period': 'FY', 'revenue': 119883000000, 'costOfRevenue': 0, 'grossProfit': 119883000000, 'grossProfitRatio': 1, 'researchAndDevelopmentExpenses': 0, 'generalAndAdministrativeExpenses': 34988000000, 'sellingAndMarketingExpenses': 2476000000, 'sellingGeneralAndAdministrativeExpenses': 37464000000, 'otherExpenses': 29192000000, 'operatingExpenses': 66656000000, 'costAndExpenses': 66656000000, 'interestIncome': 64523000000, 'interestExpense': 9960000000, 'depreciationAndAmortization': 8614000000, 'ebitda': 50370000000, 'ebitdaratio': -0.0236563983, 'operatingIncome': 41756000000, 'operatingIncomeRatio': 0.4074908999, 'totalOtherIncomeExpensesNet': -5941000000, 'incomeBeforeTax': 35815000000, 'incomeBeforeTaxRatio': 0.3495135209, 'incomeTaxExpense': 6684000000, 'netIncome': 29131000000, 'netIncomeRatio': 0.28428531, 'eps': 8.89, 'epsdiluted': 8.88, 'weightedAverageShsOut': 3082400000, 'weightedAverageShsOutDil': 3087400000, 'link': 'https://www.sec.gov/Archives/edgar/data/19617/000001961721000236/0000019617-21-000236-index.htm', 'finalLink': 'https://www.sec.gov/Archives/edgar/data/19617/000001961721000236/jpm-20201231.htm'}, {'date': '2019-12-31', 'symbol': 'JPM', 'reportedCurrency': 'USD', 'cik': '0000019617', 'fillingDate': '2020-02-25', 'acceptedDate': '2020-02-25 16:31:02', 'calendarYear': '2019', 'period': 'FY', 'revenue': 115720000000, 'costOfRevenue': 0, 'grossProfit': 115720000000, 'grossProfitRatio': 1, 'researchAndDevelopmentExpenses': 0, 'generalAndAdministrativeExpenses': 34155000000, 'sellingAndMarketingExpenses': 3351000000, 'sellingGeneralAndAdministrativeExpenses': 37506000000, 'otherExpenses': 27762000000, 'operatingExpenses': 65268000000, 'costAndExpenses': 65268000000, 'interestIncome': 84040000000, 'interestExpense': 26795000000, 'depreciationAndAmortization': 8368000000, 'ebitda': 58320000000, 'ebitdaratio': -0.0175250605, 'operatingIncome': 49952000000, 'operatingIncomeRatio': 0.4535565765, 'totalOtherIncomeExpensesNet': -5086000000, 'incomeBeforeTax': 44866000000, 'incomeBeforeTaxRatio': 0.4073764687, 'incomeTaxExpense': 8435000000, 'netIncome': 36431000000, 'netIncomeRatio': 0.3307879492, 'eps': 10.75, 'epsdiluted': 10.72, 'weightedAverageShsOut': 3221500000, 'weightedAverageShsOutDil': 3230400000, 'link': 'https://www.sec.gov/Archives/edgar/data/19617/000001961720000257/0000019617-20-000257-index.html', 'finalLink': 'https://www.sec.gov/Archives/edgar/data/19617/000001961720000257/corp10k2019.htm'}]\n",
      "58320000000.0\n",
      "SEIC\n",
      "[{'date': '2023-12-31', 'symbol': 'SEIC', 'reportedCurrency': 'USD', 'cik': '0000350894', 'fillingDate': '2024-02-22', 'acceptedDate': '2024-02-22 12:30:11', 'calendarYear': '2023', 'period': 'FY', 'revenue': 1919793000, 'costOfRevenue': 935651000, 'grossProfit': 984142000, 'grossProfitRatio': 0.5126292262, 'researchAndDevelopmentExpenses': 0, 'generalAndAdministrativeExpenses': 262777000, 'sellingAndMarketingExpenses': 0, 'sellingGeneralAndAdministrativeExpenses': 262777000, 'otherExpenses': 296841000, 'operatingExpenses': 559618000, 'costAndExpenses': 1495269000, 'interestIncome': 41027000, 'interestExpense': 583000, 'depreciationAndAmortization': 73969000, 'ebitda': 501250000, 'ebitdaratio': 0.2610958577, 'operatingIncome': 424524000, 'operatingIncomeRatio': 0.2211300906, 'totalOtherIncomeExpensesNet': 170131000, 'incomeBeforeTax': 594655000, 'incomeBeforeTaxRatio': 0.3097495407, 'incomeTaxExpense': 132397000, 'netIncome': 462258000, 'netIncomeRatio': 0.2407853347, 'eps': 3.49, 'epsdiluted': 3.46, 'weightedAverageShsOut': 132592999, 'weightedAverageShsOutDil': 133728000, 'link': 'https://www.sec.gov/Archives/edgar/data/350894/000035089424000030/0000350894-24-000030-index.htm', 'finalLink': 'https://www.sec.gov/Archives/edgar/data/350894/000035089424000030/seic-12312023form10xka.htm'}, {'date': '2022-12-31', 'symbol': 'SEIC', 'reportedCurrency': 'USD', 'cik': '0000350894', 'fillingDate': '2023-02-21', 'acceptedDate': '2023-02-21 13:14:03', 'calendarYear': '2022', 'period': 'FY', 'revenue': 1991037000, 'costOfRevenue': 945767000, 'grossProfit': 1045270000, 'grossProfitRatio': 0.5249877325, 'researchAndDevelopmentExpenses': 0, 'generalAndAdministrativeExpenses': 281416000, 'sellingAndMarketingExpenses': 0, 'sellingGeneralAndAdministrativeExpenses': 281416000, 'otherExpenses': 288101000, 'operatingExpenses': 569517000, 'costAndExpenses': 1515284000, 'interestIncome': 13308000, 'interestExpense': 749000, 'depreciationAndAmortization': 87937000, 'ebitda': 561232000, 'ebitdaratio': 0.3520999359, 'operatingIncome': 475753000, 'operatingIncomeRatio': 0.2389473425, 'totalOtherIncomeExpensesNet': 133527000, 'incomeBeforeTax': 609280000, 'incomeBeforeTaxRatio': 0.30601139, 'incomeTaxExpense': 133813000, 'netIncome': 475467000, 'netIncomeRatio': 0.2388036988, 'eps': 3.49, 'epsdiluted': 3.46, 'weightedAverageShsOut': 136071000, 'weightedAverageShsOutDil': 137423000, 'link': 'https://www.sec.gov/Archives/edgar/data/350894/000035089423000012/0000350894-23-000012-index.htm', 'finalLink': 'https://www.sec.gov/Archives/edgar/data/350894/000035089423000012/seic-20221231.htm'}, {'date': '2021-12-31', 'symbol': 'SEIC', 'reportedCurrency': 'USD', 'cik': '0000350894', 'fillingDate': '2022-02-22', 'acceptedDate': '2022-02-22 13:28:32', 'calendarYear': '2021', 'period': 'FY', 'revenue': 1918309000, 'costOfRevenue': 830324000, 'grossProfit': 1087985000, 'grossProfitRatio': 0.5671583671, 'researchAndDevelopmentExpenses': 0, 'generalAndAdministrativeExpenses': 264651000, 'sellingAndMarketingExpenses': 0, 'sellingGeneralAndAdministrativeExpenses': 264651000, 'otherExpenses': 269953000, 'operatingExpenses': 534604000, 'costAndExpenses': 1364928000, 'interestIncome': 3649000, 'interestExpense': 563000, 'depreciationAndAmortization': 92633000, 'ebitda': 646922000, 'ebitdaratio': 0.4103796625, 'operatingIncome': 553381000, 'operatingIncomeRatio': 0.2884733377, 'totalOtherIncomeExpensesNet': 140292000, 'incomeBeforeTax': 693673000, 'incomeBeforeTaxRatio': 0.3616064982, 'incomeTaxExpense': 147080000, 'netIncome': 546593000, 'netIncomeRatio': 0.2849348046, 'eps': 3.87, 'epsdiluted': 3.81, 'weightedAverageShsOut': 141216000, 'weightedAverageShsOutDil': 143312000, 'link': 'https://www.sec.gov/Archives/edgar/data/350894/000035089422000007/0000350894-22-000007-index.htm', 'finalLink': 'https://www.sec.gov/Archives/edgar/data/350894/000035089422000007/seic-20211231.htm'}, {'date': '2020-12-31', 'symbol': 'SEIC', 'reportedCurrency': 'USD', 'cik': '0000350894', 'fillingDate': '2021-02-22', 'acceptedDate': '2021-02-22 13:37:39', 'calendarYear': '2020', 'period': 'FY', 'revenue': 1684058000, 'costOfRevenue': 738064000, 'grossProfit': 945994000, 'grossProfitRatio': 0.5617348096, 'researchAndDevelopmentExpenses': 0, 'generalAndAdministrativeExpenses': 254930000, 'sellingAndMarketingExpenses': 0, 'sellingGeneralAndAdministrativeExpenses': 254930000, 'otherExpenses': 245177000, 'operatingExpenses': 500107000, 'costAndExpenses': 1238171000, 'interestIncome': 6568000, 'interestExpense': 609000, 'depreciationAndAmortization': 83934000, 'ebitda': 530428000, 'ebitdaratio': 0.3880644253, 'operatingIncome': 445887000, 'operatingIncomeRatio': 0.2647693844, 'totalOtherIncomeExpensesNet': 122807000, 'incomeBeforeTax': 568694000, 'incomeBeforeTaxRatio': 0.3376926448, 'incomeTaxExpense': 121408000, 'netIncome': 447286000, 'netIncomeRatio': 0.2656001159, 'eps': 3.05, 'epsdiluted': 3, 'weightedAverageShsOut': 146709000, 'weightedAverageShsOutDil': 149003000, 'link': 'https://www.sec.gov/Archives/edgar/data/350894/000035089421000010/0000350894-21-000010-index.htm', 'finalLink': 'https://www.sec.gov/Archives/edgar/data/350894/000035089421000010/seic-20201231.htm'}, {'date': '2019-12-31', 'symbol': 'SEIC', 'reportedCurrency': 'USD', 'cik': '0000350894', 'fillingDate': '2020-02-24', 'acceptedDate': '2020-02-24 16:37:05', 'calendarYear': '2019', 'period': 'FY', 'revenue': 1649885000, 'costOfRevenue': 729328000, 'grossProfit': 920557000, 'grossProfitRatio': 0.5579522209, 'researchAndDevelopmentExpenses': 0, 'generalAndAdministrativeExpenses': 219142000, 'sellingAndMarketingExpenses': 0, 'sellingGeneralAndAdministrativeExpenses': 219142000, 'otherExpenses': 240991000, 'operatingExpenses': 460133000, 'costAndExpenses': 1189461000, 'interestIncome': 16582000, 'interestExpense': 630000, 'depreciationAndAmortization': 80855000, 'ebitda': 545021000, 'ebitdaratio': 0.4301827097, 'operatingIncome': 460424000, 'operatingIncomeRatio': 0.2790642984, 'totalOtherIncomeExpensesNet': 171017000, 'incomeBeforeTax': 631441000, 'incomeBeforeTaxRatio': 0.3827181894, 'incomeTaxExpense': 130015000, 'netIncome': 501426000, 'netIncomeRatio': 0.3039157275, 'eps': 3.31, 'epsdiluted': 3.24, 'weightedAverageShsOut': 151540000, 'weightedAverageShsOutDil': 154901000, 'link': 'https://www.sec.gov/Archives/edgar/data/350894/000035089420000012/0000350894-20-000012-index.htm', 'finalLink': 'https://www.sec.gov/Archives/edgar/data/350894/000035089420000012/seic-123119form10xk.htm'}]\n",
      "545021000.0\n",
      "PYPL\n",
      "[{'date': '2023-12-31', 'symbol': 'PYPL', 'reportedCurrency': 'USD', 'cik': '0001633917', 'fillingDate': '2024-02-08', 'acceptedDate': '2024-02-07 19:35:06', 'calendarYear': '2023', 'period': 'FY', 'revenue': 29771000000, 'costOfRevenue': 16067000000, 'grossProfit': 13704000000, 'grossProfitRatio': 0.4603137281, 'researchAndDevelopmentExpenses': 2973000000, 'generalAndAdministrativeExpenses': 2059000000, 'sellingAndMarketingExpenses': 1809000000, 'sellingGeneralAndAdministrativeExpenses': 3868000000, 'otherExpenses': 1835000000, 'operatingExpenses': 8676000000, 'costAndExpenses': 24743000000, 'interestIncome': 480000000, 'interestExpense': 347000000, 'depreciationAndAmortization': 1072000000, 'ebitda': 6830000000, 'ebitdaratio': 0.2294178899, 'operatingIncome': 5028000000, 'operatingIncomeRatio': 0.1688891875, 'totalOtherIncomeExpensesNet': 383000000, 'incomeBeforeTax': 5411000000, 'incomeBeforeTaxRatio': 0.181754056, 'incomeTaxExpense': 1165000000, 'netIncome': 4246000000, 'netIncomeRatio': 0.1426220147, 'eps': 3.85, 'epsdiluted': 3.84, 'weightedAverageShsOut': 1103000000, 'weightedAverageShsOutDil': 1107000000, 'link': 'https://www.sec.gov/Archives/edgar/data/1633917/000163391724000024/0001633917-24-000024-index.htm', 'finalLink': 'https://www.sec.gov/Archives/edgar/data/1633917/000163391724000024/pypl-20231231.htm'}, {'date': '2022-12-31', 'symbol': 'PYPL', 'reportedCurrency': 'USD', 'cik': '0001633917', 'fillingDate': '2023-02-10', 'acceptedDate': '2023-02-09 19:38:19', 'calendarYear': '2022', 'period': 'FY', 'revenue': 27518000000, 'costOfRevenue': 13745000000, 'grossProfit': 13773000000, 'grossProfitRatio': 0.5005087579, 'researchAndDevelopmentExpenses': 3253000000, 'generalAndAdministrativeExpenses': 2099000000, 'sellingAndMarketingExpenses': 2257000000, 'sellingGeneralAndAdministrativeExpenses': 4356000000, 'otherExpenses': 2120000000, 'operatingExpenses': 9729000000, 'costAndExpenses': 23474000000, 'interestIncome': 174000000, 'interestExpense': 304000000, 'depreciationAndAmortization': 1317000000, 'ebitda': 4987000000, 'ebitdaratio': 0.1997964968, 'operatingIncome': 3837000000, 'operatingIncomeRatio': 0.1394360055, 'totalOtherIncomeExpensesNet': -471000000, 'incomeBeforeTax': 3366000000, 'incomeBeforeTaxRatio': 0.122319936, 'incomeTaxExpense': 947000000, 'netIncome': 2419000000, 'netIncomeRatio': 0.0879060978, 'eps': 2.1, 'epsdiluted': 2.09, 'weightedAverageShsOut': 1154000000, 'weightedAverageShsOutDil': 1158000000, 'link': 'https://www.sec.gov/Archives/edgar/data/1633917/000163391723000033/0001633917-23-000033-index.htm', 'finalLink': 'https://www.sec.gov/Archives/edgar/data/1633917/000163391723000033/pypl-20221231.htm'}, {'date': '2021-12-31', 'symbol': 'PYPL', 'reportedCurrency': 'USD', 'cik': '0001633917', 'fillingDate': '2022-02-03', 'acceptedDate': '2022-02-03 16:55:53', 'calendarYear': '2021', 'period': 'FY', 'revenue': 25371000000, 'costOfRevenue': 11375000000, 'grossProfit': 13996000000, 'grossProfitRatio': 0.5516534626, 'researchAndDevelopmentExpenses': 3038000000, 'generalAndAdministrativeExpenses': 2114000000, 'sellingAndMarketingExpenses': 2445000000, 'sellingGeneralAndAdministrativeExpenses': 4559000000, 'otherExpenses': 2075000000, 'operatingExpenses': 9672000000, 'costAndExpenses': 21047000000, 'interestIncome': 57000000, 'interestExpense': 232000000, 'depreciationAndAmortization': 1265000000, 'ebitda': 5596000000, 'ebitdaratio': 0.2211974301, 'operatingIncome': 4262000000, 'operatingIncomeRatio': 0.1679870719, 'totalOtherIncomeExpensesNet': -163000000, 'incomeBeforeTax': 4099000000, 'incomeBeforeTaxRatio': 0.1615624138, 'incomeTaxExpense': -70000000, 'netIncome': 4169000000, 'netIncomeRatio': 0.1643214694, 'eps': 3.55, 'epsdiluted': 3.52, 'weightedAverageShsOut': 1174000000, 'weightedAverageShsOutDil': 1186000000, 'link': 'https://www.sec.gov/Archives/edgar/data/1633917/000163391722000027/0001633917-22-000027-index.htm', 'finalLink': 'https://www.sec.gov/Archives/edgar/data/1633917/000163391722000027/pypl-20211231.htm'}, {'date': '2020-12-31', 'symbol': 'PYPL', 'reportedCurrency': 'USD', 'cik': '0001633917', 'fillingDate': '2021-02-05', 'acceptedDate': '2021-02-04 19:30:14', 'calendarYear': '2020', 'period': 'FY', 'revenue': 21454000000, 'costOfRevenue': 9675000000, 'grossProfit': 11779000000, 'grossProfitRatio': 0.549035145, 'researchAndDevelopmentExpenses': 2642000000, 'generalAndAdministrativeExpenses': 2070000000, 'sellingAndMarketingExpenses': 1861000000, 'sellingGeneralAndAdministrativeExpenses': 3931000000, 'otherExpenses': 1778000000, 'operatingExpenses': 8351000000, 'costAndExpenses': 18026000000, 'interestIncome': 88000000, 'interestExpense': 209000000, 'depreciationAndAmortization': 1189000000, 'ebitda': 6463000000, 'ebitdaratio': 0.21851403, 'operatingIncome': 3289000000, 'operatingIncomeRatio': 0.153304745, 'totalOtherIncomeExpensesNet': 1776000000, 'incomeBeforeTax': 5065000000, 'incomeBeforeTaxRatio': 0.2360865107, 'incomeTaxExpense': 863000000, 'netIncome': 4202000000, 'netIncomeRatio': 0.1958609117, 'eps': 3.58, 'epsdiluted': 3.54, 'weightedAverageShsOut': 1173000000, 'weightedAverageShsOutDil': 1187000000, 'link': 'https://www.sec.gov/Archives/edgar/data/1633917/000163391721000018/0001633917-21-000018-index.htm', 'finalLink': 'https://www.sec.gov/Archives/edgar/data/1633917/000163391721000018/pypl-20201231.htm'}, {'date': '2019-12-31', 'symbol': 'PYPL', 'reportedCurrency': 'USD', 'cik': '0001633917', 'fillingDate': '2020-02-06', 'acceptedDate': '2020-02-06 16:28:40', 'calendarYear': '2019', 'period': 'FY', 'revenue': 17772000000, 'costOfRevenue': 8170000000, 'grossProfit': 9602000000, 'grossProfitRatio': 0.5402880936, 'researchAndDevelopmentExpenses': 2085000000, 'generalAndAdministrativeExpenses': 1711000000, 'sellingAndMarketingExpenses': 1401000000, 'sellingGeneralAndAdministrativeExpenses': 3112000000, 'otherExpenses': 1615000000, 'operatingExpenses': 6812000000, 'costAndExpenses': 14982000000, 'interestIncome': 197000000, 'interestExpense': 115000000, 'depreciationAndAmortization': 614000000, 'ebitda': 3727000000, 'ebitdaratio': 0.2123002476, 'operatingIncome': 2719000000, 'operatingIncomeRatio': 0.1529934729, 'totalOtherIncomeExpensesNet': 279000000, 'incomeBeforeTax': 2998000000, 'incomeBeforeTaxRatio': 0.168692325, 'incomeTaxExpense': 539000000, 'netIncome': 2459000000, 'netIncomeRatio': 0.1383637182, 'eps': 2.09, 'epsdiluted': 2.07, 'weightedAverageShsOut': 1174000000, 'weightedAverageShsOutDil': 1188000000, 'link': 'https://www.sec.gov/Archives/edgar/data/1633917/000163391720000028/0001633917-20-000028-index.htm', 'finalLink': 'https://www.sec.gov/Archives/edgar/data/1633917/000163391720000028/pypl201910-k.htm'}]\n",
      "3727000000.0\n",
      "HD\n",
      "[{'date': '2024-01-28', 'symbol': 'HD', 'reportedCurrency': 'USD', 'cik': '0000354950', 'fillingDate': '2024-03-13', 'acceptedDate': '2024-03-13 16:31:59', 'calendarYear': '2023', 'period': 'FY', 'revenue': 152669000000, 'costOfRevenue': 101709000000, 'grossProfit': 50960000000, 'grossProfitRatio': 0.333794025, 'researchAndDevelopmentExpenses': 0, 'generalAndAdministrativeExpenses': 25498000000, 'sellingAndMarketingExpenses': 1100000000, 'sellingGeneralAndAdministrativeExpenses': 26598000000, 'otherExpenses': 2673000000, 'operatingExpenses': 29271000000, 'costAndExpenses': 130980000000, 'interestIncome': 178000000, 'interestExpense': 1943000000, 'depreciationAndAmortization': 3247000000, 'ebitda': 24936000000, 'ebitdaratio': 0.1633337482, 'operatingIncome': 21689000000, 'operatingIncomeRatio': 0.1420655143, 'totalOtherIncomeExpensesNet': -1765000000, 'incomeBeforeTax': 19924000000, 'incomeBeforeTaxRatio': 0.1305045556, 'incomeTaxExpense': 4781000000, 'netIncome': 15143000000, 'netIncomeRatio': 0.0991884404, 'eps': 15.16, 'epsdiluted': 15.11, 'weightedAverageShsOut': 999000000, 'weightedAverageShsOutDil': 1002000000, 'link': 'https://www.sec.gov/Archives/edgar/data/354950/000035495024000062/0000354950-24-000062-index.htm', 'finalLink': 'https://www.sec.gov/Archives/edgar/data/354950/000035495024000062/hd-20240128.htm'}, {'date': '2023-01-29', 'symbol': 'HD', 'reportedCurrency': 'USD', 'cik': '0000354950', 'fillingDate': '2023-03-15', 'acceptedDate': '2023-03-15 16:22:15', 'calendarYear': '2022', 'period': 'FY', 'revenue': 157403000000, 'costOfRevenue': 104625000000, 'grossProfit': 52778000000, 'grossProfitRatio': 0.3353049179, 'researchAndDevelopmentExpenses': 0, 'generalAndAdministrativeExpenses': 25199000000, 'sellingAndMarketingExpenses': 1085000000, 'sellingGeneralAndAdministrativeExpenses': 26284000000, 'otherExpenses': 2455000000, 'operatingExpenses': 28739000000, 'costAndExpenses': 133364000000, 'interestIncome': 55000000, 'interestExpense': 1617000000, 'depreciationAndAmortization': 2975000000, 'ebitda': 27069000000, 'ebitdaratio': 0.1719725799, 'operatingIncome': 24039000000, 'operatingIncomeRatio': 0.1527226292, 'totalOtherIncomeExpensesNet': -1562000000, 'incomeBeforeTax': 22477000000, 'incomeBeforeTaxRatio': 0.1427990572, 'incomeTaxExpense': 5372000000, 'netIncome': 17105000000, 'netIncomeRatio': 0.1086701016, 'eps': 16.74, 'epsdiluted': 16.69, 'weightedAverageShsOut': 1022000000, 'weightedAverageShsOutDil': 1025000000, 'link': 'https://www.sec.gov/Archives/edgar/data/354950/000035495023000059/0000354950-23-000059-index.htm', 'finalLink': 'https://www.sec.gov/Archives/edgar/data/354950/000035495023000059/hd-20230129.htm'}, {'date': '2022-01-30', 'symbol': 'HD', 'reportedCurrency': 'USD', 'cik': '0000354950', 'fillingDate': '2022-03-23', 'acceptedDate': '2022-03-23 16:25:53', 'calendarYear': '2021', 'period': 'FY', 'revenue': 151157000000, 'costOfRevenue': 100325000000, 'grossProfit': 50832000000, 'grossProfitRatio': 0.3362861131, 'researchAndDevelopmentExpenses': 0, 'generalAndAdministrativeExpenses': 24362000000, 'sellingAndMarketingExpenses': 1044000000, 'sellingGeneralAndAdministrativeExpenses': 25406000000, 'otherExpenses': 2386000000, 'operatingExpenses': 27792000000, 'costAndExpenses': 128117000000, 'interestIncome': 44000000, 'interestExpense': 1347000000, 'depreciationAndAmortization': 2862000000, 'ebitda': 25946000000, 'ebitdaratio': 0.1716493447, 'operatingIncome': 23040000000, 'operatingIncomeRatio': 0.1524243006, 'totalOtherIncomeExpensesNet': -1303000000, 'incomeBeforeTax': 21737000000, 'incomeBeforeTaxRatio': 0.1438041242, 'incomeTaxExpense': 5304000000, 'netIncome': 16433000000, 'netIncomeRatio': 0.10871478, 'eps': 15.59, 'epsdiluted': 15.53, 'weightedAverageShsOut': 1054000000, 'weightedAverageShsOutDil': 1058000000, 'link': 'https://www.sec.gov/Archives/edgar/data/354950/000035495022000070/0000354950-22-000070-index.htm', 'finalLink': 'https://www.sec.gov/Archives/edgar/data/354950/000035495022000070/hd-20220130.htm'}, {'date': '2021-01-31', 'symbol': 'HD', 'reportedCurrency': 'USD', 'cik': '0000354950', 'fillingDate': '2021-03-24', 'acceptedDate': '2021-03-24 16:46:14', 'calendarYear': '2020', 'period': 'FY', 'revenue': 132110000000, 'costOfRevenue': 87257000000, 'grossProfit': 44853000000, 'grossProfitRatio': 0.3395125274, 'researchAndDevelopmentExpenses': 0, 'generalAndAdministrativeExpenses': 23538000000, 'sellingAndMarketingExpenses': 909000000, 'sellingGeneralAndAdministrativeExpenses': 24447000000, 'otherExpenses': 2128000000, 'operatingExpenses': 26575000000, 'costAndExpenses': 113832000000, 'interestIncome': 47000000, 'interestExpense': 1347000000, 'depreciationAndAmortization': 2519000000, 'ebitda': 20844000000, 'ebitdaratio': 0.1577776096, 'operatingIncome': 18278000000, 'operatingIncomeRatio': 0.1383544016, 'totalOtherIncomeExpensesNet': -1300000000, 'incomeBeforeTax': 16978000000, 'incomeBeforeTaxRatio': 0.128514117, 'incomeTaxExpense': 4112000000, 'netIncome': 12866000000, 'netIncomeRatio': 0.0973885399, 'eps': 11.98, 'epsdiluted': 11.94, 'weightedAverageShsOut': 1074000000, 'weightedAverageShsOutDil': 1078000000, 'link': 'https://www.sec.gov/Archives/edgar/data/354950/000035495021000089/0000354950-21-000089-index.htm', 'finalLink': 'https://www.sec.gov/Archives/edgar/data/354950/000035495021000089/hd-20210131.htm'}, {'date': '2020-02-02', 'symbol': 'HD', 'reportedCurrency': 'USD', 'cik': '0000354950', 'fillingDate': '2020-03-25', 'acceptedDate': '2020-03-25 16:41:53', 'calendarYear': '2019', 'period': 'FY', 'revenue': 110225000000, 'costOfRevenue': 72653000000, 'grossProfit': 37572000000, 'grossProfitRatio': 0.3408664096, 'researchAndDevelopmentExpenses': 0, 'generalAndAdministrativeExpenses': 18836000000, 'sellingAndMarketingExpenses': 904000000, 'sellingGeneralAndAdministrativeExpenses': 19740000000, 'otherExpenses': 1989000000, 'operatingExpenses': 21729000000, 'costAndExpenses': 94382000000, 'interestIncome': 73000000, 'interestExpense': 1201000000, 'depreciationAndAmortization': 2296000000, 'ebitda': 18212000000, 'ebitdaratio': 0.1652256748, 'operatingIncome': 15843000000, 'operatingIncomeRatio': 0.1437332729, 'totalOtherIncomeExpensesNet': -1128000000, 'incomeBeforeTax': 14715000000, 'incomeBeforeTaxRatio': 0.1334996598, 'incomeTaxExpense': 3473000000, 'netIncome': 11242000000, 'netIncomeRatio': 0.1019913813, 'eps': 10.29, 'epsdiluted': 10.25, 'weightedAverageShsOut': 1093000000, 'weightedAverageShsOutDil': 1097000000, 'link': 'https://www.sec.gov/Archives/edgar/data/354950/000035495020000015/0000354950-20-000015-index.htm', 'finalLink': 'https://www.sec.gov/Archives/edgar/data/354950/000035495020000015/hd10k02022020.htm'}]\n",
      "18212000000.0\n",
      "WFC\n",
      "[{'date': '2023-12-31', 'symbol': 'WFC', 'reportedCurrency': 'USD', 'cik': '0000072971', 'fillingDate': '2024-02-20', 'acceptedDate': '2024-02-20 17:06:58', 'calendarYear': '2023', 'period': 'FY', 'revenue': 77198000000, 'costOfRevenue': -5399000000, 'grossProfit': 82597000000, 'grossProfitRatio': 1.069937045, 'researchAndDevelopmentExpenses': 0, 'generalAndAdministrativeExpenses': 35829000000, 'sellingAndMarketingExpenses': 812000000, 'sellingGeneralAndAdministrativeExpenses': 48530000000, 'otherExpenses': 0, 'operatingExpenses': 48530000000, 'costAndExpenses': 48530000000, 'interestIncome': 85118000000, 'interestExpense': 32743000000, 'depreciationAndAmortization': 6271000000, 'ebitda': 27907000000, 'ebitdaratio': 0.3614990026, 'operatingIncome': 28668000000, 'operatingIncomeRatio': 0.3713567709, 'totalOtherIncomeExpensesNet': -7032000000, 'incomeBeforeTax': 21636000000, 'incomeBeforeTaxRatio': 0.2802663281, 'incomeTaxExpense': 2607000000, 'netIncome': 19142000000, 'netIncomeRatio': 0.2479597917, 'eps': 4.88, 'epsdiluted': 4.83, 'weightedAverageShsOut': 3688300000, 'weightedAverageShsOutDil': 3720400000, 'link': 'https://www.sec.gov/Archives/edgar/data/72971/000007297124000064/0000072971-24-000064-index.htm', 'finalLink': 'https://www.sec.gov/Archives/edgar/data/72971/000007297124000064/wfc-20231231.htm'}, {'date': '2022-12-31', 'symbol': 'WFC', 'reportedCurrency': 'USD', 'cik': '0000072971', 'fillingDate': '2023-02-21', 'acceptedDate': '2023-02-21 17:13:29', 'calendarYear': '2022', 'period': 'FY', 'revenue': 73785000000, 'costOfRevenue': 0, 'grossProfit': 73785000000, 'grossProfitRatio': 1, 'researchAndDevelopmentExpenses': 0, 'generalAndAdministrativeExpenses': 5188000000, 'sellingAndMarketingExpenses': 505000000, 'sellingGeneralAndAdministrativeExpenses': 46289000000, 'otherExpenses': 10989000000, 'operatingExpenses': 57278000000, 'costAndExpenses': 57278000000, 'interestIncome': 54024000000, 'interestExpense': 9074000000, 'depreciationAndAmortization': 7309000000, 'ebitda': 22278000000, 'ebitdaratio': 0.4057735312, 'operatingIncome': 14970000000, 'operatingIncomeRatio': 0.2028867656, 'totalOtherIncomeExpensesNet': -6832000000, 'incomeBeforeTax': 14969000000, 'incomeBeforeTaxRatio': 0.2028732127, 'incomeTaxExpense': 2087000000, 'netIncome': 13677000000, 'netIncomeRatio': 0.1853628786, 'eps': 3.17, 'epsdiluted': 3.14, 'weightedAverageShsOut': 3805200000, 'weightedAverageShsOutDil': 3837000000, 'link': 'https://www.sec.gov/Archives/edgar/data/72971/000007297123000071/0000072971-23-000071-index.htm', 'finalLink': 'https://www.sec.gov/Archives/edgar/data/72971/000007297123000071/wfc-20221231.htm'}, {'date': '2021-12-31', 'symbol': 'WFC', 'reportedCurrency': 'USD', 'cik': '0000072971', 'fillingDate': '2022-02-22', 'acceptedDate': '2022-02-22 17:01:56', 'calendarYear': '2021', 'period': 'FY', 'revenue': 78492000000, 'costOfRevenue': 0, 'grossProfit': 78492000000, 'grossProfitRatio': 1, 'researchAndDevelopmentExpenses': 0, 'generalAndAdministrativeExpenses': 5723000000, 'sellingAndMarketingExpenses': 600000000, 'sellingGeneralAndAdministrativeExpenses': 48059000000, 'otherExpenses': 5731000000, 'operatingExpenses': 53790000000, 'costAndExpenses': 53790000000, 'interestIncome': 39694000000, 'interestExpense': 3915000000, 'depreciationAndAmortization': 8494000000, 'ebitda': 37310000000, 'ebitdaratio': 0.7351322428, 'operatingIncome': 28851000000, 'operatingIncomeRatio': 0.3675661214, 'totalOtherIncomeExpensesNet': -6446000000, 'incomeBeforeTax': 28816000000, 'incomeBeforeTaxRatio': 0.3671202161, 'incomeTaxExpense': 5578000000, 'netIncome': 22109000000, 'netIncomeRatio': 0.2816720175, 'eps': 4.99, 'epsdiluted': 4.95, 'weightedAverageShsOut': 4061900000, 'weightedAverageShsOutDil': 4096200000, 'link': 'https://www.sec.gov/Archives/edgar/data/72971/000007297122000096/0000072971-22-000096-index.htm', 'finalLink': 'https://www.sec.gov/Archives/edgar/data/72971/000007297122000096/wfc-20211231.htm'}, {'date': '2020-12-31', 'symbol': 'WFC', 'reportedCurrency': 'USD', 'cik': '0000072971', 'fillingDate': '2021-02-23', 'acceptedDate': '2021-02-23 16:58:04', 'calendarYear': '2020', 'period': 'FY', 'revenue': 72340000000, 'costOfRevenue': 0, 'grossProfit': 72340000000, 'grossProfitRatio': 1, 'researchAndDevelopmentExpenses': 0, 'generalAndAdministrativeExpenses': 6706000000, 'sellingAndMarketingExpenses': 600000000, 'sellingGeneralAndAdministrativeExpenses': 48479000000, 'otherExpenses': 9188000000, 'operatingExpenses': 57667000000, 'costAndExpenses': 57667000000, 'interestIncome': 47798000000, 'interestExpense': 7963000000, 'depreciationAndAmortization': 8974000000, 'ebitda': 0, 'ebitdaratio': 0.1117224219, 'operatingIncome': 4041000000, 'operatingIncomeRatio': 0.0558612109, 'totalOtherIncomeExpensesNet': -9188000000, 'incomeBeforeTax': 2505000000, 'incomeBeforeTaxRatio': 0.0346281449, 'incomeTaxExpense': 1157000000, 'netIncome': 1786000000, 'netIncomeRatio': 0.0246889688, 'eps': 0.43, 'epsdiluted': 0.43, 'weightedAverageShsOut': 4118000000, 'weightedAverageShsOutDil': 4134200000, 'link': 'https://www.sec.gov/Archives/edgar/data/72971/000007297121000197/0000072971-21-000197-index.htm', 'finalLink': 'https://www.sec.gov/Archives/edgar/data/72971/000007297121000197/wfc-20201231.htm'}, {'date': '2019-12-31', 'symbol': 'WFC', 'reportedCurrency': 'USD', 'cik': '0000072971', 'fillingDate': '2020-02-27', 'acceptedDate': '2020-02-26 21:51:08', 'calendarYear': '2019', 'period': 'FY', 'revenue': 85063000000, 'costOfRevenue': 0, 'grossProfit': 85063000000, 'grossProfitRatio': 1, 'researchAndDevelopmentExpenses': 0, 'generalAndAdministrativeExpenses': 6745000000, 'sellingAndMarketingExpenses': 1076000000, 'sellingGeneralAndAdministrativeExpenses': 49170000000, 'otherExpenses': 9090000000, 'operatingExpenses': 58260000000, 'costAndExpenses': 58260000000, 'interestIncome': 66083000000, 'interestExpense': 18852000000, 'depreciationAndAmortization': 7923000000, 'ebitda': 0, 'ebitdaratio': 0.6105357206, 'operatingIncome': 25967000000, 'operatingIncomeRatio': 0.3052678603, 'totalOtherIncomeExpensesNet': -9090000000, 'incomeBeforeTax': 25967000000, 'incomeBeforeTaxRatio': 0.3052678603, 'incomeTaxExpense': 5761000000, 'netIncome': 19715000000, 'netIncomeRatio': 0.2317693944, 'eps': 4.08, 'epsdiluted': 4.05, 'weightedAverageShsOut': 4393100000, 'weightedAverageShsOutDil': 4425400000, 'link': 'https://www.sec.gov/Archives/edgar/data/72971/000007297120000217/0000072971-20-000217-index.htm', 'finalLink': 'https://www.sec.gov/Archives/edgar/data/72971/000007297120000217/wfc-12312019x10k.htm'}]\n",
      "hgggggggg\n",
      "37310000000.0\n",
      "BRK-B\n",
      "[{'date': '2023-12-31', 'symbol': 'BRK-B', 'reportedCurrency': 'USD', 'cik': '0001067983', 'fillingDate': '2024-02-26', 'acceptedDate': '2024-02-26 06:08:31', 'calendarYear': '2023', 'period': 'FY', 'revenue': 364482000000, 'costOfRevenue': 241286000000, 'grossProfit': 123196000000, 'grossProfitRatio': 0.3380029741, 'researchAndDevelopmentExpenses': 0, 'generalAndAdministrativeExpenses': 6037000000, 'sellingAndMarketingExpenses': 22605000000, 'sellingGeneralAndAdministrativeExpenses': 28642000000, 'otherExpenses': 0, 'operatingExpenses': 118717000000, 'costAndExpenses': 241286000000, 'interestIncome': 15561000000, 'interestExpense': 5003000000, 'depreciationAndAmortization': 12486000000, 'ebitda': 137655000000, 'ebitdaratio': 0.3776729715, 'operatingIncome': 123196000000, 'operatingIncomeRatio': 0.3380029741, 'totalOtherIncomeExpensesNet': -3030000000, 'incomeBeforeTax': 120166000000, 'incomeBeforeTaxRatio': 0.3296898064, 'incomeTaxExpense': 23019000000, 'netIncome': 96223000000, 'netIncomeRatio': 0.2639993196, 'eps': 44.27, 'epsdiluted': 44.27, 'weightedAverageShsOut': 2173319709, 'weightedAverageShsOutDil': 2173319709, 'link': 'https://www.sec.gov/Archives/edgar/data/1067983/000095017024019719/0000950170-24-019719-index.htm', 'finalLink': 'https://www.sec.gov/Archives/edgar/data/1067983/000095017024019719/brka-20231231.htm'}, {'date': '2022-12-31', 'symbol': 'BRK-B', 'reportedCurrency': 'USD', 'cik': '0001067983', 'fillingDate': '2023-02-27', 'acceptedDate': '2023-02-27 06:04:49', 'calendarYear': '2022', 'period': 'FY', 'revenue': 302089000000, 'costOfRevenue': 124319000000, 'grossProfit': 177770000000, 'grossProfitRatio': 0.5884689611, 'researchAndDevelopmentExpenses': 0, 'generalAndAdministrativeExpenses': 5550000000, 'sellingAndMarketingExpenses': 19506000000, 'sellingGeneralAndAdministrativeExpenses': 25056000000, 'otherExpenses': 239710000000, 'operatingExpenses': 264766000000, 'costAndExpenses': 264766000000, 'interestIncome': 10263000000, 'interestExpense': 4352000000, 'depreciationAndAmortization': 10899000000, 'ebitda': -15249000000, 'ebitdaratio': -0.053249208, 'operatingIncome': 37323000000, 'operatingIncomeRatio': 0.1235496824, 'totalOtherIncomeExpensesNet': -30500000000, 'incomeBeforeTax': -30576000000, 'incomeBeforeTaxRatio': -0.1012152048, 'incomeTaxExpense': -8518000000, 'netIncome': -22819000000, 'netIncomeRatio': -0.0755373416, 'eps': -10.36, 'epsdiluted': -10.36, 'weightedAverageShsOut': 2203313642, 'weightedAverageShsOutDil': 2203313642, 'link': 'https://www.sec.gov/Archives/edgar/data/1067983/000095017023004451/0000950170-23-004451-index.htm', 'finalLink': 'https://www.sec.gov/Archives/edgar/data/1067983/000095017023004451/brka-20221231.htm'}, {'date': '2021-12-31', 'symbol': 'BRK-B', 'reportedCurrency': 'USD', 'cik': '0001067983', 'fillingDate': '2022-02-28', 'acceptedDate': '2022-02-28 06:04:52', 'calendarYear': '2021', 'period': 'FY', 'revenue': 354636000000, 'costOfRevenue': 161231000000, 'grossProfit': 193405000000, 'grossProfitRatio': 0.545362005, 'researchAndDevelopmentExpenses': 0, 'generalAndAdministrativeExpenses': 4201000000, 'sellingAndMarketingExpenses': 18843000000, 'sellingGeneralAndAdministrativeExpenses': 23044000000, 'otherExpenses': 219906000000, 'operatingExpenses': 242950000000, 'costAndExpenses': 242950000000, 'interestIncome': 7465000000, 'interestExpense': 4172000000, 'depreciationAndAmortization': 10718000000, 'ebitda': 126576000000, 'ebitdaratio': -0.2021988743, 'operatingIncome': 111686000000, 'operatingIncomeRatio': 0.3149313662, 'totalOtherIncomeExpensesNet': 78542000000, 'incomeBeforeTax': 111686000000, 'incomeBeforeTaxRatio': 0.3149313662, 'incomeTaxExpense': 20879000000, 'netIncome': 89937000000, 'netIncomeRatio': 0.2536036951, 'eps': 39.64, 'epsdiluted': 39.64, 'weightedAverageShsOut': 2265269867, 'weightedAverageShsOutDil': 2265269867, 'link': 'https://www.sec.gov/Archives/edgar/data/1067983/000156459022007322/0001564590-22-007322-index.htm', 'finalLink': 'https://www.sec.gov/Archives/edgar/data/1067983/000156459022007322/brka-10k_20211231.htm'}, {'date': '2020-12-31', 'symbol': 'BRK-B', 'reportedCurrency': 'USD', 'cik': '0001067983', 'fillingDate': '2021-03-01', 'acceptedDate': '2021-03-01 06:22:33', 'calendarYear': '2020', 'period': 'FY', 'revenue': 286256000000, 'costOfRevenue': 175789000000, 'grossProfit': 110467000000, 'grossProfitRatio': 0.3859028282, 'researchAndDevelopmentExpenses': 0, 'generalAndAdministrativeExpenses': 3520000000, 'sellingAndMarketingExpenses': 19809000000, 'sellingGeneralAndAdministrativeExpenses': 23329000000, 'otherExpenses': 207234000000, 'operatingExpenses': 230563000000, 'costAndExpenses': 230563000000, 'interestIncome': 8092000000, 'interestExpense': 4083000000, 'depreciationAndAmortization': 10596000000, 'ebitda': 80386000000, 'ebitdaratio': -0.3597688782, 'operatingIncome': 55693000000, 'operatingIncomeRatio': 0.1945566206, 'totalOtherIncomeExpensesNet': -14097000000, 'incomeBeforeTax': 55693000000, 'incomeBeforeTaxRatio': 0.1945566206, 'incomeTaxExpense': 12440000000, 'netIncome': 42521000000, 'netIncomeRatio': 0.1485418646, 'eps': 17.78, 'epsdiluted': 17.78, 'weightedAverageShsOut': 2391703454, 'weightedAverageShsOutDil': 2391703454, 'link': 'https://www.sec.gov/Archives/edgar/data/1067983/000156459021009611/0001564590-21-009611-index.htm', 'finalLink': 'https://www.sec.gov/Archives/edgar/data/1067983/000156459021009611/brka-10k_20201231.htm'}, {'date': '2019-12-31', 'symbol': 'BRK-B', 'reportedCurrency': 'USD', 'cik': '0001067983', 'fillingDate': '2020-02-24', 'acceptedDate': '2020-02-24 06:23:37', 'calendarYear': '2019', 'period': 'FY', 'revenue': 327223000000, 'costOfRevenue': 149039000000, 'grossProfit': 178184000000, 'grossProfitRatio': 0.54453385, 'researchAndDevelopmentExpenses': 0, 'generalAndAdministrativeExpenses': 4003000000, 'sellingAndMarketingExpenses': 19322000000, 'sellingGeneralAndAdministrativeExpenses': 23325000000, 'otherExpenses': 201202000000, 'operatingExpenses': 224527000000, 'costAndExpenses': 224527000000, 'interestIncome': 9240000000, 'interestExpense': 3961000000, 'depreciationAndAmortization': 10064000000, 'ebitda': 115641000000, 'ebitdaratio': -0.2052728567, 'operatingIncome': 102696000000, 'operatingIncomeRatio': 0.3138410197, 'totalOtherIncomeExpensesNet': -2881000000, 'incomeBeforeTax': 102696000000, 'incomeBeforeTaxRatio': 0.3138410197, 'incomeTaxExpense': 20904000000, 'netIncome': 81417000000, 'netIncomeRatio': 0.2488119723, 'eps': 33.22, 'epsdiluted': 33.22, 'weightedAverageShsOut': 2450919020, 'weightedAverageShsOutDil': 2450919020, 'link': 'https://www.sec.gov/Archives/edgar/data/1067983/000156459020005874/0001564590-20-005874-index.htm', 'finalLink': 'https://www.sec.gov/Archives/edgar/data/1067983/000156459020005874/brka-10k_20191231.htm'}]\n",
      "115641000000.0\n",
      "UPST\n",
      "[{'date': '2023-12-31', 'symbol': 'UPST', 'reportedCurrency': 'USD', 'cik': '0001647639', 'fillingDate': '2024-02-15', 'acceptedDate': '2024-02-15 16:16:15', 'calendarYear': '2023', 'period': 'FY', 'revenue': 513562000, 'costOfRevenue': 24903000, 'grossProfit': 488659000, 'grossProfitRatio': 0.9515092628, 'researchAndDevelopmentExpenses': 280138000, 'generalAndAdministrativeExpenses': 212388000, 'sellingAndMarketingExpenses': 127143000, 'sellingGeneralAndAdministrativeExpenses': 339531000, 'otherExpenses': 150418000, 'operatingExpenses': 770087000, 'costAndExpenses': 770087000, 'interestIncome': 168996000, 'interestExpense': 34894000, 'depreciationAndAmortization': 24903000, 'ebitda': -215121999, 'ebitdaratio': -0.4188822362, 'operatingIncome': -256524999, 'operatingIncomeRatio': -0.4995015188, 'totalOtherIncomeExpensesNet': 16499999, 'incomeBeforeTax': -240025000, 'incomeBeforeTaxRatio': -0.4673729754, 'incomeTaxExpense': 107000, 'netIncome': -240132000, 'netIncomeRatio': -0.4675813242, 'eps': -2.87, 'epsdiluted': -2.87, 'weightedAverageShsOut': 83765896, 'weightedAverageShsOutDil': 83765896, 'link': 'https://www.sec.gov/Archives/edgar/data/1647639/000164763924000009/0001647639-24-000009-index.htm', 'finalLink': 'https://www.sec.gov/Archives/edgar/data/1647639/000164763924000009/upst-20231231.htm'}, {'date': '2022-12-31', 'symbol': 'UPST', 'reportedCurrency': 'USD', 'cik': '0001647639', 'fillingDate': '2023-02-16', 'acceptedDate': '2023-02-16 15:49:35', 'calendarYear': '2022', 'period': 'FY', 'revenue': 853287000, 'costOfRevenue': 187994000, 'grossProfit': 665293000, 'grossProfitRatio': 0.7796825687, 'researchAndDevelopmentExpenses': 237247000, 'generalAndAdministrativeExpenses': 185290000, 'sellingAndMarketingExpenses': 345776000, 'sellingGeneralAndAdministrativeExpenses': 531066000, 'otherExpenses': 9473000, 'operatingExpenses': 772997000, 'costAndExpenses': 960991000, 'interestIncome': 105580000, 'interestExpense': 10843000, 'depreciationAndAmortization': 13513000, 'ebitda': -89507000, 'ebitdaratio': -0.1048967112, 'operatingIncome': -103020000, 'operatingIncomeRatio': -0.1207331179, 'totalOtherIncomeExpensesNet': 4789000, 'incomeBeforeTax': -109074000, 'incomeBeforeTaxRatio': -0.1278280344, 'incomeTaxExpense': 409000, 'netIncome': -108665000, 'netIncomeRatio': -0.1273487115, 'eps': -1.31, 'epsdiluted': -1.31, 'weightedAverageShsOut': 82771268, 'weightedAverageShsOutDil': 82771268, 'link': 'https://www.sec.gov/Archives/edgar/data/1647639/000164763923000021/0001647639-23-000021-index.htm', 'finalLink': 'https://www.sec.gov/Archives/edgar/data/1647639/000164763923000021/upst-20221231.htm'}, {'date': '2021-12-31', 'symbol': 'UPST', 'reportedCurrency': 'USD', 'cik': '0001647639', 'fillingDate': '2022-02-18', 'acceptedDate': '2022-02-17 19:36:15', 'calendarYear': '2021', 'period': 'FY', 'revenue': 851863000, 'costOfRevenue': 117579000, 'grossProfit': 734284000, 'grossProfitRatio': 0.8619742846, 'researchAndDevelopmentExpenses': 133999000, 'generalAndAdministrativeExpenses': 121440000, 'sellingAndMarketingExpenses': 333453000, 'sellingGeneralAndAdministrativeExpenses': 454893000, 'otherExpenses': -5174000, 'operatingExpenses': 597305000, 'costAndExpenses': 714884000, 'interestIncome': 47314000, 'interestExpense': 3274000, 'depreciationAndAmortization': 7541000, 'ebitda': 140881000, 'ebitdaratio': 0.179527694, 'operatingIncome': 145392000, 'operatingIncomeRatio': 0.1706753316, 'totalOtherIncomeExpensesNet': -7150000, 'incomeBeforeTax': 133731000, 'incomeBeforeTaxRatio': 0.1569865107, 'incomeTaxExpense': 1712000, 'netIncome': 135443000, 'netIncomeRatio': 0.1589962236, 'eps': 1.73, 'epsdiluted': 1.43, 'weightedAverageShsOut': 78106359, 'weightedAverageShsOutDil': 94772641, 'link': 'https://www.sec.gov/Archives/edgar/data/1647639/000164763922000009/0001647639-22-000009-index.htm', 'finalLink': 'https://www.sec.gov/Archives/edgar/data/1647639/000164763922000009/upst-20211231.htm'}, {'date': '2020-12-31', 'symbol': 'UPST', 'reportedCurrency': 'USD', 'cik': '0001647639', 'fillingDate': '2021-03-18', 'acceptedDate': '2021-03-18 16:42:45', 'calendarYear': '2020', 'period': 'FY', 'revenue': 241442000, 'costOfRevenue': 37581000, 'grossProfit': 203861000, 'grossProfitRatio': 0.8443477108, 'researchAndDevelopmentExpenses': 38802000, 'generalAndAdministrativeExpenses': 45609000, 'sellingAndMarketingExpenses': 99659000, 'sellingGeneralAndAdministrativeExpenses': 145268000, 'otherExpenses': 5549000, 'operatingExpenses': 190134000, 'costAndExpenses': 227715000, 'interestIncome': 4816000, 'interestExpense': 8026000, 'depreciationAndAmortization': 2278000, 'ebitda': 11765000, 'ebitdaratio': 0.0914049751, 'operatingIncome': 19791000, 'operatingIncomeRatio': 0.0819699969, 'totalOtherIncomeExpensesNet': -5815000, 'incomeBeforeTax': 5950000, 'incomeBeforeTaxRatio': 0.0246435997, 'incomeTaxExpense': 371000, 'netIncome': 5983000, 'netIncomeRatio': 0.0247802785, 'eps': 0.0816, 'epsdiluted': 0.0816, 'weightedAverageShsOut': 73314026, 'weightedAverageShsOutDil': 73314026, 'link': 'https://www.sec.gov/Archives/edgar/data/1647639/000164763921000004/0001647639-21-000004-index.htm', 'finalLink': 'https://www.sec.gov/Archives/edgar/data/1647639/000164763921000004/upstrtholdingsinc202010-k.htm'}, {'date': '2019-12-31', 'symbol': 'UPST', 'reportedCurrency': 'USD', 'cik': '0001647639', 'fillingDate': '2019-12-31', 'acceptedDate': '2019-12-31 00:00:00', 'calendarYear': '2019', 'period': 'FY', 'revenue': 190674000, 'costOfRevenue': 24947000, 'grossProfit': 165727000, 'grossProfitRatio': 0.8691641231, 'researchAndDevelopmentExpenses': 18777000, 'generalAndAdministrativeExpenses': 31865000, 'sellingAndMarketingExpenses': 93175000, 'sellingGeneralAndAdministrativeExpenses': 125040000, 'otherExpenses': 1036000, 'operatingExpenses': 145224000, 'costAndExpenses': 170171000, 'interestIncome': 63313000, 'interestExpense': 26485000, 'depreciationAndAmortization': 774000, 'ebitda': 0, 'ebitdaratio': 0.1189674523, 'operatingIncome': 21910000, 'operatingIncomeRatio': 0.1149081679, 'totalOtherIncomeExpensesNet': -4946000, 'incomeBeforeTax': -4946000, 'incomeBeforeTaxRatio': -0.0259395618, 'incomeTaxExpense': 74000, 'netIncome': -466000, 'netIncomeRatio': -0.0024439619, 'eps': -0.0064, 'epsdiluted': -0.0064, 'weightedAverageShsOut': 73314026, 'weightedAverageShsOutDil': 73314026, 'link': None, 'finalLink': None}]\n",
      "hgggggggg\n",
      "140881000.0\n",
      "GET DATA COMPLETED\n",
      "ANALUYSIS COMPLETED\n",
      "AAPL\n",
      "[{'date': '2024-09-28', 'symbol': 'AAPL', 'reportedCurrency': 'USD', 'cik': '0000320193', 'fillingDate': '2024-11-01', 'acceptedDate': '2024-11-01 06:01:36', 'calendarYear': '2024', 'period': 'FY', 'revenue': 391035000000, 'costOfRevenue': 210352000000, 'grossProfit': 180683000000, 'grossProfitRatio': 0.4620634982, 'researchAndDevelopmentExpenses': 31370000000, 'generalAndAdministrativeExpenses': 0, 'sellingAndMarketingExpenses': 0, 'sellingGeneralAndAdministrativeExpenses': 26097000000, 'otherExpenses': 0, 'operatingExpenses': 57467000000, 'costAndExpenses': 267819000000, 'interestIncome': 0, 'interestExpense': 0, 'depreciationAndAmortization': 11445000000, 'ebitda': 134661000000, 'ebitdaratio': 0.3443707085, 'operatingIncome': 123216000000, 'operatingIncomeRatio': 0.3151022287, 'totalOtherIncomeExpensesNet': 269000000, 'incomeBeforeTax': 123485000000, 'incomeBeforeTaxRatio': 0.3157901467, 'incomeTaxExpense': 29749000000, 'netIncome': 93736000000, 'netIncomeRatio': 0.2397125577, 'eps': 6.11, 'epsdiluted': 6.08, 'weightedAverageShsOut': 15343783000, 'weightedAverageShsOutDil': 15408095000, 'link': 'https://www.sec.gov/Archives/edgar/data/320193/000032019324000123/0000320193-24-000123-index.htm', 'finalLink': 'https://www.sec.gov/Archives/edgar/data/320193/000032019324000123/aapl-20240928.htm'}, {'date': '2023-09-30', 'symbol': 'AAPL', 'reportedCurrency': 'USD', 'cik': '0000320193', 'fillingDate': '2023-11-03', 'acceptedDate': '2023-11-02 18:08:27', 'calendarYear': '2023', 'period': 'FY', 'revenue': 383285000000, 'costOfRevenue': 214137000000, 'grossProfit': 169148000000, 'grossProfitRatio': 0.4413112958, 'researchAndDevelopmentExpenses': 29915000000, 'generalAndAdministrativeExpenses': 0, 'sellingAndMarketingExpenses': 0, 'sellingGeneralAndAdministrativeExpenses': 24932000000, 'otherExpenses': 382000000, 'operatingExpenses': 54847000000, 'costAndExpenses': 268984000000, 'interestIncome': 3750000000, 'interestExpense': 3933000000, 'depreciationAndAmortization': 11519000000, 'ebitda': 125820000000, 'ebitdaratio': 0.3282674772, 'operatingIncome': 114301000000, 'operatingIncomeRatio': 0.2982141227, 'totalOtherIncomeExpensesNet': -565000000, 'incomeBeforeTax': 113736000000, 'incomeBeforeTaxRatio': 0.2967400237, 'incomeTaxExpense': 16741000000, 'netIncome': 96995000000, 'netIncomeRatio': 0.2530623426, 'eps': 6.16, 'epsdiluted': 6.13, 'weightedAverageShsOut': 15744231000, 'weightedAverageShsOutDil': 15812547000, 'link': 'https://www.sec.gov/Archives/edgar/data/320193/000032019323000106/0000320193-23-000106-index.htm', 'finalLink': 'https://www.sec.gov/Archives/edgar/data/320193/000032019323000106/aapl-20230930.htm'}, {'date': '2022-09-24', 'symbol': 'AAPL', 'reportedCurrency': 'USD', 'cik': '0000320193', 'fillingDate': '2022-10-28', 'acceptedDate': '2022-10-27 18:01:14', 'calendarYear': '2022', 'period': 'FY', 'revenue': 394328000000, 'costOfRevenue': 223546000000, 'grossProfit': 170782000000, 'grossProfitRatio': 0.4330963056, 'researchAndDevelopmentExpenses': 26251000000, 'generalAndAdministrativeExpenses': 0, 'sellingAndMarketingExpenses': 0, 'sellingGeneralAndAdministrativeExpenses': 25094000000, 'otherExpenses': 228000000, 'operatingExpenses': 51573000000, 'costAndExpenses': 275119000000, 'interestIncome': 2825000000, 'interestExpense': 2931000000, 'depreciationAndAmortization': 11104000000, 'ebitda': 130541000000, 'ebitdaratio': 0.3310467428, 'operatingIncome': 119437000000, 'operatingIncomeRatio': 0.302887444, 'totalOtherIncomeExpensesNet': -334000000, 'incomeBeforeTax': 119103000000, 'incomeBeforeTaxRatio': 0.3020404333, 'incomeTaxExpense': 19300000000, 'netIncome': 99803000000, 'netIncomeRatio': 0.2530964071, 'eps': 6.15, 'epsdiluted': 6.11, 'weightedAverageShsOut': 16215963000, 'weightedAverageShsOutDil': 16325819000, 'link': 'https://www.sec.gov/Archives/edgar/data/320193/000032019322000108/0000320193-22-000108-index.htm', 'finalLink': 'https://www.sec.gov/Archives/edgar/data/320193/000032019322000108/aapl-20220924.htm'}, {'date': '2021-09-25', 'symbol': 'AAPL', 'reportedCurrency': 'USD', 'cik': '0000320193', 'fillingDate': '2021-10-29', 'acceptedDate': '2021-10-28 18:04:28', 'calendarYear': '2021', 'period': 'FY', 'revenue': 365817000000, 'costOfRevenue': 212981000000, 'grossProfit': 152836000000, 'grossProfitRatio': 0.4177935963, 'researchAndDevelopmentExpenses': 21914000000, 'generalAndAdministrativeExpenses': 0, 'sellingAndMarketingExpenses': 0, 'sellingGeneralAndAdministrativeExpenses': 21973000000, 'otherExpenses': -60000000, 'operatingExpenses': 43827000000, 'costAndExpenses': 256808000000, 'interestIncome': 2843000000, 'interestExpense': 2645000000, 'depreciationAndAmortization': 11284000000, 'ebitda': 120233000000, 'ebitdaratio': 0.3286697994, 'operatingIncome': 108949000000, 'operatingIncomeRatio': 0.2978237753, 'totalOtherIncomeExpensesNet': 258000000, 'incomeBeforeTax': 109207000000, 'incomeBeforeTaxRatio': 0.2985290459, 'incomeTaxExpense': 14527000000, 'netIncome': 94680000000, 'netIncomeRatio': 0.2588179336, 'eps': 5.67, 'epsdiluted': 5.61, 'weightedAverageShsOut': 16701272000, 'weightedAverageShsOutDil': 16864919000, 'link': 'https://www.sec.gov/Archives/edgar/data/320193/000032019321000105/0000320193-21-000105-index.htm', 'finalLink': 'https://www.sec.gov/Archives/edgar/data/320193/000032019321000105/aapl-20210925.htm'}, {'date': '2020-09-26', 'symbol': 'AAPL', 'reportedCurrency': 'USD', 'cik': '0000320193', 'fillingDate': '2020-10-30', 'acceptedDate': '2020-10-29 18:06:25', 'calendarYear': '2020', 'period': 'FY', 'revenue': 274515000000, 'costOfRevenue': 169559000000, 'grossProfit': 104956000000, 'grossProfitRatio': 0.3823324773, 'researchAndDevelopmentExpenses': 18752000000, 'generalAndAdministrativeExpenses': 0, 'sellingAndMarketingExpenses': 0, 'sellingGeneralAndAdministrativeExpenses': 19916000000, 'otherExpenses': 87000000, 'operatingExpenses': 38755000000, 'costAndExpenses': 208314000000, 'interestIncome': 3763000000, 'interestExpense': 2873000000, 'depreciationAndAmortization': 11056000000, 'ebitda': 77344000000, 'ebitdaratio': 0.2817478098, 'operatingIncome': 66288000000, 'operatingIncomeRatio': 0.2414731435, 'totalOtherIncomeExpensesNet': 803000000, 'incomeBeforeTax': 67091000000, 'incomeBeforeTaxRatio': 0.2443983025, 'incomeTaxExpense': 9680000000, 'netIncome': 57411000000, 'netIncomeRatio': 0.2091361128, 'eps': 3.31, 'epsdiluted': 3.28, 'weightedAverageShsOut': 17352119000, 'weightedAverageShsOutDil': 17528214000, 'link': 'https://www.sec.gov/Archives/edgar/data/320193/000032019320000096/0000320193-20-000096-index.htm', 'finalLink': 'https://www.sec.gov/Archives/edgar/data/320193/000032019320000096/aapl-20200926.htm'}]\n",
      "77344000000.0\n",
      "MSFT\n",
      "[{'date': '2024-06-30', 'symbol': 'MSFT', 'reportedCurrency': 'USD', 'cik': '0000789019', 'fillingDate': '2024-07-30', 'acceptedDate': '2024-07-30 16:06:22', 'calendarYear': '2024', 'period': 'FY', 'revenue': 245122000000, 'costOfRevenue': 74114000000, 'grossProfit': 171008000000, 'grossProfitRatio': 0.6976444383, 'researchAndDevelopmentExpenses': 29510000000, 'generalAndAdministrativeExpenses': 7609000000, 'sellingAndMarketingExpenses': 24456000000, 'sellingGeneralAndAdministrativeExpenses': 32065000000, 'otherExpenses': 0, 'operatingExpenses': 61575000000, 'costAndExpenses': 135689000000, 'interestIncome': 3157000000, 'interestExpense': 2935000000, 'depreciationAndAmortization': 22287000000, 'ebitda': 133009000000, 'ebitdaratio': 0.5426236731, 'operatingIncome': 109433000000, 'operatingIncomeRatio': 0.4464429957, 'totalOtherIncomeExpensesNet': -1646000000, 'incomeBeforeTax': 107787000000, 'incomeBeforeTaxRatio': 0.4397279722, 'incomeTaxExpense': 19651000000, 'netIncome': 88136000000, 'netIncomeRatio': 0.3595597294, 'eps': 11.86, 'epsdiluted': 11.8, 'weightedAverageShsOut': 7431000000, 'weightedAverageShsOutDil': 7469000000, 'link': 'https://www.sec.gov/Archives/edgar/data/789019/000095017024087843/0000950170-24-087843-index.htm', 'finalLink': 'https://www.sec.gov/Archives/edgar/data/789019/000095017024087843/msft-20240630.htm'}, {'date': '2023-06-30', 'symbol': 'MSFT', 'reportedCurrency': 'USD', 'cik': '0000789019', 'fillingDate': '2023-07-27', 'acceptedDate': '2023-07-27 16:01:56', 'calendarYear': '2023', 'period': 'FY', 'revenue': 211915000000, 'costOfRevenue': 65863000000, 'grossProfit': 146052000000, 'grossProfitRatio': 0.6892008588, 'researchAndDevelopmentExpenses': 27195000000, 'generalAndAdministrativeExpenses': 7575000000, 'sellingAndMarketingExpenses': 22759000000, 'sellingGeneralAndAdministrativeExpenses': 30334000000, 'otherExpenses': -223000000, 'operatingExpenses': 57529000000, 'costAndExpenses': 123392000000, 'interestIncome': 2994000000, 'interestExpense': 1968000000, 'depreciationAndAmortization': 13861000000, 'ebitda': 105140000000, 'ebitdaratio': 0.4962131043, 'operatingIncome': 88523000000, 'operatingIncomeRatio': 0.4177288064, 'totalOtherIncomeExpensesNet': 788000000, 'incomeBeforeTax': 89311000000, 'incomeBeforeTaxRatio': 0.4214472784, 'incomeTaxExpense': 16950000000, 'netIncome': 72361000000, 'netIncomeRatio': 0.3414623788, 'eps': 9.72, 'epsdiluted': 9.68, 'weightedAverageShsOut': 7446000000, 'weightedAverageShsOutDil': 7472000000, 'link': 'https://www.sec.gov/Archives/edgar/data/789019/000095017023035122/0000950170-23-035122-index.htm', 'finalLink': 'https://www.sec.gov/Archives/edgar/data/789019/000095017023035122/msft-20230630.htm'}, {'date': '2022-06-30', 'symbol': 'MSFT', 'reportedCurrency': 'USD', 'cik': '0000789019', 'fillingDate': '2022-07-28', 'acceptedDate': '2022-07-28 16:06:19', 'calendarYear': '2022', 'period': 'FY', 'revenue': 198270000000, 'costOfRevenue': 62650000000, 'grossProfit': 135620000000, 'grossProfitRatio': 0.6840167448, 'researchAndDevelopmentExpenses': 24512000000, 'generalAndAdministrativeExpenses': 5900000000, 'sellingAndMarketingExpenses': 21825000000, 'sellingGeneralAndAdministrativeExpenses': 27725000000, 'otherExpenses': -32000000, 'operatingExpenses': 52237000000, 'costAndExpenses': 114887000000, 'interestIncome': 2094000000, 'interestExpense': 2063000000, 'depreciationAndAmortization': 14460000000, 'ebitda': 100239000000, 'ebitdaratio': 0.5038835931, 'operatingIncome': 83383000000, 'operatingIncomeRatio': 0.4205527816, 'totalOtherIncomeExpensesNet': 333000000, 'incomeBeforeTax': 83716000000, 'incomeBeforeTaxRatio': 0.4222323095, 'incomeTaxExpense': 10978000000, 'netIncome': 72738000000, 'netIncomeRatio': 0.3668633681, 'eps': 9.7, 'epsdiluted': 9.65, 'weightedAverageShsOut': 7496000000, 'weightedAverageShsOutDil': 7540000000, 'link': 'https://www.sec.gov/Archives/edgar/data/789019/000156459022026876/0001564590-22-026876-index.htm', 'finalLink': 'https://www.sec.gov/Archives/edgar/data/789019/000156459022026876/msft-10k_20220630.htm'}, {'date': '2021-06-30', 'symbol': 'MSFT', 'reportedCurrency': 'USD', 'cik': '0000789019', 'fillingDate': '2021-07-29', 'acceptedDate': '2021-07-29 16:21:55', 'calendarYear': '2021', 'period': 'FY', 'revenue': 168088000000, 'costOfRevenue': 52232000000, 'grossProfit': 115856000000, 'grossProfitRatio': 0.6892580077, 'researchAndDevelopmentExpenses': 20716000000, 'generalAndAdministrativeExpenses': 5107000000, 'sellingAndMarketingExpenses': 20117000000, 'sellingGeneralAndAdministrativeExpenses': 25224000000, 'otherExpenses': 98000000, 'operatingExpenses': 45940000000, 'costAndExpenses': 98172000000, 'interestIncome': 2131000000, 'interestExpense': 2346000000, 'depreciationAndAmortization': 10900000000, 'ebitda': 84348000000, 'ebitdaratio': 0.4987328066, 'operatingIncome': 69916000000, 'operatingIncomeRatio': 0.4159487887, 'totalOtherIncomeExpensesNet': 1186000000, 'incomeBeforeTax': 71102000000, 'incomeBeforeTaxRatio': 0.4230046166, 'incomeTaxExpense': 9831000000, 'netIncome': 61271000000, 'netIncomeRatio': 0.3645173956, 'eps': 8.12, 'epsdiluted': 8.05, 'weightedAverageShsOut': 7547000000, 'weightedAverageShsOutDil': 7608000000, 'link': 'https://www.sec.gov/Archives/edgar/data/789019/000156459021039151/0001564590-21-039151-index.htm', 'finalLink': 'https://www.sec.gov/Archives/edgar/data/789019/000156459021039151/msft-10k_20210630.htm'}, {'date': '2020-06-30', 'symbol': 'MSFT', 'reportedCurrency': 'USD', 'cik': '0000789019', 'fillingDate': '2020-07-30', 'acceptedDate': '2020-07-30 20:44:46', 'calendarYear': '2020', 'period': 'FY', 'revenue': 143015000000, 'costOfRevenue': 46078000000, 'grossProfit': 96937000000, 'grossProfitRatio': 0.6778100199, 'researchAndDevelopmentExpenses': 19269000000, 'generalAndAdministrativeExpenses': 5111000000, 'sellingAndMarketingExpenses': 19598000000, 'sellingGeneralAndAdministrativeExpenses': 24709000000, 'otherExpenses': -40000000, 'operatingExpenses': 43978000000, 'costAndExpenses': 90056000000, 'interestIncome': 2680000000, 'interestExpense': 2591000000, 'depreciationAndAmortization': 12300000000, 'ebitda': 67927000000, 'ebitdaratio': 0.4782365486, 'operatingIncome': 52959000000, 'operatingIncomeRatio': 0.3703038143, 'totalOtherIncomeExpensesNet': 77000000, 'incomeBeforeTax': 53036000000, 'incomeBeforeTaxRatio': 0.3708422193, 'incomeTaxExpense': 8755000000, 'netIncome': 44281000000, 'netIncomeRatio': 0.3096248645, 'eps': 5.82, 'epsdiluted': 5.76, 'weightedAverageShsOut': 7610000000, 'weightedAverageShsOutDil': 7683000000, 'link': 'https://www.sec.gov/Archives/edgar/data/789019/000156459020034944/0001564590-20-034944-index.htm', 'finalLink': 'https://www.sec.gov/Archives/edgar/data/789019/000156459020034944/msft-10k_20200630.htm'}]\n",
      "67927000000.0\n",
      "CFLT\n",
      "[{'date': '2023-12-31', 'symbol': 'CFLT', 'reportedCurrency': 'USD', 'cik': '0001699838', 'fillingDate': '2024-02-21', 'acceptedDate': '2024-02-21 16:56:25', 'calendarYear': '2023', 'period': 'FY', 'revenue': 776952000, 'costOfRevenue': 229670000, 'grossProfit': 547282000, 'grossProfitRatio': 0.7043961532, 'researchAndDevelopmentExpenses': 348752000, 'generalAndAdministrativeExpenses': 137520000, 'sellingAndMarketingExpenses': 504929000, 'sellingGeneralAndAdministrativeExpenses': 642449000, 'otherExpenses': 0, 'operatingExpenses': 991201000, 'costAndExpenses': 1220871000, 'interestIncome': 0, 'interestExpense': 3800000, 'depreciationAndAmortization': 13910000, 'ebitda': -430009000, 'ebitdaratio': -0.5534563268, 'operatingIncome': -443919000, 'operatingIncomeRatio': -0.5713596207, 'totalOtherIncomeExpensesNet': 37245000, 'incomeBeforeTax': -406674000, 'incomeBeforeTaxRatio': -0.5234222964, 'incomeTaxExpense': 36072000, 'netIncome': -442746000, 'netIncomeRatio': -0.5698498749, 'eps': -1.47, 'epsdiluted': -1.47, 'weightedAverageShsOut': 300727487, 'weightedAverageShsOutDil': 300727487, 'link': 'https://www.sec.gov/Archives/edgar/data/1699838/000095017024018036/0000950170-24-018036-index.htm', 'finalLink': 'https://www.sec.gov/Archives/edgar/data/1699838/000095017024018036/cflt-20231231.htm'}, {'date': '2022-12-31', 'symbol': 'CFLT', 'reportedCurrency': 'USD', 'cik': '0001699838', 'fillingDate': '2023-02-28', 'acceptedDate': '2023-02-27 21:17:12', 'calendarYear': '2022', 'period': 'FY', 'revenue': 585944000, 'costOfRevenue': 202415000, 'grossProfit': 383529000, 'grossProfitRatio': 0.6545488989, 'researchAndDevelopmentExpenses': 264041000, 'generalAndAdministrativeExpenses': 125710000, 'sellingAndMarketingExpenses': 456452000, 'sellingGeneralAndAdministrativeExpenses': 582162000, 'otherExpenses': 16416000, 'operatingExpenses': 846203000, 'costAndExpenses': 1048618000, 'interestIncome': 3800000, 'interestExpense': 0, 'depreciationAndAmortization': 16228000, 'ebitda': -455054000, 'ebitdaratio': -0.7766168781, 'operatingIncome': -462674000, 'operatingIncomeRatio': -0.7896215338, 'totalOtherIncomeExpensesNet': 16416000, 'incomeBeforeTax': -446258000, 'incomeBeforeTaxRatio': -0.7616052046, 'incomeTaxExpense': 6293000, 'netIncome': -452551000, 'netIncomeRatio': -0.7723451388, 'eps': -1.62, 'epsdiluted': -1.62, 'weightedAverageShsOut': 280080357, 'weightedAverageShsOutDil': 280080357, 'link': 'https://www.sec.gov/Archives/edgar/data/1699838/000095017023004815/0000950170-23-004815-index.htm', 'finalLink': 'https://www.sec.gov/Archives/edgar/data/1699838/000095017023004815/cflt-20221231.htm'}, {'date': '2021-12-31', 'symbol': 'CFLT', 'reportedCurrency': 'USD', 'cik': '0001699838', 'fillingDate': '2022-02-24', 'acceptedDate': '2022-02-24 17:21:51', 'calendarYear': '2021', 'period': 'FY', 'revenue': 387864000, 'costOfRevenue': 137292000, 'grossProfit': 250572000, 'grossProfitRatio': 0.6460305674, 'researchAndDevelopmentExpenses': 161925000, 'generalAndAdministrativeExpenses': 108936000, 'sellingAndMarketingExpenses': 319331000, 'sellingGeneralAndAdministrativeExpenses': 428267000, 'otherExpenses': -2027000, 'operatingExpenses': 590192000, 'costAndExpenses': 727484000, 'interestIncome': 2020000, 'interestExpense': 0, 'depreciationAndAmortization': 14622000, 'ebitda': -335988000, 'ebitdaratio': -0.8662520884, 'operatingIncome': -339620000, 'operatingIncomeRatio': -0.8756161954, 'totalOtherIncomeExpensesNet': -7000, 'incomeBeforeTax': -339627000, 'incomeBeforeTaxRatio': -0.8756342429, 'incomeTaxExpense': 3174000, 'netIncome': -342801000, 'netIncomeRatio': -0.8838175237, 'eps': -1.26, 'epsdiluted': -1.26, 'weightedAverageShsOut': 271801882, 'weightedAverageShsOutDil': 271801882, 'link': 'https://www.sec.gov/Archives/edgar/data/1699838/000095017022002008/0000950170-22-002008-index.htm', 'finalLink': 'https://www.sec.gov/Archives/edgar/data/1699838/000095017022002008/cflt-20211231.htm'}, {'date': '2020-12-31', 'symbol': 'CFLT', 'reportedCurrency': 'USD', 'cik': '0001699838', 'fillingDate': '2020-12-31', 'acceptedDate': '2020-12-31 00:00:00', 'calendarYear': '2020', 'period': 'FY', 'revenue': 236577000, 'costOfRevenue': 75476000, 'grossProfit': 161101000, 'grossProfitRatio': 0.6809664507, 'researchAndDevelopmentExpenses': 105399000, 'generalAndAdministrativeExpenses': 122516000, 'sellingAndMarketingExpenses': 166361000, 'sellingGeneralAndAdministrativeExpenses': 288877000, 'otherExpenses': -973000, 'operatingExpenses': 394276000, 'costAndExpenses': 469752000, 'interestIncome': 4113000, 'interestExpense': 0, 'depreciationAndAmortization': 1567000, 'ebitda': -231608000, 'ebitdaratio': -0.9789962676, 'operatingIncome': -233175000, 'operatingIncomeRatio': -0.9856199039, 'totalOtherIncomeExpensesNet': 3140000, 'incomeBeforeTax': -230035000, 'incomeBeforeTaxRatio': -0.9723472696, 'incomeTaxExpense': -207000, 'netIncome': -229828000, 'netIncomeRatio': -0.9714722902, 'eps': -0.91, 'epsdiluted': -0.91, 'weightedAverageShsOut': 252365190, 'weightedAverageShsOutDil': 252365190, 'link': None, 'finalLink': None}, {'date': '2019-12-31', 'symbol': 'CFLT', 'reportedCurrency': 'USD', 'cik': '0001699838', 'fillingDate': '2019-12-31', 'acceptedDate': '2019-12-31 00:00:00', 'calendarYear': '2019', 'period': 'FY', 'revenue': 149805000, 'costOfRevenue': 49369000, 'grossProfit': 100436000, 'grossProfitRatio': 0.6704449117, 'researchAndDevelopmentExpenses': 58090000, 'generalAndAdministrativeExpenses': 24662000, 'sellingAndMarketingExpenses': 115792000, 'sellingGeneralAndAdministrativeExpenses': 140454000, 'otherExpenses': 567000, 'operatingExpenses': 198544000, 'costAndExpenses': 247913000, 'interestIncome': 2494000, 'interestExpense': 0, 'depreciationAndAmortization': 1202000, 'ebitda': -96906000, 'ebitdaratio': -0.6468809452, 'operatingIncome': -98108000, 'operatingIncomeRatio': -0.6549047095, 'totalOtherIncomeExpensesNet': 3061000, 'incomeBeforeTax': -95047000, 'incomeBeforeTaxRatio': -0.6344714796, 'incomeTaxExpense': -5000, 'netIncome': -95042000, 'netIncomeRatio': -0.6344381029, 'eps': -0.38, 'epsdiluted': -0.38, 'weightedAverageShsOut': 252365190, 'weightedAverageShsOutDil': 252365190, 'link': None, 'finalLink': None}]\n",
      "-96906000.0\n",
      "ORCL\n",
      "[{'date': '2024-05-31', 'symbol': 'ORCL', 'reportedCurrency': 'USD', 'cik': '0001341439', 'fillingDate': '2024-06-20', 'acceptedDate': '2024-06-20 16:21:35', 'calendarYear': '2024', 'period': 'FY', 'revenue': 52961000000, 'costOfRevenue': 15143000000, 'grossProfit': 37818000000, 'grossProfitRatio': 0.7140726195, 'researchAndDevelopmentExpenses': 8915000000, 'generalAndAdministrativeExpenses': 1548000000, 'sellingAndMarketingExpenses': 8274000000, 'sellingGeneralAndAdministrativeExpenses': 9822000000, 'otherExpenses': 3728000000, 'operatingExpenses': 22465000000, 'costAndExpenses': 37608000000, 'interestIncome': 451000000, 'interestExpense': 3514000000, 'depreciationAndAmortization': 6139000000, 'ebitda': 21580000000, 'ebitdaratio': 0.4074696475, 'operatingIncome': 15353000000, 'operatingIncomeRatio': 0.2898925625, 'totalOtherIncomeExpensesNet': -3612000000, 'incomeBeforeTax': 11741000000, 'incomeBeforeTaxRatio': 0.2216914333, 'incomeTaxExpense': 1274000000, 'netIncome': 10467000000, 'netIncomeRatio': 0.1976359963, 'eps': 3.81, 'epsdiluted': 3.71, 'weightedAverageShsOut': 2744000000, 'weightedAverageShsOutDil': 2823000000, 'link': 'https://www.sec.gov/Archives/edgar/data/1341439/000095017024075605/0000950170-24-075605-index.htm', 'finalLink': 'https://www.sec.gov/Archives/edgar/data/1341439/000095017024075605/orcl-20240531.htm'}, {'date': '2023-05-31', 'symbol': 'ORCL', 'reportedCurrency': 'USD', 'cik': '0001341439', 'fillingDate': '2023-06-20', 'acceptedDate': '2023-06-20 16:06:29', 'calendarYear': '2023', 'period': 'FY', 'revenue': 49954000000, 'costOfRevenue': 13564000000, 'grossProfit': 36390000000, 'grossProfitRatio': 0.7284701926, 'researchAndDevelopmentExpenses': 9415000000, 'generalAndAdministrativeExpenses': 1579000000, 'sellingAndMarketingExpenses': 8833000000, 'sellingGeneralAndAdministrativeExpenses': 10412000000, 'otherExpenses': -462000000, 'operatingExpenses': 24044000000, 'costAndExpenses': 37608000000, 'interestIncome': 285000000, 'interestExpense': 3505000000, 'depreciationAndAmortization': 6108000000, 'ebitda': 18904000000, 'ebitdaratio': 0.3800696641, 'operatingIncome': 13670000000, 'operatingIncomeRatio': 0.2736517596, 'totalOtherIncomeExpensesNet': -3967000000, 'incomeBeforeTax': 9126000000, 'incomeBeforeTaxRatio': 0.182688073, 'incomeTaxExpense': 623000000, 'netIncome': 8503000000, 'netIncomeRatio': 0.1702165993, 'eps': 3.15, 'epsdiluted': 3.07, 'weightedAverageShsOut': 2696000000, 'weightedAverageShsOutDil': 2766000000, 'link': 'https://www.sec.gov/Archives/edgar/data/1341439/000095017023028914/0000950170-23-028914-index.htm', 'finalLink': 'https://www.sec.gov/Archives/edgar/data/1341439/000095017023028914/orcl-20230531.htm'}, {'date': '2022-05-31', 'symbol': 'ORCL', 'reportedCurrency': 'USD', 'cik': '0001341439', 'fillingDate': '2022-06-21', 'acceptedDate': '2022-06-21 08:04:37', 'calendarYear': '2022', 'period': 'FY', 'revenue': 42440000000, 'costOfRevenue': 8877000000, 'grossProfit': 33563000000, 'grossProfitRatio': 0.7908341188, 'researchAndDevelopmentExpenses': 7694000000, 'generalAndAdministrativeExpenses': 1317000000, 'sellingAndMarketingExpenses': 8047000000, 'sellingGeneralAndAdministrativeExpenses': 9364000000, 'otherExpenses': -522000000, 'operatingExpenses': 23253000000, 'costAndExpenses': 32130000000, 'interestIncome': 94000000, 'interestExpense': 2755000000, 'depreciationAndAmortization': 3122000000, 'ebitda': 18958000000, 'ebitdaratio': 0.4355089538, 'operatingIncome': 15836000000, 'operatingIncomeRatio': 0.3731385485, 'totalOtherIncomeExpensesNet': -3277000000, 'incomeBeforeTax': 7649000000, 'incomeBeforeTaxRatio': 0.1802309142, 'incomeTaxExpense': 932000000, 'netIncome': 6717000000, 'netIncomeRatio': 0.1582704995, 'eps': 2.49, 'epsdiluted': 2.41, 'weightedAverageShsOut': 2700000000, 'weightedAverageShsOutDil': 2786000000, 'link': 'https://www.sec.gov/Archives/edgar/data/1341439/000156459022023675/0001564590-22-023675-index.htm', 'finalLink': 'https://www.sec.gov/Archives/edgar/data/1341439/000156459022023675/orcl-10k_20220531.htm'}, {'date': '2021-05-31', 'symbol': 'ORCL', 'reportedCurrency': 'USD', 'cik': '0001341439', 'fillingDate': '2021-06-21', 'acceptedDate': '2021-06-21 16:10:31', 'calendarYear': '2021', 'period': 'FY', 'revenue': 40479000000, 'costOfRevenue': 7855000000, 'grossProfit': 32624000000, 'grossProfitRatio': 0.8059487636, 'researchAndDevelopmentExpenses': 6527000000, 'generalAndAdministrativeExpenses': 1254000000, 'sellingAndMarketingExpenses': 7682000000, 'sellingGeneralAndAdministrativeExpenses': 8936000000, 'otherExpenses': 282000000, 'operatingExpenses': 17230000000, 'costAndExpenses': 25085000000, 'interestIncome': 101000000, 'interestExpense': 2496000000, 'depreciationAndAmortization': 2916000000, 'ebitda': 18569000000, 'ebitdaratio': 0.458731688, 'operatingIncome': 15653000000, 'operatingIncomeRatio': 0.3866943353, 'totalOtherIncomeExpensesNet': -2214000000, 'incomeBeforeTax': 12999000000, 'incomeBeforeTaxRatio': 0.3211294745, 'incomeTaxExpense': 747000000, 'netIncome': 13746000000, 'netIncomeRatio': 0.3395834877, 'eps': 4.67, 'epsdiluted': 4.55, 'weightedAverageShsOut': 2945000000, 'weightedAverageShsOutDil': 3022000000, 'link': 'https://www.sec.gov/Archives/edgar/data/1341439/000156459021033616/0001564590-21-033616-index.htm', 'finalLink': 'https://www.sec.gov/Archives/edgar/data/1341439/000156459021033616/orcl-10k_20210531.htm'}, {'date': '2020-05-31', 'symbol': 'ORCL', 'reportedCurrency': 'USD', 'cik': '0001341439', 'fillingDate': '2020-06-22', 'acceptedDate': '2020-06-22 16:25:49', 'calendarYear': '2020', 'period': 'FY', 'revenue': 39068000000, 'costOfRevenue': 7938000000, 'grossProfit': 31130000000, 'grossProfitRatio': 0.7968158083, 'researchAndDevelopmentExpenses': 6067000000, 'generalAndAdministrativeExpenses': 1181000000, 'sellingAndMarketingExpenses': 8094000000, 'sellingGeneralAndAdministrativeExpenses': 9275000000, 'otherExpenses': 162000000, 'operatingExpenses': 17599000000, 'costAndExpenses': 25537000000, 'interestIncome': 527000000, 'interestExpense': 1995000000, 'depreciationAndAmortization': 2968000000, 'ebitda': 17119000000, 'ebitdaratio': 0.4381847036, 'operatingIncome': 14151000000, 'operatingIncomeRatio': 0.3622146002, 'totalOtherIncomeExpensesNet': -1833000000, 'incomeBeforeTax': 12063000000, 'incomeBeforeTaxRatio': 0.3087693253, 'incomeTaxExpense': 1928000000, 'netIncome': 10135000000, 'netIncomeRatio': 0.2594194737, 'eps': 3.16, 'epsdiluted': 3.08, 'weightedAverageShsOut': 3211000000, 'weightedAverageShsOutDil': 3294000000, 'link': 'https://www.sec.gov/Archives/edgar/data/1341439/000156459020030125/0001564590-20-030125-index.htm', 'finalLink': 'https://www.sec.gov/Archives/edgar/data/1341439/000156459020030125/orcl-10k_20200531.htm'}]\n",
      "17119000000.0\n",
      "CRM\n",
      "[{'date': '2024-01-31', 'symbol': 'CRM', 'reportedCurrency': 'USD', 'cik': '0001108524', 'fillingDate': '2024-03-06', 'acceptedDate': '2024-03-06 16:32:48', 'calendarYear': '2024', 'period': 'FY', 'revenue': 34857000000, 'costOfRevenue': 8541000000, 'grossProfit': 26316000000, 'grossProfitRatio': 0.7549703073, 'researchAndDevelopmentExpenses': 4906000000, 'generalAndAdministrativeExpenses': 2534000000, 'sellingAndMarketingExpenses': 12877000000, 'sellingGeneralAndAdministrativeExpenses': 15411000000, 'otherExpenses': 0, 'operatingExpenses': 20317000000, 'costAndExpenses': 28858000000, 'interestIncome': 0, 'interestExpense': 0, 'depreciationAndAmortization': 3222000000, 'ebitda': 9221000000, 'ebitdaratio': 0.2645379694, 'operatingIncome': 5011000000, 'operatingIncomeRatio': 0.1437587859, 'totalOtherIncomeExpensesNet': -61000000, 'incomeBeforeTax': 4950000000, 'incomeBeforeTaxRatio': 0.1420087787, 'incomeTaxExpense': 814000000, 'netIncome': 4136000000, 'netIncomeRatio': 0.118656224, 'eps': 4.25, 'epsdiluted': 4.2, 'weightedAverageShsOut': 974000000, 'weightedAverageShsOutDil': 984000000, 'link': 'https://www.sec.gov/Archives/edgar/data/1108524/000110852424000005/0001108524-24-000005-index.htm', 'finalLink': 'https://www.sec.gov/Archives/edgar/data/1108524/000110852424000005/crm-20240131.htm'}, {'date': '2023-01-31', 'symbol': 'CRM', 'reportedCurrency': 'USD', 'cik': '0001108524', 'fillingDate': '2023-03-08', 'acceptedDate': '2023-03-08 16:41:15', 'calendarYear': '2023', 'period': 'FY', 'revenue': 31352000000, 'costOfRevenue': 8360000000, 'grossProfit': 22992000000, 'grossProfitRatio': 0.7333503445, 'researchAndDevelopmentExpenses': 5055000000, 'generalAndAdministrativeExpenses': 2553000000, 'sellingAndMarketingExpenses': 13526000000, 'sellingGeneralAndAdministrativeExpenses': 16079000000, 'otherExpenses': 0, 'operatingExpenses': 21134000000, 'costAndExpenses': 29494000000, 'interestIncome': 0, 'interestExpense': 0, 'depreciationAndAmortization': 3786000000, 'ebitda': 5644000000, 'ebitdaratio': 0.2140533299, 'operatingIncome': 1030000000, 'operatingIncomeRatio': 0.0328527686, 'totalOtherIncomeExpensesNet': -370000000, 'incomeBeforeTax': 660000000, 'incomeBeforeTaxRatio': 0.0210512886, 'incomeTaxExpense': 452000000, 'netIncome': 208000000, 'netIncomeRatio': 0.0066343455, 'eps': 0.21, 'epsdiluted': 0.21, 'weightedAverageShsOut': 992000000, 'weightedAverageShsOutDil': 997000000, 'link': 'https://www.sec.gov/Archives/edgar/data/1108524/000110852423000011/0001108524-23-000011-index.htm', 'finalLink': 'https://www.sec.gov/Archives/edgar/data/1108524/000110852423000011/crm-20230131.htm'}, {'date': '2022-01-31', 'symbol': 'CRM', 'reportedCurrency': 'USD', 'cik': '0001108524', 'fillingDate': '2022-03-11', 'acceptedDate': '2022-03-11 08:06:16', 'calendarYear': '2022', 'period': 'FY', 'revenue': 26492000000, 'costOfRevenue': 7026000000, 'grossProfit': 19466000000, 'grossProfitRatio': 0.7347878605, 'researchAndDevelopmentExpenses': 4465000000, 'generalAndAdministrativeExpenses': 2598000000, 'sellingAndMarketingExpenses': 11855000000, 'sellingGeneralAndAdministrativeExpenses': 14453000000, 'otherExpenses': 0, 'operatingExpenses': 18918000000, 'costAndExpenses': 25944000000, 'interestIncome': 0, 'interestExpense': 0, 'depreciationAndAmortization': 3298000000, 'ebitda': 3846000000, 'ebitdaratio': 0.0994639891, 'operatingIncome': 548000000, 'operatingIncomeRatio': 0.02068549, 'totalOtherIncomeExpensesNet': 984000000, 'incomeBeforeTax': 1532000000, 'incomeBeforeTaxRatio': 0.0578287785, 'incomeTaxExpense': 88000000, 'netIncome': 1444000000, 'netIncomeRatio': 0.054507021, 'eps': 1.51, 'epsdiluted': 1.48, 'weightedAverageShsOut': 955000000, 'weightedAverageShsOutDil': 974000000, 'link': 'https://www.sec.gov/Archives/edgar/data/1108524/000110852422000013/0001108524-22-000013-index.htm', 'finalLink': 'https://www.sec.gov/Archives/edgar/data/1108524/000110852422000013/crm-20220131.htm'}, {'date': '2021-01-31', 'symbol': 'CRM', 'reportedCurrency': 'USD', 'cik': '0001108524', 'fillingDate': '2021-03-17', 'acceptedDate': '2022-02-24 16:13:45', 'calendarYear': '2021', 'period': 'FY', 'revenue': 21252000000, 'costOfRevenue': 5438000000, 'grossProfit': 15814000000, 'grossProfitRatio': 0.7441182006, 'researchAndDevelopmentExpenses': 3598000000, 'generalAndAdministrativeExpenses': 2087000000, 'sellingAndMarketingExpenses': 9674000000, 'sellingGeneralAndAdministrativeExpenses': 11761000000, 'otherExpenses': 0, 'operatingExpenses': 15359000000, 'costAndExpenses': 20797000000, 'interestIncome': 0, 'interestExpense': 0, 'depreciationAndAmortization': 2846000000, 'ebitda': 3301000000, 'ebitdaratio': 0.0532185206, 'operatingIncome': 455000000, 'operatingIncomeRatio': 0.0214097497, 'totalOtherIncomeExpensesNet': 2106000000, 'incomeBeforeTax': 2561000000, 'incomeBeforeTaxRatio': 0.1205063053, 'incomeTaxExpense': -1511000000, 'netIncome': 4072000000, 'netIncomeRatio': 0.191605496, 'eps': 4.48, 'epsdiluted': 4.38, 'weightedAverageShsOut': 908000000, 'weightedAverageShsOutDil': 930000000, 'link': 'https://www.sec.gov/Archives/edgar/data/1108524/000110852422000008/0001108524-22-000008-index.htm', 'finalLink': 'https://www.sec.gov/Archives/edgar/data/1108524/000110852422000008/crm-20210131.htm'}, {'date': '2020-01-31', 'symbol': 'CRM', 'reportedCurrency': 'USD', 'cik': '0001108524', 'fillingDate': '2020-03-05', 'acceptedDate': '2020-03-05 16:29:57', 'calendarYear': '2020', 'period': 'FY', 'revenue': 17098000000, 'costOfRevenue': 4235000000, 'grossProfit': 12863000000, 'grossProfitRatio': 0.7523102117, 'researchAndDevelopmentExpenses': 2766000000, 'generalAndAdministrativeExpenses': 1704000000, 'sellingAndMarketingExpenses': 7930000000, 'sellingGeneralAndAdministrativeExpenses': 9634000000, 'otherExpenses': 0, 'operatingExpenses': 12400000000, 'costAndExpenses': 16635000000, 'interestIncome': 0, 'interestExpense': 0, 'depreciationAndAmortization': 2135000000, 'ebitda': 2598000000, 'ebitdaratio': 0.1366826529, 'operatingIncome': 297000000, 'operatingIncomeRatio': 0.0173704527, 'totalOtherIncomeExpensesNet': 409000000, 'incomeBeforeTax': 706000000, 'incomeBeforeTaxRatio': 0.0412913791, 'incomeTaxExpense': 580000000, 'netIncome': 126000000, 'netIncomeRatio': 0.007369283, 'eps': 0.15, 'epsdiluted': 0.15, 'weightedAverageShsOut': 829000000, 'weightedAverageShsOutDil': 850000000, 'link': 'https://www.sec.gov/Archives/edgar/data/1108524/000110852420000014/0001108524-20-000014-index.htm', 'finalLink': 'https://www.sec.gov/Archives/edgar/data/1108524/000110852420000014/crm-20200131.htm'}]\n",
      "2598000000.0\n",
      "DDOG\n",
      "[{'date': '2023-12-31', 'symbol': 'DDOG', 'reportedCurrency': 'USD', 'cik': '0001561550', 'fillingDate': '2024-02-23', 'acceptedDate': '2024-02-23 08:35:39', 'calendarYear': '2023', 'period': 'FY', 'revenue': 2128359000, 'costOfRevenue': 409908000, 'grossProfit': 1718451000, 'grossProfitRatio': 0.8074065512, 'researchAndDevelopmentExpenses': 962447000, 'generalAndAdministrativeExpenses': 180192000, 'sellingAndMarketingExpenses': 609276000, 'sellingGeneralAndAdministrativeExpenses': 789468000, 'otherExpenses': 0, 'operatingExpenses': 1751915000, 'costAndExpenses': 2161823000, 'interestIncome': 103459000, 'interestExpense': 6302000, 'depreciationAndAmortization': 83672000, 'ebitda': 150209000, 'ebitdaratio': 0.0705750299, 'operatingIncome': -33464000, 'operatingIncomeRatio': -0.0157229114, 'totalOtherIncomeExpensesNet': 93699000, 'incomeBeforeTax': 60235000, 'incomeBeforeTaxRatio': 0.0283011466, 'incomeTaxExpense': 11667000, 'netIncome': 48568000, 'netIncomeRatio': 0.0228194586, 'eps': 0.15, 'epsdiluted': 0.14, 'weightedAverageShsOut': 324033000, 'weightedAverageShsOutDil': 350292000, 'link': 'https://www.sec.gov/Archives/edgar/data/1561550/000156155024000009/0001561550-24-000009-index.htm', 'finalLink': 'https://www.sec.gov/Archives/edgar/data/1561550/000156155024000009/ddog-20231231.htm'}, {'date': '2022-12-31', 'symbol': 'DDOG', 'reportedCurrency': 'USD', 'cik': '0001561550', 'fillingDate': '2023-02-24', 'acceptedDate': '2023-02-24 16:11:43', 'calendarYear': '2022', 'period': 'FY', 'revenue': 1675100000, 'costOfRevenue': 346743000, 'grossProfit': 1328357000, 'grossProfitRatio': 0.7930016118, 'researchAndDevelopmentExpenses': 752351000, 'generalAndAdministrativeExpenses': 139413000, 'sellingAndMarketingExpenses': 495288000, 'sellingGeneralAndAdministrativeExpenses': 634701000, 'otherExpenses': 2229000, 'operatingExpenses': 1387052000, 'costAndExpenses': 1733795000, 'interestIncome': 37160000, 'interestExpense': 13166000, 'depreciationAndAmortization': 62632000, 'ebitda': 41097000, 'ebitdaratio': 0.0058056235, 'operatingIncome': -24904000, 'operatingIncomeRatio': -0.0148671721, 'totalOtherIncomeExpensesNet': 20625000, 'incomeBeforeTax': -38070000, 'incomeBeforeTaxRatio': -0.0227270014, 'incomeTaxExpense': 12090000, 'netIncome': -50160000, 'netIncomeRatio': -0.0299444809, 'eps': -0.16, 'epsdiluted': -0.16, 'weightedAverageShsOut': 315410000, 'weightedAverageShsOutDil': 315410000, 'link': 'https://www.sec.gov/Archives/edgar/data/1561550/000156155023000006/0001561550-23-000006-index.htm', 'finalLink': 'https://www.sec.gov/Archives/edgar/data/1561550/000156155023000006/ddog-20221231.htm'}, {'date': '2021-12-31', 'symbol': 'DDOG', 'reportedCurrency': 'USD', 'cik': '0001561550', 'fillingDate': '2022-02-25', 'acceptedDate': '2022-02-25 16:36:34', 'calendarYear': '2021', 'period': 'FY', 'revenue': 1028784000, 'costOfRevenue': 234245000, 'grossProfit': 794539000, 'grossProfitRatio': 0.7723088617, 'researchAndDevelopmentExpenses': 419769000, 'generalAndAdministrativeExpenses': 94429000, 'sellingAndMarketingExpenses': 299497000, 'sellingGeneralAndAdministrativeExpenses': 393926000, 'otherExpenses': 374000, 'operatingExpenses': 813695000, 'costAndExpenses': 1047940000, 'interestIncome': 21786000, 'interestExpense': 21052000, 'depreciationAndAmortization': 22938000, 'ebitda': 25568000, 'ebitdaratio': 0.0248526416, 'operatingIncome': 2630000, 'operatingIncomeRatio': 0.0025564161, 'totalOtherIncomeExpensesNet': 734000, 'incomeBeforeTax': -18422000, 'incomeBeforeTaxRatio': -0.0179065771, 'incomeTaxExpense': 2323000, 'netIncome': -20745000, 'netIncomeRatio': -0.0201645827, 'eps': -0.0671, 'epsdiluted': -0.0671, 'weightedAverageShsOut': 309048000, 'weightedAverageShsOutDil': 309048000, 'link': 'https://www.sec.gov/Archives/edgar/data/1561550/000156155022000009/0001561550-22-000009-index.htm', 'finalLink': 'https://www.sec.gov/Archives/edgar/data/1561550/000156155022000009/ddog-20211231.htm'}, {'date': '2020-12-31', 'symbol': 'DDOG', 'reportedCurrency': 'USD', 'cik': '0001561550', 'fillingDate': '2021-03-01', 'acceptedDate': '2021-03-01 14:25:23', 'calendarYear': '2020', 'period': 'FY', 'revenue': 603466000, 'costOfRevenue': 130197000, 'grossProfit': 473269000, 'grossProfitRatio': 0.7842513083, 'researchAndDevelopmentExpenses': 210626000, 'generalAndAdministrativeExpenses': 62756000, 'sellingAndMarketingExpenses': 213660000, 'sellingGeneralAndAdministrativeExpenses': 276416000, 'otherExpenses': 751000, 'operatingExpenses': 487042000, 'costAndExpenses': 617239000, 'interestIncome': 21985000, 'interestExpense': 30434000, 'depreciationAndAmortization': 25897000, 'ebitda': 34109000, 'ebitdaratio': 0.0392101626, 'operatingIncome': 8212000, 'operatingIncomeRatio': 0.0136080575, 'totalOtherIncomeExpensesNet': -8449000, 'incomeBeforeTax': -22222000, 'incomeBeforeTaxRatio': -0.036823947, 'incomeTaxExpense': 2325000, 'netIncome': -24547000, 'netIncomeRatio': -0.040676691, 'eps': -0.0817, 'epsdiluted': -0.0817, 'weightedAverageShsOut': 300350000, 'weightedAverageShsOutDil': 300350000, 'link': 'https://www.sec.gov/Archives/edgar/data/1561550/000156459021009770/0001564590-21-009770-index.htm', 'finalLink': 'https://www.sec.gov/Archives/edgar/data/1561550/000156459021009770/ddog-10k_20201231.htm'}, {'date': '2019-12-31', 'symbol': 'DDOG', 'reportedCurrency': 'USD', 'cik': '0001561550', 'fillingDate': '2020-02-25', 'acceptedDate': '2020-02-25 16:46:59', 'calendarYear': '2019', 'period': 'FY', 'revenue': 362780000, 'costOfRevenue': 88949000, 'grossProfit': 273831000, 'grossProfitRatio': 0.7548128342, 'researchAndDevelopmentExpenses': 111425000, 'generalAndAdministrativeExpenses': 35889000, 'sellingAndMarketingExpenses': 146657000, 'sellingGeneralAndAdministrativeExpenses': 182546000, 'otherExpenses': 4164000, 'operatingExpenses': 293971000, 'costAndExpenses': 382920000, 'interestIncome': 4078000, 'interestExpense': 0, 'depreciationAndAmortization': 12370000, 'ebitda': -3606000, 'ebitdaratio': -0.0214179392, 'operatingIncome': -20140000, 'operatingIncomeRatio': -0.0555157396, 'totalOtherIncomeExpensesNet': 4164000, 'incomeBeforeTax': -15976000, 'incomeBeforeTaxRatio': -0.0440377088, 'incomeTaxExpense': 734000, 'netIncome': -16710000, 'netIncomeRatio': -0.0460609736, 'eps': -0.12, 'epsdiluted': -0.12, 'weightedAverageShsOut': 139873000, 'weightedAverageShsOutDil': 139873000, 'link': 'https://www.sec.gov/Archives/edgar/data/1561550/000156459020006422/0001564590-20-006422-index.htm', 'finalLink': 'https://www.sec.gov/Archives/edgar/data/1561550/000156459020006422/ddog-10k_20191231.htm'}]\n",
      "-3606000.0\n",
      "GET DATA COMPLETED\n",
      "ANALUYSIS COMPLETED\n",
      "PEP\n",
      "[{'date': '2023-12-30', 'symbol': 'PEP', 'reportedCurrency': 'USD', 'cik': '0000077476', 'fillingDate': '2024-02-09', 'acceptedDate': '2024-02-08 17:58:51', 'calendarYear': '2023', 'period': 'FY', 'revenue': 91471000000, 'costOfRevenue': 41881000000, 'grossProfit': 49590000000, 'grossProfitRatio': 0.5421390386, 'researchAndDevelopmentExpenses': 804000000, 'generalAndAdministrativeExpenses': 14192000000, 'sellingAndMarketingExpenses': 21100000000, 'sellingGeneralAndAdministrativeExpenses': 36677000000, 'otherExpenses': 0, 'operatingExpenses': 37604000000, 'costAndExpenses': 79485000000, 'interestIncome': 0, 'interestExpense': 819000000, 'depreciationAndAmortization': 2948000000, 'ebitda': 15215000000, 'ebitdaratio': 0.1663368718, 'operatingIncome': 11986000000, 'operatingIncomeRatio': 0.1310360661, 'totalOtherIncomeExpensesNet': -569000000, 'incomeBeforeTax': 11417000000, 'incomeBeforeTaxRatio': 0.1248155153, 'incomeTaxExpense': 2262000000, 'netIncome': 9074000000, 'netIncomeRatio': 0.0992008396, 'eps': 6.59, 'epsdiluted': 6.56, 'weightedAverageShsOut': 1376000000, 'weightedAverageShsOutDil': 1383000000, 'link': 'https://www.sec.gov/Archives/edgar/data/77476/000007747624000008/0000077476-24-000008-index.htm', 'finalLink': 'https://www.sec.gov/Archives/edgar/data/77476/000007747624000008/pep-20231230.htm'}, {'date': '2022-12-31', 'symbol': 'PEP', 'reportedCurrency': 'USD', 'cik': '0000077476', 'fillingDate': '2023-02-09', 'acceptedDate': '2023-02-08 18:06:37', 'calendarYear': '2022', 'period': 'FY', 'revenue': 86403000000, 'costOfRevenue': 40281000000, 'grossProfit': 46122000000, 'grossProfitRatio': 0.5338009097, 'researchAndDevelopmentExpenses': 771000000, 'generalAndAdministrativeExpenses': 13285000000, 'sellingAndMarketingExpenses': 20200000000, 'sellingGeneralAndAdministrativeExpenses': 33485000000, 'otherExpenses': 132000000, 'operatingExpenses': 34256000000, 'costAndExpenses': 74537000000, 'interestIncome': 0, 'interestExpense': 939000000, 'depreciationAndAmortization': 2763000000, 'ebitda': 14248000000, 'ebitdaratio': 0.1693112508, 'operatingIncome': 11866000000, 'operatingIncomeRatio': 0.1373331944, 'totalOtherIncomeExpensesNet': -807000000, 'incomeBeforeTax': 10705000000, 'incomeBeforeTaxRatio': 0.123896161, 'incomeTaxExpense': 1727000000, 'netIncome': 8910000000, 'netIncomeRatio': 0.1031214194, 'eps': 6.46, 'epsdiluted': 6.42, 'weightedAverageShsOut': 1380000000, 'weightedAverageShsOutDil': 1387000000, 'link': 'https://www.sec.gov/Archives/edgar/data/77476/000007747623000007/0000077476-23-000007-index.htm', 'finalLink': 'https://www.sec.gov/Archives/edgar/data/77476/000007747623000007/pep-20221231.htm'}, {'date': '2021-12-25', 'symbol': 'PEP', 'reportedCurrency': 'USD', 'cik': '0000077476', 'fillingDate': '2022-02-10', 'acceptedDate': '2022-02-09 18:03:39', 'calendarYear': '2021', 'period': 'FY', 'revenue': 79468000000, 'costOfRevenue': 36932000000, 'grossProfit': 42536000000, 'grossProfitRatio': 0.5352594755, 'researchAndDevelopmentExpenses': 752000000, 'generalAndAdministrativeExpenses': 11537000000, 'sellingAndMarketingExpenses': 18800000000, 'sellingGeneralAndAdministrativeExpenses': 30337000000, 'otherExpenses': 522000000, 'operatingExpenses': 31089000000, 'costAndExpenses': 68021000000, 'interestIncome': 0, 'interestExpense': 1863000000, 'depreciationAndAmortization': 2710000000, 'ebitda': 14274000000, 'ebitdaratio': 0.1781471787, 'operatingIncome': 11447000000, 'operatingIncomeRatio': 0.1440454019, 'totalOtherIncomeExpensesNet': -1341000000, 'incomeBeforeTax': 9821000000, 'incomeBeforeTaxRatio': 0.1235843358, 'incomeTaxExpense': 2142000000, 'netIncome': 7618000000, 'netIncomeRatio': 0.0958624855, 'eps': 5.51, 'epsdiluted': 5.48, 'weightedAverageShsOut': 1382000000, 'weightedAverageShsOutDil': 1389000000, 'link': 'https://www.sec.gov/Archives/edgar/data/77476/000007747622000010/0000077476-22-000010-index.htm', 'finalLink': 'https://www.sec.gov/Archives/edgar/data/77476/000007747622000010/pep-20211225.htm'}, {'date': '2020-12-26', 'symbol': 'PEP', 'reportedCurrency': 'USD', 'cik': '0000077476', 'fillingDate': '2021-02-11', 'acceptedDate': '2021-02-10 17:41:49', 'calendarYear': '2020', 'period': 'FY', 'revenue': 70372000000, 'costOfRevenue': 31797000000, 'grossProfit': 38575000000, 'grossProfitRatio': 0.5481583584, 'researchAndDevelopmentExpenses': 719000000, 'generalAndAdministrativeExpenses': 11995000000, 'sellingAndMarketingExpenses': 16500000000, 'sellingGeneralAndAdministrativeExpenses': 28495000000, 'otherExpenses': 117000000, 'operatingExpenses': 28495000000, 'costAndExpenses': 60292000000, 'interestIncome': 0, 'interestExpense': 1128000000, 'depreciationAndAmortization': 2548000000, 'ebitda': 12880000000, 'ebitdaratio': 0.1811089638, 'operatingIncome': 10080000000, 'operatingIncomeRatio': 0.1432387882, 'totalOtherIncomeExpensesNet': -1011000000, 'incomeBeforeTax': 9069000000, 'incomeBeforeTaxRatio': 0.1288722787, 'incomeTaxExpense': 1894000000, 'netIncome': 7120000000, 'netIncomeRatio': 0.1011766043, 'eps': 5.14, 'epsdiluted': 5.11, 'weightedAverageShsOut': 1385000000, 'weightedAverageShsOutDil': 1392000000, 'link': 'https://www.sec.gov/Archives/edgar/data/77476/000007747621000007/0000077476-21-000007-index.htm', 'finalLink': 'https://www.sec.gov/Archives/edgar/data/77476/000007747621000007/pep-20201226.htm'}, {'date': '2019-12-28', 'symbol': 'PEP', 'reportedCurrency': 'USD', 'cik': '0000077476', 'fillingDate': '2020-02-13', 'acceptedDate': '2020-02-13 06:09:23', 'calendarYear': '2019', 'period': 'FY', 'revenue': 67161000000, 'costOfRevenue': 30132000000, 'grossProfit': 37029000000, 'grossProfitRatio': 0.5513467637, 'researchAndDevelopmentExpenses': 711000000, 'generalAndAdministrativeExpenses': 11138000000, 'sellingAndMarketingExpenses': 15600000000, 'sellingGeneralAndAdministrativeExpenses': 26738000000, 'otherExpenses': -44000000, 'operatingExpenses': 26738000000, 'costAndExpenses': 56870000000, 'interestIncome': 200000000, 'interestExpense': 935000000, 'depreciationAndAmortization': 2432000000, 'ebitda': 12936000000, 'ebitdaratio': 0.1917630768, 'operatingIncome': 10291000000, 'operatingIncomeRatio': 0.1532288084, 'totalOtherIncomeExpensesNet': -979000000, 'incomeBeforeTax': 9312000000, 'incomeBeforeTaxRatio': 0.1386518962, 'incomeTaxExpense': 1959000000, 'netIncome': 7314000000, 'netIncomeRatio': 0.1089024881, 'eps': 5.23, 'epsdiluted': 5.2, 'weightedAverageShsOut': 1399000000, 'weightedAverageShsOutDil': 1407000000, 'link': 'https://www.sec.gov/Archives/edgar/data/77476/000007747620000015/0000077476-20-000015-index.htm', 'finalLink': 'https://www.sec.gov/Archives/edgar/data/77476/000007747620000015/pepsico201910-k.htm'}]\n",
      "12936000000.0\n",
      "PG\n",
      "[{'date': '2024-06-30', 'symbol': 'PG', 'reportedCurrency': 'USD', 'cik': '0000080424', 'fillingDate': '2024-08-05', 'acceptedDate': '2024-08-05 16:16:53', 'calendarYear': '2024', 'period': 'FY', 'revenue': 84039000000, 'costOfRevenue': 40600000000, 'grossProfit': 43439000000, 'grossProfitRatio': 0.5168909673, 'researchAndDevelopmentExpenses': 2000000000, 'generalAndAdministrativeExpenses': 12891000000, 'sellingAndMarketingExpenses': 9600000000, 'sellingGeneralAndAdministrativeExpenses': 23305000000, 'otherExpenses': 0, 'operatingExpenses': 24894000000, 'costAndExpenses': 65494000000, 'interestIncome': 473000000, 'interestExpense': 925000000, 'depreciationAndAmortization': 2896000000, 'ebitda': 22702000000, 'ebitdaratio': 0.2701364843, 'operatingIncome': 18545000000, 'operatingIncomeRatio': 0.220671355, 'totalOtherIncomeExpensesNet': 216000000, 'incomeBeforeTax': 18761000000, 'incomeBeforeTaxRatio': 0.2232415902, 'incomeTaxExpense': 3787000000, 'netIncome': 14879000000, 'netIncomeRatio': 0.1770487512, 'eps': 6.3, 'epsdiluted': 6.02, 'weightedAverageShsOut': 2360100000, 'weightedAverageShsOutDil': 2471900000, 'link': 'https://www.sec.gov/Archives/edgar/data/80424/000008042424000083/0000080424-24-000083-index.htm', 'finalLink': 'https://www.sec.gov/Archives/edgar/data/80424/000008042424000083/pg-20240630.htm'}, {'date': '2023-06-30', 'symbol': 'PG', 'reportedCurrency': 'USD', 'cik': '0000080424', 'fillingDate': '2023-08-04', 'acceptedDate': '2023-08-04 16:16:13', 'calendarYear': '2023', 'period': 'FY', 'revenue': 82006000000, 'costOfRevenue': 42760000000, 'grossProfit': 39246000000, 'grossProfitRatio': 0.4785747384, 'researchAndDevelopmentExpenses': 2000000000, 'generalAndAdministrativeExpenses': 13112000000, 'sellingAndMarketingExpenses': 8000000000, 'sellingGeneralAndAdministrativeExpenses': 21112000000, 'otherExpenses': 668000000, 'operatingExpenses': 21112000000, 'costAndExpenses': 63872000000, 'interestIncome': 307000000, 'interestExpense': 756000000, 'depreciationAndAmortization': 2714000000, 'ebitda': 21771000000, 'ebitdaratio': 0.2661146745, 'operatingIncome': 18134000000, 'operatingIncomeRatio': 0.2211301612, 'totalOtherIncomeExpensesNet': 219000000, 'incomeBeforeTax': 18353000000, 'incomeBeforeTaxRatio': 0.2238006975, 'incomeTaxExpense': 3615000000, 'netIncome': 14653000000, 'netIncomeRatio': 0.1786820477, 'eps': 6.07, 'epsdiluted': 5.9, 'weightedAverageShsOut': 2368200000, 'weightedAverageShsOutDil': 2483900000, 'link': 'https://www.sec.gov/Archives/edgar/data/80424/000008042423000073/0000080424-23-000073-index.htm', 'finalLink': 'https://www.sec.gov/Archives/edgar/data/80424/000008042423000073/pg-20230630.htm'}, {'date': '2022-06-30', 'symbol': 'PG', 'reportedCurrency': 'USD', 'cik': '0000080424', 'fillingDate': '2022-08-05', 'acceptedDate': '2022-08-05 16:21:50', 'calendarYear': '2022', 'period': 'FY', 'revenue': 80187000000, 'costOfRevenue': 42157000000, 'grossProfit': 38030000000, 'grossProfitRatio': 0.4742664023, 'researchAndDevelopmentExpenses': 2000000000, 'generalAndAdministrativeExpenses': 12317000000, 'sellingAndMarketingExpenses': 7900000000, 'sellingGeneralAndAdministrativeExpenses': 20217000000, 'otherExpenses': 570000000, 'operatingExpenses': 20217000000, 'costAndExpenses': 62374000000, 'interestIncome': 51000000, 'interestExpense': 439000000, 'depreciationAndAmortization': 2807000000, 'ebitda': 21241000000, 'ebitdaratio': 0.2648933119, 'operatingIncome': 17813000000, 'operatingIncomeRatio': 0.2221432402, 'totalOtherIncomeExpensesNet': 182000000, 'incomeBeforeTax': 17995000000, 'incomeBeforeTaxRatio': 0.2244129348, 'incomeTaxExpense': 3202000000, 'netIncome': 14742000000, 'netIncomeRatio': 0.1838452617, 'eps': 6, 'epsdiluted': 5.81, 'weightedAverageShsOut': 2410300000, 'weightedAverageShsOutDil': 2539100000, 'link': 'https://www.sec.gov/Archives/edgar/data/80424/000008042422000064/0000080424-22-000064-index.htm', 'finalLink': 'https://www.sec.gov/Archives/edgar/data/80424/000008042422000064/pg-20220630.htm'}, {'date': '2021-06-30', 'symbol': 'PG', 'reportedCurrency': 'USD', 'cik': '0000080424', 'fillingDate': '2021-08-06', 'acceptedDate': '2021-08-06 16:19:59', 'calendarYear': '2021', 'period': 'FY', 'revenue': 76118000000, 'costOfRevenue': 37108000000, 'grossProfit': 39010000000, 'grossProfitRatio': 0.5124937597, 'researchAndDevelopmentExpenses': 1900000000, 'generalAndAdministrativeExpenses': 12824000000, 'sellingAndMarketingExpenses': 8200000000, 'sellingGeneralAndAdministrativeExpenses': 21024000000, 'otherExpenses': 86000000, 'operatingExpenses': 21024000000, 'costAndExpenses': 58132000000, 'interestIncome': 45000000, 'interestExpense': 502000000, 'depreciationAndAmortization': 2735000000, 'ebitda': 20852000000, 'ebitdaratio': 0.2739430884, 'operatingIncome': 17986000000, 'operatingIncomeRatio': 0.2362910218, 'totalOtherIncomeExpensesNet': -371000000, 'incomeBeforeTax': 17615000000, 'incomeBeforeTaxRatio': 0.2314170104, 'incomeTaxExpense': 3263000000, 'netIncome': 14306000000, 'netIncomeRatio': 0.1879450327, 'eps': 5.69, 'epsdiluted': 5.5, 'weightedAverageShsOut': 2465800000, 'weightedAverageShsOutDil': 2601000000, 'link': 'https://www.sec.gov/Archives/edgar/data/80424/000008042421000100/0000080424-21-000100-index.htm', 'finalLink': 'https://www.sec.gov/Archives/edgar/data/80424/000008042421000100/pg-20210630.htm'}, {'date': '2020-06-30', 'symbol': 'PG', 'reportedCurrency': 'USD', 'cik': '0000080424', 'fillingDate': '2020-08-06', 'acceptedDate': '2020-08-06 16:17:03', 'calendarYear': '2020', 'period': 'FY', 'revenue': 70950000000, 'costOfRevenue': 35250000000, 'grossProfit': 35700000000, 'grossProfitRatio': 0.5031712474, 'researchAndDevelopmentExpenses': 1800000000, 'generalAndAdministrativeExpenses': 12694000000, 'sellingAndMarketingExpenses': 7300000000, 'sellingGeneralAndAdministrativeExpenses': 19994000000, 'otherExpenses': 438000000, 'operatingExpenses': 19994000000, 'costAndExpenses': 55244000000, 'interestIncome': 155000000, 'interestExpense': 465000000, 'depreciationAndAmortization': 3013000000, 'ebitda': 19312000000, 'ebitdaratio': 0.2721916843, 'operatingIncome': 15706000000, 'operatingIncomeRatio': 0.22136716, 'totalOtherIncomeExpensesNet': 128000000, 'incomeBeforeTax': 15834000000, 'incomeBeforeTaxRatio': 0.2231712474, 'incomeTaxExpense': 2731000000, 'netIncome': 13027000000, 'netIncomeRatio': 0.1836081748, 'eps': 5.13, 'epsdiluted': 4.96, 'weightedAverageShsOut': 2487100000, 'weightedAverageShsOutDil': 2625800000, 'link': 'https://www.sec.gov/Archives/edgar/data/80424/000008042420000053/0000080424-20-000053-index.htm', 'finalLink': 'https://www.sec.gov/Archives/edgar/data/80424/000008042420000053/pg-20200630.htm'}]\n",
      "19312000000.0\n",
      "KO\n",
      "[{'date': '2023-12-31', 'symbol': 'KO', 'reportedCurrency': 'USD', 'cik': '0000021344', 'fillingDate': '2024-02-20', 'acceptedDate': '2024-02-20 13:21:24', 'calendarYear': '2023', 'period': 'FY', 'revenue': 45754000000, 'costOfRevenue': 18520000000, 'grossProfit': 27234000000, 'grossProfitRatio': 0.5952266469, 'researchAndDevelopmentExpenses': 0, 'generalAndAdministrativeExpenses': 254000000, 'sellingAndMarketingExpenses': 7609000000, 'sellingGeneralAndAdministrativeExpenses': 7863000000, 'otherExpenses': 8060000000, 'operatingExpenses': 15928000000, 'costAndExpenses': 34377000000, 'interestIncome': 907000000, 'interestExpense': 1527000000, 'depreciationAndAmortization': 1128000000, 'ebitda': 15621000000, 'ebitdaratio': 0.3414127727, 'operatingIncome': 11311000000, 'operatingIncomeRatio': 0.2472133584, 'totalOtherIncomeExpensesNet': 1641000000, 'incomeBeforeTax': 12952000000, 'incomeBeforeTaxRatio': 0.2830790751, 'incomeTaxExpense': 2249000000, 'netIncome': 10714000000, 'netIncomeRatio': 0.2341653189, 'eps': 2.48, 'epsdiluted': 2.47, 'weightedAverageShsOut': 4323000000, 'weightedAverageShsOutDil': 4339000000, 'link': 'https://www.sec.gov/Archives/edgar/data/21344/000002134424000009/0000021344-24-000009-index.htm', 'finalLink': 'https://www.sec.gov/Archives/edgar/data/21344/000002134424000009/ko-20231231.htm'}, {'date': '2022-12-31', 'symbol': 'KO', 'reportedCurrency': 'USD', 'cik': '0000021344', 'fillingDate': '2023-02-21', 'acceptedDate': '2023-02-21 16:03:20', 'calendarYear': '2022', 'period': 'FY', 'revenue': 43004000000, 'costOfRevenue': 18000000000, 'grossProfit': 25004000000, 'grossProfitRatio': 0.5814342852, 'researchAndDevelopmentExpenses': 0, 'generalAndAdministrativeExpenses': 356000000, 'sellingAndMarketingExpenses': 7086000000, 'sellingGeneralAndAdministrativeExpenses': 12880000000, 'otherExpenses': 1215000000, 'operatingExpenses': 14095000000, 'costAndExpenses': 32095000000, 'interestIncome': 449000000, 'interestExpense': 882000000, 'depreciationAndAmortization': 1260000000, 'ebitda': 13807000000, 'ebitdaratio': 0.3215514836, 'operatingIncome': 10909000000, 'operatingIncomeRatio': 0.2536740768, 'totalOtherIncomeExpensesNet': 777000000, 'incomeBeforeTax': 11686000000, 'incomeBeforeTaxRatio': 0.2717421635, 'incomeTaxExpense': 2115000000, 'netIncome': 9542000000, 'netIncomeRatio': 0.2218863362, 'eps': 2.2, 'epsdiluted': 2.19, 'weightedAverageShsOut': 4328000000, 'weightedAverageShsOutDil': 4350000000, 'link': 'https://www.sec.gov/Archives/edgar/data/21344/000002134423000011/0000021344-23-000011-index.htm', 'finalLink': 'https://www.sec.gov/Archives/edgar/data/21344/000002134423000011/ko-20221231.htm'}, {'date': '2021-12-31', 'symbol': 'KO', 'reportedCurrency': 'USD', 'cik': '0000021344', 'fillingDate': '2022-02-22', 'acceptedDate': '2022-02-22 15:45:48', 'calendarYear': '2021', 'period': 'FY', 'revenue': 38655000000, 'costOfRevenue': 15357000000, 'grossProfit': 23298000000, 'grossProfitRatio': 0.6027163368, 'researchAndDevelopmentExpenses': 0, 'generalAndAdministrativeExpenses': 337000000, 'sellingAndMarketingExpenses': 6672000000, 'sellingGeneralAndAdministrativeExpenses': 12144000000, 'otherExpenses': 846000000, 'operatingExpenses': 12990000000, 'costAndExpenses': 28347000000, 'interestIncome': 276000000, 'interestExpense': 1597000000, 'depreciationAndAmortization': 1452000000, 'ebitda': 14537000000, 'ebitdaratio': 0.4192213168, 'operatingIncome': 10308000000, 'operatingIncomeRatio': 0.2666666667, 'totalOtherIncomeExpensesNet': 2117000000, 'incomeBeforeTax': 12425000000, 'incomeBeforeTaxRatio': 0.321433191, 'incomeTaxExpense': 2621000000, 'netIncome': 9771000000, 'netIncomeRatio': 0.252774544, 'eps': 2.26, 'epsdiluted': 2.25, 'weightedAverageShsOut': 4315000000, 'weightedAverageShsOutDil': 4340000000, 'link': 'https://www.sec.gov/Archives/edgar/data/21344/000002134422000009/0000021344-22-000009-index.htm', 'finalLink': 'https://www.sec.gov/Archives/edgar/data/21344/000002134422000009/ko-20211231.htm'}, {'date': '2020-12-31', 'symbol': 'KO', 'reportedCurrency': 'USD', 'cik': '0000021344', 'fillingDate': '2021-02-25', 'acceptedDate': '2021-02-25 13:47:17', 'calendarYear': '2020', 'period': 'FY', 'revenue': 33014000000, 'costOfRevenue': 13433000000, 'grossProfit': 19581000000, 'grossProfitRatio': 0.5931120131, 'researchAndDevelopmentExpenses': 0, 'generalAndAdministrativeExpenses': 126000000, 'sellingAndMarketingExpenses': 5415000000, 'sellingGeneralAndAdministrativeExpenses': 9731000000, 'otherExpenses': 853000000, 'operatingExpenses': 10584000000, 'costAndExpenses': 24017000000, 'interestIncome': 370000000, 'interestExpense': 1437000000, 'depreciationAndAmortization': 1536000000, 'ebitda': 12659000000, 'ebitdaratio': 0.385351669, 'operatingIncome': 8997000000, 'operatingIncomeRatio': 0.2725207488, 'totalOtherIncomeExpensesNet': 752000000, 'incomeBeforeTax': 9749000000, 'incomeBeforeTaxRatio': 0.2952989641, 'incomeTaxExpense': 1981000000, 'netIncome': 7747000000, 'netIncomeRatio': 0.2346580239, 'eps': 1.8, 'epsdiluted': 1.79, 'weightedAverageShsOut': 4295000000, 'weightedAverageShsOutDil': 4323000000, 'link': 'https://www.sec.gov/Archives/edgar/data/21344/000002134421000008/0000021344-21-000008-index.htm', 'finalLink': 'https://www.sec.gov/Archives/edgar/data/21344/000002134421000008/ko-20201231.htm'}, {'date': '2019-12-31', 'symbol': 'KO', 'reportedCurrency': 'USD', 'cik': '0000021344', 'fillingDate': '2020-02-24', 'acceptedDate': '2020-02-24 16:08:17', 'calendarYear': '2019', 'period': 'FY', 'revenue': 37266000000, 'costOfRevenue': 14619000000, 'grossProfit': 22647000000, 'grossProfitRatio': 0.6077121237, 'researchAndDevelopmentExpenses': 0, 'generalAndAdministrativeExpenses': 201000000, 'sellingAndMarketingExpenses': 7119000000, 'sellingGeneralAndAdministrativeExpenses': 12103000000, 'otherExpenses': 458000000, 'operatingExpenses': 12561000000, 'costAndExpenses': 27180000000, 'interestIncome': 563000000, 'interestExpense': 946000000, 'depreciationAndAmortization': 1365000000, 'ebitda': 13045000000, 'ebitdaratio': 0.3514463586, 'operatingIncome': 10086000000, 'operatingIncomeRatio': 0.2706488488, 'totalOtherIncomeExpensesNet': 700000000, 'incomeBeforeTax': 10786000000, 'incomeBeforeTaxRatio': 0.2894327269, 'incomeTaxExpense': 1801000000, 'netIncome': 8920000000, 'netIncomeRatio': 0.2393602748, 'eps': 2.09, 'epsdiluted': 2.07, 'weightedAverageShsOut': 4276000000, 'weightedAverageShsOutDil': 4314000000, 'link': 'https://www.sec.gov/Archives/edgar/data/21344/000002134420000006/0000021344-20-000006-index.htm', 'finalLink': 'https://www.sec.gov/Archives/edgar/data/21344/000002134420000006/a2019123110-k.htm'}]\n",
      "13045000000.0\n",
      "GET DATA COMPLETED\n",
      "ANALUYSIS COMPLETED\n",
      "IBDRY\n",
      "[{'date': '2023-12-31', 'symbol': 'IBDRY', 'reportedCurrency': 'EUR', 'cik': '0000000000', 'fillingDate': '2023-12-31', 'acceptedDate': '2023-12-30 19:00:00', 'calendarYear': '2023', 'period': 'FY', 'revenue': 49335000000, 'costOfRevenue': 26033000000, 'grossProfit': 23302000000, 'grossProfitRatio': 0.472321881, 'researchAndDevelopmentExpenses': 363000000, 'generalAndAdministrativeExpenses': 4000000000, 'sellingAndMarketingExpenses': 0, 'sellingGeneralAndAdministrativeExpenses': 4000000000, 'otherExpenses': 9966000000, 'operatingExpenses': 14329000000, 'costAndExpenses': 40362000000, 'interestIncome': 60000000, 'interestExpense': 2071000000, 'depreciationAndAmortization': 5810000000, 'ebitda': 14906000000, 'ebitdaratio': 0.3021384413, 'operatingIncome': 8973000000, 'operatingIncomeRatio': 0.1818789906, 'totalOtherIncomeExpensesNet': -1948000000, 'incomeBeforeTax': 7025000000, 'incomeBeforeTaxRatio': 0.142393838, 'incomeTaxExpense': 1610000000, 'netIncome': 4803000000, 'netIncomeRatio': 0.0973548191, 'eps': 0.72, 'epsdiluted': 0.74, 'weightedAverageShsOut': 6698744769, 'weightedAverageShsOutDil': 6448090485, 'link': None, 'finalLink': None}, {'date': '2022-12-31', 'symbol': 'IBDRY', 'reportedCurrency': 'EUR', 'cik': '0000000000', 'fillingDate': '2022-12-31', 'acceptedDate': '2022-12-31 00:00:00', 'calendarYear': '2022', 'period': 'FY', 'revenue': 53949000000, 'costOfRevenue': 33750000000, 'grossProfit': 20199000000, 'grossProfitRatio': 0.3744091642, 'researchAndDevelopmentExpenses': 363000000, 'generalAndAdministrativeExpenses': 3602000000, 'sellingAndMarketingExpenses': 0, 'sellingGeneralAndAdministrativeExpenses': 3602000000, 'otherExpenses': -858000000, 'operatingExpenses': 11742000000, 'costAndExpenses': 45492000000, 'interestIncome': 442000000, 'interestExpense': 1699000000, 'depreciationAndAmortization': 4716000000, 'ebitda': 13482000000, 'ebitdaratio': 0.2631003355, 'operatingIncome': 7984000000, 'operatingIncomeRatio': 0.1479916217, 'totalOtherIncomeExpensesNet': -1692000000, 'incomeBeforeTax': 6292000000, 'incomeBeforeTaxRatio': 0.1166286678, 'incomeTaxExpense': 1161000000, 'netIncome': 4339000000, 'netIncomeRatio': 0.0804278115, 'eps': 2.74, 'epsdiluted': 2.73, 'weightedAverageShsOut': 1664448137, 'weightedAverageShsOutDil': 1668025280, 'link': None, 'finalLink': None}, {'date': '2021-12-31', 'symbol': 'IBDRY', 'reportedCurrency': 'EUR', 'cik': '0000000000', 'fillingDate': '2021-12-31', 'acceptedDate': '2021-12-31 00:00:00', 'calendarYear': '2021', 'period': 'FY', 'revenue': 39114000000, 'costOfRevenue': 22052000000, 'grossProfit': 17062000000, 'grossProfitRatio': 0.436212098, 'researchAndDevelopmentExpenses': 337000000, 'generalAndAdministrativeExpenses': 2936000000, 'sellingAndMarketingExpenses': 0, 'sellingGeneralAndAdministrativeExpenses': 2936000000, 'otherExpenses': 169000000, 'operatingExpenses': 9322000000, 'costAndExpenses': 31374000000, 'interestIncome': 209000000, 'interestExpense': 1127000000, 'depreciationAndAmortization': 4212000000, 'ebitda': 12516000000, 'ebitdaratio': 0.3267883622, 'operatingIncome': 7343000000, 'operatingIncomeRatio': 0.1877332924, 'totalOtherIncomeExpensesNet': -1042000000, 'incomeBeforeTax': 6301000000, 'incomeBeforeTaxRatio': 0.1610932147, 'incomeTaxExpense': 1914000000, 'netIncome': 3885000000, 'netIncomeRatio': 0.0993250499, 'eps': 2.85, 'epsdiluted': 2.85, 'weightedAverageShsOut': 1609883024, 'weightedAverageShsOutDil': 1613093326, 'link': None, 'finalLink': None}, {'date': '2020-12-31', 'symbol': 'IBDRY', 'reportedCurrency': 'EUR', 'cik': '0000000000', 'fillingDate': '2020-12-31', 'acceptedDate': '2020-12-31 00:00:00', 'calendarYear': '2020', 'period': 'FY', 'revenue': 33145000000, 'costOfRevenue': 17000000000, 'grossProfit': 16145000000, 'grossProfitRatio': 0.487102127, 'researchAndDevelopmentExpenses': 293000000, 'generalAndAdministrativeExpenses': 2841000000, 'sellingAndMarketingExpenses': 0, 'sellingGeneralAndAdministrativeExpenses': 2841000000, 'otherExpenses': -1138000000, 'operatingExpenses': 10175000000, 'costAndExpenses': 27175000000, 'interestIncome': 140000000, 'interestExpense': 983000000, 'depreciationAndAmortization': 4001000000, 'ebitda': 10687000000, 'ebitdaratio': 0.3183888973, 'operatingIncome': 5536000000, 'operatingIncomeRatio': 0.1670236838, 'totalOtherIncomeExpensesNet': -511000000, 'incomeBeforeTax': 5053000000, 'incomeBeforeTaxRatio': 0.1524513501, 'incomeTaxExpense': 1083000000, 'netIncome': 3611000000, 'netIncomeRatio': 0.1089455423, 'eps': 2.56, 'epsdiluted': 2.55, 'weightedAverageShsOut': 1609276092, 'weightedAverageShsOutDil': 1612052155, 'link': None, 'finalLink': None}, {'date': '2019-12-31', 'symbol': 'IBDRY', 'reportedCurrency': 'EUR', 'cik': '0000000000', 'fillingDate': '2019-12-31', 'acceptedDate': '2019-12-31 00:00:00', 'calendarYear': '2019', 'period': 'FY', 'revenue': 36437908000, 'costOfRevenue': 20174529000, 'grossProfit': 16263379000, 'grossProfitRatio': 0.4463313042, 'researchAndDevelopmentExpenses': 280000000, 'generalAndAdministrativeExpenses': 2842958000, 'sellingAndMarketingExpenses': 0, 'sellingGeneralAndAdministrativeExpenses': 2842958000, 'otherExpenses': -1168000000, 'operatingExpenses': 10108867000, 'costAndExpenses': 30283396000, 'interestIncome': 131558000, 'interestExpense': 1044544000, 'depreciationAndAmortization': 3909000000, 'ebitda': 10365000000, 'ebitdaratio': 0.2898510529, 'operatingIncome': 5877221000, 'operatingIncomeRatio': 0.1612941391, 'totalOtherIncomeExpensesNet': -1083000000, 'incomeBeforeTax': 4793927000, 'incomeBeforeTaxRatio': 0.1315642764, 'incomeTaxExpense': 914016000, 'netIncome': 3466000000, 'netIncomeRatio': 0.0951207188, 'eps': 2.33, 'epsdiluted': 2.32, 'weightedAverageShsOut': 1668541565, 'weightedAverageShsOutDil': 1672931038, 'link': None, 'finalLink': None}]\n",
      "10365000000.0\n",
      "NEE\n",
      "[{'date': '2023-12-31', 'symbol': 'NEE', 'reportedCurrency': 'USD', 'cik': '0000753308', 'fillingDate': '2024-02-16', 'acceptedDate': '2024-02-16 17:17:00', 'calendarYear': '2023', 'period': 'FY', 'revenue': 28114000000, 'costOfRevenue': 10138000000, 'grossProfit': 17976000000, 'grossProfitRatio': 0.6393967418, 'researchAndDevelopmentExpenses': 0, 'generalAndAdministrativeExpenses': 0, 'sellingAndMarketingExpenses': 0, 'sellingGeneralAndAdministrativeExpenses': -375000000, 'otherExpenses': 7739000000, 'operatingExpenses': 7364000000, 'costAndExpenses': 17877000000, 'interestIncome': 0, 'interestExpense': 3324000000, 'depreciationAndAmortization': 6151000000, 'ebitda': 16472000000, 'ebitdaratio': 0.5859002632, 'operatingIncome': 10237000000, 'operatingIncomeRatio': 0.3641246354, 'totalOtherIncomeExpensesNet': -2949000000, 'incomeBeforeTax': 7288000000, 'incomeBeforeTaxRatio': 0.2592302767, 'incomeTaxExpense': 1006000000, 'netIncome': 7310000000, 'netIncomeRatio': 0.260012805, 'eps': 3.61, 'epsdiluted': 3.6, 'weightedAverageShsOut': 2026100000, 'weightedAverageShsOutDil': 2030800000, 'link': 'https://www.sec.gov/Archives/edgar/data/753308/000075330824000008/0000753308-24-000008-index.htm', 'finalLink': 'https://www.sec.gov/Archives/edgar/data/37634/000075330824000008/nee-20231231.htm'}, {'date': '2022-12-31', 'symbol': 'NEE', 'reportedCurrency': 'USD', 'cik': '0000753308', 'fillingDate': '2023-02-17', 'acceptedDate': '2023-02-17 16:25:38', 'calendarYear': '2022', 'period': 'FY', 'revenue': 20956000000, 'costOfRevenue': 10817000000, 'grossProfit': 10139000000, 'grossProfitRatio': 0.4838232487, 'researchAndDevelopmentExpenses': 0, 'generalAndAdministrativeExpenses': 0, 'sellingAndMarketingExpenses': 0, 'sellingGeneralAndAdministrativeExpenses': 202000000, 'otherExpenses': 6580000000, 'operatingExpenses': 6580000000, 'costAndExpenses': 17397000000, 'interestIncome': 585000000, 'interestExpense': 585000000, 'depreciationAndAmortization': 4790000000, 'ebitda': 10359000000, 'ebitdaratio': 0.4272761977, 'operatingIncome': 4081000000, 'operatingIncomeRatio': 0.1947413629, 'totalOtherIncomeExpensesNet': -249000000, 'incomeBeforeTax': 3832000000, 'incomeBeforeTaxRatio': 0.1828593243, 'incomeTaxExpense': 586000000, 'netIncome': 3246000000, 'netIncomeRatio': 0.1548959725, 'eps': 1.65, 'epsdiluted': 1.64, 'weightedAverageShsOut': 1972600000, 'weightedAverageShsOutDil': 1978600000, 'link': 'https://www.sec.gov/Archives/edgar/data/753308/000075330823000019/0000753308-23-000019-index.htm', 'finalLink': 'https://www.sec.gov/Archives/edgar/data/37634/000075330823000019/nee-20221231.htm'}, {'date': '2021-12-31', 'symbol': 'NEE', 'reportedCurrency': 'USD', 'cik': '0000753308', 'fillingDate': '2022-02-18', 'acceptedDate': '2022-02-18 06:28:58', 'calendarYear': '2021', 'period': 'FY', 'revenue': 17069000000, 'costOfRevenue': 8480000000, 'grossProfit': 8589000000, 'grossProfitRatio': 0.5031929228, 'researchAndDevelopmentExpenses': 0, 'generalAndAdministrativeExpenses': 0, 'sellingAndMarketingExpenses': 0, 'sellingGeneralAndAdministrativeExpenses': 257000000, 'otherExpenses': 5725000000, 'operatingExpenses': 5725000000, 'costAndExpenses': 14205000000, 'interestIncome': 1270000000, 'interestExpense': 1270000000, 'depreciationAndAmortization': 4214000000, 'ebitda': 8824000000, 'ebitdaratio': 0.4746030816, 'operatingIncome': 3889000000, 'operatingIncomeRatio': 0.2278399438, 'totalOtherIncomeExpensesNet': 262000000, 'incomeBeforeTax': 3175000000, 'incomeBeforeTaxRatio': 0.1860097252, 'incomeTaxExpense': 348000000, 'netIncome': 2827000000, 'netIncomeRatio': 0.1656218876, 'eps': 1.44, 'epsdiluted': 1.43, 'weightedAverageShsOut': 1962500000, 'weightedAverageShsOutDil': 1972200000, 'link': 'https://www.sec.gov/Archives/edgar/data/753308/000075330822000014/0000753308-22-000014-index.htm', 'finalLink': 'https://www.sec.gov/Archives/edgar/data/37634/000075330822000014/nee-20211231.htm'}, {'date': '2020-12-31', 'symbol': 'NEE', 'reportedCurrency': 'USD', 'cik': '0000753308', 'fillingDate': '2021-02-12', 'acceptedDate': '2021-02-12 16:07:50', 'calendarYear': '2020', 'period': 'FY', 'revenue': 17997000000, 'costOfRevenue': 7290000000, 'grossProfit': 10707000000, 'grossProfitRatio': 0.5949324887, 'researchAndDevelopmentExpenses': 0, 'generalAndAdministrativeExpenses': 0, 'sellingAndMarketingExpenses': 0, 'sellingGeneralAndAdministrativeExpenses': 200000000, 'otherExpenses': 5761000000, 'operatingExpenses': 5761000000, 'costAndExpenses': 13051000000, 'interestIncome': 38000000, 'interestExpense': 1950000000, 'depreciationAndAmortization': 4315000000, 'ebitda': 8227000000, 'ebitdaratio': 0.4455742624, 'operatingIncome': 3704000000, 'operatingIncomeRatio': 0.2058120798, 'totalOtherIncomeExpensesNet': -1291000000, 'incomeBeforeTax': 2413000000, 'incomeBeforeTaxRatio': 0.1340779019, 'incomeTaxExpense': 44000000, 'netIncome': 2919000000, 'netIncomeRatio': 0.1621936989, 'eps': 1.49, 'epsdiluted': 1.48, 'weightedAverageShsOut': 1959000000, 'weightedAverageShsOutDil': 1968800000, 'link': 'https://www.sec.gov/Archives/edgar/data/753308/000075330821000014/0000753308-21-000014-index.htm', 'finalLink': 'https://www.sec.gov/Archives/edgar/data/37634/000075330821000014/nee-20201231.htm'}, {'date': '2019-12-31', 'symbol': 'NEE', 'reportedCurrency': 'USD', 'cik': '0000753308', 'fillingDate': '2020-02-14', 'acceptedDate': '2020-02-14 15:24:19', 'calendarYear': '2019', 'period': 'FY', 'revenue': 19204000000, 'costOfRevenue': 8003000000, 'grossProfit': 11201000000, 'grossProfitRatio': 0.5832639034, 'researchAndDevelopmentExpenses': 0, 'generalAndAdministrativeExpenses': 0, 'sellingAndMarketingExpenses': 0, 'sellingGeneralAndAdministrativeExpenses': 185000000, 'otherExpenses': 5913000000, 'operatingExpenses': 5913000000, 'costAndExpenses': 13916000000, 'interestIncome': 54000000, 'interestExpense': 2249000000, 'depreciationAndAmortization': 4478000000, 'ebitda': 9821000000, 'ebitdaratio': 0.5157258904, 'operatingIncome': 5353000000, 'operatingIncomeRatio': 0.2787440117, 'totalOtherIncomeExpensesNet': -1517000000, 'incomeBeforeTax': 3836000000, 'incomeBeforeTaxRatio': 0.1997500521, 'incomeTaxExpense': 448000000, 'netIncome': 3769000000, 'netIncomeRatio': 0.1962611956, 'eps': 1.95, 'epsdiluted': 1.94, 'weightedAverageShsOut': 1928000000, 'weightedAverageShsOutDil': 1942000000, 'link': 'https://www.sec.gov/Archives/edgar/data/37634/000075330820000021/0000753308-20-000021-index.html', 'finalLink': 'https://www.sec.gov/Archives/edgar/data/37634/000075330820000021/nee-12312019x10k.htm'}]\n",
      "9821000000.0\n",
      "SO\n",
      "[{'date': '2023-12-31', 'symbol': 'SO', 'reportedCurrency': 'USD', 'cik': '0000092122', 'fillingDate': '2023-12-31', 'acceptedDate': '2023-12-30 19:00:00', 'calendarYear': '2023', 'period': 'FY', 'revenue': 25253000000, 'costOfRevenue': 13545000000, 'grossProfit': 11708000000, 'grossProfitRatio': 0.4636280838, 'researchAndDevelopmentExpenses': 0, 'generalAndAdministrativeExpenses': 0, 'sellingAndMarketingExpenses': 0, 'sellingGeneralAndAdministrativeExpenses': 595000000, 'otherExpenses': 5287000000, 'operatingExpenses': 5882000000, 'costAndExpenses': 19427000000, 'interestIncome': 0, 'interestExpense': 2446000000, 'depreciationAndAmortization': 4963000000, 'ebitda': 11745000000, 'ebitdaratio': 0.4650932562, 'operatingIncome': 5826000000, 'operatingIncomeRatio': 0.2307052627, 'totalOtherIncomeExpensesNet': -1481000000, 'incomeBeforeTax': 4345000000, 'incomeBeforeTaxRatio': 0.1720587653, 'incomeTaxExpense': 496000000, 'netIncome': 3976000000, 'netIncomeRatio': 0.15744664, 'eps': 3.64, 'epsdiluted': 3.62, 'weightedAverageShsOut': 1092000000, 'weightedAverageShsOutDil': 1098000000, 'link': None, 'finalLink': None}, {'date': '2022-12-31', 'symbol': 'SO', 'reportedCurrency': 'USD', 'cik': '0000092122', 'fillingDate': '2023-02-16', 'acceptedDate': '2023-02-15 17:59:03', 'calendarYear': '2022', 'period': 'FY', 'revenue': 29279000000, 'costOfRevenue': 18458000000, 'grossProfit': 10821000000, 'grossProfitRatio': 0.3695822945, 'researchAndDevelopmentExpenses': 0, 'generalAndAdministrativeExpenses': 0, 'sellingAndMarketingExpenses': 0, 'sellingGeneralAndAdministrativeExpenses': 656000000, 'otherExpenses': 5257000000, 'operatingExpenses': 5257000000, 'costAndExpenses': 23715000000, 'interestIncome': 2033000000, 'interestExpense': 2022000000, 'depreciationAndAmortization': 4059000000, 'ebitda': 9969000000, 'ebitdaratio': 0.3373749103, 'operatingIncome': 5370000000, 'operatingIncomeRatio': 0.1834079033, 'totalOtherIncomeExpensesNet': -1147000000, 'incomeBeforeTax': 4223000000, 'incomeBeforeTaxRatio': 0.1442330681, 'incomeTaxExpense': 795000000, 'netIncome': 3535000000, 'netIncomeRatio': 0.1207349978, 'eps': 3.28, 'epsdiluted': 3.26, 'weightedAverageShsOut': 1075000000, 'weightedAverageShsOutDil': 1081000000, 'link': 'https://www.sec.gov/Archives/edgar/data/92122/000009212223000012/0000092122-23-000012-index.htm', 'finalLink': 'https://www.sec.gov/Archives/edgar/data/3153/000009212223000012/so-20221231.htm'}, {'date': '2021-12-31', 'symbol': 'SO', 'reportedCurrency': 'USD', 'cik': '0000092122', 'fillingDate': '2022-02-17', 'acceptedDate': '2022-02-16 17:44:30', 'calendarYear': '2021', 'period': 'FY', 'revenue': 23113000000, 'costOfRevenue': 13052000000, 'grossProfit': 10061000000, 'grossProfitRatio': 0.4352961537, 'researchAndDevelopmentExpenses': 0, 'generalAndAdministrativeExpenses': 0, 'sellingAndMarketingExpenses': 0, 'sellingGeneralAndAdministrativeExpenses': 569000000, 'otherExpenses': 6547000000, 'operatingExpenses': 6547000000, 'costAndExpenses': 19599000000, 'interestIncome': 1852000000, 'interestExpense': 1837000000, 'depreciationAndAmortization': 3982000000, 'ebitda': 8314000000, 'ebitdaratio': 0.3292952018, 'operatingIncome': 3698000000, 'operatingIncomeRatio': 0.1599965387, 'totalOtherIncomeExpensesNet': -1122000000, 'incomeBeforeTax': 2576000000, 'incomeBeforeTaxRatio': 0.1114524294, 'incomeTaxExpense': 267000000, 'netIncome': 2408000000, 'netIncomeRatio': 0.1041837927, 'eps': 2.26, 'epsdiluted': 2.24, 'weightedAverageShsOut': 1061000000, 'weightedAverageShsOutDil': 1068000000, 'link': 'https://www.sec.gov/Archives/edgar/data/92122/000009212222000003/0000092122-22-000003-index.htm', 'finalLink': 'https://www.sec.gov/Archives/edgar/data/3153/000009212222000003/so-20211231.htm'}, {'date': '2020-12-31', 'symbol': 'SO', 'reportedCurrency': 'USD', 'cik': '0000092122', 'fillingDate': '2021-02-18', 'acceptedDate': '2021-02-17 17:48:11', 'calendarYear': '2020', 'period': 'FY', 'revenue': 20375000000, 'costOfRevenue': 10478000000, 'grossProfit': 9897000000, 'grossProfitRatio': 0.4857423313, 'researchAndDevelopmentExpenses': 0, 'generalAndAdministrativeExpenses': 0, 'sellingAndMarketingExpenses': 0, 'sellingGeneralAndAdministrativeExpenses': 415000000, 'otherExpenses': 5077000000, 'operatingExpenses': 5077000000, 'costAndExpenses': 15555000000, 'interestIncome': 1836000000, 'interestExpense': 1821000000, 'depreciationAndAmortization': 3902000000, 'ebitda': 9197000000, 'ebitdaratio': 0.4332269939, 'operatingIncome': 4885000000, 'operatingIncomeRatio': 0.2397546012, 'totalOtherIncomeExpensesNet': -1389000000, 'incomeBeforeTax': 3496000000, 'incomeBeforeTaxRatio': 0.1715828221, 'incomeTaxExpense': 393000000, 'netIncome': 3134000000, 'netIncomeRatio': 0.1538159509, 'eps': 2.82, 'epsdiluted': 2.82, 'weightedAverageShsOut': 1099000000, 'weightedAverageShsOutDil': 1099000000, 'link': 'https://www.sec.gov/Archives/edgar/data/92122/000009212221000006/0000092122-21-000006-index.htm', 'finalLink': 'https://www.sec.gov/Archives/edgar/data/3153/000009212221000006/so-20201231.htm'}, {'date': '2019-12-31', 'symbol': 'SO', 'reportedCurrency': 'USD', 'cik': '0000092122', 'fillingDate': '2020-02-20', 'acceptedDate': '2020-02-19 17:55:30', 'calendarYear': '2019', 'period': 'FY', 'revenue': 21419000000, 'costOfRevenue': 11792000000, 'grossProfit': 9627000000, 'grossProfitRatio': 0.4494607591, 'researchAndDevelopmentExpenses': 0, 'generalAndAdministrativeExpenses': 0, 'sellingAndMarketingExpenses': 0, 'sellingGeneralAndAdministrativeExpenses': 267000000, 'otherExpenses': 4292000000, 'operatingExpenses': 4292000000, 'costAndExpenses': 16084000000, 'interestIncome': 9000000, 'interestExpense': 1736000000, 'depreciationAndAmortization': 3325000000, 'ebitda': 11610000000, 'ebitdaratio': 0.410243242, 'operatingIncome': 5749000000, 'operatingIncomeRatio': 0.2684065549, 'totalOtherIncomeExpensesNet': -1194000000, 'incomeBeforeTax': 6542000000, 'incomeBeforeTaxRatio': 0.3054297586, 'incomeTaxExpense': 1798000000, 'netIncome': 4754000000, 'netIncomeRatio': 0.2219524721, 'eps': 4.53, 'epsdiluted': 4.5, 'weightedAverageShsOut': 1046000000, 'weightedAverageShsOutDil': 1054000000, 'link': 'https://www.sec.gov/Archives/edgar/data/92122/000009212220000017/0000092122-20-000017-index.htm', 'finalLink': 'https://www.sec.gov/Archives/edgar/data/3153/000009212220000017/so10-k12312019.htm'}]\n",
      "11610000000.0\n",
      "GET DATA COMPLETED\n",
      "ANALUYSIS COMPLETED\n",
      "JNJ\n",
      "[{'date': '2023-12-31', 'symbol': 'JNJ', 'reportedCurrency': 'USD', 'cik': '0000200406', 'fillingDate': '2024-02-16', 'acceptedDate': '2024-02-16 16:12:22', 'calendarYear': '2023', 'period': 'FY', 'revenue': 85159000000, 'costOfRevenue': 26553000000, 'grossProfit': 58606000000, 'grossProfitRatio': 0.6881950234, 'researchAndDevelopmentExpenses': 15048000000, 'generalAndAdministrativeExpenses': 20112000000, 'sellingAndMarketingExpenses': 0, 'sellingGeneralAndAdministrativeExpenses': 20112000000, 'otherExpenses': 0, 'operatingExpenses': 35564000000, 'costAndExpenses': 61808000000, 'interestIncome': 1261000000, 'interestExpense': 772000000, 'depreciationAndAmortization': 7486000000, 'ebitda': 23725000000, 'ebitdaratio': 0.2785965077, 'operatingIncome': 23409000000, 'operatingIncomeRatio': 0.2748858019, 'totalOtherIncomeExpensesNet': -8347000000, 'incomeBeforeTax': 15062000000, 'incomeBeforeTaxRatio': 0.1768691506, 'incomeTaxExpense': 1736000000, 'netIncome': 35153000000, 'netIncomeRatio': 0.412792541, 'eps': 13.88, 'epsdiluted': 13.73, 'weightedAverageShsOut': 2533500000, 'weightedAverageShsOutDil': 2560400000, 'link': 'https://www.sec.gov/Archives/edgar/data/200406/000020040624000013/0000200406-24-000013-index.htm', 'finalLink': 'https://www.sec.gov/Archives/edgar/data/200406/000020040624000013/jnj-20231231.htm'}, {'date': '2023-01-01', 'symbol': 'JNJ', 'reportedCurrency': 'USD', 'cik': '0000200406', 'fillingDate': '2023-02-16', 'acceptedDate': '2023-02-16 16:01:53', 'calendarYear': '2022', 'period': 'FY', 'revenue': 79990000000, 'costOfRevenue': 24596000000, 'grossProfit': 55394000000, 'grossProfitRatio': 0.6925115639, 'researchAndDevelopmentExpenses': 14135000000, 'generalAndAdministrativeExpenses': 19046000000, 'sellingAndMarketingExpenses': 0, 'sellingGeneralAndAdministrativeExpenses': 19046000000, 'otherExpenses': 500000000, 'operatingExpenses': 33181000000, 'costAndExpenses': 57777000000, 'interestIncome': 490000000, 'interestExpense': 276000000, 'depreciationAndAmortization': 6970000000, 'ebitda': 27170000000, 'ebitdaratio': 0.3770846356, 'operatingIncome': 23193000000, 'operatingIncomeRatio': 0.2899487436, 'totalOtherIncomeExpensesNet': -2854000000, 'incomeBeforeTax': 19359000000, 'incomeBeforeTaxRatio': 0.2420177522, 'incomeTaxExpense': 2989000000, 'netIncome': 17941000000, 'netIncomeRatio': 0.2242905363, 'eps': 6.86, 'epsdiluted': 6.73, 'weightedAverageShsOut': 2613597000, 'weightedAverageShsOutDil': 2663900000, 'link': 'https://www.sec.gov/Archives/edgar/data/200406/000020040623000016/0000200406-23-000016-index.htm', 'finalLink': 'https://www.sec.gov/Archives/edgar/data/200406/000020040623000016/jnj-20230101.htm'}, {'date': '2022-01-02', 'symbol': 'JNJ', 'reportedCurrency': 'USD', 'cik': '0000200406', 'fillingDate': '2022-02-17', 'acceptedDate': '2022-02-17 16:06:50', 'calendarYear': '2021', 'period': 'FY', 'revenue': 78740000000, 'costOfRevenue': 23402000000, 'grossProfit': 55338000000, 'grossProfitRatio': 0.7027940056, 'researchAndDevelopmentExpenses': 14277000000, 'generalAndAdministrativeExpenses': 20118000000, 'sellingAndMarketingExpenses': 0, 'sellingGeneralAndAdministrativeExpenses': 20118000000, 'otherExpenses': -526000000, 'operatingExpenses': 34395000000, 'costAndExpenses': 57797000000, 'interestIncome': 53000000, 'interestExpense': 183000000, 'depreciationAndAmortization': 7390000000, 'ebitda': 30925000000, 'ebitdaratio': 0.3538227076, 'operatingIncome': 20470000000, 'operatingIncomeRatio': 0.2599695199, 'totalOtherIncomeExpensesNet': -1765000000, 'incomeBeforeTax': 19178000000, 'incomeBeforeTaxRatio': 0.2435610871, 'incomeTaxExpense': 1377000000, 'netIncome': 20878000000, 'netIncomeRatio': 0.2651511303, 'eps': 7.93, 'epsdiluted': 7.81, 'weightedAverageShsOut': 2628965000, 'weightedAverageShsOutDil': 2674000000, 'link': 'https://www.sec.gov/Archives/edgar/data/200406/000020040622000022/0000200406-22-000022-index.htm', 'finalLink': 'https://www.sec.gov/Archives/edgar/data/200406/000020040622000022/jnj-20220102.htm'}, {'date': '2021-01-03', 'symbol': 'JNJ', 'reportedCurrency': 'USD', 'cik': '0000200406', 'fillingDate': '2021-02-22', 'acceptedDate': '2021-02-22 16:36:14', 'calendarYear': '2020', 'period': 'FY', 'revenue': 82584000000, 'costOfRevenue': 28427000000, 'grossProfit': 54157000000, 'grossProfitRatio': 0.6557807808, 'researchAndDevelopmentExpenses': 12340000000, 'generalAndAdministrativeExpenses': 22084000000, 'sellingAndMarketingExpenses': 0, 'sellingGeneralAndAdministrativeExpenses': 22084000000, 'otherExpenses': -2899000000, 'operatingExpenses': 34424000000, 'costAndExpenses': 62851000000, 'interestIncome': 111000000, 'interestExpense': 201000000, 'depreciationAndAmortization': 7231000000, 'ebitda': 27498000000, 'ebitdaratio': 0.2927443573, 'operatingIncome': 16945000000, 'operatingIncomeRatio': 0.2051850237, 'totalOtherIncomeExpensesNet': -3236000000, 'incomeBeforeTax': 16497000000, 'incomeBeforeTaxRatio': 0.1997602441, 'incomeTaxExpense': 1783000000, 'netIncome': 14714000000, 'netIncomeRatio': 0.1781701056, 'eps': 5.59, 'epsdiluted': 5.51, 'weightedAverageShsOut': 2632512000, 'weightedAverageShsOutDil': 2670700000, 'link': 'https://www.sec.gov/Archives/edgar/data/200406/000020040621000008/0000200406-21-000008-index.htm', 'finalLink': 'https://www.sec.gov/Archives/edgar/data/200406/000020040621000008/jnj-20210103.htm'}, {'date': '2019-12-29', 'symbol': 'JNJ', 'reportedCurrency': 'USD', 'cik': '0000200406', 'fillingDate': '2020-02-18', 'acceptedDate': '2020-02-18 16:34:21', 'calendarYear': '2019', 'period': 'FY', 'revenue': 82059000000, 'costOfRevenue': 27556000000, 'grossProfit': 54503000000, 'grossProfitRatio': 0.6641928369, 'researchAndDevelopmentExpenses': 11355000000, 'generalAndAdministrativeExpenses': 0, 'sellingAndMarketingExpenses': 0, 'sellingGeneralAndAdministrativeExpenses': 22178000000, 'otherExpenses': -2525000000, 'operatingExpenses': 33533000000, 'costAndExpenses': 61089000000, 'interestIncome': 357000000, 'interestExpense': 318000000, 'depreciationAndAmortization': 7009000000, 'ebitda': 28272000000, 'ebitdaratio': 0.2696352624, 'operatingIncome': 15117000000, 'operatingIncomeRatio': 0.1842211092, 'totalOtherIncomeExpensesNet': 2211000000, 'incomeBeforeTax': 17328000000, 'incomeBeforeTaxRatio': 0.2111651373, 'incomeTaxExpense': 2209000000, 'netIncome': 15119000000, 'netIncomeRatio': 0.1842454819, 'eps': 5.74, 'epsdiluted': 5.63, 'weightedAverageShsOut': 2632507000, 'weightedAverageShsOutDil': 2684300000, 'link': 'https://www.sec.gov/Archives/edgar/data/200406/000020040620000010/0000200406-20-000010-index.htm', 'finalLink': 'https://www.sec.gov/Archives/edgar/data/200406/000020040620000010/form10-k20191229.htm'}]\n",
      "28272000000.0\n",
      "NVO\n",
      "[{'date': '2023-12-31', 'symbol': 'NVO', 'reportedCurrency': 'DKK', 'cik': '0000353278', 'fillingDate': '2024-01-31', 'acceptedDate': '2024-01-31 06:51:16', 'calendarYear': '2023', 'period': 'FY', 'revenue': 232261000000, 'costOfRevenue': 35765000000, 'grossProfit': 196496000000, 'grossProfitRatio': 0.8460137518, 'researchAndDevelopmentExpenses': 32443000000, 'generalAndAdministrativeExpenses': 4855000000, 'sellingAndMarketingExpenses': 56743000000, 'sellingGeneralAndAdministrativeExpenses': 61598000000, 'otherExpenses': -119000000, 'operatingExpenses': 93922000000, 'costAndExpenses': 129687000000, 'interestIncome': 1069000000, 'interestExpense': 542000000, 'depreciationAndAmortization': 9413000000, 'ebitda': 114629000000, 'ebitdaratio': 0.49353529, 'operatingIncome': 102574000000, 'operatingIncomeRatio': 0.4416324738, 'totalOtherIncomeExpensesNet': 2100000000, 'incomeBeforeTax': 104674000000, 'incomeBeforeTaxRatio': 0.4506740262, 'incomeTaxExpense': 20991000000, 'netIncome': 83683000000, 'netIncomeRatio': 0.3602972518, 'eps': 18.62, 'epsdiluted': 18.62, 'weightedAverageShsOut': 4494253490, 'weightedAverageShsOutDil': 4494800000, 'link': 'https://www.sec.gov/Archives/edgar/data/353278/000162828024002635/0001628280-24-002635-index.htm', 'finalLink': 'https://www.sec.gov/Archives/edgar/data/353278/000162828024002635/nvo-20231231.htm'}, {'date': '2022-12-31', 'symbol': 'NVO', 'reportedCurrency': 'DKK', 'cik': '0000353278', 'fillingDate': '2023-02-01', 'acceptedDate': '2023-02-01 07:53:07', 'calendarYear': '2022', 'period': 'FY', 'revenue': 176954000000, 'costOfRevenue': 28448000000, 'grossProfit': 148506000000, 'grossProfitRatio': 0.8392350554, 'researchAndDevelopmentExpenses': 24047000000, 'generalAndAdministrativeExpenses': 4467000000, 'sellingAndMarketingExpenses': 46217000000, 'sellingGeneralAndAdministrativeExpenses': 50684000000, 'otherExpenses': -1034000000, 'operatingExpenses': 73697000000, 'costAndExpenses': 102145000000, 'interestIncome': 239000000, 'interestExpense': 378000000, 'depreciationAndAmortization': 6602000000, 'ebitda': 82040000000, 'ebitdaratio': 0.4636233145, 'operatingIncome': 74809000000, 'operatingIncomeRatio': 0.4227595872, 'totalOtherIncomeExpensesNet': -5747000000, 'incomeBeforeTax': 69062000000, 'incomeBeforeTaxRatio': 0.3902822202, 'incomeTaxExpense': 13537000000, 'netIncome': 55525000000, 'netIncomeRatio': 0.3137821129, 'eps': 12.26, 'epsdiluted': 12.22, 'weightedAverageShsOut': 4530600000, 'weightedAverageShsOutDil': 4544600000, 'link': 'https://www.sec.gov/Archives/edgar/data/353278/000162828023001868/0001628280-23-001868-index.htm', 'finalLink': 'https://www.sec.gov/Archives/edgar/data/353278/000162828023001868/nvo-20221231.htm'}, {'date': '2021-12-31', 'symbol': 'NVO', 'reportedCurrency': 'DKK', 'cik': '0000353278', 'fillingDate': '2022-02-02', 'acceptedDate': '2022-02-02 09:06:51', 'calendarYear': '2021', 'period': 'FY', 'revenue': 140800000000, 'costOfRevenue': 23658000000, 'grossProfit': 117142000000, 'grossProfitRatio': 0.8319744318, 'researchAndDevelopmentExpenses': 17772000000, 'generalAndAdministrativeExpenses': 4050000000, 'sellingAndMarketingExpenses': 37008000000, 'sellingGeneralAndAdministrativeExpenses': 41058000000, 'otherExpenses': -332000000, 'operatingExpenses': 58498000000, 'costAndExpenses': 82156000000, 'interestIncome': 2887000000, 'interestExpense': 2451000000, 'depreciationAndAmortization': 5311000000, 'ebitda': 65394000000, 'ebitdaratio': 0.4798011364, 'operatingIncome': 58644000000, 'operatingIncomeRatio': 0.4165056818, 'totalOtherIncomeExpensesNet': 436000000, 'incomeBeforeTax': 59080000000, 'incomeBeforeTaxRatio': 0.4196022727, 'incomeTaxExpense': 11323000000, 'netIncome': 47757000000, 'netIncomeRatio': 0.3391832386, 'eps': 10.4, 'epsdiluted': 10.37, 'weightedAverageShsOut': 4593200000, 'weightedAverageShsOutDil': 4606200000, 'link': 'https://www.sec.gov/Archives/edgar/data/353278/000162828022001639/0001628280-22-001639-index.htm', 'finalLink': 'https://www.sec.gov/Archives/edgar/data/353278/000162828022001639/nvo-20211231.htm'}, {'date': '2020-12-31', 'symbol': 'NVO', 'reportedCurrency': 'DKK', 'cik': '0000353278', 'fillingDate': '2021-02-03', 'acceptedDate': '2021-02-03 14:34:50', 'calendarYear': '2020', 'period': 'FY', 'revenue': 126946000000, 'costOfRevenue': 20932000000, 'grossProfit': 106014000000, 'grossProfitRatio': 0.8351109921, 'researchAndDevelopmentExpenses': 15462000000, 'generalAndAdministrativeExpenses': 3958000000, 'sellingAndMarketingExpenses': 32928000000, 'sellingGeneralAndAdministrativeExpenses': 36886000000, 'otherExpenses': -460000000, 'operatingExpenses': 51888000000, 'costAndExpenses': 72820000000, 'interestIncome': 337000000, 'interestExpense': 390000000, 'depreciationAndAmortization': 5276000000, 'ebitda': 59273000000, 'ebitdaratio': 0.4743355442, 'operatingIncome': 54126000000, 'operatingIncomeRatio': 0.4263702677, 'totalOtherIncomeExpensesNet': -996000000, 'incomeBeforeTax': 53130000000, 'incomeBeforeTaxRatio': 0.418524412, 'incomeTaxExpense': 10992000000, 'netIncome': 42138000000, 'netIncomeRatio': 0.3319364139, 'eps': 9.03, 'epsdiluted': 9, 'weightedAverageShsOut': 4667800000, 'weightedAverageShsOutDil': 4680000000, 'link': 'https://www.sec.gov/Archives/edgar/data/353278/000162828021001364/0001628280-21-001364-index.htm', 'finalLink': 'https://www.sec.gov/Archives/edgar/data/353278/000162828021001364/novo-b20xf12x31x20.htm'}, {'date': '2019-12-31', 'symbol': 'NVO', 'reportedCurrency': 'DKK', 'cik': '0000353278', 'fillingDate': '2020-02-05', 'acceptedDate': '2020-02-05 09:36:04', 'calendarYear': '2019', 'period': 'FY', 'revenue': 122021000000, 'costOfRevenue': 20088000000, 'grossProfit': 101933000000, 'grossProfitRatio': 0.8353725998, 'researchAndDevelopmentExpenses': 14220000000, 'generalAndAdministrativeExpenses': 4007000000, 'sellingAndMarketingExpenses': 31823000000, 'sellingGeneralAndAdministrativeExpenses': 35830000000, 'otherExpenses': -600000000, 'operatingExpenses': 49450000000, 'costAndExpenses': 69538000000, 'interestIncome': 65000000, 'interestExpense': 220000000, 'depreciationAndAmortization': 4679000000, 'ebitda': 57791000000, 'ebitdaratio': 0.4736151974, 'operatingIncome': 52483000000, 'operatingIncomeRatio': 0.4301144885, 'totalOtherIncomeExpensesNet': -3930000000, 'incomeBeforeTax': 48553000000, 'incomeBeforeTaxRatio': 0.3979069177, 'incomeTaxExpense': 9602000000, 'netIncome': 38951000000, 'netIncomeRatio': 0.3192155449, 'eps': 8.2, 'epsdiluted': 8.19, 'weightedAverageShsOut': 4748598000, 'weightedAverageShsOutDil': 4757316000, 'link': 'https://www.sec.gov/Archives/edgar/data/353278/000162828020001021/0001628280-20-001021-index.htm', 'finalLink': 'https://www.sec.gov/Archives/edgar/data/353278/000162828020001021/novo-b20xf12x31x19.htm'}]\n",
      "57791000000.0\n",
      "PFE\n",
      "[{'date': '2023-12-31', 'symbol': 'PFE', 'reportedCurrency': 'USD', 'cik': '0000078003', 'fillingDate': '2024-02-22', 'acceptedDate': '2024-02-22 13:17:37', 'calendarYear': '2023', 'period': 'FY', 'revenue': 58496000000, 'costOfRevenue': 29687000000, 'grossProfit': 28809000000, 'grossProfitRatio': 0.4924952133, 'researchAndDevelopmentExpenses': 10679000000, 'generalAndAdministrativeExpenses': 11071000000, 'sellingAndMarketingExpenses': 3700000000, 'sellingGeneralAndAdministrativeExpenses': 14771000000, 'otherExpenses': 0, 'operatingExpenses': 25450000000, 'costAndExpenses': 55137000000, 'interestIncome': 1624000000, 'interestExpense': 2209000000, 'depreciationAndAmortization': 6290000000, 'ebitda': 9557000000, 'ebitdaratio': 0.1633786926, 'operatingIncome': 3359000000, 'operatingIncomeRatio': 0.0574227298, 'totalOtherIncomeExpensesNet': -2301000000, 'incomeBeforeTax': 1058000000, 'incomeBeforeTaxRatio': 0.0180867068, 'incomeTaxExpense': -1114000000, 'netIncome': 2119000000, 'netIncomeRatio': 0.0362246991, 'eps': 0.38, 'epsdiluted': 0.37, 'weightedAverageShsOut': 5643000000, 'weightedAverageShsOutDil': 5709000000, 'link': 'https://www.sec.gov/Archives/edgar/data/78003/000007800324000039/0000078003-24-000039-index.htm', 'finalLink': 'https://www.sec.gov/Archives/edgar/data/78003/000007800324000039/pfe-20231231.htm'}, {'date': '2022-12-31', 'symbol': 'PFE', 'reportedCurrency': 'USD', 'cik': '0000078003', 'fillingDate': '2023-02-23', 'acceptedDate': '2023-02-23 14:12:53', 'calendarYear': '2022', 'period': 'FY', 'revenue': 100330000000, 'costOfRevenue': 34344000000, 'grossProfit': 65986000000, 'grossProfitRatio': 0.6576896242, 'researchAndDevelopmentExpenses': 11428000000, 'generalAndAdministrativeExpenses': 10877000000, 'sellingAndMarketingExpenses': 2800000000, 'sellingGeneralAndAdministrativeExpenses': 13677000000, 'otherExpenses': 3609000000, 'operatingExpenses': 28714000000, 'costAndExpenses': 63058000000, 'interestIncome': 251000000, 'interestExpense': 1238000000, 'depreciationAndAmortization': 5064000000, 'ebitda': 41031000000, 'ebitdaratio': 0.4349546497, 'operatingIncome': 40030000000, 'operatingIncomeRatio': 0.3989833549, 'totalOtherIncomeExpensesNet': -2543000000, 'incomeBeforeTax': 34729000000, 'incomeBeforeTaxRatio': 0.3461477125, 'incomeTaxExpense': 3328000000, 'netIncome': 31372000000, 'netIncomeRatio': 0.3126881292, 'eps': 5.59, 'epsdiluted': 5.47, 'weightedAverageShsOut': 5608000000, 'weightedAverageShsOutDil': 5733000000, 'link': 'https://www.sec.gov/Archives/edgar/data/78003/000007800323000024/0000078003-23-000024-index.htm', 'finalLink': 'https://www.sec.gov/Archives/edgar/data/78003/000007800323000024/pfe-20221231.htm'}, {'date': '2021-12-31', 'symbol': 'PFE', 'reportedCurrency': 'USD', 'cik': '0000078003', 'fillingDate': '2022-02-24', 'acceptedDate': '2022-02-24 14:25:01', 'calendarYear': '2021', 'period': 'FY', 'revenue': 81288000000, 'costOfRevenue': 30821000000, 'grossProfit': 50467000000, 'grossProfitRatio': 0.6208419447, 'researchAndDevelopmentExpenses': 13829000000, 'generalAndAdministrativeExpenses': 10703000000, 'sellingAndMarketingExpenses': 2000000000, 'sellingGeneralAndAdministrativeExpenses': 12703000000, 'otherExpenses': 3700000000, 'operatingExpenses': 30232000000, 'costAndExpenses': 61053000000, 'interestIncome': 36000000, 'interestExpense': 1291000000, 'depreciationAndAmortization': 5191000000, 'ebitda': 30793000000, 'ebitdaratio': 0.3510112194, 'operatingIncome': 24833000000, 'operatingIncomeRatio': 0.3054940459, 'totalOtherIncomeExpensesNet': -2669000000, 'incomeBeforeTax': 24311000000, 'incomeBeforeTaxRatio': 0.2990724338, 'incomeTaxExpense': 1852000000, 'netIncome': 21979000000, 'netIncomeRatio': 0.2703843126, 'eps': 3.95, 'epsdiluted': 3.88, 'weightedAverageShsOut': 5601000000, 'weightedAverageShsOutDil': 5708000000, 'link': 'https://www.sec.gov/Archives/edgar/data/78003/000007800322000027/0000078003-22-000027-index.htm', 'finalLink': 'https://www.sec.gov/Archives/edgar/data/78003/000007800322000027/pfe-20211231.htm'}, {'date': '2020-12-31', 'symbol': 'PFE', 'reportedCurrency': 'USD', 'cik': '0000078003', 'fillingDate': '2021-02-25', 'acceptedDate': '2021-02-25 13:59:00', 'calendarYear': '2020', 'period': 'FY', 'revenue': 41908000000, 'costOfRevenue': 8692000000, 'grossProfit': 33216000000, 'grossProfitRatio': 0.7925932996, 'researchAndDevelopmentExpenses': 9405000000, 'generalAndAdministrativeExpenses': 9815000000, 'sellingAndMarketingExpenses': 1800000000, 'sellingGeneralAndAdministrativeExpenses': 11615000000, 'otherExpenses': 3436000000, 'operatingExpenses': 24456000000, 'costAndExpenses': 33148000000, 'interestIncome': 73000000, 'interestExpense': 1449000000, 'depreciationAndAmortization': 4681000000, 'ebitda': 13168000000, 'ebitdaratio': 0.3356399733, 'operatingIncome': 10630000000, 'operatingIncomeRatio': 0.2536508543, 'totalOtherIncomeExpensesNet': -3594000000, 'incomeBeforeTax': 7497000000, 'incomeBeforeTaxRatio': 0.1788918584, 'incomeTaxExpense': 477000000, 'netIncome': 7020000000, 'netIncomeRatio': 0.1675097833, 'eps': 1.26, 'epsdiluted': 1.25, 'weightedAverageShsOut': 5555000000, 'weightedAverageShsOutDil': 5632000000, 'link': 'https://www.sec.gov/Archives/edgar/data/78003/000007800321000038/0000078003-21-000038-index.htm', 'finalLink': 'https://www.sec.gov/Archives/edgar/data/78003/000007800321000038/pfe-20201231.htm'}, {'date': '2019-12-31', 'symbol': 'PFE', 'reportedCurrency': 'USD', 'cik': '0000078003', 'fillingDate': '2020-02-27', 'acceptedDate': '2020-02-27 14:15:12', 'calendarYear': '2019', 'period': 'FY', 'revenue': 51750000000, 'costOfRevenue': 10219000000, 'grossProfit': 41531000000, 'grossProfitRatio': 0.802531401, 'researchAndDevelopmentExpenses': 8650000000, 'generalAndAdministrativeExpenses': 12050000000, 'sellingAndMarketingExpenses': 2300000000, 'sellingGeneralAndAdministrativeExpenses': 14350000000, 'otherExpenses': 4610000000, 'operatingExpenses': 27610000000, 'costAndExpenses': 37829000000, 'interestIncome': 226000000, 'interestExpense': 1574000000, 'depreciationAndAmortization': 5795000000, 'ebitda': 18853000000, 'ebitdaratio': 0.3815845411, 'operatingIncome': 15137000000, 'operatingIncomeRatio': 0.2925024155, 'totalOtherIncomeExpensesNet': -3652000000, 'incomeBeforeTax': 17682000000, 'incomeBeforeTaxRatio': 0.3416811594, 'incomeTaxExpense': 1384000000, 'netIncome': 16273000000, 'netIncomeRatio': 0.3144541063, 'eps': 2.92, 'epsdiluted': 2.87, 'weightedAverageShsOut': 5569000000, 'weightedAverageShsOutDil': 5675000000, 'link': 'https://www.sec.gov/Archives/edgar/data/78003/000007800320000014/0000078003-20-000014-index.htm', 'finalLink': 'https://www.sec.gov/Archives/edgar/data/78003/000007800320000014/pfe-12312019x10kshell.htm'}]\n",
      "18853000000.0\n",
      "SUPN\n",
      "[{'date': '2023-12-31', 'symbol': 'SUPN', 'reportedCurrency': 'USD', 'cik': '0001356576', 'fillingDate': '2024-02-27', 'acceptedDate': '2024-02-27 16:14:59', 'calendarYear': '2023', 'period': 'FY', 'revenue': 607521000, 'costOfRevenue': 83779000, 'grossProfit': 523742000, 'grossProfitRatio': 0.8620969481, 'researchAndDevelopmentExpenses': 91593000, 'generalAndAdministrativeExpenses': 236661000, 'sellingAndMarketingExpenses': 99700000, 'sellingGeneralAndAdministrativeExpenses': 336361000, 'otherExpenses': 101057000, 'operatingExpenses': 529011000, 'costAndExpenses': 612790000, 'interestIncome': 10453000, 'interestExpense': 2415000, 'depreciationAndAmortization': 84859000, 'ebitda': 90043000, 'ebitdaratio': 0.1482138066, 'operatingIncome': -5269000, 'operatingIncomeRatio': -0.0086729512, 'totalOtherIncomeExpensesNet': 8038000, 'incomeBeforeTax': 2769000, 'incomeBeforeTaxRatio': 0.0045578671, 'incomeTaxExpense': 1453000, 'netIncome': 1316000, 'netIncomeRatio': 0.0021661803, 'eps': 0.0241, 'epsdiluted': 0.0237, 'weightedAverageShsOut': 54536281, 'weightedAverageShsOutDil': 55506828, 'link': 'https://www.sec.gov/Archives/edgar/data/1356576/000135657624000013/0001356576-24-000013-index.htm', 'finalLink': 'https://www.sec.gov/Archives/edgar/data/1356576/000135657624000013/supn-20231231.htm'}, {'date': '2022-12-31', 'symbol': 'SUPN', 'reportedCurrency': 'USD', 'cik': '0001356576', 'fillingDate': '2023-03-09', 'acceptedDate': '2023-03-09 16:15:30', 'calendarYear': '2022', 'period': 'FY', 'revenue': 667238000, 'costOfRevenue': 87221000, 'grossProfit': 580017000, 'grossProfitRatio': 0.8692805266, 'researchAndDevelopmentExpenses': 74552000, 'generalAndAdministrativeExpenses': 109433000, 'sellingAndMarketingExpenses': 267788000, 'sellingGeneralAndAdministrativeExpenses': 377221000, 'otherExpenses': 82630000, 'operatingExpenses': 534403000, 'costAndExpenses': 621624000, 'interestIncome': 21689000, 'interestExpense': 7070000, 'depreciationAndAmortization': 85630000, 'ebitda': 153443000, 'ebitdaratio': 0.2247069262, 'operatingIncome': 67303000, 'operatingIncomeRatio': 0.1008680561, 'totalOtherIncomeExpensesNet': 14619000, 'incomeBeforeTax': 60743000, 'incomeBeforeTaxRatio': 0.0910364817, 'incomeTaxExpense': 32000, 'netIncome': 60711000, 'netIncomeRatio': 0.0909885228, 'eps': 1.13, 'epsdiluted': 1.04, 'weightedAverageShsOut': 53665143, 'weightedAverageShsOutDil': 61679800, 'link': 'https://www.sec.gov/Archives/edgar/data/1356576/000135657623000016/0001356576-23-000016-index.htm', 'finalLink': 'https://www.sec.gov/Archives/edgar/data/1356576/000135657623000016/supn-20221231.htm'}, {'date': '2021-12-31', 'symbol': 'SUPN', 'reportedCurrency': 'USD', 'cik': '0001356576', 'fillingDate': '2022-04-13', 'acceptedDate': '2022-04-13 16:06:45', 'calendarYear': '2021', 'period': 'FY', 'revenue': 579775000, 'costOfRevenue': 75061000, 'grossProfit': 504714000, 'grossProfitRatio': 0.870534259, 'researchAndDevelopmentExpenses': 90467000, 'generalAndAdministrativeExpenses': 105050000, 'sellingAndMarketingExpenses': 199709000, 'sellingGeneralAndAdministrativeExpenses': 304759000, 'otherExpenses': 29989000, 'operatingExpenses': 425215000, 'costAndExpenses': 500276000, 'interestIncome': 10569000, 'interestExpense': 23423000, 'depreciationAndAmortization': 32589000, 'ebitda': 129187000, 'ebitdaratio': 0.2070751585, 'operatingIncome': 86029000, 'operatingIncomeRatio': 0.1483834246, 'totalOtherIncomeExpensesNet': -12854000, 'incomeBeforeTax': 73175000, 'incomeBeforeTaxRatio': 0.1262127549, 'incomeTaxExpense': 19751000, 'netIncome': 53424000, 'netIncomeRatio': 0.0921460912, 'eps': 1.01, 'epsdiluted': 0.98, 'weightedAverageShsOut': 53099330, 'weightedAverageShsOutDil': 54356744, 'link': 'https://www.sec.gov/Archives/edgar/data/1356576/000135657622000025/0001356576-22-000025-index.htm', 'finalLink': 'https://www.sec.gov/Archives/edgar/data/1356576/000135657622000025/supn-20211231.htm'}, {'date': '2020-12-31', 'symbol': 'SUPN', 'reportedCurrency': 'USD', 'cik': '0001356576', 'fillingDate': '2021-03-08', 'acceptedDate': '2021-03-08 16:30:16', 'calendarYear': '2020', 'period': 'FY', 'revenue': 520397000, 'costOfRevenue': 52459000, 'grossProfit': 467938000, 'grossProfitRatio': 0.899194269, 'researchAndDevelopmentExpenses': 75961000, 'generalAndAdministrativeExpenses': 65924000, 'sellingAndMarketingExpenses': 134753000, 'sellingGeneralAndAdministrativeExpenses': 200677000, 'otherExpenses': 15702000, 'operatingExpenses': 292340000, 'costAndExpenses': 344799000, 'interestIncome': 18704000, 'interestExpense': 23754000, 'depreciationAndAmortization': 20002000, 'ebitda': 212404000, 'ebitdaratio': 0.4035457545, 'operatingIncome': 173698000, 'operatingIncomeRatio': 0.3337797874, 'totalOtherIncomeExpensesNet': -5050000, 'incomeBeforeTax': 168648000, 'incomeBeforeTaxRatio': 0.3240756576, 'incomeTaxExpense': 41698000, 'netIncome': 126950000, 'netIncomeRatio': 0.2439483702, 'eps': 2.41, 'epsdiluted': 2.36, 'weightedAverageShsOut': 52615269, 'weightedAverageShsOutDil': 53689743, 'link': 'https://www.sec.gov/Archives/edgar/data/1356576/000135657621000028/0001356576-21-000028-index.htm', 'finalLink': 'https://www.sec.gov/Archives/edgar/data/1356576/000135657621000028/supn-20201231.htm'}, {'date': '2019-12-31', 'symbol': 'SUPN', 'reportedCurrency': 'USD', 'cik': '0001356576', 'fillingDate': '2020-02-28', 'acceptedDate': '2020-02-28 13:05:42', 'calendarYear': '2019', 'period': 'FY', 'revenue': 392755000, 'costOfRevenue': 16660000, 'grossProfit': 376095000, 'grossProfitRatio': 0.9575816985, 'researchAndDevelopmentExpenses': 69099000, 'generalAndAdministrativeExpenses': 117625000, 'sellingAndMarketingExpenses': 40800000, 'sellingGeneralAndAdministrativeExpenses': 158425000, 'otherExpenses': 0, 'operatingExpenses': 227524000, 'costAndExpenses': 244184000, 'interestIncome': 21623000, 'interestExpense': 22707000, 'depreciationAndAmortization': 10225000, 'ebitda': 180419000, 'ebitdaratio': 0.4333337577, 'operatingIncome': 148571000, 'operatingIncomeRatio': 0.3782790798, 'totalOtherIncomeExpensesNet': -1084000, 'incomeBeforeTax': 147487000, 'incomeBeforeTaxRatio': 0.3755190895, 'incomeTaxExpense': 34431000, 'netIncome': 113056000, 'netIncomeRatio': 0.2878537511, 'eps': 2.16, 'epsdiluted': 2.1, 'weightedAverageShsOut': 52412181, 'weightedAverageShsOutDil': 53816754, 'link': 'https://www.sec.gov/Archives/edgar/data/1356576/000135657620000010/0001356576-20-000010-index.htm', 'finalLink': 'https://www.sec.gov/Archives/edgar/data/1356576/000135657620000010/supn-20191231x10k.htm'}]\n",
      "180419000.0\n",
      "LLY\n",
      "[{'date': '2023-12-31', 'symbol': 'LLY', 'reportedCurrency': 'USD', 'cik': '0000059478', 'fillingDate': '2024-02-21', 'acceptedDate': '2024-02-21 11:44:37', 'calendarYear': '2023', 'period': 'FY', 'revenue': 34124100000, 'costOfRevenue': 7082200000, 'grossProfit': 27041900000, 'grossProfitRatio': 0.79245753, 'researchAndDevelopmentExpenses': 9313400000, 'generalAndAdministrativeExpenses': 6941200000, 'sellingAndMarketingExpenses': 0, 'sellingGeneralAndAdministrativeExpenses': 6941200000, 'otherExpenses': 0, 'operatingExpenses': 16716500000, 'costAndExpenses': 23798700000, 'interestIncome': 173600000, 'interestExpense': 485900000, 'depreciationAndAmortization': 1527300000, 'ebitda': 8567800000, 'ebitdaratio': 0.2510776841, 'operatingIncome': 10325400000, 'operatingIncomeRatio': 0.3025838044, 'totalOtherIncomeExpensesNet': -3770800000, 'incomeBeforeTax': 6554600000, 'incomeBeforeTaxRatio': 0.1920812564, 'incomeTaxExpense': 1314200000, 'netIncome': 5240400000, 'netIncomeRatio': 0.1535688853, 'eps': 5.8, 'epsdiluted': 5.8, 'weightedAverageShsOut': 903517241, 'weightedAverageShsOutDil': 903284000, 'link': 'https://www.sec.gov/Archives/edgar/data/59478/000005947824000065/0000059478-24-000065-index.htm', 'finalLink': 'https://www.sec.gov/Archives/edgar/data/59478/000005947824000065/lly-20231231.htm'}, {'date': '2022-12-31', 'symbol': 'LLY', 'reportedCurrency': 'USD', 'cik': '0000059478', 'fillingDate': '2023-02-22', 'acceptedDate': '2023-02-22 10:26:53', 'calendarYear': '2022', 'period': 'FY', 'revenue': 28541400000, 'costOfRevenue': 6629800000, 'grossProfit': 21911600000, 'grossProfitRatio': 0.7677128662, 'researchAndDevelopmentExpenses': 7190800000, 'generalAndAdministrativeExpenses': 6440400000, 'sellingAndMarketingExpenses': 1000000000, 'sellingGeneralAndAdministrativeExpenses': 6440400000, 'otherExpenses': -52100000, 'operatingExpenses': 13631200000, 'costAndExpenses': 20261000000, 'interestIncome': 62800000, 'interestExpense': 331600000, 'depreciationAndAmortization': 1522500000, 'ebitda': 8660500000, 'ebitdaratio': 0.3305198764, 'operatingIncome': 7127300000, 'operatingIncomeRatio': 0.2497179536, 'totalOtherIncomeExpensesNet': -1846900000, 'incomeBeforeTax': 6806400000, 'incomeBeforeTaxRatio': 0.2384746368, 'incomeTaxExpense': 561600000, 'netIncome': 6244800000, 'netIncomeRatio': 0.2187979567, 'eps': 6.93, 'epsdiluted': 6.9, 'weightedAverageShsOut': 901736000, 'weightedAverageShsOutDil': 904619000, 'link': 'https://www.sec.gov/Archives/edgar/data/59478/000005947823000082/0000059478-23-000082-index.htm', 'finalLink': 'https://www.sec.gov/Archives/edgar/data/59478/000005947823000082/lly-20221231.htm'}, {'date': '2021-12-31', 'symbol': 'LLY', 'reportedCurrency': 'USD', 'cik': '0000059478', 'fillingDate': '2022-02-23', 'acceptedDate': '2022-02-23 11:00:57', 'calendarYear': '2021', 'period': 'FY', 'revenue': 28318400000, 'costOfRevenue': 7312800000, 'grossProfit': 21005600000, 'grossProfitRatio': 0.7417650715, 'researchAndDevelopmentExpenses': 7025900000, 'generalAndAdministrativeExpenses': 6431600000, 'sellingAndMarketingExpenses': 1200000000, 'sellingGeneralAndAdministrativeExpenses': 6431600000, 'otherExpenses': 112800000, 'operatingExpenses': 13457500000, 'costAndExpenses': 20770300000, 'interestIncome': 25400000, 'interestExpense': 339800000, 'depreciationAndAmortization': 1547600000, 'ebitda': 8042900000, 'ebitdaratio': 0.3086014747, 'operatingIncome': 6357100000, 'operatingIncomeRatio': 0.2244865529, 'totalOtherIncomeExpensesNet': -201600000, 'incomeBeforeTax': 6155500000, 'incomeBeforeTaxRatio': 0.2173675066, 'incomeTaxExpense': 573800000, 'netIncome': 5581700000, 'netIncomeRatio': 0.1971050624, 'eps': 6.15, 'epsdiluted': 6.12, 'weightedAverageShsOut': 906963000, 'weightedAverageShsOutDil': 911681000, 'link': 'https://www.sec.gov/Archives/edgar/data/59478/000005947822000068/0000059478-22-000068-index.htm', 'finalLink': 'https://www.sec.gov/Archives/edgar/data/59478/000005947822000068/lly-20211231.htm'}, {'date': '2020-12-31', 'symbol': 'LLY', 'reportedCurrency': 'USD', 'cik': '0000059478', 'fillingDate': '2021-02-17', 'acceptedDate': '2021-02-17 10:59:12', 'calendarYear': '2020', 'period': 'FY', 'revenue': 24539800000, 'costOfRevenue': 5483300000, 'grossProfit': 19056500000, 'grossProfitRatio': 0.7765548211, 'researchAndDevelopmentExpenses': 6085700000, 'generalAndAdministrativeExpenses': 6121200000, 'sellingAndMarketingExpenses': 1100000000, 'sellingGeneralAndAdministrativeExpenses': 6121200000, 'otherExpenses': 1498500000, 'operatingExpenses': 12206900000, 'costAndExpenses': 17690200000, 'interestIncome': 33000000, 'interestExpense': 359600000, 'depreciationAndAmortization': 1323900000, 'ebitda': 8913400000, 'ebitdaratio': 0.3113798808, 'operatingIncome': 6058000000, 'operatingIncomeRatio': 0.2468642776, 'totalOtherIncomeExpensesNet': 19100000, 'incomeBeforeTax': 7229900000, 'incomeBeforeTaxRatio': 0.2946193531, 'incomeTaxExpense': 1036200000, 'netIncome': 6193700000, 'netIncomeRatio': 0.25239407, 'eps': 6.82, 'epsdiluted': 6.79, 'weightedAverageShsOut': 907634000, 'weightedAverageShsOutDil': 912505000, 'link': 'https://www.sec.gov/Archives/edgar/data/59478/000005947821000083/0000059478-21-000083-index.htm', 'finalLink': 'https://www.sec.gov/Archives/edgar/data/59478/000005947821000083/lly-20201231.htm'}, {'date': '2019-12-31', 'symbol': 'LLY', 'reportedCurrency': 'USD', 'cik': '0000059478', 'fillingDate': '2020-02-19', 'acceptedDate': '2020-02-19 12:33:26', 'calendarYear': '2019', 'period': 'FY', 'revenue': 22319500000, 'costOfRevenue': 4721200000, 'grossProfit': 17598300000, 'grossProfitRatio': 0.788471964, 'researchAndDevelopmentExpenses': 5595000000, 'generalAndAdministrativeExpenses': 6213800000, 'sellingAndMarketingExpenses': 6213800000, 'sellingGeneralAndAdministrativeExpenses': 6213800000, 'otherExpenses': 611800000, 'operatingExpenses': 11808800000, 'costAndExpenses': 16530000000, 'interestIncome': 80400000, 'interestExpense': 400600000, 'depreciationAndAmortization': 1232600000, 'ebitda': 6899100000, 'ebitdaratio': 0.2959161272, 'operatingIncome': 4974300000, 'operatingIncomeRatio': 0.2228678958, 'totalOtherIncomeExpensesNet': 291600000, 'incomeBeforeTax': 5265900000, 'incomeBeforeTaxRatio': 0.2359327046, 'incomeTaxExpense': 628000000, 'netIncome': 4637900000, 'netIncomeRatio': 0.2077958736, 'eps': 4.98, 'epsdiluted': 4.96, 'weightedAverageShsOut': 931059000, 'weightedAverageShsOutDil': 935684000, 'link': 'https://www.sec.gov/Archives/edgar/data/59478/000005947820000057/0000059478-20-000057-index.htm', 'finalLink': 'https://www.sec.gov/Archives/edgar/data/59478/000005947820000057/lly-20191231x10xk.htm'}]\n",
      "6899100000.0\n",
      "GET DATA COMPLETED\n",
      "ANALUYSIS COMPLETED\n",
      "WMT\n",
      "[{'date': '2024-01-31', 'symbol': 'WMT', 'reportedCurrency': 'USD', 'cik': '0000104169', 'fillingDate': '2024-03-15', 'acceptedDate': '2024-03-15 16:54:48', 'calendarYear': '2024', 'period': 'FY', 'revenue': 648125000000, 'costOfRevenue': 490142000000, 'grossProfit': 157983000000, 'grossProfitRatio': 0.2437539055, 'researchAndDevelopmentExpenses': 0, 'generalAndAdministrativeExpenses': 126571000000, 'sellingAndMarketingExpenses': 4400000000, 'sellingGeneralAndAdministrativeExpenses': 130971000000, 'otherExpenses': 0, 'operatingExpenses': 130971000000, 'costAndExpenses': 621113000000, 'interestIncome': 546000000, 'interestExpense': 2683000000, 'depreciationAndAmortization': 11853000000, 'ebitda': 38865000000, 'ebitdaratio': 0.0599652845, 'operatingIncome': 27012000000, 'operatingIncomeRatio': 0.0416771456, 'totalOtherIncomeExpensesNet': -5164000000, 'incomeBeforeTax': 21848000000, 'incomeBeforeTaxRatio': 0.0337095468, 'incomeTaxExpense': 5578000000, 'netIncome': 15511000000, 'netIncomeRatio': 0.0239321119, 'eps': 1.92, 'epsdiluted': 1.91, 'weightedAverageShsOut': 8077008319, 'weightedAverageShsOutDil': 8109000000, 'link': 'https://www.sec.gov/Archives/edgar/data/104169/000010416924000056/0000104169-24-000056-index.htm', 'finalLink': 'https://www.sec.gov/Archives/edgar/data/104169/000010416924000056/wmt-20240131.htm'}, {'date': '2023-01-31', 'symbol': 'WMT', 'reportedCurrency': 'USD', 'cik': '0000104169', 'fillingDate': '2023-03-17', 'acceptedDate': '2023-03-17 17:02:59', 'calendarYear': '2023', 'period': 'FY', 'revenue': 611289000000, 'costOfRevenue': 463721000000, 'grossProfit': 147568000000, 'grossProfitRatio': 0.2414046384, 'researchAndDevelopmentExpenses': 0, 'generalAndAdministrativeExpenses': 123040000000, 'sellingAndMarketingExpenses': 4100000000, 'sellingGeneralAndAdministrativeExpenses': 127140000000, 'otherExpenses': -1538000000, 'operatingExpenses': 127140000000, 'costAndExpenses': 590861000000, 'interestIncome': 254000000, 'interestExpense': 2128000000, 'depreciationAndAmortization': 10945000000, 'ebitda': 30089000000, 'ebitdaratio': 0.0492222173, 'operatingIncome': 20428000000, 'operatingIncomeRatio': 0.0334179087, 'totalOtherIncomeExpensesNet': -3412000000, 'incomeBeforeTax': 17016000000, 'incomeBeforeTaxRatio': 0.0278362608, 'incomeTaxExpense': 5724000000, 'netIncome': 11680000000, 'netIncomeRatio': 0.0191071654, 'eps': 1.43, 'epsdiluted': 1.42, 'weightedAverageShsOut': 8171999836, 'weightedAverageShsOutDil': 8201999835, 'link': 'https://www.sec.gov/Archives/edgar/data/104169/000010416923000020/0000104169-23-000020-index.htm', 'finalLink': 'https://www.sec.gov/Archives/edgar/data/104169/000010416923000020/wmt-20230131.htm'}, {'date': '2022-01-31', 'symbol': 'WMT', 'reportedCurrency': 'USD', 'cik': '0000104169', 'fillingDate': '2022-03-18', 'acceptedDate': '2022-03-18 17:03:00', 'calendarYear': '2022', 'period': 'FY', 'revenue': 572754000000, 'costOfRevenue': 429000000000, 'grossProfit': 143754000000, 'grossProfitRatio': 0.2509873349, 'researchAndDevelopmentExpenses': 0, 'generalAndAdministrativeExpenses': 113912000000, 'sellingAndMarketingExpenses': 3900000000, 'sellingGeneralAndAdministrativeExpenses': 117812000000, 'otherExpenses': -3000000000, 'operatingExpenses': 117812000000, 'costAndExpenses': 546812000000, 'interestIncome': 158000000, 'interestExpense': 1994000000, 'depreciationAndAmortization': 10658000000, 'ebitda': 36600000000, 'ebitdaratio': 0.0589397892, 'operatingIncome': 25942000000, 'operatingIncomeRatio': 0.0452934419, 'totalOtherIncomeExpensesNet': -7246000000, 'incomeBeforeTax': 18696000000, 'incomeBeforeTaxRatio': 0.0326422862, 'incomeTaxExpense': 4756000000, 'netIncome': 13673000000, 'netIncomeRatio': 0.023872378, 'eps': 1.63, 'epsdiluted': 1.62, 'weightedAverageShsOut': 8375999832, 'weightedAverageShsOutDil': 8414999831, 'link': 'https://www.sec.gov/Archives/edgar/data/104169/000010416922000012/0000104169-22-000012-index.htm', 'finalLink': 'https://www.sec.gov/Archives/edgar/data/104169/000010416922000012/wmt-20220131.htm'}, {'date': '2021-01-31', 'symbol': 'WMT', 'reportedCurrency': 'USD', 'cik': '0000104169', 'fillingDate': '2021-03-19', 'acceptedDate': '2021-03-19 16:40:44', 'calendarYear': '2021', 'period': 'FY', 'revenue': 559151000000, 'costOfRevenue': 420315000000, 'grossProfit': 138836000000, 'grossProfitRatio': 0.2482978659, 'researchAndDevelopmentExpenses': 0, 'generalAndAdministrativeExpenses': 113088000000, 'sellingAndMarketingExpenses': 3200000000, 'sellingGeneralAndAdministrativeExpenses': 116288000000, 'otherExpenses': 210000000, 'operatingExpenses': 116288000000, 'costAndExpenses': 536603000000, 'interestIncome': 121000000, 'interestExpense': 2315000000, 'depreciationAndAmortization': 11152000000, 'ebitda': 34031000000, 'ebitdaratio': 0.0608619139, 'operatingIncome': 22548000000, 'operatingIncomeRatio': 0.0403254219, 'totalOtherIncomeExpensesNet': -1984000000, 'incomeBeforeTax': 20564000000, 'incomeBeforeTaxRatio': 0.0367771854, 'incomeTaxExpense': 6858000000, 'netIncome': 13510000000, 'netIncomeRatio': 0.0241616308, 'eps': 1.59, 'epsdiluted': 1.58, 'weightedAverageShsOut': 8492999830, 'weightedAverageShsOutDil': 8540999829, 'link': 'https://www.sec.gov/Archives/edgar/data/104169/000010416921000033/0000104169-21-000033-index.htm', 'finalLink': 'https://www.sec.gov/Archives/edgar/data/104169/000010416921000033/wmt-20210131.htm'}, {'date': '2020-01-31', 'symbol': 'WMT', 'reportedCurrency': 'USD', 'cik': '0000104169', 'fillingDate': '2020-03-20', 'acceptedDate': '2020-03-20 16:51:02', 'calendarYear': '2020', 'period': 'FY', 'revenue': 523964000000, 'costOfRevenue': 394605000000, 'grossProfit': 129359000000, 'grossProfitRatio': 0.2468852822, 'researchAndDevelopmentExpenses': 0, 'generalAndAdministrativeExpenses': 105091000000, 'sellingAndMarketingExpenses': 3700000000, 'sellingGeneralAndAdministrativeExpenses': 108791000000, 'otherExpenses': 1958000000, 'operatingExpenses': 108791000000, 'costAndExpenses': 503396000000, 'interestIncome': 189000000, 'interestExpense': 2599000000, 'depreciationAndAmortization': 10987000000, 'ebitda': 33702000000, 'ebitdaratio': 0.0643212129, 'operatingIncome': 20568000000, 'operatingIncomeRatio': 0.0392546053, 'totalOtherIncomeExpensesNet': -452000000, 'incomeBeforeTax': 20116000000, 'incomeBeforeTaxRatio': 0.0383919506, 'incomeTaxExpense': 4915000000, 'netIncome': 14881000000, 'netIncomeRatio': 0.0284008062, 'eps': 1.74, 'epsdiluted': 1.73, 'weightedAverageShsOut': 8549999829, 'weightedAverageShsOutDil': 8603999827, 'link': 'https://www.sec.gov/Archives/edgar/data/104169/000010416920000011/0000104169-20-000011-index.htm', 'finalLink': 'https://www.sec.gov/Archives/edgar/data/104169/000010416920000011/wmtform10-kx1312020.htm'}]\n",
      "33702000000.0\n",
      "LOW\n",
      "[{'date': '2024-02-02', 'symbol': 'LOW', 'reportedCurrency': 'USD', 'cik': '0000060667', 'fillingDate': '2024-03-25', 'acceptedDate': '2024-03-25 16:18:34', 'calendarYear': '2023', 'period': 'FY', 'revenue': 86377000000, 'costOfRevenue': 57533000000, 'grossProfit': 28844000000, 'grossProfitRatio': 0.3339314864, 'researchAndDevelopmentExpenses': 0, 'generalAndAdministrativeExpenses': 14739000000, 'sellingAndMarketingExpenses': 831000000, 'sellingGeneralAndAdministrativeExpenses': 15570000000, 'otherExpenses': 1717000000, 'operatingExpenses': 17287000000, 'costAndExpenses': 74820000000, 'interestIncome': 101000000, 'interestExpense': 1483000000, 'depreciationAndAmortization': 1923000000, 'ebitda': 13571000000, 'ebitdaratio': 0.1571135835, 'operatingIncome': 11557000000, 'operatingIncomeRatio': 0.1337971914, 'totalOtherIncomeExpensesNet': -1382000000, 'incomeBeforeTax': 10175000000, 'incomeBeforeTaxRatio': 0.1177975619, 'incomeTaxExpense': 2449000000, 'netIncome': 7726000000, 'netIncomeRatio': 0.0894451069, 'eps': 13.24, 'epsdiluted': 13.2, 'weightedAverageShsOut': 582000000, 'weightedAverageShsOutDil': 584000000, 'link': 'https://www.sec.gov/Archives/edgar/data/60667/000006066724000033/0000060667-24-000033-index.htm', 'finalLink': 'https://www.sec.gov/Archives/edgar/data/60667/000006066724000033/low-20240202.htm'}, {'date': '2023-02-03', 'symbol': 'LOW', 'reportedCurrency': 'USD', 'cik': '0000060667', 'fillingDate': '2023-03-27', 'acceptedDate': '2023-03-27 16:46:36', 'calendarYear': '2022', 'period': 'FY', 'revenue': 97059000000, 'costOfRevenue': 64802000000, 'grossProfit': 32257000000, 'grossProfitRatio': 0.3323442442, 'researchAndDevelopmentExpenses': 0, 'generalAndAdministrativeExpenses': 19463000000, 'sellingAndMarketingExpenses': 869000000, 'sellingGeneralAndAdministrativeExpenses': 20332000000, 'otherExpenses': 1766000000, 'operatingExpenses': 22098000000, 'costAndExpenses': 86900000000, 'interestIncome': 37000000, 'interestExpense': 1160000000, 'depreciationAndAmortization': 2511000000, 'ebitda': 12685000000, 'ebitdaratio': 0.1250785605, 'operatingIncome': 10159000000, 'operatingIncomeRatio': 0.1046682945, 'totalOtherIncomeExpensesNet': -1123000000, 'incomeBeforeTax': 9036000000, 'incomeBeforeTaxRatio': 0.0930980125, 'incomeTaxExpense': 2599000000, 'netIncome': 6437000000, 'netIncomeRatio': 0.0663204855, 'eps': 10.2, 'epsdiluted': 10.17, 'weightedAverageShsOut': 629000000, 'weightedAverageShsOutDil': 631000000, 'link': 'https://www.sec.gov/Archives/edgar/data/60667/000006066723000034/0000060667-23-000034-index.htm', 'finalLink': 'https://www.sec.gov/Archives/edgar/data/60667/000006066723000034/low-20230203.htm'}, {'date': '2022-01-28', 'symbol': 'LOW', 'reportedCurrency': 'USD', 'cik': '0000060667', 'fillingDate': '2022-03-21', 'acceptedDate': '2022-03-21 16:47:51', 'calendarYear': '2021', 'period': 'FY', 'revenue': 96250000000, 'costOfRevenue': 64194000000, 'grossProfit': 32056000000, 'grossProfitRatio': 0.3330493506, 'researchAndDevelopmentExpenses': 0, 'generalAndAdministrativeExpenses': 17424000000, 'sellingAndMarketingExpenses': 877000000, 'sellingGeneralAndAdministrativeExpenses': 18301000000, 'otherExpenses': 1662000000, 'operatingExpenses': 19963000000, 'costAndExpenses': 84157000000, 'interestIncome': 12000000, 'interestExpense': 897000000, 'depreciationAndAmortization': 2399000000, 'ebitda': 14466000000, 'ebitdaratio': 0.1451948052, 'operatingIncome': 12093000000, 'operatingIncomeRatio': 0.1256415584, 'totalOtherIncomeExpensesNet': -885000000, 'incomeBeforeTax': 11208000000, 'incomeBeforeTaxRatio': 0.1164467532, 'incomeTaxExpense': 2766000000, 'netIncome': 8442000000, 'netIncomeRatio': 0.0877090909, 'eps': 12.08, 'epsdiluted': 12.03, 'weightedAverageShsOut': 696000000, 'weightedAverageShsOutDil': 699000000, 'link': 'https://www.sec.gov/Archives/edgar/data/60667/000006066722000038/0000060667-22-000038-index.htm', 'finalLink': 'https://www.sec.gov/Archives/edgar/data/60667/000006066722000038/low-20220128.htm'}, {'date': '2021-01-29', 'symbol': 'LOW', 'reportedCurrency': 'USD', 'cik': '0000060667', 'fillingDate': '2021-03-22', 'acceptedDate': '2021-03-22 17:06:03', 'calendarYear': '2020', 'period': 'FY', 'revenue': 89597000000, 'costOfRevenue': 60025000000, 'grossProfit': 29572000000, 'grossProfitRatio': 0.3300556938, 'researchAndDevelopmentExpenses': 0, 'generalAndAdministrativeExpenses': 17728000000, 'sellingAndMarketingExpenses': 798000000, 'sellingGeneralAndAdministrativeExpenses': 18526000000, 'otherExpenses': 1399000000, 'operatingExpenses': 19925000000, 'costAndExpenses': 79950000000, 'interestIncome': 24000000, 'interestExpense': 848000000, 'depreciationAndAmortization': 2073000000, 'ebitda': 11241000000, 'ebitdaratio': 0.1372925433, 'operatingIncome': 9647000000, 'operatingIncomeRatio': 0.1076710158, 'totalOtherIncomeExpensesNet': -1908000000, 'incomeBeforeTax': 7739000000, 'incomeBeforeTaxRatio': 0.0863756599, 'incomeTaxExpense': 1904000000, 'netIncome': 5835000000, 'netIncomeRatio': 0.0651249484, 'eps': 7.77, 'epsdiluted': 7.75, 'weightedAverageShsOut': 748000000, 'weightedAverageShsOutDil': 750000000, 'link': 'https://www.sec.gov/Archives/edgar/data/60667/000006066721000026/0000060667-21-000026-index.htm', 'finalLink': 'https://www.sec.gov/Archives/edgar/data/60667/000006066721000026/low-20210129.htm'}, {'date': '2020-01-31', 'symbol': 'LOW', 'reportedCurrency': 'USD', 'cik': '0000060667', 'fillingDate': '2020-03-23', 'acceptedDate': '2020-03-23 17:05:45', 'calendarYear': '2019', 'period': 'FY', 'revenue': 72148000000, 'costOfRevenue': 49205000000, 'grossProfit': 22943000000, 'grossProfitRatio': 0.3179991129, 'researchAndDevelopmentExpenses': 0, 'generalAndAdministrativeExpenses': 14496000000, 'sellingAndMarketingExpenses': 871000000, 'sellingGeneralAndAdministrativeExpenses': 15367000000, 'otherExpenses': 1262000000, 'operatingExpenses': 16629000000, 'costAndExpenses': 65834000000, 'interestIncome': 27000000, 'interestExpense': 691000000, 'depreciationAndAmortization': 1878000000, 'ebitda': 8219000000, 'ebitdaratio': 0.1070577147, 'operatingIncome': 6314000000, 'operatingIncomeRatio': 0.0875145534, 'totalOtherIncomeExpensesNet': -691000000, 'incomeBeforeTax': 5623000000, 'incomeBeforeTaxRatio': 0.0779370184, 'incomeTaxExpense': 1342000000, 'netIncome': 4281000000, 'netIncomeRatio': 0.0593363641, 'eps': 5.49, 'epsdiluted': 5.49, 'weightedAverageShsOut': 777000000, 'weightedAverageShsOutDil': 778000000, 'link': 'https://www.sec.gov/Archives/edgar/data/60667/000006066720000036/0000060667-20-000036-index.htm', 'finalLink': 'https://www.sec.gov/Archives/edgar/data/60667/000006066720000036/form10k01312020.htm'}]\n",
      "8219000000.0\n",
      "TGT\n",
      "[{'date': '2024-02-03', 'symbol': 'TGT', 'reportedCurrency': 'USD', 'cik': '0000027419', 'fillingDate': '2024-03-13', 'acceptedDate': '2024-03-13 17:04:51', 'calendarYear': '2023', 'period': 'FY', 'revenue': 107412000000, 'costOfRevenue': 77736000000, 'grossProfit': 29676000000, 'grossProfitRatio': 0.2762819797, 'researchAndDevelopmentExpenses': 0, 'generalAndAdministrativeExpenses': 19961000000, 'sellingAndMarketingExpenses': 1400000000, 'sellingGeneralAndAdministrativeExpenses': 21361000000, 'otherExpenses': 0, 'operatingExpenses': 23969000000, 'costAndExpenses': 101705000000, 'interestIncome': 0, 'interestExpense': 502000000, 'depreciationAndAmortization': 2801000000, 'ebitda': 8624000000, 'ebitdaratio': 0.0802889807, 'operatingIncome': 5707000000, 'operatingIncomeRatio': 0.0531318661, 'totalOtherIncomeExpensesNet': -410000000, 'incomeBeforeTax': 5297000000, 'incomeBeforeTaxRatio': 0.0493147879, 'incomeTaxExpense': 1159000000, 'netIncome': 4138000000, 'netIncomeRatio': 0.0385245596, 'eps': 8.97, 'epsdiluted': 8.94, 'weightedAverageShsOut': 461500000, 'weightedAverageShsOutDil': 462800000, 'link': 'https://www.sec.gov/Archives/edgar/data/27419/000002741924000032/0000027419-24-000032-index.htm', 'finalLink': 'https://www.sec.gov/Archives/edgar/data/27419/000002741924000032/tgt-20240203.htm'}, {'date': '2023-01-28', 'symbol': 'TGT', 'reportedCurrency': 'USD', 'cik': '0000027419', 'fillingDate': '2023-03-08', 'acceptedDate': '2023-03-08 16:04:18', 'calendarYear': '2022', 'period': 'FY', 'revenue': 109120000000, 'costOfRevenue': 82229000000, 'grossProfit': 26891000000, 'grossProfitRatio': 0.2464351173, 'researchAndDevelopmentExpenses': 0, 'generalAndAdministrativeExpenses': 19158000000, 'sellingAndMarketingExpenses': 1500000000, 'sellingGeneralAndAdministrativeExpenses': 20658000000, 'otherExpenses': 2385000000, 'operatingExpenses': 23043000000, 'costAndExpenses': 105272000000, 'interestIncome': 478000000, 'interestExpense': 478000000, 'depreciationAndAmortization': 2700000000, 'ebitda': 6660000000, 'ebitdaratio': 0.0604472141, 'operatingIncome': 3848000000, 'operatingIncomeRatio': 0.0352639296, 'totalOtherIncomeExpensesNet': -430000000, 'incomeBeforeTax': 3418000000, 'incomeBeforeTaxRatio': 0.0313233138, 'incomeTaxExpense': 638000000, 'netIncome': 2780000000, 'netIncomeRatio': 0.0254765396, 'eps': 6.02, 'epsdiluted': 5.98, 'weightedAverageShsOut': 462100000, 'weightedAverageShsOutDil': 464700000, 'link': 'https://www.sec.gov/Archives/edgar/data/27419/000002741923000015/0000027419-23-000015-index.htm', 'finalLink': 'https://www.sec.gov/Archives/edgar/data/27419/000002741923000015/tgt-20230128.htm'}, {'date': '2022-01-29', 'symbol': 'TGT', 'reportedCurrency': 'USD', 'cik': '0000027419', 'fillingDate': '2022-03-09', 'acceptedDate': '2022-03-09 16:36:42', 'calendarYear': '2021', 'period': 'FY', 'revenue': 106005000000, 'costOfRevenue': 74963000000, 'grossProfit': 31042000000, 'grossProfitRatio': 0.2928352436, 'researchAndDevelopmentExpenses': 0, 'generalAndAdministrativeExpenses': 18252000000, 'sellingAndMarketingExpenses': 1500000000, 'sellingGeneralAndAdministrativeExpenses': 19752000000, 'otherExpenses': 2344000000, 'operatingExpenses': 22096000000, 'costAndExpenses': 97059000000, 'interestIncome': 421000000, 'interestExpense': 421000000, 'depreciationAndAmortization': 2642000000, 'ebitda': 11970000000, 'ebitdaratio': 0.1129192019, 'operatingIncome': 8946000000, 'operatingIncomeRatio': 0.0843922456, 'totalOtherIncomeExpensesNet': -39000000, 'incomeBeforeTax': 8907000000, 'incomeBeforeTaxRatio': 0.0840243385, 'incomeTaxExpense': 1961000000, 'netIncome': 6946000000, 'netIncomeRatio': 0.0655252111, 'eps': 14.23, 'epsdiluted': 14.1, 'weightedAverageShsOut': 488100000, 'weightedAverageShsOutDil': 492700000, 'link': 'https://www.sec.gov/Archives/edgar/data/27419/000002741922000007/0000027419-22-000007-index.htm', 'finalLink': 'https://www.sec.gov/Archives/edgar/data/27419/000002741922000007/tgt-20220129.htm'}, {'date': '2021-01-30', 'symbol': 'TGT', 'reportedCurrency': 'USD', 'cik': '0000027419', 'fillingDate': '2021-03-10', 'acceptedDate': '2021-03-10 14:49:10', 'calendarYear': '2020', 'period': 'FY', 'revenue': 93561000000, 'costOfRevenue': 66177000000, 'grossProfit': 27384000000, 'grossProfitRatio': 0.2926860551, 'researchAndDevelopmentExpenses': 0, 'generalAndAdministrativeExpenses': 17115000000, 'sellingAndMarketingExpenses': 1500000000, 'sellingGeneralAndAdministrativeExpenses': 18615000000, 'otherExpenses': 2230000000, 'operatingExpenses': 20845000000, 'costAndExpenses': 87022000000, 'interestIncome': 465000000, 'interestExpense': 977000000, 'depreciationAndAmortization': 2485000000, 'ebitda': 9093000000, 'ebitdaratio': 0.0962794327, 'operatingIncome': 6539000000, 'operatingIncomeRatio': 0.069890232, 'totalOtherIncomeExpensesNet': -993000000, 'incomeBeforeTax': 5546000000, 'incomeBeforeTaxRatio': 0.0592768354, 'incomeTaxExpense': 1178000000, 'netIncome': 4368000000, 'netIncomeRatio': 0.0466861192, 'eps': 8.73, 'epsdiluted': 8.64, 'weightedAverageShsOut': 500600000, 'weightedAverageShsOutDil': 505400000, 'link': 'https://www.sec.gov/Archives/edgar/data/27419/000002741921000010/0000027419-21-000010-index.htm', 'finalLink': 'https://www.sec.gov/Archives/edgar/data/27419/000002741921000010/tgt-20210130.htm'}, {'date': '2020-02-01', 'symbol': 'TGT', 'reportedCurrency': 'USD', 'cik': '0000027419', 'fillingDate': '2020-03-11', 'acceptedDate': '2020-03-11 16:14:26', 'calendarYear': '2019', 'period': 'FY', 'revenue': 78112000000, 'costOfRevenue': 54864000000, 'grossProfit': 23248000000, 'grossProfitRatio': 0.2976239246, 'researchAndDevelopmentExpenses': 0, 'generalAndAdministrativeExpenses': 14633000000, 'sellingAndMarketingExpenses': 1600000000, 'sellingGeneralAndAdministrativeExpenses': 16233000000, 'otherExpenses': 2357000000, 'operatingExpenses': 18590000000, 'costAndExpenses': 73454000000, 'interestIncome': 467000000, 'interestExpense': 477000000, 'depreciationAndAmortization': 2604000000, 'ebitda': 7332000000, 'ebitdaratio': 0.0930842892, 'operatingIncome': 4658000000, 'operatingIncomeRatio': 0.0596323228, 'totalOtherIncomeExpensesNet': -468000000, 'incomeBeforeTax': 4190000000, 'incomeBeforeTaxRatio': 0.0536409259, 'incomeTaxExpense': 921000000, 'netIncome': 3281000000, 'netIncomeRatio': 0.0420037894, 'eps': 6.42, 'epsdiluted': 6.36, 'weightedAverageShsOut': 510900000, 'weightedAverageShsOutDil': 515600000, 'link': 'https://www.sec.gov/Archives/edgar/data/27419/000002741920000008/0000027419-20-000008-index.htm', 'finalLink': 'https://www.sec.gov/Archives/edgar/data/27419/000002741920000008/tgt-20200201.htm'}]\n",
      "7332000000.0\n",
      "TSLA\n",
      "[{'date': '2023-12-31', 'symbol': 'TSLA', 'reportedCurrency': 'USD', 'cik': '0001318605', 'fillingDate': '2024-01-29', 'acceptedDate': '2024-01-26 21:00:20', 'calendarYear': '2023', 'period': 'FY', 'revenue': 96773000000, 'costOfRevenue': 79113000000, 'grossProfit': 17660000000, 'grossProfitRatio': 0.1824889174, 'researchAndDevelopmentExpenses': 3969000000, 'generalAndAdministrativeExpenses': 0, 'sellingAndMarketingExpenses': 0, 'sellingGeneralAndAdministrativeExpenses': 4800000000, 'otherExpenses': 0, 'operatingExpenses': 8769000000, 'costAndExpenses': 87882000000, 'interestIncome': 1066000000, 'interestExpense': 156000000, 'depreciationAndAmortization': 4667000000, 'ebitda': 14796000000, 'ebitdaratio': 0.1528938857, 'operatingIncome': 8891000000, 'operatingIncomeRatio': 0.0918747998, 'totalOtherIncomeExpensesNet': 1082000000, 'incomeBeforeTax': 9973000000, 'incomeBeforeTaxRatio': 0.1030556044, 'incomeTaxExpense': -5001000000, 'netIncome': 14999000000, 'netIncomeRatio': 0.1549915782, 'eps': 4.73, 'epsdiluted': 4.3, 'weightedAverageShsOut': 3174000000, 'weightedAverageShsOutDil': 3485000000, 'link': 'https://www.sec.gov/Archives/edgar/data/1318605/000162828024002390/0001628280-24-002390-index.htm', 'finalLink': 'https://www.sec.gov/Archives/edgar/data/1318605/000162828024002390/tsla-20231231.htm'}, {'date': '2022-12-31', 'symbol': 'TSLA', 'reportedCurrency': 'USD', 'cik': '0001318605', 'fillingDate': '2023-01-31', 'acceptedDate': '2023-01-30 21:29:15', 'calendarYear': '2022', 'period': 'FY', 'revenue': 81462000000, 'costOfRevenue': 60609000000, 'grossProfit': 20853000000, 'grossProfitRatio': 0.2559843854, 'researchAndDevelopmentExpenses': 3075000000, 'generalAndAdministrativeExpenses': 0, 'sellingAndMarketingExpenses': 0, 'sellingGeneralAndAdministrativeExpenses': 3946000000, 'otherExpenses': 0, 'operatingExpenses': 7021000000, 'costAndExpenses': 67630000000, 'interestIncome': 297000000, 'interestExpense': 191000000, 'depreciationAndAmortization': 3747000000, 'ebitda': 17403000000, 'ebitdaratio': 0.2136333505, 'operatingIncome': 13656000000, 'operatingIncomeRatio': 0.167636444, 'totalOtherIncomeExpensesNet': 63000000, 'incomeBeforeTax': 13719000000, 'incomeBeforeTaxRatio': 0.1684098107, 'incomeTaxExpense': 1132000000, 'netIncome': 12583000000, 'netIncomeRatio': 0.1544646584, 'eps': 4.02, 'epsdiluted': 3.62, 'weightedAverageShsOut': 3130000000, 'weightedAverageShsOutDil': 3475000000, 'link': 'https://www.sec.gov/Archives/edgar/data/1318605/000095017023001409/0000950170-23-001409-index.htm', 'finalLink': 'https://www.sec.gov/Archives/edgar/data/1318605/000095017023001409/tsla-20221231.htm'}, {'date': '2021-12-31', 'symbol': 'TSLA', 'reportedCurrency': 'USD', 'cik': '0001318605', 'fillingDate': '2022-05-02', 'acceptedDate': '2022-04-29 18:05:17', 'calendarYear': '2021', 'period': 'FY', 'revenue': 53823000000, 'costOfRevenue': 40217000000, 'grossProfit': 13606000000, 'grossProfitRatio': 0.2527915575, 'researchAndDevelopmentExpenses': 2593000000, 'generalAndAdministrativeExpenses': 0, 'sellingAndMarketingExpenses': 0, 'sellingGeneralAndAdministrativeExpenses': 4517000000, 'otherExpenses': 0, 'operatingExpenses': 7110000000, 'costAndExpenses': 47327000000, 'interestIncome': 56000000, 'interestExpense': 371000000, 'depreciationAndAmortization': 2911000000, 'ebitda': 9625000000, 'ebitdaratio': 0.1752782268, 'operatingIncome': 6523000000, 'operatingIncomeRatio': 0.1211935418, 'totalOtherIncomeExpensesNet': -180000000, 'incomeBeforeTax': 6343000000, 'incomeBeforeTaxRatio': 0.1178492466, 'incomeTaxExpense': 699000000, 'netIncome': 5524000000, 'netIncomeRatio': 0.1026327035, 'eps': 1.87, 'epsdiluted': 1.63, 'weightedAverageShsOut': 2959000000, 'weightedAverageShsOutDil': 3386000000, 'link': 'https://www.sec.gov/Archives/edgar/data/1318605/000156459022016871/0001564590-22-016871-index.htm', 'finalLink': 'https://www.sec.gov/Archives/edgar/data/1318605/000156459022016871/tsla-10ka_20211231.htm'}, {'date': '2020-12-31', 'symbol': 'TSLA', 'reportedCurrency': 'USD', 'cik': '0001318605', 'fillingDate': '2021-02-08', 'acceptedDate': '2021-02-08 07:27:23', 'calendarYear': '2020', 'period': 'FY', 'revenue': 31536000000, 'costOfRevenue': 24906000000, 'grossProfit': 6630000000, 'grossProfitRatio': 0.2102359209, 'researchAndDevelopmentExpenses': 1491000000, 'generalAndAdministrativeExpenses': 0, 'sellingAndMarketingExpenses': 0, 'sellingGeneralAndAdministrativeExpenses': 3145000000, 'otherExpenses': 0, 'operatingExpenses': 4636000000, 'costAndExpenses': 29542000000, 'interestIncome': 30000000, 'interestExpense': 748000000, 'depreciationAndAmortization': 2322000000, 'ebitda': 4224000000, 'ebitdaratio': 0.1339421613, 'operatingIncome': -1994000000, 'operatingIncomeRatio': -0.0632293252, 'totalOtherIncomeExpensesNet': -840000000, 'incomeBeforeTax': 1154000000, 'incomeBeforeTaxRatio': 0.0365930999, 'incomeTaxExpense': 292000000, 'netIncome': 721000000, 'netIncomeRatio': 0.02286276, 'eps': 0.25, 'epsdiluted': 0.21, 'weightedAverageShsOut': 2880000000, 'weightedAverageShsOutDil': 2880000000, 'link': 'https://www.sec.gov/Archives/edgar/data/1318605/000156459021004599/0001564590-21-004599-index.htm', 'finalLink': 'https://www.sec.gov/Archives/edgar/data/1318605/000156459021004599/tsla-10k_20201231.htm'}, {'date': '2019-12-31', 'symbol': 'TSLA', 'reportedCurrency': 'USD', 'cik': '0001318605', 'fillingDate': '2020-02-13', 'acceptedDate': '2020-02-13 07:12:18', 'calendarYear': '2019', 'period': 'FY', 'revenue': 24578000000, 'costOfRevenue': 20509000000, 'grossProfit': 4069000000, 'grossProfitRatio': 0.165554561, 'researchAndDevelopmentExpenses': 1343000000, 'generalAndAdministrativeExpenses': 0, 'sellingAndMarketingExpenses': 0, 'sellingGeneralAndAdministrativeExpenses': 2646000000, 'otherExpenses': 0, 'operatingExpenses': 3989000000, 'costAndExpenses': 24498000000, 'interestIncome': 44000000, 'interestExpense': 685000000, 'depreciationAndAmortization': 2154000000, 'ebitda': 2174000000, 'ebitdaratio': 0.0883717145, 'operatingIncome': 69000000, 'operatingIncomeRatio': 0.0028073887, 'totalOtherIncomeExpensesNet': -734000000, 'incomeBeforeTax': -665000000, 'incomeBeforeTaxRatio': -0.0270567174, 'incomeTaxExpense': 110000000, 'netIncome': -862000000, 'netIncomeRatio': -0.0350720156, 'eps': -0.33, 'epsdiluted': -0.33, 'weightedAverageShsOut': 2655000000, 'weightedAverageShsOutDil': 2655000000, 'link': 'https://www.sec.gov/Archives/edgar/data/1318605/000156459020004475/0001564590-20-004475-index.htm', 'finalLink': 'https://www.sec.gov/Archives/edgar/data/1318605/000156459020004475/tsla-10k_20191231.htm'}]\n",
      "2174000000.0\n",
      "GET DATA COMPLETED\n",
      "ANALUYSIS COMPLETED\n",
      "EQIX\n",
      "[{'date': '2023-12-31', 'symbol': 'EQIX', 'reportedCurrency': 'USD', 'cik': '0001101239', 'fillingDate': '2024-02-16', 'acceptedDate': '2024-02-16 16:17:08', 'calendarYear': '2023', 'period': 'FY', 'revenue': 8188136000, 'costOfRevenue': 4227658000, 'grossProfit': 3960478000, 'grossProfitRatio': 0.4836849315, 'researchAndDevelopmentExpenses': 0, 'generalAndAdministrativeExpenses': 1654042000, 'sellingAndMarketingExpenses': 855796000, 'sellingGeneralAndAdministrativeExpenses': 2509838000, 'otherExpenses': 7366000, 'operatingExpenses': 2517204000, 'costAndExpenses': 6744862000, 'interestIncome': 94227000, 'interestExpense': 402022000, 'depreciationAndAmortization': 1843665000, 'ebitda': 2011890000, 'ebitdaratio': 0.2457079365, 'operatingIncome': 1443274000, 'operatingIncomeRatio': 0.1762640484, 'totalOtherIncomeExpensesNet': -319044000, 'incomeBeforeTax': 1124230000, 'incomeBeforeTaxRatio': 0.137299869, 'incomeTaxExpense': 155250000, 'netIncome': 969178000, 'netIncomeRatio': 0.1183636911, 'eps': 10.35, 'epsdiluted': 10.31, 'weightedAverageShsOut': 93615000, 'weightedAverageShsOutDil': 94009000, 'link': 'https://www.sec.gov/Archives/edgar/data/1101239/000162828024005350/0001628280-24-005350-index.htm', 'finalLink': 'https://www.sec.gov/Archives/edgar/data/1101239/000162828024005350/eqix-20231231.htm'}, {'date': '2022-12-31', 'symbol': 'EQIX', 'reportedCurrency': 'USD', 'cik': '0001101239', 'fillingDate': '2023-02-27', 'acceptedDate': '2023-02-27 17:17:23', 'calendarYear': '2022', 'period': 'FY', 'revenue': 7263105000, 'costOfRevenue': 3751501000, 'grossProfit': 3511604000, 'grossProfitRatio': 0.4834852312, 'researchAndDevelopmentExpenses': 0.11416492203279521, 'generalAndAdministrativeExpenses': 1498701000, 'sellingAndMarketingExpenses': 786560000, 'sellingGeneralAndAdministrativeExpenses': 2285261000, 'otherExpenses': -51417000, 'operatingExpenses': 2285261000, 'costAndExpenses': 6036762000, 'interestIncome': 36268000, 'interestExpense': 356337000, 'depreciationAndAmortization': 7121361000, 'ebitda': 2921914000, 'ebitdaratio': 0.4062405817, 'operatingIncome': 1200528000, 'operatingIncomeRatio': 0.1652912907, 'totalOtherIncomeExpensesNet': -371159000, 'incomeBeforeTax': 829369000, 'incomeBeforeTaxRatio': 0.1141893171, 'incomeTaxExpense': 124792000, 'netIncome': 704345000, 'netIncomeRatio': 0.0969757425, 'eps': 7.69, 'epsdiluted': 7.67, 'weightedAverageShsOut': 91569000, 'weightedAverageShsOutDil': 91828000, 'link': 'https://www.sec.gov/Archives/edgar/data/1101239/000162828023005277/0001628280-23-005277-index.htm', 'finalLink': 'https://www.sec.gov/Archives/edgar/data/1101239/000162828023005277/eqix-20221231.htm'}, {'date': '2021-12-31', 'symbol': 'EQIX', 'reportedCurrency': 'USD', 'cik': '0001101239', 'fillingDate': '2022-02-18', 'acceptedDate': '2022-02-18 15:39:40', 'calendarYear': '2021', 'period': 'FY', 'revenue': 6635537000, 'costOfRevenue': 3472422000, 'grossProfit': 3163115000, 'grossProfitRatio': 0.4766931448, 'researchAndDevelopmentExpenses': 0.09173429905479108, 'generalAndAdministrativeExpenses': 1301797000, 'sellingAndMarketingExpenses': 741232000, 'sellingGeneralAndAdministrativeExpenses': 2043029000, 'otherExpenses': -50647000, 'operatingExpenses': 2043029000, 'costAndExpenses': 5515451000, 'interestIncome': 2644000, 'interestExpense': 336082000, 'depreciationAndAmortization': 6579946000, 'ebitda': 2601324000, 'ebitdaratio': 0.4118139949, 'operatingIncome': 1108162000, 'operatingIncomeRatio': 0.1670041174, 'totalOtherIncomeExpensesNet': -499210000, 'incomeBeforeTax': 608952000, 'incomeBeforeTaxRatio': 0.0917713216, 'incomeTaxExpense': 109224000, 'netIncome': 500191000, 'netIncomeRatio': 0.0753806361, 'eps': 5.57, 'epsdiluted': 5.53, 'weightedAverageShsOut': 89772000, 'weightedAverageShsOutDil': 90409000, 'link': 'https://www.sec.gov/Archives/edgar/data/1101239/000162828022003171/0001628280-22-003171-index.htm', 'finalLink': 'https://www.sec.gov/Archives/edgar/data/1101239/000162828022003171/eqix-20211231.htm'}, {'date': '2020-12-31', 'symbol': 'EQIX', 'reportedCurrency': 'USD', 'cik': '0001101239', 'fillingDate': '2021-02-19', 'acceptedDate': '2021-02-19 16:20:22', 'calendarYear': '2020', 'period': 'FY', 'revenue': 5998545000, 'costOfRevenue': 3074340000, 'grossProfit': 2924205000, 'grossProfitRatio': 0.4874857153, 'researchAndDevelopmentExpenses': 0.08602019560398433, 'generalAndAdministrativeExpenses': 1090981000, 'sellingAndMarketingExpenses': 718356000, 'sellingGeneralAndAdministrativeExpenses': 1809337000, 'otherExpenses': 6913000, 'operatingExpenses': 1809337000, 'costAndExpenses': 4883677000, 'interestIncome': 8654000, 'interestExpense': 406466000, 'depreciationAndAmortization': 6036855000, 'ebitda': 2346060000, 'ebitdaratio': 0.4263442218, 'operatingIncome': 1052928000, 'operatingIncomeRatio': 0.1755305662, 'totalOtherIncomeExpensesNet': -536703000, 'incomeBeforeTax': 516225000, 'incomeBeforeTaxRatio': 0.0860583692, 'incomeTaxExpense': 146151000, 'netIncome': 369777000, 'netIncomeRatio': 0.0616444488, 'eps': 4.22, 'epsdiluted': 4.18, 'weightedAverageShsOut': 87700000, 'weightedAverageShsOutDil': 88410000, 'link': 'https://www.sec.gov/Archives/edgar/data/1101239/000162828021002563/0001628280-21-002563-index.htm', 'finalLink': 'https://www.sec.gov/Archives/edgar/data/1101239/000162828021002563/eqix-20201231.htm'}, {'date': '2019-12-31', 'symbol': 'EQIX', 'reportedCurrency': 'USD', 'cik': '0001101239', 'fillingDate': '2020-02-21', 'acceptedDate': '2020-02-21 14:57:43', 'calendarYear': '2019', 'period': 'FY', 'revenue': 5562140000, 'costOfRevenue': 2810184000, 'grossProfit': 2751956000, 'grossProfitRatio': 0.4947656837, 'researchAndDevelopmentExpenses': 0.12450938040045598, 'generalAndAdministrativeExpenses': 935018000, 'sellingAndMarketingExpenses': 651046000, 'sellingGeneralAndAdministrativeExpenses': 1586064000, 'otherExpenses': 27778000, 'operatingExpenses': 1586064000, 'costAndExpenses': 4396248000, 'interestIncome': 27697000, 'interestExpense': 479684000, 'depreciationAndAmortization': 5273893000, 'ebitda': 2457118000, 'ebitdaratio': 0.4506652116, 'operatingIncome': 1169631000, 'operatingIncomeRatio': 0.210284351, 'totalOtherIncomeExpensesNet': -477034000, 'incomeBeforeTax': 692597000, 'incomeBeforeTaxRatio': 0.124519879, 'incomeTaxExpense': 185352000, 'netIncome': 507450000, 'netIncomeRatio': 0.0912328708, 'eps': 6.03, 'epsdiluted': 5.99, 'weightedAverageShsOut': 84140000, 'weightedAverageShsOutDil': 84679000, 'link': 'https://www.sec.gov/Archives/edgar/data/1101239/000162828020001947/0001628280-20-001947-index.htm', 'finalLink': 'https://www.sec.gov/Archives/edgar/data/1101239/000162828020001947/eqix2019123110k.htm'}]\n",
      "2457118000.0\n",
      "AMT\n",
      "[{'date': '2023-12-31', 'symbol': 'AMT', 'reportedCurrency': 'USD', 'cik': '0001053507', 'fillingDate': '2024-02-27', 'acceptedDate': '2024-02-27 16:21:21', 'calendarYear': '2023', 'period': 'FY', 'revenue': 11144200000, 'costOfRevenue': 3260600000, 'grossProfit': 7883600000, 'grossProfitRatio': 0.7074173112, 'researchAndDevelopmentExpenses': 0, 'generalAndAdministrativeExpenses': 0, 'sellingAndMarketingExpenses': 0, 'sellingGeneralAndAdministrativeExpenses': 992500000, 'otherExpenses': 3866200000, 'operatingExpenses': 5107500000, 'costAndExpenses': 8119300000, 'interestIncome': 143400000, 'interestExpense': 1398200000, 'depreciationAndAmortization': 3086500000, 'ebitda': 6006000000, 'ebitdaratio': 0.5389350514, 'operatingIncome': 3024900000, 'operatingIncomeRatio': 0.2714326735, 'totalOtherIncomeExpensesNet': -1503600000, 'incomeBeforeTax': 1521300000, 'incomeBeforeTaxRatio': 0.1365104718, 'incomeTaxExpense': 154200000, 'netIncome': 1483300000, 'netIncomeRatio': 0.1331006263, 'eps': 3.18, 'epsdiluted': 3.18, 'weightedAverageShsOut': 466063000, 'weightedAverageShsOutDil': 467162000, 'link': 'https://www.sec.gov/Archives/edgar/data/1053507/000105350724000011/0001053507-24-000011-index.htm', 'finalLink': 'https://www.sec.gov/Archives/edgar/data/1053507/000105350724000011/amt-20231231.htm'}, {'date': '2022-12-31', 'symbol': 'AMT', 'reportedCurrency': 'USD', 'cik': '0001053507', 'fillingDate': '2023-02-23', 'acceptedDate': '2023-02-23 16:13:08', 'calendarYear': '2022', 'period': 'FY', 'revenue': 10711100000, 'costOfRevenue': 3263800000, 'grossProfit': 7447300000, 'grossProfitRatio': 0.6952880657, 'researchAndDevelopmentExpenses': 0.16064643220584254, 'generalAndAdministrativeExpenses': 0, 'sellingAndMarketingExpenses': 0, 'sellingGeneralAndAdministrativeExpenses': 972300000, 'otherExpenses': 4122700000, 'operatingExpenses': 5095000000, 'costAndExpenses': 8358800000, 'interestIncome': 71600000, 'interestExpense': 1136500000, 'depreciationAndAmortization': 7604300000, 'ebitda': 6461900000, 'ebitdaratio': 0.5800244606, 'operatingIncome': 2352300000, 'operatingIncomeRatio': 0.2196132984, 'totalOtherIncomeExpensesNet': -631600000, 'incomeBeforeTax': 1720700000, 'incomeBeforeTaxRatio': 0.1606464322, 'incomeTaxExpense': 24000000, 'netIncome': 1765800000, 'netIncomeRatio': 0.1648570175, 'eps': 3.83, 'epsdiluted': 3.82, 'weightedAverageShsOut': 461519000, 'weightedAverageShsOutDil': 462750000, 'link': 'https://www.sec.gov/Archives/edgar/data/1053507/000105350723000023/0001053507-23-000023-index.htm', 'finalLink': 'https://www.sec.gov/Archives/edgar/data/1053507/000105350723000023/amt-20221231.htm'}, {'date': '2021-12-31', 'symbol': 'AMT', 'reportedCurrency': 'USD', 'cik': '0001053507', 'fillingDate': '2022-02-25', 'acceptedDate': '2022-02-24 17:52:05', 'calendarYear': '2021', 'period': 'FY', 'revenue': 9356900000, 'costOfRevenue': 2682000000, 'grossProfit': 6674900000, 'grossProfitRatio': 0.7133666065, 'researchAndDevelopmentExpenses': 0.30238647415276426, 'generalAndAdministrativeExpenses': 811600000, 'sellingAndMarketingExpenses': 0, 'sellingGeneralAndAdministrativeExpenses': 811600000, 'otherExpenses': 2731300000, 'operatingExpenses': 3542900000, 'costAndExpenses': 6224900000, 'interestIncome': 40400000, 'interestExpense': 870900000, 'depreciationAndAmortization': 5812600000, 'ebitda': 5876900000, 'ebitdaratio': 0.6488366874, 'operatingIncome': 3132000000, 'operatingIncomeRatio': 0.3347262448, 'totalOtherIncomeExpensesNet': -302600000, 'incomeBeforeTax': 2829400000, 'incomeBeforeTaxRatio': 0.3023864742, 'incomeTaxExpense': 261800000, 'netIncome': 2567700000, 'netIncomeRatio': 0.2744178093, 'eps': 5.69, 'epsdiluted': 5.66, 'weightedAverageShsOut': 451498000, 'weightedAverageShsOutDil': 453294000, 'link': 'https://www.sec.gov/Archives/edgar/data/1053507/000105350722000017/0001053507-22-000017-index.htm', 'finalLink': 'https://www.sec.gov/Archives/edgar/data/1053507/000105350722000017/amt-20211231.htm'}, {'date': '2020-12-31', 'symbol': 'AMT', 'reportedCurrency': 'USD', 'cik': '0001053507', 'fillingDate': '2021-02-25', 'acceptedDate': '2021-02-25 16:15:20', 'calendarYear': '2020', 'period': 'FY', 'revenue': 8041500000, 'costOfRevenue': 2227200000, 'grossProfit': 5814300000, 'grossProfitRatio': 0.7230367469, 'researchAndDevelopmentExpenses': 0.2264627246160542, 'generalAndAdministrativeExpenses': 781700000, 'sellingAndMarketingExpenses': -3000000, 'sellingGeneralAndAdministrativeExpenses': 778700000, 'otherExpenses': 2148100000, 'operatingExpenses': 2926800000, 'costAndExpenses': 5154000000, 'interestIncome': 39700000, 'interestExpense': 793500000, 'depreciationAndAmortization': 4928500000, 'ebitda': 4995300000, 'ebitdaratio': 0.5681402723, 'operatingIncome': 2887500000, 'operatingIncomeRatio': 0.3590747995, 'totalOtherIncomeExpensesNet': -1066400000, 'incomeBeforeTax': 1821100000, 'incomeBeforeTaxRatio': 0.2264627246, 'incomeTaxExpense': 129600000, 'netIncome': 1690600000, 'netIncomeRatio': 0.210234409, 'eps': 3.81, 'epsdiluted': 3.79, 'weightedAverageShsOut': 443640000, 'weightedAverageShsOutDil': 446104000, 'link': 'https://www.sec.gov/Archives/edgar/data/1053507/000105350721000026/0001053507-21-000026-index.htm', 'finalLink': 'https://www.sec.gov/Archives/edgar/data/1053507/000105350721000026/amt-20201231.htm'}, {'date': '2019-12-31', 'symbol': 'AMT', 'reportedCurrency': 'USD', 'cik': '0001053507', 'fillingDate': '2020-02-25', 'acceptedDate': '2020-02-25 16:10:15', 'calendarYear': '2019', 'period': 'FY', 'revenue': 7580300000, 'costOfRevenue': 2216800000, 'grossProfit': 5363500000, 'grossProfitRatio': 0.7075577484, 'researchAndDevelopmentExpenses': 0.2528132131973669, 'generalAndAdministrativeExpenses': 733200000, 'sellingAndMarketingExpenses': -2800000, 'sellingGeneralAndAdministrativeExpenses': 730400000, 'otherExpenses': 1944700000, 'operatingExpenses': 2675100000, 'costAndExpenses': 4891900000, 'interestIncome': 46800000, 'interestExpense': 814200000, 'depreciationAndAmortization': 4730300000, 'ebitda': 4628400000, 'ebitdaratio': 0.5992506893, 'operatingIncome': 2688400000, 'operatingIncomeRatio': 0.3546561482, 'totalOtherIncomeExpensesNet': -772000000, 'incomeBeforeTax': 1916400000, 'incomeBeforeTaxRatio': 0.2528132132, 'incomeTaxExpense': -200000, 'netIncome': 1887800000, 'netIncomeRatio': 0.2490402755, 'eps': 4.27, 'epsdiluted': 4.24, 'weightedAverageShsOut': 442319000, 'weightedAverageShsOutDil': 445520000, 'link': 'https://www.sec.gov/Archives/edgar/data/1053507/000105350720000028/0001053507-20-000028-index.htm', 'finalLink': 'https://www.sec.gov/Archives/edgar/data/1053507/000105350720000028/amt1231201910k.htm'}]\n",
      "4628400000.0\n",
      "SPG\n",
      "[{'date': '2023-12-31', 'symbol': 'SPG', 'reportedCurrency': 'USD', 'cik': '0001063761', 'fillingDate': '2024-02-22', 'acceptedDate': '2024-02-22 16:11:39', 'calendarYear': '2023', 'period': 'FY', 'revenue': 5658836000, 'costOfRevenue': 931129000, 'grossProfit': 4727707000, 'grossProfitRatio': 0.8354557368, 'researchAndDevelopmentExpenses': 0, 'generalAndAdministrativeExpenses': 38513000, 'sellingAndMarketingExpenses': 127346000, 'sellingGeneralAndAdministrativeExpenses': 165859000, 'otherExpenses': 1754826000, 'operatingExpenses': 1920685000, 'costAndExpenses': 2851814000, 'interestIncome': 0, 'interestExpense': 854648000, 'depreciationAndAmortization': 1262107000, 'ebitda': 4069129000, 'ebitdaratio': 0.7190752657, 'operatingIncome': 2807022000, 'operatingIncomeRatio': 0.4960422956, 'totalOtherIncomeExpensesNet': -108130000, 'incomeBeforeTax': 2698892000, 'incomeBeforeTaxRatio': 0.4769341257, 'incomeTaxExpense': 81874000, 'netIncome': 2283126000, 'netIncomeRatio': 0.4034621254, 'eps': 6.97, 'epsdiluted': 6.98, 'weightedAverageShsOut': 327285691, 'weightedAverageShsOutDil': 326807326, 'link': 'https://www.sec.gov/Archives/edgar/data/1063761/000155837024001532/0001558370-24-001532-index.htm', 'finalLink': 'https://www.sec.gov/Archives/edgar/data/1022344/000155837024001532/spg-20231231x10k.htm'}, {'date': '2022-12-31', 'symbol': 'SPG', 'reportedCurrency': 'USD', 'cik': '0001063761', 'fillingDate': '2023-02-23', 'acceptedDate': '2023-02-23 09:45:23', 'calendarYear': '2022', 'period': 'FY', 'revenue': 5291447000, 'costOfRevenue': 1000954000, 'grossProfit': 4290493000, 'grossProfitRatio': 0.810835486, 'researchAndDevelopmentExpenses': 0.3672864908218867, 'generalAndAdministrativeExpenses': 34971000, 'sellingAndMarketingExpenses': 107793000, 'sellingGeneralAndAdministrativeExpenses': 142764000, 'otherExpenses': 1564176000, 'operatingExpenses': 1706940000, 'costAndExpenses': 2707894000, 'interestIncome': 761253000, 'interestExpense': 762848000, 'depreciationAndAmortization': 2694481000, 'ebitda': 4589263000, 'ebitdaratio': 0.8426619411, 'operatingIncome': 2583553000, 'operatingIncomeRatio': 0.4882507564, 'totalOtherIncomeExpensesNet': -47656000, 'incomeBeforeTax': 2535897000, 'incomeBeforeTaxRatio': 0.4792445242, 'incomeTaxExpense': 83512000, 'netIncome': 2139535000, 'netIncomeRatio': 0.4043383596, 'eps': 6.69, 'epsdiluted': 6.69, 'weightedAverageShsOut': 327816695, 'weightedAverageShsOutDil': 327816695, 'link': 'https://www.sec.gov/Archives/edgar/data/1063761/000155837023001840/0001558370-23-001840-index.htm', 'finalLink': 'https://www.sec.gov/Archives/edgar/data/1022344/000155837023001840/spg-20221231x10k.htm'}, {'date': '2021-12-31', 'symbol': 'SPG', 'reportedCurrency': 'USD', 'cik': '0001063761', 'fillingDate': '2022-02-24', 'acceptedDate': '2022-02-24 07:50:39', 'calendarYear': '2021', 'period': 'FY', 'revenue': 5116789000, 'costOfRevenue': 971064000, 'grossProfit': 4145725000, 'grossProfitRatio': 0.8102200423, 'researchAndDevelopmentExpenses': 0.34103911303307005, 'generalAndAdministrativeExpenses': 30339000, 'sellingAndMarketingExpenses': 114303000, 'sellingGeneralAndAdministrativeExpenses': 144642000, 'otherExpenses': 1587893000, 'operatingExpenses': 1732535000, 'costAndExpenses': 2703599000, 'interestIncome': 795712000, 'interestExpense': 795712000, 'depreciationAndAmortization': 2703599000, 'ebitda': 4458742000, 'ebitdaratio': 0.8713945406, 'operatingIncome': 2413190000, 'operatingIncomeRatio': 0.4716219488, 'totalOtherIncomeExpensesNet': 312716000, 'incomeBeforeTax': 2725906000, 'incomeBeforeTaxRatio': 0.5327376212, 'incomeTaxExpense': 157199000, 'netIncome': 2249631000, 'netIncomeRatio': 0.4396567848, 'eps': 6.23, 'epsdiluted': 6.23, 'weightedAverageShsOut': 328587137, 'weightedAverageShsOutDil': 328587137, 'link': 'https://www.sec.gov/Archives/edgar/data/1063761/000155837022001845/0001558370-22-001845-index.htm', 'finalLink': 'https://www.sec.gov/Archives/edgar/data/1022344/000155837022001845/spg-20211231x10k.htm'}, {'date': '2020-12-31', 'symbol': 'SPG', 'reportedCurrency': 'USD', 'cik': '0001063761', 'fillingDate': '2021-02-25', 'acceptedDate': '2021-02-25 06:28:02', 'calendarYear': '2020', 'period': 'FY', 'revenue': 4607503000, 'costOfRevenue': 887154000, 'grossProfit': 3720349000, 'grossProfitRatio': 0.8074544932, 'researchAndDevelopmentExpenses': 0.258003221430662, 'generalAndAdministrativeExpenses': 22572000, 'sellingAndMarketingExpenses': 98613000, 'sellingGeneralAndAdministrativeExpenses': 121185000, 'otherExpenses': 1627355000, 'operatingExpenses': 1748540000, 'costAndExpenses': 2635694000, 'interestIncome': 784400000, 'interestExpense': 784400000, 'depreciationAndAmortization': 2635694000, 'ebitda': 3412078000, 'ebitdaratio': 0.7617329821, 'operatingIncome': 1971809000, 'operatingIncomeRatio': 0.4279560968, 'totalOtherIncomeExpensesNet': -699122000, 'incomeBeforeTax': 1272687000, 'incomeBeforeTaxRatio': 0.2762205472, 'incomeTaxExpense': -4637000, 'netIncome': 1112564000, 'netIncomeRatio': 0.241467884, 'eps': 4.03, 'epsdiluted': 4.03, 'weightedAverageShsOut': 308737625, 'weightedAverageShsOutDil': 308737625, 'link': 'https://www.sec.gov/Archives/edgar/data/1063761/000155837021001700/0001558370-21-001700-index.htm', 'finalLink': 'https://www.sec.gov/Archives/edgar/data/1022344/000155837021001700/spg-20201231x10k.htm'}, {'date': '2019-12-31', 'symbol': 'SPG', 'reportedCurrency': 'USD', 'cik': '0001063761', 'fillingDate': '2020-02-21', 'acceptedDate': '2020-02-21 10:36:58', 'calendarYear': '2019', 'period': 'FY', 'revenue': 5755189000, 'costOfRevenue': 1021644000, 'grossProfit': 4733545000, 'grossProfitRatio': 0.8224829801, 'researchAndDevelopmentExpenses': 0.35371891015069545, 'generalAndAdministrativeExpenses': 34860000, 'sellingAndMarketingExpenses': 150344000, 'sellingGeneralAndAdministrativeExpenses': 185204000, 'otherExpenses': 1640510000, 'operatingExpenses': 1825714000, 'costAndExpenses': 2847358000, 'interestIncome': 789353000, 'interestExpense': 789353000, 'depreciationAndAmortization': 2847358000, 'ebitda': 4636767000, 'ebitdaratio': 0.8153829527, 'operatingIncome': 2907831000, 'operatingIncomeRatio': 0.5052537805, 'totalOtherIncomeExpensesNet': -459545000, 'incomeBeforeTax': 2453242000, 'incomeBeforeTaxRatio': 0.4262661052, 'incomeTaxExpense': 30054000, 'netIncome': 2101584000, 'netIncomeRatio': 0.3651633335, 'eps': 6.79, 'epsdiluted': 6.79, 'weightedAverageShsOut': 307950112, 'weightedAverageShsOutDil': 307950112, 'link': 'https://www.sec.gov/Archives/edgar/data/1063761/000155837020001135/0001558370-20-001135-index.htm', 'finalLink': 'https://www.sec.gov/Archives/edgar/data/1022344/000155837020001135/spg-20191231x10k.htm'}]\n",
      "4636767000.0\n",
      "AMT\n",
      "[{'date': '2023-12-31', 'symbol': 'AMT', 'reportedCurrency': 'USD', 'cik': '0001053507', 'fillingDate': '2024-02-27', 'acceptedDate': '2024-02-27 16:21:21', 'calendarYear': '2023', 'period': 'FY', 'revenue': 11144200000, 'costOfRevenue': 3260600000, 'grossProfit': 7883600000, 'grossProfitRatio': 0.7074173112, 'researchAndDevelopmentExpenses': 0, 'generalAndAdministrativeExpenses': 0, 'sellingAndMarketingExpenses': 0, 'sellingGeneralAndAdministrativeExpenses': 992500000, 'otherExpenses': 3866200000, 'operatingExpenses': 5107500000, 'costAndExpenses': 8119300000, 'interestIncome': 143400000, 'interestExpense': 1398200000, 'depreciationAndAmortization': 3086500000, 'ebitda': 6006000000, 'ebitdaratio': 0.5389350514, 'operatingIncome': 3024900000, 'operatingIncomeRatio': 0.2714326735, 'totalOtherIncomeExpensesNet': -1503600000, 'incomeBeforeTax': 1521300000, 'incomeBeforeTaxRatio': 0.1365104718, 'incomeTaxExpense': 154200000, 'netIncome': 1483300000, 'netIncomeRatio': 0.1331006263, 'eps': 3.18, 'epsdiluted': 3.18, 'weightedAverageShsOut': 466063000, 'weightedAverageShsOutDil': 467162000, 'link': 'https://www.sec.gov/Archives/edgar/data/1053507/000105350724000011/0001053507-24-000011-index.htm', 'finalLink': 'https://www.sec.gov/Archives/edgar/data/1053507/000105350724000011/amt-20231231.htm'}, {'date': '2022-12-31', 'symbol': 'AMT', 'reportedCurrency': 'USD', 'cik': '0001053507', 'fillingDate': '2023-02-23', 'acceptedDate': '2023-02-23 16:13:08', 'calendarYear': '2022', 'period': 'FY', 'revenue': 10711100000, 'costOfRevenue': 3263800000, 'grossProfit': 7447300000, 'grossProfitRatio': 0.6952880657, 'researchAndDevelopmentExpenses': 0.16064643220584254, 'generalAndAdministrativeExpenses': 0, 'sellingAndMarketingExpenses': 0, 'sellingGeneralAndAdministrativeExpenses': 972300000, 'otherExpenses': 4122700000, 'operatingExpenses': 5095000000, 'costAndExpenses': 8358800000, 'interestIncome': 71600000, 'interestExpense': 1136500000, 'depreciationAndAmortization': 7604300000, 'ebitda': 6461900000, 'ebitdaratio': 0.5800244606, 'operatingIncome': 2352300000, 'operatingIncomeRatio': 0.2196132984, 'totalOtherIncomeExpensesNet': -631600000, 'incomeBeforeTax': 1720700000, 'incomeBeforeTaxRatio': 0.1606464322, 'incomeTaxExpense': 24000000, 'netIncome': 1765800000, 'netIncomeRatio': 0.1648570175, 'eps': 3.83, 'epsdiluted': 3.82, 'weightedAverageShsOut': 461519000, 'weightedAverageShsOutDil': 462750000, 'link': 'https://www.sec.gov/Archives/edgar/data/1053507/000105350723000023/0001053507-23-000023-index.htm', 'finalLink': 'https://www.sec.gov/Archives/edgar/data/1053507/000105350723000023/amt-20221231.htm'}, {'date': '2021-12-31', 'symbol': 'AMT', 'reportedCurrency': 'USD', 'cik': '0001053507', 'fillingDate': '2022-02-25', 'acceptedDate': '2022-02-24 17:52:05', 'calendarYear': '2021', 'period': 'FY', 'revenue': 9356900000, 'costOfRevenue': 2682000000, 'grossProfit': 6674900000, 'grossProfitRatio': 0.7133666065, 'researchAndDevelopmentExpenses': 0.30238647415276426, 'generalAndAdministrativeExpenses': 811600000, 'sellingAndMarketingExpenses': 0, 'sellingGeneralAndAdministrativeExpenses': 811600000, 'otherExpenses': 2731300000, 'operatingExpenses': 3542900000, 'costAndExpenses': 6224900000, 'interestIncome': 40400000, 'interestExpense': 870900000, 'depreciationAndAmortization': 5812600000, 'ebitda': 5876900000, 'ebitdaratio': 0.6488366874, 'operatingIncome': 3132000000, 'operatingIncomeRatio': 0.3347262448, 'totalOtherIncomeExpensesNet': -302600000, 'incomeBeforeTax': 2829400000, 'incomeBeforeTaxRatio': 0.3023864742, 'incomeTaxExpense': 261800000, 'netIncome': 2567700000, 'netIncomeRatio': 0.2744178093, 'eps': 5.69, 'epsdiluted': 5.66, 'weightedAverageShsOut': 451498000, 'weightedAverageShsOutDil': 453294000, 'link': 'https://www.sec.gov/Archives/edgar/data/1053507/000105350722000017/0001053507-22-000017-index.htm', 'finalLink': 'https://www.sec.gov/Archives/edgar/data/1053507/000105350722000017/amt-20211231.htm'}, {'date': '2020-12-31', 'symbol': 'AMT', 'reportedCurrency': 'USD', 'cik': '0001053507', 'fillingDate': '2021-02-25', 'acceptedDate': '2021-02-25 16:15:20', 'calendarYear': '2020', 'period': 'FY', 'revenue': 8041500000, 'costOfRevenue': 2227200000, 'grossProfit': 5814300000, 'grossProfitRatio': 0.7230367469, 'researchAndDevelopmentExpenses': 0.2264627246160542, 'generalAndAdministrativeExpenses': 781700000, 'sellingAndMarketingExpenses': -3000000, 'sellingGeneralAndAdministrativeExpenses': 778700000, 'otherExpenses': 2148100000, 'operatingExpenses': 2926800000, 'costAndExpenses': 5154000000, 'interestIncome': 39700000, 'interestExpense': 793500000, 'depreciationAndAmortization': 4928500000, 'ebitda': 4995300000, 'ebitdaratio': 0.5681402723, 'operatingIncome': 2887500000, 'operatingIncomeRatio': 0.3590747995, 'totalOtherIncomeExpensesNet': -1066400000, 'incomeBeforeTax': 1821100000, 'incomeBeforeTaxRatio': 0.2264627246, 'incomeTaxExpense': 129600000, 'netIncome': 1690600000, 'netIncomeRatio': 0.210234409, 'eps': 3.81, 'epsdiluted': 3.79, 'weightedAverageShsOut': 443640000, 'weightedAverageShsOutDil': 446104000, 'link': 'https://www.sec.gov/Archives/edgar/data/1053507/000105350721000026/0001053507-21-000026-index.htm', 'finalLink': 'https://www.sec.gov/Archives/edgar/data/1053507/000105350721000026/amt-20201231.htm'}, {'date': '2019-12-31', 'symbol': 'AMT', 'reportedCurrency': 'USD', 'cik': '0001053507', 'fillingDate': '2020-02-25', 'acceptedDate': '2020-02-25 16:10:15', 'calendarYear': '2019', 'period': 'FY', 'revenue': 7580300000, 'costOfRevenue': 2216800000, 'grossProfit': 5363500000, 'grossProfitRatio': 0.7075577484, 'researchAndDevelopmentExpenses': 0.2528132131973669, 'generalAndAdministrativeExpenses': 733200000, 'sellingAndMarketingExpenses': -2800000, 'sellingGeneralAndAdministrativeExpenses': 730400000, 'otherExpenses': 1944700000, 'operatingExpenses': 2675100000, 'costAndExpenses': 4891900000, 'interestIncome': 46800000, 'interestExpense': 814200000, 'depreciationAndAmortization': 4730300000, 'ebitda': 4628400000, 'ebitdaratio': 0.5992506893, 'operatingIncome': 2688400000, 'operatingIncomeRatio': 0.3546561482, 'totalOtherIncomeExpensesNet': -772000000, 'incomeBeforeTax': 1916400000, 'incomeBeforeTaxRatio': 0.2528132132, 'incomeTaxExpense': -200000, 'netIncome': 1887800000, 'netIncomeRatio': 0.2490402755, 'eps': 4.27, 'epsdiluted': 4.24, 'weightedAverageShsOut': 442319000, 'weightedAverageShsOutDil': 445520000, 'link': 'https://www.sec.gov/Archives/edgar/data/1053507/000105350720000028/0001053507-20-000028-index.htm', 'finalLink': 'https://www.sec.gov/Archives/edgar/data/1053507/000105350720000028/amt1231201910k.htm'}]\n",
      "4628400000.0\n",
      "ZG\n",
      "[{'date': '2023-12-31', 'symbol': 'ZG', 'reportedCurrency': 'USD', 'cik': '0001617640', 'fillingDate': '2023-12-31', 'acceptedDate': '2023-12-30 19:00:00', 'calendarYear': '2023', 'period': 'FY', 'revenue': 1945000000, 'costOfRevenue': 421000000, 'grossProfit': 1524000000, 'grossProfitRatio': 0.7835475578, 'researchAndDevelopmentExpenses': 560000000, 'generalAndAdministrativeExpenses': 553000000, 'sellingAndMarketingExpenses': 658000000, 'sellingGeneralAndAdministrativeExpenses': 1211000000, 'otherExpenses': 23000000, 'operatingExpenses': 1794000000, 'costAndExpenses': 2215000000, 'interestIncome': 0, 'interestExpense': 36000000, 'depreciationAndAmortization': 243000000, 'ebitda': 125000000, 'ebitdaratio': 0.0642673522, 'operatingIncome': -270000000, 'operatingIncomeRatio': -0.1388174807, 'totalOtherIncomeExpensesNet': 116000000, 'incomeBeforeTax': -154000000, 'incomeBeforeTaxRatio': -0.0791773779, 'incomeTaxExpense': 4000000, 'netIncome': -158000000, 'netIncomeRatio': -0.0812339332, 'eps': -0.68, 'epsdiluted': -0.68, 'weightedAverageShsOut': 233575000, 'weightedAverageShsOutDil': 233575000, 'link': None, 'finalLink': None}, {'date': '2022-12-31', 'symbol': 'ZG', 'reportedCurrency': 'USD', 'cik': '0001617640', 'fillingDate': '2023-02-15', 'acceptedDate': '2023-02-15 16:44:09', 'calendarYear': '2022', 'period': 'FY', 'revenue': 1958000000, 'costOfRevenue': 367000000, 'grossProfit': 1591000000, 'grossProfitRatio': 0.8125638407, 'researchAndDevelopmentExpenses': 498000000, 'generalAndAdministrativeExpenses': 498000000, 'sellingAndMarketingExpenses': 664000000, 'sellingGeneralAndAdministrativeExpenses': 1162000000, 'otherExpenses': 43000000, 'operatingExpenses': 1660000000, 'costAndExpenses': 2027000000, 'interestIncome': 35000000, 'interestExpense': 35000000, 'depreciationAndAmortization': 173000000, 'ebitda': 123000000, 'ebitdaratio': 0.0786516854, 'operatingIncome': -26000000, 'operatingIncomeRatio': -0.013278856, 'totalOtherIncomeExpensesNet': -16000000, 'incomeBeforeTax': -85000000, 'incomeBeforeTaxRatio': -0.0434116445, 'incomeTaxExpense': 3000000, 'netIncome': -88000000, 'netIncomeRatio': -0.0449438202, 'eps': -0.36, 'epsdiluted': -0.36, 'weightedAverageShsOut': 242163000, 'weightedAverageShsOutDil': 242163000, 'link': 'https://www.sec.gov/Archives/edgar/data/1617640/000161764023000010/0001617640-23-000010-index.htm', 'finalLink': 'https://www.sec.gov/Archives/edgar/data/1617640/000161764023000010/z-20221231.htm'}, {'date': '2021-12-31', 'symbol': 'ZG', 'reportedCurrency': 'USD', 'cik': '0001617640', 'fillingDate': '2022-02-10', 'acceptedDate': '2022-02-10 16:36:08', 'calendarYear': '2021', 'period': 'FY', 'revenue': 8147376000, 'costOfRevenue': 6394177000, 'grossProfit': 1753199000, 'grossProfitRatio': 0.2151857236, 'researchAndDevelopmentExpenses': 474396000, 'generalAndAdministrativeExpenses': 448773000, 'sellingAndMarketingExpenses': 1076235000, 'sellingGeneralAndAdministrativeExpenses': 1525008000, 'otherExpenses': 10188000, 'operatingExpenses': 1999404000, 'costAndExpenses': 8393581000, 'interestIncome': 128000000, 'interestExpense': 191910000, 'depreciationAndAmortization': 141000000, 'ebitda': 370000000, 'ebitdaratio': -0.0102526261, 'operatingIncome': -246205000, 'operatingIncomeRatio': -0.0302189318, 'totalOtherIncomeExpensesNet': -138000000, 'incomeBeforeTax': -526514000, 'incomeBeforeTaxRatio': -0.0646237513, 'incomeTaxExpense': 1263000, 'netIncome': -527777000, 'netIncomeRatio': -0.0647787705, 'eps': -2.11, 'epsdiluted': -2.11, 'weightedAverageShsOut': 249937000, 'weightedAverageShsOutDil': 249937000, 'link': 'https://www.sec.gov/Archives/edgar/data/1617640/000161764022000013/0001617640-22-000013-index.htm', 'finalLink': 'https://www.sec.gov/Archives/edgar/data/1617640/000161764022000013/z-20211231.htm'}, {'date': '2020-12-31', 'symbol': 'ZG', 'reportedCurrency': 'USD', 'cik': '0001617640', 'fillingDate': '2021-02-12', 'acceptedDate': '2021-02-12 12:01:06', 'calendarYear': '2020', 'period': 'FY', 'revenue': 3339817000, 'costOfRevenue': 1756395000, 'grossProfit': 1583422000, 'grossProfitRatio': 0.4741044195, 'researchAndDevelopmentExpenses': 518072000, 'generalAndAdministrativeExpenses': 357122000, 'sellingAndMarketingExpenses': 672816000, 'sellingGeneralAndAdministrativeExpenses': 1029938000, 'otherExpenses': 25529000, 'operatingExpenses': 1548010000, 'costAndExpenses': 3304405000, 'interestIncome': 138000000, 'interestExpense': 155227000, 'depreciationAndAmortization': 134369000, 'ebitda': 119958000, 'ebitdaratio': 0.058479252, 'operatingIncome': 60941000, 'operatingIncomeRatio': 0.0182468081, 'totalOtherIncomeExpensesNet': -205050000, 'incomeBeforeTax': -169638000, 'incomeBeforeTaxRatio': -0.0507926033, 'incomeTaxExpense': -7523000, 'netIncome': -162115000, 'netIncomeRatio': -0.0485400847, 'eps': -0.72, 'epsdiluted': -0.72, 'weightedAverageShsOut': 223848000, 'weightedAverageShsOutDil': 223848000, 'link': 'https://www.sec.gov/Archives/edgar/data/1617640/000161764021000012/0001617640-21-000012-index.htm', 'finalLink': 'https://www.sec.gov/Archives/edgar/data/1617640/000161764021000012/z-20201231.htm'}, {'date': '2019-12-31', 'symbol': 'ZG', 'reportedCurrency': 'USD', 'cik': '0001617640', 'fillingDate': '2020-02-19', 'acceptedDate': '2020-02-19 16:32:35', 'calendarYear': '2019', 'period': 'FY', 'revenue': 2742837000, 'costOfRevenue': 1432021000, 'grossProfit': 1310816000, 'grossProfitRatio': 0.4779051763, 'researchAndDevelopmentExpenses': 477347000, 'generalAndAdministrativeExpenses': 366176000, 'sellingAndMarketingExpenses': 714128000, 'sellingGeneralAndAdministrativeExpenses': 1080304000, 'otherExpenses': 39658000, 'operatingExpenses': 1557651000, 'costAndExpenses': 2989672000, 'interestIncome': 62134000, 'interestExpense': 101792000, 'depreciationAndAmortization': 110609000, 'ebitda': -97218000, 'ebitdaratio': -0.0352073419, 'operatingIncome': -246835000, 'operatingIncomeRatio': -0.089992588, 'totalOtherIncomeExpensesNet': -62784000, 'incomeBeforeTax': -309619000, 'incomeBeforeTaxRatio': -0.1128827561, 'incomeTaxExpense': -4258000, 'netIncome': -305361000, 'netIncomeRatio': -0.1113303488, 'eps': -1.48, 'epsdiluted': -1.48, 'weightedAverageShsOut': 206380000, 'weightedAverageShsOutDil': 206380000, 'link': 'https://www.sec.gov/Archives/edgar/data/1617640/000161764020000015/0001617640-20-000015-index.htm', 'finalLink': 'https://www.sec.gov/Archives/edgar/data/1617640/000161764020000015/z-20191231.htm'}]\n",
      "-97218000.0\n",
      "GET DATA COMPLETED\n",
      "ANALUYSIS COMPLETED\n"
     ]
    }
   ],
   "source": [
    "for sector in sectors:\n",
    "\n",
    "    if (len(initial_data_sectors_df[sector].index) > len(pd.DataFrame().index)):\n",
    "        df = initial_data_sectors_df[sector]\n",
    "    else:\n",
    "        df = get_data(sector_ticker=sector, tickers=sectors_tickers[sector])\n",
    "        print(\"GET DATA COMPLETED\")\n",
    "        initial_data_sectors_df[sector] = df\n",
    "\n",
    "    \n",
    "    df = analysis(df = df)\n",
    "    print(\"ANALUYSIS COMPLETED\")\n",
    "    sectors_df[sector] = df\n",
    "    \n"
   ]
  },
  {
   "cell_type": "code",
   "execution_count": 4,
   "metadata": {},
   "outputs": [
    {
     "ename": "NameError",
     "evalue": "name 'plot_3d' is not defined",
     "output_type": "error",
     "traceback": [
      "\u001b[1;31m---------------------------------------------------------------------------\u001b[0m",
      "\u001b[1;31mNameError\u001b[0m                                 Traceback (most recent call last)",
      "\u001b[1;32m~\\AppData\\Local\\Temp\\ipykernel_20116\\2531647007.py\u001b[0m in \u001b[0;36m<cell line: 11>\u001b[1;34m()\u001b[0m\n\u001b[0;32m      9\u001b[0m     ]\n\u001b[0;32m     10\u001b[0m \u001b[1;33m\u001b[0m\u001b[0m\n\u001b[1;32m---> 11\u001b[1;33m \u001b[0mplot_3d\u001b[0m\u001b[1;33m(\u001b[0m\u001b[0mdf\u001b[0m \u001b[1;33m=\u001b[0m \u001b[0msectors_df\u001b[0m\u001b[1;33m[\u001b[0m\u001b[1;34m\"^SP500-60\"\u001b[0m\u001b[1;33m]\u001b[0m\u001b[1;33m)\u001b[0m\u001b[1;33m\u001b[0m\u001b[1;33m\u001b[0m\u001b[0m\n\u001b[0m\u001b[0;32m     12\u001b[0m \u001b[0msectors_df\u001b[0m\u001b[1;33m[\u001b[0m\u001b[1;34m\"^SP500-60\"\u001b[0m\u001b[1;33m]\u001b[0m\u001b[1;33m\u001b[0m\u001b[1;33m\u001b[0m\u001b[0m\n",
      "\u001b[1;31mNameError\u001b[0m: name 'plot_3d' is not defined"
     ]
    }
   ],
   "source": [
    "sectors = [\n",
    "    \"^GSPC\", \n",
    "    \"^SP500-45\",\n",
    "    \"^SP500-30\",\n",
    "    \"^SP500-55\",\n",
    "    \"^SP500-35\",\n",
    "    \"^SP500-25\",\n",
    "    \"^SP500-60\"\n",
    "    ]\n",
    "\n",
    "plot_3d(df = sectors_df[\"^SP500-60\"])\n",
    "sectors_df[\"^SP500-60\"]"
   ]
  },
  {
   "cell_type": "code",
   "execution_count": 3,
   "metadata": {},
   "outputs": [
    {
     "ename": "NameError",
     "evalue": "name 'df' is not defined",
     "output_type": "error",
     "traceback": [
      "\u001b[1;31m---------------------------------------------------------------------------\u001b[0m",
      "\u001b[1;31mNameError\u001b[0m                                 Traceback (most recent call last)",
      "\u001b[1;32m~\\AppData\\Local\\Temp\\ipykernel_20116\\1186959525.py\u001b[0m in \u001b[0;36m<cell line: 1>\u001b[1;34m()\u001b[0m\n\u001b[1;32m----> 1\u001b[1;33m \u001b[0msectors_df\u001b[0m\u001b[1;33m[\u001b[0m\u001b[1;34m\"^GSPC\"\u001b[0m\u001b[1;33m]\u001b[0m \u001b[1;33m=\u001b[0m \u001b[0mdf\u001b[0m\u001b[1;33m\u001b[0m\u001b[1;33m\u001b[0m\u001b[0m\n\u001b[0m",
      "\u001b[1;31mNameError\u001b[0m: name 'df' is not defined"
     ]
    }
   ],
   "source": [
    "sectors_df[\"^GSPC\"] = df"
   ]
  },
  {
   "cell_type": "markdown",
   "metadata": {},
   "source": [
    "## Analyse total DFs"
   ]
  },
  {
   "cell_type": "code",
   "execution_count": 45,
   "metadata": {},
   "outputs": [
    {
     "name": "stdout",
     "output_type": "stream",
     "text": [
      "=== Sector: health ===\n",
      "\n",
      "Stocks sorted by GQV_avg:\n",
      "  LLY - GQV_avg: 0.51 | G_avg: 0.79 | V_avg: 0.52 | Q_avg: 0.22\n",
      "  NVO - GQV_avg: 0.49 | G_avg: 0.64 | V_avg: 0.05 | Q_avg: 0.76\n",
      "  SUPN - GQV_avg: 0.42 | G_avg: 0.45 | V_avg: 0.64 | Q_avg: 0.18\n",
      "  PFE - GQV_avg: 0.29 | G_avg: 0.53 | V_avg: 0.10 | Q_avg: 0.23\n",
      "  JNJ - GQV_avg: 0.21 | G_avg: 0.23 | V_avg: 0.14 | Q_avg: 0.26\n",
      "\n",
      "\n",
      "=== Sector: bigtech ===\n",
      "\n",
      "Stocks sorted by GQV_avg:\n",
      "  CFLT - GQV_avg: 0.39 | G_avg: 0.41 | V_avg: 0.36 | Q_avg: 0.41\n",
      "  MSFT - GQV_avg: 0.38 | G_avg: 0.36 | V_avg: 0.25 | Q_avg: 0.52\n",
      "  CRM - GQV_avg: 0.37 | G_avg: 0.35 | V_avg: 0.23 | Q_avg: 0.53\n",
      "  ORCL - GQV_avg: 0.34 | G_avg: 0.34 | V_avg: 0.22 | Q_avg: 0.48\n",
      "  AAPL - GQV_avg: 0.32 | G_avg: 0.31 | V_avg: 0.22 | Q_avg: 0.44\n",
      "  DDOG - GQV_avg: 0.11 | G_avg: 1.00 | V_avg: 0.77 | Q_avg: -1.43\n",
      "\n",
      "\n",
      "=== Sector: staples ===\n",
      "\n",
      "Stocks sorted by GQV_avg:\n",
      "  PG - GQV_avg: 0.84 | G_avg: 0.90 | V_avg: 0.94 | Q_avg: 0.68\n",
      "  KO - GQV_avg: 0.83 | G_avg: 0.91 | V_avg: 0.89 | Q_avg: 0.68\n",
      "  PEP - GQV_avg: 0.78 | G_avg: 0.91 | V_avg: 0.61 | Q_avg: 0.83\n",
      "\n",
      "\n",
      "=== Sector: discretionary ===\n",
      "\n",
      "Stocks sorted by GQV_avg:\n",
      "  TSLA - GQV_avg: 0.83 | G_avg: 0.96 | V_avg: 1.00 | Q_avg: 0.54\n",
      "  WMT - GQV_avg: 0.35 | G_avg: 0.48 | V_avg: 0.25 | Q_avg: 0.32\n",
      "  TGT - GQV_avg: 0.32 | G_avg: 0.35 | V_avg: 0.12 | Q_avg: 0.49\n",
      "  LOW - GQV_avg: 0.25 | G_avg: 0.17 | V_avg: 0.25 | Q_avg: 0.34\n",
      "\n",
      "\n",
      "=== Sector: Utilities ===\n",
      "\n",
      "Stocks sorted by GQV_avg:\n",
      "  NEE - GQV_avg: 0.84 | G_avg: 0.97 | V_avg: 0.89 | Q_avg: 0.65\n",
      "  IBDRY - GQV_avg: 0.65 | G_avg: 0.46 | V_avg: 0.70 | Q_avg: 0.77\n",
      "  SO - GQV_avg: 0.64 | G_avg: 0.84 | V_avg: 0.73 | Q_avg: 0.35\n",
      "\n",
      "\n",
      "=== Sector: real estate ===\n",
      "\n",
      "Stocks sorted by GQV_avg:\n",
      "  EQIX - GQV_avg: 0.61 | G_avg: 0.86 | V_avg: 0.58 | Q_avg: 0.40\n",
      "  AMT - GQV_avg: 0.59 | G_avg: 0.69 | V_avg: 0.38 | Q_avg: 0.70\n",
      "  AMT - GQV_avg: 0.59 | G_avg: 0.69 | V_avg: 0.38 | Q_avg: 0.70\n",
      "  SPG - GQV_avg: 0.37 | G_avg: 0.36 | V_avg: 0.38 | Q_avg: 0.37\n",
      "  ZG - GQV_avg: -0.39 | G_avg: -0.10 | V_avg: 0.45 | Q_avg: -1.52\n",
      "\n",
      "\n",
      "=== Sector: finance ===\n",
      "\n",
      "Stocks sorted by GQV_avg:\n",
      "  MA - GQV_avg: 0.61 | G_avg: 0.63 | V_avg: 0.84 | Q_avg: 0.37\n",
      "  HD - GQV_avg: 0.55 | G_avg: 0.48 | V_avg: 0.64 | Q_avg: 0.55\n",
      "  SEIC - GQV_avg: 0.39 | G_avg: 0.47 | V_avg: 0.40 | Q_avg: 0.30\n",
      "  PYPL - GQV_avg: 0.39 | G_avg: 0.43 | V_avg: 0.36 | Q_avg: 0.37\n",
      "  WFC - GQV_avg: 0.33 | G_avg: 0.29 | V_avg: 0.24 | Q_avg: 0.46\n",
      "  JPM - GQV_avg: 0.31 | G_avg: 0.34 | V_avg: 0.25 | Q_avg: 0.33\n",
      "  BRK-B - GQV_avg: 0.18 | G_avg: 0.17 | V_avg: 0.15 | Q_avg: 0.21\n",
      "  UPST - GQV_avg: 0.13 | G_avg: 0.57 | V_avg: 0.11 | Q_avg: -0.29\n",
      "\n",
      "\n"
     ]
    }
   ],
   "source": [
    "def rank_and_categorize_stocks(sectors_df, top_n=10):\n",
    "    results = {}\n",
    "\n",
    "    for sector, sector_data in sectors_df.items():\n",
    "        if sector_data.empty:\n",
    "            continue\n",
    "\n",
    "        # Создаем новый столбец для итогового балла\n",
    "        sector_data['score'] = 0\n",
    "\n",
    "        # Сортируем по каждому из параметров и GQV_avg\n",
    "        rankings = {}\n",
    "        for col in ['G_avg', 'V_avg', 'Q_avg', 'GQV_avg']:\n",
    "            rankings[col] = sector_data.sort_values(by=col, ascending=False).head(top_n)\n",
    "\n",
    "            # Применяем баллы по позиции для топ-3\n",
    "            for i, row in rankings[col].iterrows():\n",
    "                if i == 0:\n",
    "                    sector_data.loc[sector_data['Ticker'] == row['Ticker'], 'score'] += 5\n",
    "                elif i == 1:\n",
    "                    sector_data.loc[sector_data['Ticker'] == row['Ticker'], 'score'] += 4\n",
    "                elif i == 2:\n",
    "                    sector_data.loc[sector_data['Ticker'] == row['Ticker'], 'score'] += 3\n",
    "\n",
    "        # Обработка нейтральных акций\n",
    "        neutral_tickers = pd.concat(rankings.values())['Ticker'].unique()\n",
    "        neutral_stocks = sector_data[~sector_data['Ticker'].isin(neutral_tickers)]\n",
    "        sector_data.loc[neutral_stocks.index, 'score'] += 1  # Нейтральные акции\n",
    "\n",
    "        # Обработка аутсайдеров (отрицательный GQV_avg)\n",
    "        underperformers = sector_data[sector_data['GQV_avg'] < 0]\n",
    "        sector_data.loc[underperformers.index, 'score'] = -2  # Аутсайдеры\n",
    "\n",
    "        # Сохраняем результаты\n",
    "        results[sector] = {\n",
    "            \"rankings\": rankings,\n",
    "            \"underperformers\": underperformers,\n",
    "            \"neutral_stocks\": neutral_stocks,\n",
    "            \"sector_data\": sector_data  # Добавляем обновленные данные с баллами\n",
    "        }\n",
    "\n",
    "    return results\n",
    "\n",
    "\n",
    "def print_sector_rankings(results):\n",
    "    for sector, data in results.items():\n",
    "        print(f\"=== Sector: {sectors_names[sector]} ===\")\n",
    "        \n",
    "        # Вывод топов с баллами\n",
    "        print(\"\\nTop stocks by metrics with scores:\")\n",
    "        for metric, ranking in data[\"rankings\"].items():\n",
    "            print(f\"  - {metric} (Top {len(ranking)}):\")\n",
    "            for idx, row in ranking.iterrows():\n",
    "                print(f\"    {row['Ticker']} - {metric}: {row[metric]:.2f}\")\n",
    "\n",
    "        # Вывод аутсайдеров\n",
    "        if not data[\"underperformers\"].empty:\n",
    "            print(\"\\nUnderperformers (Negative GQV_avg):\")\n",
    "            for idx, row in data[\"underperformers\"].iterrows():\n",
    "                print(f\"  {row['Ticker']} - GQV_avg: {row['GQV_avg']:.2f}\")\n",
    "\n",
    "        # Вывод нейтральных акций\n",
    "        if not data[\"neutral_stocks\"].empty:\n",
    "            print(\"\\nNeutral stocks (Not in Top and not underperformers):\")\n",
    "            for idx, row in data[\"neutral_stocks\"].iterrows():\n",
    "                print(f\"  {row['Ticker']} - GQV_avg: {row['GQV_avg']:.2f}\")\n",
    "\n",
    "        # Вывод всех акций по баллам (для наглядности)\n",
    "        # print(\"\\nAll stocks sorted by score:\")\n",
    "        # sorted_by_score = data[\"sector_data\"].sort_values(by=\"score\", ascending=False)\n",
    "        # for idx, row in sorted_by_score.iterrows():\n",
    "        #     print(f\"  {row['Ticker']} - Score: {row['score']}\")\n",
    "\n",
    "        print(\"\\n\")\n",
    "\n",
    "def print_all_stocks_by_gqv(results):\n",
    "    for sector, data in results.items():\n",
    "        print(f\"=== Sector: {sectors_names[sector]} ===\")\n",
    "        \n",
    "        # Сортируем акции по убыванию GQV_avg\n",
    "        sorted_by_gqv = data[\"sector_data\"].sort_values(by=\"GQV_avg\", ascending=False)\n",
    "        \n",
    "        # Выводим акции с их G_avg, V_avg, Q_avg и GQV_avg\n",
    "        print(\"\\nStocks sorted by GQV_avg:\")\n",
    "        for idx, row in sorted_by_gqv.iterrows():\n",
    "            print(f\"  {row['Ticker']} - GQV_avg: {row['GQV_avg']:.2f} | \"\n",
    "                  f\"G_avg: {row['G_avg']:.2f} | V_avg: {row['V_avg']:.2f} | Q_avg: {row['Q_avg']:.2f}\")\n",
    "        \n",
    "        print(\"\\n\")\n",
    "\n",
    "\n",
    "\n",
    "# Использование:\n",
    "sector_rankings = rank_and_categorize_stocks(sectors_df, top_n=3)\n",
    "# print_sector_rankings(sector_rankings)\n",
    "\n",
    "print_all_stocks_by_gqv(sector_rankings)\n",
    "\n"
   ]
  },
  {
   "cell_type": "code",
   "execution_count": 33,
   "metadata": {},
   "outputs": [
    {
     "data": {
      "application/vnd.plotly.v1+json": {
       "config": {
        "plotlyServerURL": "https://plot.ly"
       },
       "data": [
        {
         "customdata": [
          [
           "JNJ",
           0.19156088058054346
          ],
          [
           "NVO",
           0.4458841062925783
          ],
          [
           "PFE",
           0.3196699872893922
          ],
          [
           "SUPN",
           0.38653737471093835
          ],
          [
           "LLY",
           0.5070427898956412
          ]
         ],
         "hovertemplate": "Sector=^SP500-35<br>G_avg=%{x}<br>V_avg=%{y}<br>Q_avg=%{z}<br>Ticker=%{customdata[0]}<br>GQV_avg=%{customdata[1]}<extra></extra>",
         "legendgroup": "^SP500-35",
         "marker": {
          "color": "#636efa",
          "symbol": "circle"
         },
         "mode": "markers",
         "name": "^SP500-35",
         "scene": "scene",
         "showlegend": true,
         "type": "scatter3d",
         "x": [
          0.22295425239336564,
          0.6053626390412128,
          0.4773777654636452,
          0.42856588250864835,
          0.7591621286508099
         ],
         "y": [
          0.13784528525720233,
          0.05240421460138927,
          0.10480598774362138,
          0.6408229229581985,
          0.5179506802690056
         ],
         "z": [
          0.21388310409106254,
          0.6798854652351329,
          0.37682620866091004,
          0.0902233186659681,
          0.24401556076710823
         ]
        },
        {
         "customdata": [
          [
           "AAPL",
           0.2945708458853156
          ],
          [
           "MSFT",
           0.34214676254515153
          ],
          [
           "CFLT",
           0.3121115131675076
          ],
          [
           "ORCL",
           0.35537458092355
          ],
          [
           "CRM",
           0.346909301370032
          ],
          [
           "DDOG",
           0.14424286002756284
          ]
         ],
         "hovertemplate": "Sector=^SP500-45<br>G_avg=%{x}<br>V_avg=%{y}<br>Q_avg=%{z}<br>Ticker=%{customdata[0]}<br>GQV_avg=%{customdata[1]}<extra></extra>",
         "legendgroup": "^SP500-45",
         "marker": {
          "color": "#EF553B",
          "symbol": "circle"
         },
         "mode": "markers",
         "name": "^SP500-45",
         "scene": "scene",
         "showlegend": true,
         "type": "scatter3d",
         "x": [
          0.2936687644389672,
          0.33192016432982613,
          0.36496532360884615,
          0.32493769580394766,
          0.334530307502212,
          0.95
         ],
         "y": [
          0.2213800757950985,
          0.25218726821001414,
          0.36035348528920086,
          0.21759912646783997,
          0.2307731883909301,
          0.7722733000375852
         ],
         "z": [
          0.36866369742188115,
          0.44233285509561415,
          0.21101573060447584,
          0.5235869204988622,
          0.47542440821695403,
          -1.2895447199548966
         ]
        },
        {
         "customdata": [
          [
           "PEP",
           0.8108224660766225
          ],
          [
           "PG",
           0.8306594134397898
          ],
          [
           "KO",
           0.8510035363637906
          ]
         ],
         "hovertemplate": "Sector=^SP500-30<br>G_avg=%{x}<br>V_avg=%{y}<br>Q_avg=%{z}<br>Ticker=%{customdata[0]}<br>GQV_avg=%{customdata[1]}<extra></extra>",
         "legendgroup": "^SP500-30",
         "marker": {
          "color": "#00cc96",
          "symbol": "circle"
         },
         "mode": "markers",
         "name": "^SP500-30",
         "scene": "scene",
         "showlegend": true,
         "type": "scatter3d",
         "x": [
          0.8553847128833398,
          0.8490602006461925,
          0.8428494991689813
         ],
         "y": [
          0.6113855316149284,
          0.9368084990564995,
          0.8923009796764224
         ],
         "z": [
          0.9656971537315991,
          0.7061095406166772,
          0.8178601302459676
         ]
        },
        {
         "customdata": [
          [
           "WMT",
           0.348350254927739
          ],
          [
           "LOW",
           0.31379743479484307
          ],
          [
           "TGT",
           0.3411485400270697
          ],
          [
           "TSLA",
           0.8051306655244331
          ]
         ],
         "hovertemplate": "Sector=^SP500-25<br>G_avg=%{x}<br>V_avg=%{y}<br>Q_avg=%{z}<br>Ticker=%{customdata[0]}<br>GQV_avg=%{customdata[1]}<extra></extra>",
         "legendgroup": "^SP500-25",
         "marker": {
          "color": "#ab63fa",
          "symbol": "circle"
         },
         "mode": "markers",
         "name": "^SP500-25",
         "scene": "scene",
         "showlegend": true,
         "type": "scatter3d",
         "x": [
          0.4459124098101114,
          0.20435908489248086,
          0.33236234910560347,
          0.9075216972034715
         ],
         "y": [
          0.2490751613719469,
          0.2508057450914635,
          0.11594852332095415,
          1
         ],
         "z": [
          0.35006319360115856,
          0.4862274744005847,
          0.5751347476546513,
          0.507870299369828
         ]
        },
        {
         "customdata": [
          [
           "IBDRY",
           0.678836864706542
          ],
          [
           "NEE",
           0.8597407029540601
          ],
          [
           "SO",
           0.6751630651410868
          ]
         ],
         "hovertemplate": "Sector=^SP500-55<br>G_avg=%{x}<br>V_avg=%{y}<br>Q_avg=%{z}<br>Ticker=%{customdata[0]}<br>GQV_avg=%{customdata[1]}<extra></extra>",
         "legendgroup": "^SP500-55",
         "marker": {
          "color": "#FFA15A",
          "symbol": "circle"
         },
         "mode": "markers",
         "name": "^SP500-55",
         "scene": "scene",
         "showlegend": true,
         "type": "scatter3d",
         "x": [
          0.49829756169682404,
          0.9187267162356578,
          0.802017269630376
         ],
         "y": [
          0.7026216074275436,
          0.8910901604522727,
          0.7263952421166056
         ],
         "z": [
          0.8355914249952584,
          0.7694052321742495,
          0.49707668367627894
         ]
        },
        {
         "customdata": [
          [
           "EQIX",
           0.642767580725945
          ],
          [
           "AMT",
           0.6182928860364041
          ],
          [
           "SPG",
           0.3861051023392295
          ],
          [
           "AMT",
           0.6182617705894883
          ],
          [
           "ZG",
           -0.3596257740978783
          ]
         ],
         "hovertemplate": "Sector=^SP500-60<br>G_avg=%{x}<br>V_avg=%{y}<br>Q_avg=%{z}<br>Ticker=%{customdata[0]}<br>GQV_avg=%{customdata[1]}<extra></extra>",
         "legendgroup": "^SP500-60",
         "marker": {
          "color": "#19d3f3",
          "symbol": "circle"
         },
         "mode": "markers",
         "name": "^SP500-60",
         "scene": "scene",
         "showlegend": true,
         "type": "scatter3d",
         "x": [
          0.8054888713862542,
          0.6858454380967248,
          0.349357555312085,
          0.6857944064711342,
          -0.1431738243447906
         ],
         "y": [
          0.5754364665330031,
          0.3823001032285129,
          0.3754388351454631,
          0.382244066264783,
          0.44979145772375206
         ],
         "z": [
          0.5473774042585775,
          0.7867331167839745,
          0.4335189165601406,
          0.7867468390325479,
          -1.3854949556725964
         ]
        },
        {
         "customdata": [
          [
           "MA",
           0.5770361554749278
          ],
          [
           "JPM",
           0.35161633252640895
          ],
          [
           "SEIC",
           0.34416749555031956
          ],
          [
           "PYPL",
           0.3609288776872828
          ],
          [
           "HD",
           0.5326257415857596
          ],
          [
           "WFC",
           0.37265307535542663
          ],
          [
           "BRK-B",
           0.14845665331777222
          ],
          [
           "UPST",
           0.04728342041366126
          ]
         ],
         "hovertemplate": "Sector=^GSPC<br>G_avg=%{x}<br>V_avg=%{y}<br>Q_avg=%{z}<br>Ticker=%{customdata[0]}<br>GQV_avg=%{customdata[1]}<extra></extra>",
         "legendgroup": "^GSPC",
         "marker": {
          "color": "#FF6692",
          "symbol": "circle"
         },
         "mode": "markers",
         "name": "^GSPC",
         "scene": "scene",
         "showlegend": true,
         "type": "scatter3d",
         "x": [
          0.5985580099122528,
          0.33685427316220334,
          0.43528832349310126,
          0.4203630003378079,
          0.46476245475805006,
          0.2908079922310691,
          0.17030302194365182,
          0.517885750084703
         ],
         "y": [
          0.8419407865026464,
          0.249017434516645,
          0.3996604790887207,
          0.3563908422266133,
          0.6356461697450441,
          0.24192084864717173,
          0.15040859784842142,
          0.11284868793530575
         ],
         "z": [
          0.2906096700098842,
          0.46897728990037846,
          0.19755368406913681,
          0.3060327904974273,
          0.4974686002541846,
          0.585230385188039,
          0.12465834016124346,
          -0.48888417677902496
         ]
        }
       ],
       "layout": {
        "legend": {
         "title": {
          "text": "Sector"
         },
         "tracegroupgap": 0
        },
        "scene": {
         "domain": {
          "x": [
           0,
           1
          ],
          "y": [
           0,
           1
          ]
         },
         "xaxis": {
          "title": {
           "text": "Growth (G)"
          }
         },
         "yaxis": {
          "title": {
           "text": "Valuation (V)"
          }
         },
         "zaxis": {
          "title": {
           "text": "Quality (Q)"
          }
         }
        },
        "template": {
         "data": {
          "bar": [
           {
            "error_x": {
             "color": "#2a3f5f"
            },
            "error_y": {
             "color": "#2a3f5f"
            },
            "marker": {
             "line": {
              "color": "#E5ECF6",
              "width": 0.5
             },
             "pattern": {
              "fillmode": "overlay",
              "size": 10,
              "solidity": 0.2
             }
            },
            "type": "bar"
           }
          ],
          "barpolar": [
           {
            "marker": {
             "line": {
              "color": "#E5ECF6",
              "width": 0.5
             },
             "pattern": {
              "fillmode": "overlay",
              "size": 10,
              "solidity": 0.2
             }
            },
            "type": "barpolar"
           }
          ],
          "carpet": [
           {
            "aaxis": {
             "endlinecolor": "#2a3f5f",
             "gridcolor": "white",
             "linecolor": "white",
             "minorgridcolor": "white",
             "startlinecolor": "#2a3f5f"
            },
            "baxis": {
             "endlinecolor": "#2a3f5f",
             "gridcolor": "white",
             "linecolor": "white",
             "minorgridcolor": "white",
             "startlinecolor": "#2a3f5f"
            },
            "type": "carpet"
           }
          ],
          "choropleth": [
           {
            "colorbar": {
             "outlinewidth": 0,
             "ticks": ""
            },
            "type": "choropleth"
           }
          ],
          "contour": [
           {
            "colorbar": {
             "outlinewidth": 0,
             "ticks": ""
            },
            "colorscale": [
             [
              0,
              "#0d0887"
             ],
             [
              0.1111111111111111,
              "#46039f"
             ],
             [
              0.2222222222222222,
              "#7201a8"
             ],
             [
              0.3333333333333333,
              "#9c179e"
             ],
             [
              0.4444444444444444,
              "#bd3786"
             ],
             [
              0.5555555555555556,
              "#d8576b"
             ],
             [
              0.6666666666666666,
              "#ed7953"
             ],
             [
              0.7777777777777778,
              "#fb9f3a"
             ],
             [
              0.8888888888888888,
              "#fdca26"
             ],
             [
              1,
              "#f0f921"
             ]
            ],
            "type": "contour"
           }
          ],
          "contourcarpet": [
           {
            "colorbar": {
             "outlinewidth": 0,
             "ticks": ""
            },
            "type": "contourcarpet"
           }
          ],
          "heatmap": [
           {
            "colorbar": {
             "outlinewidth": 0,
             "ticks": ""
            },
            "colorscale": [
             [
              0,
              "#0d0887"
             ],
             [
              0.1111111111111111,
              "#46039f"
             ],
             [
              0.2222222222222222,
              "#7201a8"
             ],
             [
              0.3333333333333333,
              "#9c179e"
             ],
             [
              0.4444444444444444,
              "#bd3786"
             ],
             [
              0.5555555555555556,
              "#d8576b"
             ],
             [
              0.6666666666666666,
              "#ed7953"
             ],
             [
              0.7777777777777778,
              "#fb9f3a"
             ],
             [
              0.8888888888888888,
              "#fdca26"
             ],
             [
              1,
              "#f0f921"
             ]
            ],
            "type": "heatmap"
           }
          ],
          "heatmapgl": [
           {
            "colorbar": {
             "outlinewidth": 0,
             "ticks": ""
            },
            "colorscale": [
             [
              0,
              "#0d0887"
             ],
             [
              0.1111111111111111,
              "#46039f"
             ],
             [
              0.2222222222222222,
              "#7201a8"
             ],
             [
              0.3333333333333333,
              "#9c179e"
             ],
             [
              0.4444444444444444,
              "#bd3786"
             ],
             [
              0.5555555555555556,
              "#d8576b"
             ],
             [
              0.6666666666666666,
              "#ed7953"
             ],
             [
              0.7777777777777778,
              "#fb9f3a"
             ],
             [
              0.8888888888888888,
              "#fdca26"
             ],
             [
              1,
              "#f0f921"
             ]
            ],
            "type": "heatmapgl"
           }
          ],
          "histogram": [
           {
            "marker": {
             "pattern": {
              "fillmode": "overlay",
              "size": 10,
              "solidity": 0.2
             }
            },
            "type": "histogram"
           }
          ],
          "histogram2d": [
           {
            "colorbar": {
             "outlinewidth": 0,
             "ticks": ""
            },
            "colorscale": [
             [
              0,
              "#0d0887"
             ],
             [
              0.1111111111111111,
              "#46039f"
             ],
             [
              0.2222222222222222,
              "#7201a8"
             ],
             [
              0.3333333333333333,
              "#9c179e"
             ],
             [
              0.4444444444444444,
              "#bd3786"
             ],
             [
              0.5555555555555556,
              "#d8576b"
             ],
             [
              0.6666666666666666,
              "#ed7953"
             ],
             [
              0.7777777777777778,
              "#fb9f3a"
             ],
             [
              0.8888888888888888,
              "#fdca26"
             ],
             [
              1,
              "#f0f921"
             ]
            ],
            "type": "histogram2d"
           }
          ],
          "histogram2dcontour": [
           {
            "colorbar": {
             "outlinewidth": 0,
             "ticks": ""
            },
            "colorscale": [
             [
              0,
              "#0d0887"
             ],
             [
              0.1111111111111111,
              "#46039f"
             ],
             [
              0.2222222222222222,
              "#7201a8"
             ],
             [
              0.3333333333333333,
              "#9c179e"
             ],
             [
              0.4444444444444444,
              "#bd3786"
             ],
             [
              0.5555555555555556,
              "#d8576b"
             ],
             [
              0.6666666666666666,
              "#ed7953"
             ],
             [
              0.7777777777777778,
              "#fb9f3a"
             ],
             [
              0.8888888888888888,
              "#fdca26"
             ],
             [
              1,
              "#f0f921"
             ]
            ],
            "type": "histogram2dcontour"
           }
          ],
          "mesh3d": [
           {
            "colorbar": {
             "outlinewidth": 0,
             "ticks": ""
            },
            "type": "mesh3d"
           }
          ],
          "parcoords": [
           {
            "line": {
             "colorbar": {
              "outlinewidth": 0,
              "ticks": ""
             }
            },
            "type": "parcoords"
           }
          ],
          "pie": [
           {
            "automargin": true,
            "type": "pie"
           }
          ],
          "scatter": [
           {
            "fillpattern": {
             "fillmode": "overlay",
             "size": 10,
             "solidity": 0.2
            },
            "type": "scatter"
           }
          ],
          "scatter3d": [
           {
            "line": {
             "colorbar": {
              "outlinewidth": 0,
              "ticks": ""
             }
            },
            "marker": {
             "colorbar": {
              "outlinewidth": 0,
              "ticks": ""
             }
            },
            "type": "scatter3d"
           }
          ],
          "scattercarpet": [
           {
            "marker": {
             "colorbar": {
              "outlinewidth": 0,
              "ticks": ""
             }
            },
            "type": "scattercarpet"
           }
          ],
          "scattergeo": [
           {
            "marker": {
             "colorbar": {
              "outlinewidth": 0,
              "ticks": ""
             }
            },
            "type": "scattergeo"
           }
          ],
          "scattergl": [
           {
            "marker": {
             "colorbar": {
              "outlinewidth": 0,
              "ticks": ""
             }
            },
            "type": "scattergl"
           }
          ],
          "scattermapbox": [
           {
            "marker": {
             "colorbar": {
              "outlinewidth": 0,
              "ticks": ""
             }
            },
            "type": "scattermapbox"
           }
          ],
          "scatterpolar": [
           {
            "marker": {
             "colorbar": {
              "outlinewidth": 0,
              "ticks": ""
             }
            },
            "type": "scatterpolar"
           }
          ],
          "scatterpolargl": [
           {
            "marker": {
             "colorbar": {
              "outlinewidth": 0,
              "ticks": ""
             }
            },
            "type": "scatterpolargl"
           }
          ],
          "scatterternary": [
           {
            "marker": {
             "colorbar": {
              "outlinewidth": 0,
              "ticks": ""
             }
            },
            "type": "scatterternary"
           }
          ],
          "surface": [
           {
            "colorbar": {
             "outlinewidth": 0,
             "ticks": ""
            },
            "colorscale": [
             [
              0,
              "#0d0887"
             ],
             [
              0.1111111111111111,
              "#46039f"
             ],
             [
              0.2222222222222222,
              "#7201a8"
             ],
             [
              0.3333333333333333,
              "#9c179e"
             ],
             [
              0.4444444444444444,
              "#bd3786"
             ],
             [
              0.5555555555555556,
              "#d8576b"
             ],
             [
              0.6666666666666666,
              "#ed7953"
             ],
             [
              0.7777777777777778,
              "#fb9f3a"
             ],
             [
              0.8888888888888888,
              "#fdca26"
             ],
             [
              1,
              "#f0f921"
             ]
            ],
            "type": "surface"
           }
          ],
          "table": [
           {
            "cells": {
             "fill": {
              "color": "#EBF0F8"
             },
             "line": {
              "color": "white"
             }
            },
            "header": {
             "fill": {
              "color": "#C8D4E3"
             },
             "line": {
              "color": "white"
             }
            },
            "type": "table"
           }
          ]
         },
         "layout": {
          "annotationdefaults": {
           "arrowcolor": "#2a3f5f",
           "arrowhead": 0,
           "arrowwidth": 1
          },
          "autotypenumbers": "strict",
          "coloraxis": {
           "colorbar": {
            "outlinewidth": 0,
            "ticks": ""
           }
          },
          "colorscale": {
           "diverging": [
            [
             0,
             "#8e0152"
            ],
            [
             0.1,
             "#c51b7d"
            ],
            [
             0.2,
             "#de77ae"
            ],
            [
             0.3,
             "#f1b6da"
            ],
            [
             0.4,
             "#fde0ef"
            ],
            [
             0.5,
             "#f7f7f7"
            ],
            [
             0.6,
             "#e6f5d0"
            ],
            [
             0.7,
             "#b8e186"
            ],
            [
             0.8,
             "#7fbc41"
            ],
            [
             0.9,
             "#4d9221"
            ],
            [
             1,
             "#276419"
            ]
           ],
           "sequential": [
            [
             0,
             "#0d0887"
            ],
            [
             0.1111111111111111,
             "#46039f"
            ],
            [
             0.2222222222222222,
             "#7201a8"
            ],
            [
             0.3333333333333333,
             "#9c179e"
            ],
            [
             0.4444444444444444,
             "#bd3786"
            ],
            [
             0.5555555555555556,
             "#d8576b"
            ],
            [
             0.6666666666666666,
             "#ed7953"
            ],
            [
             0.7777777777777778,
             "#fb9f3a"
            ],
            [
             0.8888888888888888,
             "#fdca26"
            ],
            [
             1,
             "#f0f921"
            ]
           ],
           "sequentialminus": [
            [
             0,
             "#0d0887"
            ],
            [
             0.1111111111111111,
             "#46039f"
            ],
            [
             0.2222222222222222,
             "#7201a8"
            ],
            [
             0.3333333333333333,
             "#9c179e"
            ],
            [
             0.4444444444444444,
             "#bd3786"
            ],
            [
             0.5555555555555556,
             "#d8576b"
            ],
            [
             0.6666666666666666,
             "#ed7953"
            ],
            [
             0.7777777777777778,
             "#fb9f3a"
            ],
            [
             0.8888888888888888,
             "#fdca26"
            ],
            [
             1,
             "#f0f921"
            ]
           ]
          },
          "colorway": [
           "#636efa",
           "#EF553B",
           "#00cc96",
           "#ab63fa",
           "#FFA15A",
           "#19d3f3",
           "#FF6692",
           "#B6E880",
           "#FF97FF",
           "#FECB52"
          ],
          "font": {
           "color": "#2a3f5f"
          },
          "geo": {
           "bgcolor": "white",
           "lakecolor": "white",
           "landcolor": "#E5ECF6",
           "showlakes": true,
           "showland": true,
           "subunitcolor": "white"
          },
          "hoverlabel": {
           "align": "left"
          },
          "hovermode": "closest",
          "mapbox": {
           "style": "light"
          },
          "paper_bgcolor": "white",
          "plot_bgcolor": "#E5ECF6",
          "polar": {
           "angularaxis": {
            "gridcolor": "white",
            "linecolor": "white",
            "ticks": ""
           },
           "bgcolor": "#E5ECF6",
           "radialaxis": {
            "gridcolor": "white",
            "linecolor": "white",
            "ticks": ""
           }
          },
          "scene": {
           "xaxis": {
            "backgroundcolor": "#E5ECF6",
            "gridcolor": "white",
            "gridwidth": 2,
            "linecolor": "white",
            "showbackground": true,
            "ticks": "",
            "zerolinecolor": "white"
           },
           "yaxis": {
            "backgroundcolor": "#E5ECF6",
            "gridcolor": "white",
            "gridwidth": 2,
            "linecolor": "white",
            "showbackground": true,
            "ticks": "",
            "zerolinecolor": "white"
           },
           "zaxis": {
            "backgroundcolor": "#E5ECF6",
            "gridcolor": "white",
            "gridwidth": 2,
            "linecolor": "white",
            "showbackground": true,
            "ticks": "",
            "zerolinecolor": "white"
           }
          },
          "shapedefaults": {
           "line": {
            "color": "#2a3f5f"
           }
          },
          "ternary": {
           "aaxis": {
            "gridcolor": "white",
            "linecolor": "white",
            "ticks": ""
           },
           "baxis": {
            "gridcolor": "white",
            "linecolor": "white",
            "ticks": ""
           },
           "bgcolor": "#E5ECF6",
           "caxis": {
            "gridcolor": "white",
            "linecolor": "white",
            "ticks": ""
           }
          },
          "title": {
           "x": 0.05
          },
          "xaxis": {
           "automargin": true,
           "gridcolor": "white",
           "linecolor": "white",
           "ticks": "",
           "title": {
            "standoff": 15
           },
           "zerolinecolor": "white",
           "zerolinewidth": 2
          },
          "yaxis": {
           "automargin": true,
           "gridcolor": "white",
           "linecolor": "white",
           "ticks": "",
           "title": {
            "standoff": 15
           },
           "zerolinecolor": "white",
           "zerolinewidth": 2
          }
         }
        },
        "title": {
         "text": "3D Analysis of GQV Metrics Across Sectors"
        }
       }
      }
     },
     "metadata": {},
     "output_type": "display_data"
    }
   ],
   "source": [
    "unified_df = unified_analysis(sectors_df=initial_data_sectors_df)\n",
    "\n",
    "plot_3d_analysis(unified_df)"
   ]
  },
  {
   "cell_type": "code",
   "execution_count": null,
   "metadata": {},
   "outputs": [],
   "source": [
    "\n",
    "# Использование функции\n",
    "sector_rankings = rank_and_categorize_stocks(df, sectors_df)\n"
   ]
  }
 ],
 "metadata": {
  "kernelspec": {
   "display_name": "Python 3",
   "language": "python",
   "name": "python3"
  },
  "language_info": {
   "codemirror_mode": {
    "name": "ipython",
    "version": 3
   },
   "file_extension": ".py",
   "mimetype": "text/x-python",
   "name": "python",
   "nbconvert_exporter": "python",
   "pygments_lexer": "ipython3",
   "version": "3.10.5"
  }
 },
 "nbformat": 4,
 "nbformat_minor": 2
}
