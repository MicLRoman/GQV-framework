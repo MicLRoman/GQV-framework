{
 "cells": [
  {
   "cell_type": "code",
   "execution_count": 39,
   "metadata": {},
   "outputs": [],
   "source": [
    "import yfinance as yf\n",
    "import pandas as pd\n",
    "import numpy as np\n",
    "import datetime as dt\n",
    "import requests\n",
    "import plotly.express as px"
   ]
  },
  {
   "cell_type": "code",
   "execution_count": 40,
   "metadata": {},
   "outputs": [],
   "source": [
    "api_key = \"ioCjwA1EbBvFdjMSq9JkwLYee9E8IXeh\"\n",
    "\n",
    "#https://site.financialmodelingprep.com/developer/docs/dashboard"
   ]
  },
  {
   "cell_type": "markdown",
   "metadata": {},
   "source": [
    "# Grouping"
   ]
  },
  {
   "cell_type": "code",
   "execution_count": 81,
   "metadata": {},
   "outputs": [],
   "source": [
    "sectors_forecast = {\n",
    "    \"bigtech\": \"^SP500-45\",\n",
    "    \"staples\": \"^SP500-30\",\n",
    "    \"Utilities\": \"^SP500-55\",\n",
    "    \"finance\": \"^GSPC\",\n",
    "    \"health\": \"^SP500-35\",\n",
    "    \"discretionary\": \"^SP500-25\",\n",
    "    \"real estate\": \"^SP500-60\",\n",
    "}\n",
    "\n",
    "sectors_annual_average_return = {           #BASED ON HISTORY DATA\n",
    "    \"^SP500-45\": 0.275590,\n",
    "    \"^SP500-30\": 0.086390,\n",
    "    \"^SP500-55\": 0.060968,\n",
    "    \"^GSPC\": 0.165529,\n",
    "    \"^SP500-35\": 0.114558,\n",
    "    \"^SP500-25\": 0.215885,\n",
    "    \"^SP500-60\": 0.074752,\n",
    "}\n",
    "\n",
    "inflation_rate = 0.04\n",
    "\n",
    "t = 5\n",
    "\n",
    "\n",
    "sectors_trailingPE = {           #ENTER MANUALLY\n",
    "    \"^SP500-45\": 28.5,\n",
    "    \"^SP500-30\": 21.8,\n",
    "    \"^SP500-55\": 18.9,\n",
    "    \"^GSPC\": 17.7,\n",
    "    \"^SP500-35\": 18.0,\n",
    "    \"^SP500-25\": 27.8,\n",
    "    \"^SP500-60\": 39.7,\n",
    "}"
   ]
  },
  {
   "cell_type": "code",
   "execution_count": 100,
   "metadata": {},
   "outputs": [],
   "source": [
    "group_by_metrics = {\n",
    "    \"Market Price 5Y Change\": \"G\",\n",
    "    \"EPS 5Y Change\": \"G\",\n",
    "    \"YoY Growth\": \"G\",\n",
    "    \"Multiplicative method\": \"G\",\n",
    "    \"CAGR method\": \"G\",\n",
    "    \n",
    "    \"P/S\": \"V\",\n",
    "    \"P/E\": \"V\",\n",
    "    \"EV/EBITDA\": \"V\",\n",
    "    \"PEG\": \"V\",\n",
    "    \"ROI\": \"V\",\n",
    "    \"ROA\": \"V\",\n",
    "    \"ROE\": \"V\",\n",
    "    \n",
    "    # \"Discounted Model\": \"V\",  # <-- использовано для прогноза по денежным потокам\n",
    "    \n",
    "    \"DPR\": \"Q\",\n",
    "    \"Cash Flow 5Y Change\": \"Q\",\n",
    "    \"EBITDA 5Y Change\": \"Q\",\n",
    "    \"Sales 5Y Change\": \"Q\",\n",
    "    \"Net Income 5Y Change\": \"Q\",\n",
    "    \"Net Debt/EBITDA\": \"Q\",\n",
    "    \"Free Cash Flow\": \"Q\",  # <-- дополнительная метрика\n",
    "    \"Dividend Yield\": \"Q\"  # <-- дополнительная метрика\n",
    "}\n",
    "\n",
    "group_by_aspects = {\n",
    "    \"Market Price 5Y Change\": \"Historical Growth\",\n",
    "    \"EPS 5Y Change\": \"Historical Growth\",\n",
    "    \"YoY Growth\": \"Historical Growth\",\n",
    "    \n",
    "    \"Multiplicative method\": \"Future Growth Predictions\",\n",
    "    \"CAGR method\": \"Future Growth Predictions\",\n",
    "    \n",
    "    \"P/S\": \"Market-Based Ratios\",\n",
    "    \"P/E\": \"Market-Based Ratios\",\n",
    "    \"EV/EBITDA\": \"Market-Based Ratios\",\n",
    "    \"PEG\": \"Market-Based Ratios\",\n",
    "    \n",
    "    \"ROI\": \"Return-Based Ratios\",\n",
    "    \"ROA\": \"Return-Based Ratios\",\n",
    "    \"ROE\": \"Return-Based Ratios\",\n",
    "    \n",
    "    # \"Discounted Model\": \"V\",  # <-- использовано для прогноза по денежным потокам\n",
    "    \n",
    "    \"DPR\": \"Dividend Metrics\",\n",
    "    \"Dividend Yield\": \"Dividend Metrics\",  # <-- добавлено для дивидендов\n",
    "\n",
    "    \"Cash Flow 5Y Change\": \"Profitability & Stability\",\n",
    "    \"Net Income 5Y Change\": \"Profitability & Stability\",\n",
    "    \"EBITDA 5Y Change\": \"Profitability & Stability\",\n",
    "    \n",
    "    \"Sales 5Y Change\": \"Size & Growth Stability\",\n",
    "    \n",
    "    \"Net Debt/EBITDA\": \"Leverage\",\n",
    "    \"FCF Yield\": \"Profitability & Stability\"  # <-- добавлено для фри-кэш-флоу\n",
    "}\n",
    "\n",
    "\n",
    "aspects_metrics = {\n",
    "    \"Historical Growth\": [\"Market Price 5Y Change\", \"EPS 5Y Change\", \"YoY Growth\"],\n",
    "    \"Future Growth Predictions\": [\"Multiplicative method\", \"CAGR method\"],\n",
    "    \"Market-Based Ratios\": [\"P/S\", \"P/E\", \"EV/EBITDA\", \"PEG\"],\n",
    "    \"Return-Based Ratios\": [\"ROI\", \"ROA\", \"ROE\"],\n",
    "    # \"Valuation\": [\"Discounted Model\"],\n",
    "    \"Dividend Metrics\": [\"DPR\", \"Dividend Yield\"],\n",
    "    \"Profitability & Stability\": [\"Cash Flow 5Y Change\", \"Net Income 5Y Change\", \"EBITDA 5Y Change\", \"FCF Yield\"],\n",
    "    \"Size & Growth Stability\": [\"Sales 5Y Change\"],\n",
    "    \"Leverage\": [\"Net Debt/EBITDA\"]\n",
    "}\n",
    "\n",
    "\n",
    "gqv_for_aspects = {\n",
    "    \"G\": [\"Historical Growth\", \"Future Growth Predictions\"],\n",
    "    # \"V\": [\"Market-Based Ratios\", \"Valuation\"],\n",
    "    \"V\": [\"Market-Based Ratios\"],\n",
    "    \"Q\": [\"Dividend Metrics\", \"Profitability & Stability\", \"Size & Growth Stability\", \"Leverage\"]\n",
    "}"
   ]
  },
  {
   "cell_type": "markdown",
   "metadata": {},
   "source": [
    "# PARTIALLY"
   ]
  },
  {
   "cell_type": "markdown",
   "metadata": {},
   "source": [
    "## Forecasting price (Multiplicative method, CAGR method)"
   ]
  },
  {
   "cell_type": "code",
   "execution_count": 119,
   "metadata": {},
   "outputs": [],
   "source": [
    "def multiplicative_method(stock_growth, industry_growth, beta, dividend_yield=0, t=1, inflation_rate=0):\n",
    "  \n",
    "    # Вычисляем факторы роста\n",
    "    aim_growth_upper = ((1 + stock_growth) * ((1 + 0.01 * beta) * (1 + industry_growth)))\n",
    "    aim_growth_lower = ((1 + stock_growth) * ((1 - 0.01 * beta) * (1 + industry_growth)))\n",
    "\n",
    "    # Учитываем дивиденды, если применимо\n",
    "    if dividend_yield > 0:\n",
    "        inflation_adjustment = (1 - inflation_rate) ** t\n",
    "        dividend_factor = dividend_yield * t * inflation_adjustment\n",
    "        aim_growth_upper *= 1 + dividend_factor\n",
    "        aim_growth_lower *= 1 + dividend_factor\n",
    "\n",
    "\n",
    "    # Средняя цена\n",
    "    avg_growth = (aim_growth_upper + aim_growth_lower) / 2\n",
    "\n",
    "    return avg_growth, aim_growth_lower, aim_growth_upper\n",
    "\n",
    "\n",
    "\n",
    "def cagr_revenue_model(revenue_current, cagr_last_5y, ev_current, beta, t=5):\n",
    "    # Прогнозируем доход через t лет\n",
    "    revenue_forecast = revenue_current * (1 + cagr_last_5y) ** t\n",
    "\n",
    "\n",
    "    # Прогнозируем EV через t лет\n",
    "    ev_forecast = revenue_forecast * (ev_current / revenue_current)\n",
    "\n",
    "    # Прогнозируем CAGR через t лет\n",
    "    cagr_forecast = (ev_forecast / ev_current) ** (1 / t) - 1\n",
    "\n",
    "    # Вычисляем факторы роста через t лет\n",
    "    aim_growth_upper = ((1 + cagr_forecast) ** t - 1) * (1 + 0.01 * beta)\n",
    "    aim_growth_lower = ((1 + cagr_forecast) ** t - 1) * (1 - 0.01 * beta)\n",
    "\n",
    "    # Средняя цена за t лет\n",
    "    avg_growth = (aim_growth_upper + aim_growth_lower) / 2\n",
    "    return avg_growth, aim_growth_lower, aim_growth_upper"
   ]
  },
  {
   "cell_type": "markdown",
   "metadata": {},
   "source": [
    "## GET DATA"
   ]
  },
  {
   "cell_type": "code",
   "execution_count": 102,
   "metadata": {},
   "outputs": [
    {
     "name": "stdout",
     "output_type": "stream",
     "text": [
      "{'address1': '383 Madison Avenue', 'city': 'New York', 'state': 'NY', 'zip': '10179', 'country': 'United States', 'phone': '212 270 6000', 'website': 'https://www.jpmorganchase.com', 'industry': 'Banks - Diversified', 'industryKey': 'banks-diversified', 'industryDisp': 'Banks - Diversified', 'sector': 'Financial Services', 'sectorKey': 'financial-services', 'sectorDisp': 'Financial Services', 'longBusinessSummary': 'JPMorgan Chase & Co. operates as a financial services company worldwide. It operates through four segments: Consumer & Community Banking (CCB), Corporate & Investment Bank (CIB), Commercial Banking (CB), and Asset & Wealth Management (AWM). The CCB segment offers deposit, investment and lending products, cash management, and payments and services; mortgage origination and servicing activities; residential mortgages and home equity loans; and credit cards, auto loans, leases, and travel services to consumers and small businesses through bank branches, ATMs, and digital and telephone banking. The CIB segment provides investment banking products and services, including corporate strategy and structure advisory, and equity and debt market capital-raising services, as well as loan origination and syndication; payments; and cash and derivative instruments, risk management solutions, prime brokerage, and research. This segment also offers securities services, including custody, fund accounting and administration, and securities lending products for asset managers, insurance companies, and public and private investment funds. The CB segment provides financial solutions, including lending, payments, investment banking, and asset management to small and midsized companies, local governments, nonprofit clients, and large corporations, as well as investors, developers, and owners of multifamily, office, retail, industrial, and affordable housing properties. The AWM segment offers multi-asset investment management solutions in equities, fixed income, alternatives, and money market funds to institutional clients and retail investors; and retirement products and services, brokerage, custody, estate planning, lending, deposits, and investment management products to high net worth clients. JPMorgan Chase & Co. was founded in 1799 and is headquartered in New York, New York.', 'fullTimeEmployees': 316043, 'companyOfficers': [{'maxAge': 1, 'name': 'Mr. James  Dimon', 'age': 67, 'title': 'Chairman & CEO', 'yearBorn': 1956, 'fiscalYear': 2023, 'totalPay': 7053595, 'exercisedValue': 0, 'unexercisedValue': 0}, {'maxAge': 1, 'name': 'Mr. Daniel Eduardo Pinto', 'age': 60, 'title': 'President & COO', 'yearBorn': 1963, 'fiscalYear': 2023, 'totalPay': 6597037, 'exercisedValue': 0, 'unexercisedValue': 0}, {'maxAge': 1, 'name': 'Mr. Jeremy  Barnum', 'age': 50, 'title': 'Executive VP & CFO', 'yearBorn': 1973, 'fiscalYear': 2023, 'totalPay': 6455000, 'exercisedValue': 0, 'unexercisedValue': 0}, {'maxAge': 1, 'name': 'Ms. Mary Callahan Erdoes', 'age': 56, 'title': 'Chief Executive Officer of Asset & Wealth Management and Executive VP', 'yearBorn': 1967, 'fiscalYear': 2023, 'totalPay': 11255000, 'exercisedValue': 0, 'unexercisedValue': 0}, {'maxAge': 1, 'name': 'Ms. Marianne  Lake', 'age': 53, 'title': 'Chief Executive Officer of Consumer & Community Banking', 'yearBorn': 1970, 'fiscalYear': 2023, 'totalPay': 7925015, 'exercisedValue': 0, 'unexercisedValue': 0}, {'maxAge': 1, 'name': 'Ms. Jennifer A. Piepszak', 'age': 52, 'title': 'Co-Chief Executive Officer of Commercial & Investment Bank', 'yearBorn': 1971, 'fiscalYear': 2023, 'totalPay': 7855000, 'exercisedValue': 0, 'unexercisedValue': 0}, {'maxAge': 1, 'name': 'Ms. Elena A. Korablina', 'age': 49, 'title': 'MD, Firmwide Controller & Principal Accounting Officer', 'yearBorn': 1974, 'fiscalYear': 2023, 'exercisedValue': 0, 'unexercisedValue': 0}, {'maxAge': 1, 'name': 'Mr. Sripada  Shivananda', 'age': 50, 'title': 'Chief Technology Officer', 'yearBorn': 1973, 'fiscalYear': 2023, 'exercisedValue': 0, 'unexercisedValue': 0}, {'maxAge': 1, 'name': 'Ms. Lori Ann Beer', 'age': 55, 'title': 'Global Chief Information Officer', 'yearBorn': 1968, 'fiscalYear': 2023, 'exercisedValue': 0, 'unexercisedValue': 0}, {'maxAge': 1, 'name': 'Mr. Mikael  Grubb', 'title': 'Head of Investor Relations', 'fiscalYear': 2023, 'exercisedValue': 0, 'unexercisedValue': 0}], 'auditRisk': 8, 'boardRisk': 6, 'compensationRisk': 3, 'shareHolderRightsRisk': 3, 'overallRisk': 4, 'governanceEpochDate': 1732752000, 'compensationAsOfEpochDate': 1703980800, 'irWebsite': 'http://investor.shareholder.com/jpmorganchase/', 'maxAge': 86400, 'priceHint': 2, 'previousClose': 249.79, 'open': 249.86, 'dayLow': 249.45, 'dayHigh': 251.77, 'regularMarketPreviousClose': 249.79, 'regularMarketOpen': 249.86, 'regularMarketDayLow': 249.45, 'regularMarketDayHigh': 251.77, 'dividendRate': 5.0, 'dividendYield': 0.02, 'exDividendDate': 1728000000, 'payoutRatio': 0.2557, 'fiveYearAvgDividendYield': 2.75, 'beta': 1.091, 'trailingPE': 13.888765, 'forwardPE': 14.766309, 'volume': 5494825, 'regularMarketVolume': 5494825, 'averageVolume': 9106014, 'averageVolume10days': 8063480, 'averageDailyVolume10Day': 8063480, 'bid': 249.76, 'ask': 249.96, 'bidSize': 1300, 'askSize': 800, 'marketCap': 703244009472, 'fiftyTwoWeekLow': 155.88, 'fiftyTwoWeekHigh': 254.31, 'priceToSalesTrailing12Months': 4.33705, 'fiftyDayAverage': 226.4022, 'twoHundredDayAverage': 206.5414, 'trailingAnnualDividendRate': 4.6, 'trailingAnnualDividendYield': 0.01841547, 'currency': 'USD', 'enterpriseValue': 229850808320, 'profitMargins': 0.33163, 'floatShares': 2799827896, 'sharesOutstanding': 2815340032, 'sharesShort': 30115062, 'sharesShortPriorMonth': 28074345, 'sharesShortPreviousMonthDate': 1728950400, 'dateShortInterest': 1731628800, 'sharesPercentSharesOut': 0.0107, 'heldPercentInsiders': 0.00457, 'heldPercentInstitutions': 0.73750997, 'shortRatio': 3.42, 'shortPercentOfFloat': 0.0107, 'impliedSharesOutstanding': 2816130048, 'bookValue': 115.15, 'priceToBook': 2.1686497, 'lastFiscalYearEnd': 1703980800, 'nextFiscalYearEnd': 1735603200, 'mostRecentQuarter': 1727654400, 'earningsQuarterlyGrowth': -0.019, 'netIncomeToCommon': 52069998592, 'trailingEps': 17.98, 'forwardEps': 16.74, 'lastSplitFactor': '3:2', 'lastSplitDate': 960768000, 'enterpriseToRevenue': 1.418, '52WeekChange': 0.58060634, 'SandP52WeekChange': 0.32005918, 'lastDividendValue': 1.25, 'lastDividendDate': 1728000000, 'exchange': 'NYQ', 'quoteType': 'EQUITY', 'symbol': 'JPM', 'underlyingSymbol': 'JPM', 'shortName': 'JP Morgan Chase & Co.', 'longName': 'JPMorgan Chase & Co.', 'firstTradeDateEpochUtc': 322151400, 'timeZoneFullName': 'America/New_York', 'timeZoneShortName': 'EST', 'uuid': 'bc753df4-b894-3e19-9c58-995ef66d8e67', 'messageBoardId': 'finmb_658776', 'gmtOffSetMilliseconds': -18000000, 'currentPrice': 249.72, 'targetHighPrice': 270.0, 'targetLowPrice': 178.0, 'targetMeanPrice': 239.056, 'targetMedianPrice': 240.0, 'recommendationMean': 2.31818, 'recommendationKey': 'buy', 'numberOfAnalystOpinions': 20, 'totalCash': 1424043016192, 'totalCashPerShare': 505.816, 'totalDebt': 929196998656, 'totalRevenue': 162148007936, 'revenuePerShare': 56.043, 'returnOnAssets': 0.013259999, 'returnOnEquity': 0.16216, 'operatingCashflow': -129538998272, 'earningsGrowth': 0.009, 'revenueGrowth': 0.03, 'operatingMargins': 0.43787998, 'financialCurrency': 'USD', 'trailingPegRatio': 4.9696}\n"
     ]
    }
   ],
   "source": [
    "stock = yf.Ticker('JPM')\n",
    "info = stock.info\n",
    "print(info)\n",
    "\n",
    "\n"
   ]
  },
  {
   "cell_type": "code",
   "execution_count": 104,
   "metadata": {},
   "outputs": [],
   "source": [
    "multiplicative_forecasting = {}     #ticker: [average, upper, lower]\n",
    "cagr_forecasting = {}     #ticker: [average, upper, lower]\n",
    "\n",
    "def get_data(sector_ticker, tickers):\n",
    "\n",
    "    data = []\n",
    "\n",
    "    for ticker in tickers:\n",
    "        stock = yf.Ticker(ticker)\n",
    "        info = stock.info\n",
    "        \n",
    "        # Получаем финансовые данные за последние 5 лет из FMP\n",
    "        url_financials = f\"https://financialmodelingprep.com/api/v3/income-statement/{ticker}?limit=5&apikey={api_key}\"\n",
    "        url_cash_flow = f\"https://financialmodelingprep.com/api/v3/cash-flow-statement/{ticker}?limit=5&apikey={api_key}\"\n",
    "        url_profile = f\"https://financialmodelingprep.com/api/v3/profile/{ticker}?apikey={api_key}\"\n",
    "        \n",
    "        financials = requests.get(url_financials).json()\n",
    "        cash_flows = requests.get(url_cash_flow).json()\n",
    "        profile = requests.get(url_profile).json()\n",
    "\n",
    "        # Проверка на наличие данных\n",
    "        ebitda_5y_change = None\n",
    "        cash_flow_5y_change = None\n",
    "        sales_5y_change = None\n",
    "        net_income_5y_change = None\n",
    "        market_cap_5y_change = None\n",
    "\n",
    "        beta = info.get(\"beta\")\n",
    "        dividend_yield = info.get(\"dividendYield\", 0)\n",
    "        ev_current = float(info.get(\"enterpriseValue\", 1))\n",
    "        revenue_current = float(info.get(\"totalRevenue\", 1))\n",
    "        pe_company = info.get(\"trailingPE\", 0)\n",
    "\n",
    "        #Price Forecasting\n",
    "        revenue_5y_ago = financials[4][\"revenue\"]\n",
    "        # Проверка на наличие выручки за 5 лет назад\n",
    "        if revenue_5y_ago > 0:\n",
    "            cagr_last_5y = ((revenue_current / revenue_5y_ago) ** (1 / t)) - 1\n",
    "        else:\n",
    "            cagr_last_5y = 0\n",
    "\n",
    "\n",
    "        sector_pe = sectors_trailingPE[sector_ticker]  # Можно интегрировать API для получения среднего значения P/E сектора\n",
    "        # Проверка на существование данных\n",
    "        if sector_pe is not None and sector_pe > 0:\n",
    "            # Расчет разницы P/E\n",
    "            pe_diff_percentage = ((pe_company - sector_pe) / sector_pe)\n",
    "        else:\n",
    "            pe_diff_percentage = None  # Если данных нет, оставляем None\n",
    "\n",
    "        \n",
    "\n",
    "        multiplicative_forecasting[ticker] = list(multiplicative_method(pe_diff_percentage, sectors_annual_average_return[sector_ticker], beta, dividend_yield, t, inflation_rate))\n",
    "        cagr_forecasting[ticker] = list(cagr_revenue_model(revenue_current, cagr_last_5y, ev_current, beta, t))\n",
    "        \n",
    "\n",
    "\n",
    "        if len(financials) >= 2:\n",
    "            # EBITDA 5Y Change\n",
    "            ebitda_current = float(financials[0].get(\"ebitda\", 0))\n",
    "            ebitda_5y_ago = float(financials[-1].get(\"ebitda\", 1))\n",
    "            ebitda_5y_change = ((ebitda_current - ebitda_5y_ago) / ebitda_5y_ago) * 100\n",
    "\n",
    "            # Sales 5Y Change\n",
    "            sales_current = float(financials[0].get(\"revenue\", 0))\n",
    "            sales_5y_ago = float(financials[-1].get(\"revenue\", 1))\n",
    "            sales_5y_change = ((sales_current - sales_5y_ago) / sales_5y_ago) * 100\n",
    "\n",
    "            # Net Income 5Y Change\n",
    "            net_income_current = float(financials[0].get(\"netIncome\", 0))\n",
    "            net_income_5y_ago = float(financials[-1].get(\"netIncome\", 1))\n",
    "            net_income_5y_change = ((net_income_current - net_income_5y_ago) / net_income_5y_ago) * 100\n",
    "\n",
    "        if len(cash_flows) >= 2:\n",
    "            # Cash Flow 5Y Change\n",
    "            cash_flow_current = float(cash_flows[0].get(\"operatingCashFlow\", 0))\n",
    "            cash_flow_5y_ago = float(cash_flows[-1].get(\"operatingCashFlow\", 1))\n",
    "            cash_flow_5y_change = ((cash_flow_current - cash_flow_5y_ago) / cash_flow_5y_ago) * 100\n",
    "\n",
    "            #Free CashFlow\n",
    "            free_cash_flow = cash_flows[0].get(\"freeCashFlow\", 0)\n",
    "\n",
    "        if profile:\n",
    "            # Market Cap 5Y Change\n",
    "\n",
    "            market_cap_current = profile[0].get(\"mktCap\")\n",
    "            market_cap_5y_ago = profile[0].get(\"mktCap5Y\")\n",
    "            if market_cap_current and market_cap_5y_ago:\n",
    "                market_cap_5y_change = ((market_cap_current - market_cap_5y_ago) / market_cap_5y_ago) * 100\n",
    "\n",
    "\n",
    "        FCF_yield = (free_cash_flow / market_cap_current)\n",
    "\n",
    "        # Сбор данных для таблицы\n",
    "        row = {\n",
    "            \n",
    "            \"Ticker\": ticker,\n",
    "            #G\n",
    "            \"Market Price 5Y Change\": stock.history(period=\"5y\")[\"Close\"].pct_change().sum(),\n",
    "\n",
    "            \"EPS 5Y Change\": (info.get(\"forwardEps\")/info.get(\"trailingEps\", 0)) * 100,\n",
    "            \"YoY Growth\": info.get(\"revenueGrowth\"),\n",
    "\n",
    "            \"Multiplicative method\": multiplicative_forecasting[ticker][0],\n",
    "            \"CAGR method\": cagr_forecasting[ticker][0],\n",
    "\n",
    "            #V\n",
    "            \n",
    "            \"P/S\": info.get(\"priceToSalesTrailing12Months\"),\n",
    "            \"P/E\": info.get(\"trailingPE\"),\n",
    "            \"EV/EBITDA\": info.get(\"enterpriseToEbitda\"),\n",
    "            \"PEG\": info.get(\"trailingPegRatio\"),\n",
    "            \"ROI\": info.get(\"returnOnInvestment\"),\n",
    "            \"ROA\": info.get(\"returnOnAssets\"),\n",
    "            \"ROE\": info.get(\"returnOnEquity\"),\n",
    "            \n",
    "            #Q\n",
    "            \"DPR\": info.get(\"payoutRatio\"),\n",
    "            \"Dividend Yield\": dividend_yield,\n",
    "            \"Cash Flow 5Y Change\": cash_flow_5y_change,\n",
    "            \"EBITDA 5Y Change\": ebitda_5y_change,\n",
    "            \"Sales 5Y Change\": sales_5y_change,\n",
    "            \"Net Income 5Y Change\": net_income_5y_change,\n",
    "            \"Net Debt/EBITDA\": info.get(\"totalDebt\") / info.get(\"ebitda\", 1),\n",
    "            \"FCF Yield\": FCF_yield\n",
    "            \n",
    "        }\n",
    "        data.append(row)\n",
    "\n",
    "    return pd.DataFrame(data)\n",
    "\n"
   ]
  },
  {
   "cell_type": "markdown",
   "metadata": {},
   "source": [
    "## ANALYSIS"
   ]
  },
  {
   "cell_type": "code",
   "execution_count": 105,
   "metadata": {},
   "outputs": [],
   "source": [
    "def analysis(df):\n",
    "\n",
    "    # 1. Нахождение максимальных значений для каждой метрики\n",
    "    max_values = df.drop(columns=[\"Ticker\"]).max()\n",
    "\n",
    "    # 2. Нормализуем метрики по максимальному значению\n",
    "    for col in df.columns[1:]:  # Все столбцы кроме \"Ticker\"\n",
    "        df[col] = df[col] / max_values[col]\n",
    "\n",
    "    # 3. Создание подгрупп для вычисления средних\n",
    "    def calculate_group_averages(group_columns):\n",
    "        return df[group_columns].mean(axis=1)\n",
    "\n",
    "    # Перебираем ключи из gqv_for_aspects и вычисляем средние\n",
    "    for group, aspects in gqv_for_aspects.items():\n",
    "        group_columns = []\n",
    "\n",
    "        print(group)\n",
    "        \n",
    "        # Собираем колонки для каждой подгруппы\n",
    "        for aspect in aspects:\n",
    "            group_columns.extend(aspects_metrics[aspect])  # Сразу добавляем метрики из списка\n",
    "\n",
    "        print(group_columns)\n",
    "\n",
    "        # Вычисляем среднее для каждой группы\n",
    "        df[f'{group}_avg'] = calculate_group_averages(group_columns)\n",
    "\n",
    "    # 4. Вычисление среднего по меткам G, Q, V\n",
    "    df['GQV_avg'] = df[['G_avg', 'V_avg', 'Q_avg']].mean(axis=1)\n",
    "\n",
    "\n",
    "    return df"
   ]
  },
  {
   "cell_type": "markdown",
   "metadata": {},
   "source": [
    "## VISUALIZATION"
   ]
  },
  {
   "cell_type": "code",
   "execution_count": null,
   "metadata": {},
   "outputs": [],
   "source": [
    "def plot_3d(df):\n",
    "    # 5. Строим 3D график с Plotly\n",
    "    fig = px.scatter_3d(df, x='G_avg', y='V_avg', z='Q_avg',\n",
    "                        color='Ticker', hover_data=['Ticker'],\n",
    "                        title='3D Analysis of Metrics')\n",
    "\n",
    "    fig.update_layout(scene=dict(\n",
    "                        xaxis_title='Growth (G)',\n",
    "                        yaxis_title='Valuation (V)',\n",
    "                        zaxis_title='Quality (Q)'\n",
    "                        ))\n",
    "\n",
    "    fig.show()"
   ]
  },
  {
   "cell_type": "code",
   "execution_count": 114,
   "metadata": {},
   "outputs": [],
   "source": [
    "\n",
    "\n",
    "def plot_3d(df):\n",
    "    # Добавляем точки MINIMUM и MAXIMUM\n",
    "    minimum_point = pd.DataFrame({'G_avg': [0], 'V_avg': [0], 'Q_avg': [0], 'Ticker': ['MINIMUM']})\n",
    "    maximum_point = pd.DataFrame({'G_avg': [1], 'V_avg': [1], 'Q_avg': [1], 'Ticker': ['MAXIMUM']})\n",
    "\n",
    "    # Добавляем их в DataFrame\n",
    "    df = pd.concat([df, minimum_point, maximum_point], ignore_index=True)\n",
    "\n",
    "    # Строим 3D график с Plotly\n",
    "    fig = px.scatter_3d(df, x='G_avg', y='V_avg', z='Q_avg',\n",
    "                        color='Ticker', hover_data=['Ticker'],\n",
    "                        title='3D Analysis of Metrics')\n",
    "\n",
    "    fig.update_layout(scene=dict(\n",
    "                        xaxis_title='Growth (G)',\n",
    "                        yaxis_title='Valuation (V)',\n",
    "                        zaxis_title='Quality (Q)',\n",
    "                        xaxis=dict(range=[0, 1]),  # Ограничиваем оси от 0 до 1\n",
    "                        yaxis=dict(range=[0, 1]),\n",
    "                        zaxis=dict(range=[0, 1])\n",
    "                        ))\n",
    "\n",
    "    fig.show()\n",
    "\n",
    "\n",
    "\n"
   ]
  },
  {
   "cell_type": "markdown",
   "metadata": {},
   "source": [
    " # "
   ]
  },
  {
   "cell_type": "markdown",
   "metadata": {},
   "source": [
    "### ------------------------------------------------- "
   ]
  },
  {
   "cell_type": "markdown",
   "metadata": {},
   "source": [
    "# "
   ]
  },
  {
   "cell_type": "code",
   "execution_count": 116,
   "metadata": {},
   "outputs": [
    {
     "name": "stdout",
     "output_type": "stream",
     "text": [
      "GET DATA COMPLETED\n"
     ]
    }
   ],
   "source": [
    "tickers = ['MA', 'JPM']  \n",
    "sector_ticker = \"^GSPC\"\n",
    "\n",
    "\n",
    "df = get_data(sector_ticker=sector_ticker, tickers=tickers)\n",
    "print(\"GET DATA COMPLETED\")"
   ]
  },
  {
   "cell_type": "code",
   "execution_count": 117,
   "metadata": {},
   "outputs": [
    {
     "name": "stdout",
     "output_type": "stream",
     "text": [
      "G\n",
      "['Market Price 5Y Change', 'EPS 5Y Change', 'YoY Growth', 'Multiplicative method', 'CAGR method']\n",
      "V\n",
      "['P/S', 'P/E', 'EV/EBITDA', 'PEG']\n",
      "Q\n",
      "['DPR', 'Dividend Yield', 'Cash Flow 5Y Change', 'Net Income 5Y Change', 'EBITDA 5Y Change', 'FCF Yield', 'Sales 5Y Change', 'Net Debt/EBITDA']\n",
      "ANALUYSIS COMPLETED\n"
     ]
    }
   ],
   "source": [
    "df = analysis(df = df)\n",
    "print(\"ANALUYSIS COMPLETED\")\n"
   ]
  },
  {
   "cell_type": "code",
   "execution_count": 120,
   "metadata": {},
   "outputs": [
    {
     "data": {
      "application/vnd.plotly.v1+json": {
       "config": {
        "plotlyServerURL": "https://plot.ly"
       },
       "data": [
        {
         "customdata": [
          [
           "MA"
          ]
         ],
         "hovertemplate": "Ticker=%{customdata[0]}<br>G_avg=%{x}<br>V_avg=%{y}<br>Q_avg=%{z}<extra></extra>",
         "legendgroup": "MA",
         "marker": {
          "color": "#636efa",
          "symbol": "circle"
         },
         "mode": "markers",
         "name": "MA",
         "scene": "scene",
         "showlegend": true,
         "type": "scatter3d",
         "x": [
          0.9691348227636505
         ],
         "y": [
          0.852417699613651
         ],
         "z": [
          0.6760694139894319
         ]
        },
        {
         "customdata": [
          [
           "JPM"
          ]
         ],
         "hovertemplate": "Ticker=%{customdata[0]}<br>G_avg=%{x}<br>V_avg=%{y}<br>Q_avg=%{z}<extra></extra>",
         "legendgroup": "JPM",
         "marker": {
          "color": "#EF553B",
          "symbol": "circle"
         },
         "mode": "markers",
         "name": "JPM",
         "scene": "scene",
         "showlegend": true,
         "type": "scatter3d",
         "x": [
          0.601173026219703
         ],
         "y": [
          0.5287252181296084
         ],
         "z": [
          0.8686201901821651
         ]
        },
        {
         "customdata": [
          [
           "MINIMUM"
          ]
         ],
         "hovertemplate": "Ticker=%{customdata[0]}<br>G_avg=%{x}<br>V_avg=%{y}<br>Q_avg=%{z}<extra></extra>",
         "legendgroup": "MINIMUM",
         "marker": {
          "color": "#00cc96",
          "symbol": "circle"
         },
         "mode": "markers",
         "name": "MINIMUM",
         "scene": "scene",
         "showlegend": true,
         "type": "scatter3d",
         "x": [
          0
         ],
         "y": [
          0
         ],
         "z": [
          0
         ]
        },
        {
         "customdata": [
          [
           "MAXIMUM"
          ]
         ],
         "hovertemplate": "Ticker=%{customdata[0]}<br>G_avg=%{x}<br>V_avg=%{y}<br>Q_avg=%{z}<extra></extra>",
         "legendgroup": "MAXIMUM",
         "marker": {
          "color": "#ab63fa",
          "symbol": "circle"
         },
         "mode": "markers",
         "name": "MAXIMUM",
         "scene": "scene",
         "showlegend": true,
         "type": "scatter3d",
         "x": [
          1
         ],
         "y": [
          1
         ],
         "z": [
          1
         ]
        }
       ],
       "layout": {
        "legend": {
         "title": {
          "text": "Ticker"
         },
         "tracegroupgap": 0
        },
        "scene": {
         "domain": {
          "x": [
           0,
           1
          ],
          "y": [
           0,
           1
          ]
         },
         "xaxis": {
          "range": [
           0,
           1
          ],
          "title": {
           "text": "Growth (G)"
          }
         },
         "yaxis": {
          "range": [
           0,
           1
          ],
          "title": {
           "text": "Valuation (V)"
          }
         },
         "zaxis": {
          "range": [
           0,
           1
          ],
          "title": {
           "text": "Quality (Q)"
          }
         }
        },
        "template": {
         "data": {
          "bar": [
           {
            "error_x": {
             "color": "#2a3f5f"
            },
            "error_y": {
             "color": "#2a3f5f"
            },
            "marker": {
             "line": {
              "color": "#E5ECF6",
              "width": 0.5
             },
             "pattern": {
              "fillmode": "overlay",
              "size": 10,
              "solidity": 0.2
             }
            },
            "type": "bar"
           }
          ],
          "barpolar": [
           {
            "marker": {
             "line": {
              "color": "#E5ECF6",
              "width": 0.5
             },
             "pattern": {
              "fillmode": "overlay",
              "size": 10,
              "solidity": 0.2
             }
            },
            "type": "barpolar"
           }
          ],
          "carpet": [
           {
            "aaxis": {
             "endlinecolor": "#2a3f5f",
             "gridcolor": "white",
             "linecolor": "white",
             "minorgridcolor": "white",
             "startlinecolor": "#2a3f5f"
            },
            "baxis": {
             "endlinecolor": "#2a3f5f",
             "gridcolor": "white",
             "linecolor": "white",
             "minorgridcolor": "white",
             "startlinecolor": "#2a3f5f"
            },
            "type": "carpet"
           }
          ],
          "choropleth": [
           {
            "colorbar": {
             "outlinewidth": 0,
             "ticks": ""
            },
            "type": "choropleth"
           }
          ],
          "contour": [
           {
            "colorbar": {
             "outlinewidth": 0,
             "ticks": ""
            },
            "colorscale": [
             [
              0,
              "#0d0887"
             ],
             [
              0.1111111111111111,
              "#46039f"
             ],
             [
              0.2222222222222222,
              "#7201a8"
             ],
             [
              0.3333333333333333,
              "#9c179e"
             ],
             [
              0.4444444444444444,
              "#bd3786"
             ],
             [
              0.5555555555555556,
              "#d8576b"
             ],
             [
              0.6666666666666666,
              "#ed7953"
             ],
             [
              0.7777777777777778,
              "#fb9f3a"
             ],
             [
              0.8888888888888888,
              "#fdca26"
             ],
             [
              1,
              "#f0f921"
             ]
            ],
            "type": "contour"
           }
          ],
          "contourcarpet": [
           {
            "colorbar": {
             "outlinewidth": 0,
             "ticks": ""
            },
            "type": "contourcarpet"
           }
          ],
          "heatmap": [
           {
            "colorbar": {
             "outlinewidth": 0,
             "ticks": ""
            },
            "colorscale": [
             [
              0,
              "#0d0887"
             ],
             [
              0.1111111111111111,
              "#46039f"
             ],
             [
              0.2222222222222222,
              "#7201a8"
             ],
             [
              0.3333333333333333,
              "#9c179e"
             ],
             [
              0.4444444444444444,
              "#bd3786"
             ],
             [
              0.5555555555555556,
              "#d8576b"
             ],
             [
              0.6666666666666666,
              "#ed7953"
             ],
             [
              0.7777777777777778,
              "#fb9f3a"
             ],
             [
              0.8888888888888888,
              "#fdca26"
             ],
             [
              1,
              "#f0f921"
             ]
            ],
            "type": "heatmap"
           }
          ],
          "heatmapgl": [
           {
            "colorbar": {
             "outlinewidth": 0,
             "ticks": ""
            },
            "colorscale": [
             [
              0,
              "#0d0887"
             ],
             [
              0.1111111111111111,
              "#46039f"
             ],
             [
              0.2222222222222222,
              "#7201a8"
             ],
             [
              0.3333333333333333,
              "#9c179e"
             ],
             [
              0.4444444444444444,
              "#bd3786"
             ],
             [
              0.5555555555555556,
              "#d8576b"
             ],
             [
              0.6666666666666666,
              "#ed7953"
             ],
             [
              0.7777777777777778,
              "#fb9f3a"
             ],
             [
              0.8888888888888888,
              "#fdca26"
             ],
             [
              1,
              "#f0f921"
             ]
            ],
            "type": "heatmapgl"
           }
          ],
          "histogram": [
           {
            "marker": {
             "pattern": {
              "fillmode": "overlay",
              "size": 10,
              "solidity": 0.2
             }
            },
            "type": "histogram"
           }
          ],
          "histogram2d": [
           {
            "colorbar": {
             "outlinewidth": 0,
             "ticks": ""
            },
            "colorscale": [
             [
              0,
              "#0d0887"
             ],
             [
              0.1111111111111111,
              "#46039f"
             ],
             [
              0.2222222222222222,
              "#7201a8"
             ],
             [
              0.3333333333333333,
              "#9c179e"
             ],
             [
              0.4444444444444444,
              "#bd3786"
             ],
             [
              0.5555555555555556,
              "#d8576b"
             ],
             [
              0.6666666666666666,
              "#ed7953"
             ],
             [
              0.7777777777777778,
              "#fb9f3a"
             ],
             [
              0.8888888888888888,
              "#fdca26"
             ],
             [
              1,
              "#f0f921"
             ]
            ],
            "type": "histogram2d"
           }
          ],
          "histogram2dcontour": [
           {
            "colorbar": {
             "outlinewidth": 0,
             "ticks": ""
            },
            "colorscale": [
             [
              0,
              "#0d0887"
             ],
             [
              0.1111111111111111,
              "#46039f"
             ],
             [
              0.2222222222222222,
              "#7201a8"
             ],
             [
              0.3333333333333333,
              "#9c179e"
             ],
             [
              0.4444444444444444,
              "#bd3786"
             ],
             [
              0.5555555555555556,
              "#d8576b"
             ],
             [
              0.6666666666666666,
              "#ed7953"
             ],
             [
              0.7777777777777778,
              "#fb9f3a"
             ],
             [
              0.8888888888888888,
              "#fdca26"
             ],
             [
              1,
              "#f0f921"
             ]
            ],
            "type": "histogram2dcontour"
           }
          ],
          "mesh3d": [
           {
            "colorbar": {
             "outlinewidth": 0,
             "ticks": ""
            },
            "type": "mesh3d"
           }
          ],
          "parcoords": [
           {
            "line": {
             "colorbar": {
              "outlinewidth": 0,
              "ticks": ""
             }
            },
            "type": "parcoords"
           }
          ],
          "pie": [
           {
            "automargin": true,
            "type": "pie"
           }
          ],
          "scatter": [
           {
            "fillpattern": {
             "fillmode": "overlay",
             "size": 10,
             "solidity": 0.2
            },
            "type": "scatter"
           }
          ],
          "scatter3d": [
           {
            "line": {
             "colorbar": {
              "outlinewidth": 0,
              "ticks": ""
             }
            },
            "marker": {
             "colorbar": {
              "outlinewidth": 0,
              "ticks": ""
             }
            },
            "type": "scatter3d"
           }
          ],
          "scattercarpet": [
           {
            "marker": {
             "colorbar": {
              "outlinewidth": 0,
              "ticks": ""
             }
            },
            "type": "scattercarpet"
           }
          ],
          "scattergeo": [
           {
            "marker": {
             "colorbar": {
              "outlinewidth": 0,
              "ticks": ""
             }
            },
            "type": "scattergeo"
           }
          ],
          "scattergl": [
           {
            "marker": {
             "colorbar": {
              "outlinewidth": 0,
              "ticks": ""
             }
            },
            "type": "scattergl"
           }
          ],
          "scattermapbox": [
           {
            "marker": {
             "colorbar": {
              "outlinewidth": 0,
              "ticks": ""
             }
            },
            "type": "scattermapbox"
           }
          ],
          "scatterpolar": [
           {
            "marker": {
             "colorbar": {
              "outlinewidth": 0,
              "ticks": ""
             }
            },
            "type": "scatterpolar"
           }
          ],
          "scatterpolargl": [
           {
            "marker": {
             "colorbar": {
              "outlinewidth": 0,
              "ticks": ""
             }
            },
            "type": "scatterpolargl"
           }
          ],
          "scatterternary": [
           {
            "marker": {
             "colorbar": {
              "outlinewidth": 0,
              "ticks": ""
             }
            },
            "type": "scatterternary"
           }
          ],
          "surface": [
           {
            "colorbar": {
             "outlinewidth": 0,
             "ticks": ""
            },
            "colorscale": [
             [
              0,
              "#0d0887"
             ],
             [
              0.1111111111111111,
              "#46039f"
             ],
             [
              0.2222222222222222,
              "#7201a8"
             ],
             [
              0.3333333333333333,
              "#9c179e"
             ],
             [
              0.4444444444444444,
              "#bd3786"
             ],
             [
              0.5555555555555556,
              "#d8576b"
             ],
             [
              0.6666666666666666,
              "#ed7953"
             ],
             [
              0.7777777777777778,
              "#fb9f3a"
             ],
             [
              0.8888888888888888,
              "#fdca26"
             ],
             [
              1,
              "#f0f921"
             ]
            ],
            "type": "surface"
           }
          ],
          "table": [
           {
            "cells": {
             "fill": {
              "color": "#EBF0F8"
             },
             "line": {
              "color": "white"
             }
            },
            "header": {
             "fill": {
              "color": "#C8D4E3"
             },
             "line": {
              "color": "white"
             }
            },
            "type": "table"
           }
          ]
         },
         "layout": {
          "annotationdefaults": {
           "arrowcolor": "#2a3f5f",
           "arrowhead": 0,
           "arrowwidth": 1
          },
          "autotypenumbers": "strict",
          "coloraxis": {
           "colorbar": {
            "outlinewidth": 0,
            "ticks": ""
           }
          },
          "colorscale": {
           "diverging": [
            [
             0,
             "#8e0152"
            ],
            [
             0.1,
             "#c51b7d"
            ],
            [
             0.2,
             "#de77ae"
            ],
            [
             0.3,
             "#f1b6da"
            ],
            [
             0.4,
             "#fde0ef"
            ],
            [
             0.5,
             "#f7f7f7"
            ],
            [
             0.6,
             "#e6f5d0"
            ],
            [
             0.7,
             "#b8e186"
            ],
            [
             0.8,
             "#7fbc41"
            ],
            [
             0.9,
             "#4d9221"
            ],
            [
             1,
             "#276419"
            ]
           ],
           "sequential": [
            [
             0,
             "#0d0887"
            ],
            [
             0.1111111111111111,
             "#46039f"
            ],
            [
             0.2222222222222222,
             "#7201a8"
            ],
            [
             0.3333333333333333,
             "#9c179e"
            ],
            [
             0.4444444444444444,
             "#bd3786"
            ],
            [
             0.5555555555555556,
             "#d8576b"
            ],
            [
             0.6666666666666666,
             "#ed7953"
            ],
            [
             0.7777777777777778,
             "#fb9f3a"
            ],
            [
             0.8888888888888888,
             "#fdca26"
            ],
            [
             1,
             "#f0f921"
            ]
           ],
           "sequentialminus": [
            [
             0,
             "#0d0887"
            ],
            [
             0.1111111111111111,
             "#46039f"
            ],
            [
             0.2222222222222222,
             "#7201a8"
            ],
            [
             0.3333333333333333,
             "#9c179e"
            ],
            [
             0.4444444444444444,
             "#bd3786"
            ],
            [
             0.5555555555555556,
             "#d8576b"
            ],
            [
             0.6666666666666666,
             "#ed7953"
            ],
            [
             0.7777777777777778,
             "#fb9f3a"
            ],
            [
             0.8888888888888888,
             "#fdca26"
            ],
            [
             1,
             "#f0f921"
            ]
           ]
          },
          "colorway": [
           "#636efa",
           "#EF553B",
           "#00cc96",
           "#ab63fa",
           "#FFA15A",
           "#19d3f3",
           "#FF6692",
           "#B6E880",
           "#FF97FF",
           "#FECB52"
          ],
          "font": {
           "color": "#2a3f5f"
          },
          "geo": {
           "bgcolor": "white",
           "lakecolor": "white",
           "landcolor": "#E5ECF6",
           "showlakes": true,
           "showland": true,
           "subunitcolor": "white"
          },
          "hoverlabel": {
           "align": "left"
          },
          "hovermode": "closest",
          "mapbox": {
           "style": "light"
          },
          "paper_bgcolor": "white",
          "plot_bgcolor": "#E5ECF6",
          "polar": {
           "angularaxis": {
            "gridcolor": "white",
            "linecolor": "white",
            "ticks": ""
           },
           "bgcolor": "#E5ECF6",
           "radialaxis": {
            "gridcolor": "white",
            "linecolor": "white",
            "ticks": ""
           }
          },
          "scene": {
           "xaxis": {
            "backgroundcolor": "#E5ECF6",
            "gridcolor": "white",
            "gridwidth": 2,
            "linecolor": "white",
            "showbackground": true,
            "ticks": "",
            "zerolinecolor": "white"
           },
           "yaxis": {
            "backgroundcolor": "#E5ECF6",
            "gridcolor": "white",
            "gridwidth": 2,
            "linecolor": "white",
            "showbackground": true,
            "ticks": "",
            "zerolinecolor": "white"
           },
           "zaxis": {
            "backgroundcolor": "#E5ECF6",
            "gridcolor": "white",
            "gridwidth": 2,
            "linecolor": "white",
            "showbackground": true,
            "ticks": "",
            "zerolinecolor": "white"
           }
          },
          "shapedefaults": {
           "line": {
            "color": "#2a3f5f"
           }
          },
          "ternary": {
           "aaxis": {
            "gridcolor": "white",
            "linecolor": "white",
            "ticks": ""
           },
           "baxis": {
            "gridcolor": "white",
            "linecolor": "white",
            "ticks": ""
           },
           "bgcolor": "#E5ECF6",
           "caxis": {
            "gridcolor": "white",
            "linecolor": "white",
            "ticks": ""
           }
          },
          "title": {
           "x": 0.05
          },
          "xaxis": {
           "automargin": true,
           "gridcolor": "white",
           "linecolor": "white",
           "ticks": "",
           "title": {
            "standoff": 15
           },
           "zerolinecolor": "white",
           "zerolinewidth": 2
          },
          "yaxis": {
           "automargin": true,
           "gridcolor": "white",
           "linecolor": "white",
           "ticks": "",
           "title": {
            "standoff": 15
           },
           "zerolinecolor": "white",
           "zerolinewidth": 2
          }
         }
        },
        "title": {
         "text": "3D Analysis of Metrics"
        }
       }
      }
     },
     "metadata": {},
     "output_type": "display_data"
    }
   ],
   "source": [
    "plot_3d(df = df)"
   ]
  },
  {
   "cell_type": "code",
   "execution_count": null,
   "metadata": {},
   "outputs": [
    {
     "name": "stdout",
     "output_type": "stream",
     "text": [
      "0    NaN\n",
      "1    NaN\n",
      "Name: PEG, dtype: object\n"
     ]
    },
    {
     "ename": "TypeError",
     "evalue": "list indices must be integers or slices, not str",
     "output_type": "error",
     "traceback": [
      "\u001b[1;31m---------------------------------------------------------------------------\u001b[0m",
      "\u001b[1;31mTypeError\u001b[0m                                 Traceback (most recent call last)",
      "\u001b[1;32m~\\AppData\\Local\\Temp\\ipykernel_20188\\685595841.py\u001b[0m in \u001b[0;36m<cell line: 2>\u001b[1;34m()\u001b[0m\n\u001b[0;32m      1\u001b[0m \u001b[0mprint\u001b[0m\u001b[1;33m(\u001b[0m\u001b[0mdf\u001b[0m\u001b[1;33m[\u001b[0m\u001b[1;34m\"PEG\"\u001b[0m\u001b[1;33m]\u001b[0m\u001b[1;33m)\u001b[0m\u001b[1;33m\u001b[0m\u001b[1;33m\u001b[0m\u001b[0m\n\u001b[1;32m----> 2\u001b[1;33m \u001b[0mdf\u001b[0m \u001b[1;33m=\u001b[0m \u001b[0manalysis\u001b[0m\u001b[1;33m(\u001b[0m\u001b[0mdf\u001b[0m \u001b[1;33m=\u001b[0m \u001b[0mdf\u001b[0m\u001b[1;33m)\u001b[0m\u001b[1;33m\u001b[0m\u001b[1;33m\u001b[0m\u001b[0m\n\u001b[0m\u001b[0;32m      3\u001b[0m \u001b[0mprint\u001b[0m\u001b[1;33m(\u001b[0m\u001b[1;34m\"ANALUYSIS COMPLETED\"\u001b[0m\u001b[1;33m)\u001b[0m\u001b[1;33m\u001b[0m\u001b[1;33m\u001b[0m\u001b[0m\n\u001b[0;32m      4\u001b[0m \u001b[0mplot_3d\u001b[0m\u001b[1;33m(\u001b[0m\u001b[0mdf\u001b[0m \u001b[1;33m=\u001b[0m \u001b[0mdf\u001b[0m\u001b[1;33m)\u001b[0m\u001b[1;33m\u001b[0m\u001b[1;33m\u001b[0m\u001b[0m\n",
      "\u001b[1;32m~\\AppData\\Local\\Temp\\ipykernel_20188\\2192023589.py\u001b[0m in \u001b[0;36manalysis\u001b[1;34m(df)\u001b[0m\n\u001b[0;32m     18\u001b[0m         \u001b[1;31m# Собираем колонки для каждой подгруппы\u001b[0m\u001b[1;33m\u001b[0m\u001b[1;33m\u001b[0m\u001b[0m\n\u001b[0;32m     19\u001b[0m         \u001b[1;32mfor\u001b[0m \u001b[0maspect\u001b[0m \u001b[1;32min\u001b[0m \u001b[0maspects\u001b[0m\u001b[1;33m:\u001b[0m\u001b[1;33m\u001b[0m\u001b[1;33m\u001b[0m\u001b[0m\n\u001b[1;32m---> 20\u001b[1;33m             \u001b[0mprint\u001b[0m\u001b[1;33m(\u001b[0m\u001b[0maspects\u001b[0m\u001b[1;33m[\u001b[0m\u001b[0maspect\u001b[0m\u001b[1;33m]\u001b[0m\u001b[1;33m)\u001b[0m\u001b[1;33m\u001b[0m\u001b[1;33m\u001b[0m\u001b[0m\n\u001b[0m\u001b[0;32m     21\u001b[0m             \u001b[0mgroup_columns\u001b[0m\u001b[1;33m.\u001b[0m\u001b[0mextend\u001b[0m\u001b[1;33m(\u001b[0m\u001b[0maspects\u001b[0m\u001b[1;33m[\u001b[0m\u001b[0maspect\u001b[0m\u001b[1;33m]\u001b[0m\u001b[1;33m)\u001b[0m  \u001b[1;31m# Сразу добавляем метрики из списка\u001b[0m\u001b[1;33m\u001b[0m\u001b[1;33m\u001b[0m\u001b[0m\n\u001b[0;32m     22\u001b[0m \u001b[1;33m\u001b[0m\u001b[0m\n",
      "\u001b[1;31mTypeError\u001b[0m: list indices must be integers or slices, not str"
     ]
    }
   ],
   "source": []
  }
 ],
 "metadata": {
  "kernelspec": {
   "display_name": "Python 3",
   "language": "python",
   "name": "python3"
  },
  "language_info": {
   "codemirror_mode": {
    "name": "ipython",
    "version": 3
   },
   "file_extension": ".py",
   "mimetype": "text/x-python",
   "name": "python",
   "nbconvert_exporter": "python",
   "pygments_lexer": "ipython3",
   "version": "3.10.5"
  }
 },
 "nbformat": 4,
 "nbformat_minor": 2
}
